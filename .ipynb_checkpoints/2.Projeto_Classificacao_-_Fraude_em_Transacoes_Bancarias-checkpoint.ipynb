{
 "cells": [
  {
   "cell_type": "markdown",
   "id": "9c2ca94e",
   "metadata": {},
   "source": [
    "# <span style=\"color: green; font-size: 40px; font-weight: bold;\"> Projeto 2 (Classificação) </span>"
   ]
  },
  {
   "cell_type": "markdown",
   "id": "e954ef0e",
   "metadata": {},
   "source": [
    "<br><br>\n",
    "\n",
    "# Classificação de Fraude em Transações Bancárias\n",
    "\n",
    "<br><br>\n",
    "\n",
    "### Contexto\n",
    "\n",
    "- Um banco está preocupado com o aumento de fraudes em transações bancárias e quer usar um modelo de classificação para identificar transações fraudulentas.\n",
    "- O **objetivo** é proteger os clientes e minimizar as perdas financeiras devido a fraudes.\n",
    "\n",
    "<br>\n",
    "\n",
    "### Problema de Negócio\n",
    "- Como podemos identificar se uma transação bancária é fraudulenta ou não com base em suas características?\n",
    "\n",
    "<br>\n",
    "\n",
    "### Sobre o Conjunto de Dados\n",
    "\n",
    "O conjunto de dados simulado terá 10.000 linhas e incluirá as seguintes colunas:\n",
    "\n",
    "<br>\n",
    "\n",
    "<table border=\"2\">\n",
    "  <tr>\n",
    "    <th style=\"text-align: center; font-size: 16px;\">Nome da Coluna</th>\n",
    "    <th style=\"text-align: center; font-size: 16px;\">Tipo de Dado</th>\n",
    "    <th style=\"text-align: center; font-size: 16px;\">Descrição</th>\n",
    "  </tr>\n",
    "  <tr>\n",
    "    <td>transaction_id</td>\n",
    "    <td>str</td>\n",
    "    <td>Identificação única da transação.</td>\n",
    "  </tr>\n",
    "  <tr>\n",
    "    <td>account_age</td>\n",
    "    <td>int</td>\n",
    "    <td>Idade da conta em meses.</td>\n",
    "  </tr>\n",
    "  <tr>\n",
    "    <td>transaction_amount</td>\n",
    "    <td>float</td>\n",
    "    <td>Valor da transação em reais.</td>\n",
    "  </tr>\n",
    "  <tr>\n",
    "    <td>transaction_type</td>\n",
    "    <td>str</td>\n",
    "    <td>Tipo de transação (compra, transferência, saque).</td>\n",
    "  </tr>\n",
    "  <tr>\n",
    "    <td>location</td>\n",
    "    <td>str</td>\n",
    "    <td>Localização da transação.</td>\n",
    "  </tr>\n",
    "  <tr>\n",
    "    <td>is_fraud</td>\n",
    "    <td>int</td>\n",
    "    <td>Indicador se a transação é fraudulenta (1) ou não (0).</td>\n",
    "  </tr>\n",
    "</table>\n",
    "\n",
    "<br><br>\n",
    "\n",
    "### Perguntas de Negócio Adicionais:\n",
    "\n",
    "- Quais padrões de localização estão associados a transações fraudulentas?\n",
    "\n",
    "> Analisando a localização das transações, podemos identificar se fraudes ocorrem mais frequentemente em determinadas áreas geográficas. Isso pode ajudar a detectar atividades suspeitas em regiões específicas e implementar medidas de segurança mais eficazes.\n",
    "\n",
    "- Como o valor da transação e o tipo de transação influenciam a probabilidade de fraude?\n",
    "\n",
    "> Investigando a relação entre o valor da transação e seu tipo (compra, transferência, saque), podemos identificar combinações que são mais susceptíveis a fraudes. Isso permitirá ao banco criar alertas específicos para transações de alto risco."
   ]
  },
  {
   "cell_type": "markdown",
   "id": "3aa5407a",
   "metadata": {},
   "source": [
    "<br><br>\n",
    "\n",
    "## Importando Pacotes"
   ]
  },
  {
   "cell_type": "code",
   "execution_count": 1,
   "id": "6e8bc930",
   "metadata": {},
   "outputs": [],
   "source": [
    "# Manipulação de Dados\n",
    "import numpy as np\n",
    "import pandas as pd\n",
    "\n",
    "# Criação e Visualização de Gráficos\n",
    "import seaborn as sns\n",
    "import matplotlib.pyplot as plt\n",
    "\n",
    "# Carrega a função SMOTE (Balanceamento de Classes)\n",
    "from imblearn.over_sampling import SMOTE\n",
    "\n",
    "# Label Enconding\n",
    "from sklearn.preprocessing import LabelEncoder\n",
    "\n",
    "# Pacote do Python para Machine Learning\n",
    "import sklearn\n",
    "\n",
    "# Função model_selection do pacote sklearn\n",
    "from sklearn.model_selection import train_test_split    # dividir os dados em treino e teste\n",
    "from sklearn.model_selection import GridSearchCV        # técnica de utilização de hiperparâmetros\n",
    "from sklearn.model_selection import RandomizedSearchCV  # técnica de utilização de hiperparâmetros\n",
    "from sklearn.model_selection import cross_val_score     # validação cruzada (para avaliação do modelo)\n",
    "\n",
    "from sklearn.pipeline import Pipeline\n",
    "from sklearn.preprocessing import StandardScaler\n",
    "\n",
    "# Pacotes do sklearn com os Algoritmos\n",
    "\n",
    "# Função com Algoritmo de ML (Regressão Logística)\n",
    "from sklearn.linear_model import LogisticRegression     \n",
    "\n",
    "# Função com Algoritmo de ML (RandomForest)\n",
    "from sklearn.ensemble import RandomForestClassifier\n",
    "\n",
    "# Função com Algoritmo de ML (KNN)\n",
    "from sklearn.neighbors import KNeighborsClassifier\n",
    "\n",
    "# Função com Algoritmo de ML (Árvores de Decisão)\n",
    "from sklearn.tree import DecisionTreeClassifier\n",
    "\n",
    "# Função com Algoritmo de ML (SVC)\n",
    "from sklearn.svm import SVC\n",
    "\n",
    "# Calcular as Métricas para Avaliação dos Modelos\n",
    "from sklearn.metrics import roc_curve, auc, roc_auc_score, confusion_matrix\n",
    "from sklearn.metrics import accuracy_score\n",
    "\n",
    "# Salvar o modelo após o treinamento\n",
    "import joblib\n",
    "import pickle\n",
    "\n",
    "# Indicando que os Gráficos apareçam no Jupyter Notebook\n",
    "%matplotlib inline\n",
    "\n",
    "# Mensagens de Aviso\n",
    "import warnings\n",
    "warnings.filterwarnings(\"ignore\")"
   ]
  },
  {
   "cell_type": "markdown",
   "id": "5079556b",
   "metadata": {},
   "source": [
    "<br><br>\n",
    "\n",
    "## Carregando Conjunto de Dados"
   ]
  },
  {
   "cell_type": "code",
   "execution_count": 2,
   "id": "2d5e412a",
   "metadata": {},
   "outputs": [],
   "source": [
    "# Carrega o dataset\n",
    "dados = pd.read_csv('dados/transacoes_bancarias.csv')"
   ]
  },
  {
   "cell_type": "code",
   "execution_count": 3,
   "id": "d4d280e4",
   "metadata": {},
   "outputs": [
    {
     "data": {
      "text/html": [
       "<div>\n",
       "<style scoped>\n",
       "    .dataframe tbody tr th:only-of-type {\n",
       "        vertical-align: middle;\n",
       "    }\n",
       "\n",
       "    .dataframe tbody tr th {\n",
       "        vertical-align: top;\n",
       "    }\n",
       "\n",
       "    .dataframe thead th {\n",
       "        text-align: right;\n",
       "    }\n",
       "</style>\n",
       "<table border=\"1\" class=\"dataframe\">\n",
       "  <thead>\n",
       "    <tr style=\"text-align: right;\">\n",
       "      <th></th>\n",
       "      <th>transaction_id</th>\n",
       "      <th>account_age</th>\n",
       "      <th>transaction_amount</th>\n",
       "      <th>transaction_type</th>\n",
       "      <th>location</th>\n",
       "      <th>is_fraud</th>\n",
       "    </tr>\n",
       "  </thead>\n",
       "  <tbody>\n",
       "    <tr>\n",
       "      <th>0</th>\n",
       "      <td>TX0</td>\n",
       "      <td>103.0</td>\n",
       "      <td>154.239105</td>\n",
       "      <td>saque</td>\n",
       "      <td>online</td>\n",
       "      <td>0</td>\n",
       "    </tr>\n",
       "    <tr>\n",
       "      <th>1</th>\n",
       "      <td>TX1</td>\n",
       "      <td>180.0</td>\n",
       "      <td>2.859674</td>\n",
       "      <td>saque</td>\n",
       "      <td>online</td>\n",
       "      <td>0</td>\n",
       "    </tr>\n",
       "    <tr>\n",
       "      <th>2</th>\n",
       "      <td>TX2</td>\n",
       "      <td>93.0</td>\n",
       "      <td>59.582040</td>\n",
       "      <td>saque</td>\n",
       "      <td>online</td>\n",
       "      <td>0</td>\n",
       "    </tr>\n",
       "    <tr>\n",
       "      <th>3</th>\n",
       "      <td>TX3</td>\n",
       "      <td>15.0</td>\n",
       "      <td>119.546919</td>\n",
       "      <td>transferência</td>\n",
       "      <td>online</td>\n",
       "      <td>0</td>\n",
       "    </tr>\n",
       "    <tr>\n",
       "      <th>4</th>\n",
       "      <td>TX4</td>\n",
       "      <td>107.0</td>\n",
       "      <td>236.122174</td>\n",
       "      <td>saque</td>\n",
       "      <td>online</td>\n",
       "      <td>0</td>\n",
       "    </tr>\n",
       "  </tbody>\n",
       "</table>\n",
       "</div>"
      ],
      "text/plain": [
       "  transaction_id  account_age  transaction_amount transaction_type location  \\\n",
       "0            TX0        103.0          154.239105            saque   online   \n",
       "1            TX1        180.0            2.859674            saque   online   \n",
       "2            TX2         93.0           59.582040            saque   online   \n",
       "3            TX3         15.0          119.546919    transferência   online   \n",
       "4            TX4        107.0          236.122174            saque   online   \n",
       "\n",
       "   is_fraud  \n",
       "0         0  \n",
       "1         0  \n",
       "2         0  \n",
       "3         0  \n",
       "4         0  "
      ]
     },
     "execution_count": 3,
     "metadata": {},
     "output_type": "execute_result"
    }
   ],
   "source": [
    "# Visualiza\n",
    "dados.head()"
   ]
  },
  {
   "cell_type": "code",
   "execution_count": 4,
   "id": "84ccf5b5",
   "metadata": {},
   "outputs": [
    {
     "name": "stdout",
     "output_type": "stream",
     "text": [
      "<class 'pandas.core.frame.DataFrame'>\n",
      "RangeIndex: 10100 entries, 0 to 10099\n",
      "Data columns (total 6 columns):\n",
      " #   Column              Non-Null Count  Dtype  \n",
      "---  ------              --------------  -----  \n",
      " 0   transaction_id      10100 non-null  object \n",
      " 1   account_age         9998 non-null   float64\n",
      " 2   transaction_amount  9996 non-null   float64\n",
      " 3   transaction_type    10100 non-null  object \n",
      " 4   location            10100 non-null  object \n",
      " 5   is_fraud            10100 non-null  int64  \n",
      "dtypes: float64(2), int64(1), object(3)\n",
      "memory usage: 473.6+ KB\n",
      "\n",
      "\n",
      "Existem valores ausentes: True\n",
      "Variáveis com valores ausentes: ['account_age', 'transaction_amount']\n",
      "Existem valores duplicados: False\n",
      "Nenhuma variável possui valores duplicados.\n"
     ]
    }
   ],
   "source": [
    "# Info\n",
    "dados.info()\n",
    "\n",
    "# Verifica se há valores ausentes e duplicados\n",
    "valores_ausentes = dados.isna().sum().sum() > 0\n",
    "valores_duplicados = dados.duplicated().sum() > 0\n",
    "\n",
    "# Nomes das variáveis com valores ausentes\n",
    "variaveis_ausentes = dados.columns[dados.isna().any()].tolist()\n",
    "\n",
    "# Nomes das variáveis com valores duplicados (dados duplicados nas linhas inteiras)\n",
    "variaveis_duplicadas = \"Todas as variáveis\" if valores_duplicados else \"Nenhuma variável\"\n",
    "\n",
    "# Exibe o resultado\n",
    "print(f\"\\n\\nExistem valores ausentes: {valores_ausentes}\")\n",
    "if valores_ausentes:\n",
    "    print(f\"Variáveis com valores ausentes: {variaveis_ausentes}\")\n",
    "else:\n",
    "    print(\"Nenhuma variável possui valores ausentes.\")\n",
    "\n",
    "print(f\"Existem valores duplicados: {valores_duplicados}\")\n",
    "if valores_duplicados:\n",
    "    print(f\"Variáveis com valores duplicados: {variaveis_duplicadas}\")\n",
    "else:\n",
    "    print(\"Nenhuma variável possui valores duplicados.\")\n"
   ]
  },
  {
   "cell_type": "markdown",
   "id": "801ce4e8",
   "metadata": {},
   "source": [
    "<br>\n",
    "\n",
    "### Ordem Recomendada das Etapas de Pré-Processamento:\n",
    "\n",
    "- **Realizar Análise Exploratória** - Realizar Análise Exploratória das Variáveis Numéricas e Categóricas\n",
    "- **Transformação de Variáveis Categóricas**: Converter variáveis categóricas em numéricas.\n",
    "- **Tratamento de Valores Ausentes**: Lidar com valores ausentes primeiro garante que as próximas etapas possam ser aplicadas a um conjunto de dados completo e correto.\n",
    "- **Tratamento de Outliers**: Identificar e tratar outliers evita que esses valores influenciem negativamente as transformações e modelagens subsequentes.\n",
    "- **Verificação de Correlação**: Avaliar a correlação entre as variáveis para entender suas relações e evitar multicolinearidade.\n",
    "- **Divisão em Conjuntos de Treino e Teste**: Separar os dados em conjuntos de treino e teste antes de aplicar técnicas de modelagem.\n",
    "- **Escalonamento de Dados**: Normalizar ou padronizar os dados para garantir que todas as variáveis estejam na mesma escala, especialmente importante para modelos baseados em distância."
   ]
  },
  {
   "cell_type": "markdown",
   "id": "437aef0d",
   "metadata": {},
   "source": [
    "<br><br>\n",
    "## Análise Exploratória de Dados"
   ]
  },
  {
   "cell_type": "code",
   "execution_count": 5,
   "id": "22d17ab3",
   "metadata": {},
   "outputs": [
    {
     "data": {
      "text/plain": [
       "Index(['transaction_id', 'account_age', 'transaction_amount',\n",
       "       'transaction_type', 'location', 'is_fraud'],\n",
       "      dtype='object')"
      ]
     },
     "execution_count": 5,
     "metadata": {},
     "output_type": "execute_result"
    }
   ],
   "source": [
    "# Nome das colunas\n",
    "dados.columns"
   ]
  },
  {
   "cell_type": "code",
   "execution_count": 6,
   "id": "ab2797e9",
   "metadata": {},
   "outputs": [
    {
     "data": {
      "text/html": [
       "<div>\n",
       "<style scoped>\n",
       "    .dataframe tbody tr th:only-of-type {\n",
       "        vertical-align: middle;\n",
       "    }\n",
       "\n",
       "    .dataframe tbody tr th {\n",
       "        vertical-align: top;\n",
       "    }\n",
       "\n",
       "    .dataframe thead th {\n",
       "        text-align: right;\n",
       "    }\n",
       "</style>\n",
       "<table border=\"1\" class=\"dataframe\">\n",
       "  <thead>\n",
       "    <tr style=\"text-align: right;\">\n",
       "      <th></th>\n",
       "      <th>transaction_id</th>\n",
       "      <th>account_age</th>\n",
       "      <th>transaction_amount</th>\n",
       "      <th>transaction_type</th>\n",
       "      <th>location</th>\n",
       "      <th>is_fraud</th>\n",
       "    </tr>\n",
       "  </thead>\n",
       "  <tbody>\n",
       "    <tr>\n",
       "      <th>0</th>\n",
       "      <td>TX0</td>\n",
       "      <td>103.0</td>\n",
       "      <td>154.239105</td>\n",
       "      <td>saque</td>\n",
       "      <td>online</td>\n",
       "      <td>0</td>\n",
       "    </tr>\n",
       "    <tr>\n",
       "      <th>1</th>\n",
       "      <td>TX1</td>\n",
       "      <td>180.0</td>\n",
       "      <td>2.859674</td>\n",
       "      <td>saque</td>\n",
       "      <td>online</td>\n",
       "      <td>0</td>\n",
       "    </tr>\n",
       "    <tr>\n",
       "      <th>2</th>\n",
       "      <td>TX2</td>\n",
       "      <td>93.0</td>\n",
       "      <td>59.582040</td>\n",
       "      <td>saque</td>\n",
       "      <td>online</td>\n",
       "      <td>0</td>\n",
       "    </tr>\n",
       "  </tbody>\n",
       "</table>\n",
       "</div>"
      ],
      "text/plain": [
       "  transaction_id  account_age  transaction_amount transaction_type location  \\\n",
       "0            TX0        103.0          154.239105            saque   online   \n",
       "1            TX1        180.0            2.859674            saque   online   \n",
       "2            TX2         93.0           59.582040            saque   online   \n",
       "\n",
       "   is_fraud  \n",
       "0         0  \n",
       "1         0  \n",
       "2         0  "
      ]
     },
     "execution_count": 6,
     "metadata": {},
     "output_type": "execute_result"
    }
   ],
   "source": [
    "# Visualiza dados\n",
    "dados.head(3)"
   ]
  },
  {
   "cell_type": "markdown",
   "id": "af85e95c",
   "metadata": {},
   "source": [
    "#### Visualizando Variáveis Categóricas e Numéricas"
   ]
  },
  {
   "cell_type": "code",
   "execution_count": 7,
   "id": "6bdfe0cd",
   "metadata": {},
   "outputs": [
    {
     "data": {
      "text/plain": [
       "transaction_id      object\n",
       "transaction_type    object\n",
       "location            object\n",
       "dtype: object"
      ]
     },
     "execution_count": 7,
     "metadata": {},
     "output_type": "execute_result"
    }
   ],
   "source": [
    "# Exibindo Variáveis Categóricas (filtrando)\n",
    "dados.dtypes[dados.dtypes == 'object']"
   ]
  },
  {
   "cell_type": "code",
   "execution_count": 8,
   "id": "04e243d7",
   "metadata": {},
   "outputs": [
    {
     "data": {
      "text/plain": [
       "account_age           float64\n",
       "transaction_amount    float64\n",
       "is_fraud                int64\n",
       "dtype: object"
      ]
     },
     "execution_count": 8,
     "metadata": {},
     "output_type": "execute_result"
    }
   ],
   "source": [
    "# Exibindo Variáveis Numéricas (filtrando)\n",
    "dados.dtypes[dados.dtypes != 'object']"
   ]
  },
  {
   "cell_type": "markdown",
   "id": "713dbb57",
   "metadata": {},
   "source": [
    "<br><br>\n",
    "\n",
    "## Explorando Variáveis Numéricas\n",
    "\n",
    "#### Resumo Estatístico"
   ]
  },
  {
   "cell_type": "code",
   "execution_count": 9,
   "id": "2de00a82",
   "metadata": {},
   "outputs": [
    {
     "data": {
      "text/html": [
       "<div>\n",
       "<style scoped>\n",
       "    .dataframe tbody tr th:only-of-type {\n",
       "        vertical-align: middle;\n",
       "    }\n",
       "\n",
       "    .dataframe tbody tr th {\n",
       "        vertical-align: top;\n",
       "    }\n",
       "\n",
       "    .dataframe thead th {\n",
       "        text-align: right;\n",
       "    }\n",
       "</style>\n",
       "<table border=\"1\" class=\"dataframe\">\n",
       "  <thead>\n",
       "    <tr style=\"text-align: right;\">\n",
       "      <th></th>\n",
       "      <th>account_age</th>\n",
       "      <th>transaction_amount</th>\n",
       "      <th>is_fraud</th>\n",
       "    </tr>\n",
       "  </thead>\n",
       "  <tbody>\n",
       "    <tr>\n",
       "      <th>count</th>\n",
       "      <td>9998.000000</td>\n",
       "      <td>9996.000000</td>\n",
       "      <td>10100.000000</td>\n",
       "    </tr>\n",
       "    <tr>\n",
       "      <th>mean</th>\n",
       "      <td>120.575815</td>\n",
       "      <td>198.844169</td>\n",
       "      <td>0.020198</td>\n",
       "    </tr>\n",
       "    <tr>\n",
       "      <th>std</th>\n",
       "      <td>68.455560</td>\n",
       "      <td>205.816906</td>\n",
       "      <td>0.140684</td>\n",
       "    </tr>\n",
       "    <tr>\n",
       "      <th>min</th>\n",
       "      <td>1.000000</td>\n",
       "      <td>0.010566</td>\n",
       "      <td>0.000000</td>\n",
       "    </tr>\n",
       "    <tr>\n",
       "      <th>25%</th>\n",
       "      <td>61.000000</td>\n",
       "      <td>56.419942</td>\n",
       "      <td>0.000000</td>\n",
       "    </tr>\n",
       "    <tr>\n",
       "      <th>50%</th>\n",
       "      <td>121.000000</td>\n",
       "      <td>135.178985</td>\n",
       "      <td>0.000000</td>\n",
       "    </tr>\n",
       "    <tr>\n",
       "      <th>75%</th>\n",
       "      <td>179.000000</td>\n",
       "      <td>276.411061</td>\n",
       "      <td>0.000000</td>\n",
       "    </tr>\n",
       "    <tr>\n",
       "      <th>max</th>\n",
       "      <td>239.000000</td>\n",
       "      <td>3666.699680</td>\n",
       "      <td>1.000000</td>\n",
       "    </tr>\n",
       "  </tbody>\n",
       "</table>\n",
       "</div>"
      ],
      "text/plain": [
       "       account_age  transaction_amount      is_fraud\n",
       "count  9998.000000         9996.000000  10100.000000\n",
       "mean    120.575815          198.844169      0.020198\n",
       "std      68.455560          205.816906      0.140684\n",
       "min       1.000000            0.010566      0.000000\n",
       "25%      61.000000           56.419942      0.000000\n",
       "50%     121.000000          135.178985      0.000000\n",
       "75%     179.000000          276.411061      0.000000\n",
       "max     239.000000         3666.699680      1.000000"
      ]
     },
     "execution_count": 9,
     "metadata": {},
     "output_type": "execute_result"
    }
   ],
   "source": [
    "dados.describe()"
   ]
  },
  {
   "cell_type": "markdown",
   "id": "f8b42519",
   "metadata": {},
   "source": [
    "#### Visualizando através de Gráficos"
   ]
  },
  {
   "cell_type": "code",
   "execution_count": 10,
   "id": "e77b22b3",
   "metadata": {},
   "outputs": [
    {
     "data": {
      "image/png": "[encoded data removed]",
      "text/plain": [
       "<Figure size 1080x1080 with 4 Axes>"
      ]
     },
     "metadata": {
      "needs_background": "light"
     },
     "output_type": "display_data"
    }
   ],
   "source": [
    "# Plot\n",
    "dados.hist(figsize = (15,15), bins = 10) \n",
    "plt.show()"
   ]
  },
  {
   "cell_type": "markdown",
   "id": "fd08a5d5",
   "metadata": {},
   "source": [
    "#### Interpretando o Resumo e Gráficos\n",
    "\n",
    "- **account_age**: A variável \"account_age\" está bem distribuída e não apresenta muitos outliers. Isso indica que a idade das contas é uma variável estável e pode ser usada diretamente nos modelos de machine learning.\n",
    "- **transaction_amount**: A variável \"transaction_amount\" possui uma distribuição assimétrica com uma cauda longa à direita, indicando a presença de outliers. Será necessário considerar técnicas para lidar com esses outliers, como a transformação dos dados ou a utilização de técnicas robustas a outliers.\n",
    "- **is_fraud**: A variável \"is_fraud\" é altamente desbalanceada, o que pode afetar a performance dos modelos de machine learning. Técnicas de balanceamento, como a sobremostragem da classe minoritária ou a subamostragem da classe majoritária, devem ser consideradas para melhorar a capacidade dos modelos em identificar transações fraudulentas.\n",
    "\n",
    "#### Conclusão:\n",
    "\n",
    "- As variáveis \"account_age\" está bem distribuída e estável, \"transaction_amount\" apresenta outliers significativos, e \"is_fraud\" é altamente desbalanceada, exigindo técnicas de balanceamento para melhorar a detecção de fraudes."
   ]
  },
  {
   "cell_type": "markdown",
   "id": "22c5728f",
   "metadata": {},
   "source": [
    "<br><br>\n",
    "\n",
    "## Explorando Variável Categórica\n",
    "\n",
    "#### Resumo Estatístico"
   ]
  },
  {
   "cell_type": "code",
   "execution_count": 11,
   "id": "c276a01e",
   "metadata": {},
   "outputs": [
    {
     "data": {
      "text/html": [
       "<div>\n",
       "<style scoped>\n",
       "    .dataframe tbody tr th:only-of-type {\n",
       "        vertical-align: middle;\n",
       "    }\n",
       "\n",
       "    .dataframe tbody tr th {\n",
       "        vertical-align: top;\n",
       "    }\n",
       "\n",
       "    .dataframe thead th {\n",
       "        text-align: right;\n",
       "    }\n",
       "</style>\n",
       "<table border=\"1\" class=\"dataframe\">\n",
       "  <thead>\n",
       "    <tr style=\"text-align: right;\">\n",
       "      <th></th>\n",
       "      <th>transaction_id</th>\n",
       "      <th>transaction_type</th>\n",
       "      <th>location</th>\n",
       "    </tr>\n",
       "  </thead>\n",
       "  <tbody>\n",
       "    <tr>\n",
       "      <th>count</th>\n",
       "      <td>10100</td>\n",
       "      <td>10100</td>\n",
       "      <td>10100</td>\n",
       "    </tr>\n",
       "    <tr>\n",
       "      <th>unique</th>\n",
       "      <td>10100</td>\n",
       "      <td>3</td>\n",
       "      <td>2</td>\n",
       "    </tr>\n",
       "    <tr>\n",
       "      <th>top</th>\n",
       "      <td>TX0</td>\n",
       "      <td>compra</td>\n",
       "      <td>online</td>\n",
       "    </tr>\n",
       "    <tr>\n",
       "      <th>freq</th>\n",
       "      <td>1</td>\n",
       "      <td>3396</td>\n",
       "      <td>5171</td>\n",
       "    </tr>\n",
       "  </tbody>\n",
       "</table>\n",
       "</div>"
      ],
      "text/plain": [
       "       transaction_id transaction_type location\n",
       "count           10100            10100    10100\n",
       "unique          10100                3        2\n",
       "top               TX0           compra   online\n",
       "freq                1             3396     5171"
      ]
     },
     "execution_count": 11,
     "metadata": {},
     "output_type": "execute_result"
    }
   ],
   "source": [
    "# Describe (informando que é para somente variáveis categóricas)\n",
    "dados.describe(include = ['object'])"
   ]
  },
  {
   "cell_type": "code",
   "execution_count": 12,
   "id": "3f61478d",
   "metadata": {},
   "outputs": [
    {
     "name": "stdout",
     "output_type": "stream",
     "text": [
      "['TX0' 'TX1' 'TX2' ... 'TX10097' 'TX10098' 'TX10099']\n",
      "['saque' 'transferência' 'compra']\n",
      "['online' 'fisico']\n"
     ]
    }
   ],
   "source": [
    "# Verificando Tipo das Variáveis\n",
    "print(dados['transaction_id'].unique())\n",
    "print(dados['transaction_type'].unique())\n",
    "print(dados['location'].unique())"
   ]
  },
  {
   "cell_type": "markdown",
   "id": "b46362ee",
   "metadata": {},
   "source": [
    "#### Visualizando através de Gráfico"
   ]
  },
  {
   "cell_type": "code",
   "execution_count": 13,
   "id": "ba97b0b6",
   "metadata": {},
   "outputs": [
    {
     "data": {
      "image/png": "[encoded data removed]",
      "text/plain": [
       "<Figure size 720x432 with 1 Axes>"
      ]
     },
     "metadata": {
      "needs_background": "light"
     },
     "output_type": "display_data"
    },
    {
     "data": {
      "image/png": "[encoded data removed]",
      "text/plain": [
       "<Figure size 720x432 with 1 Axes>"
      ]
     },
     "metadata": {
      "needs_background": "light"
     },
     "output_type": "display_data"
    },
    {
     "name": "stdout",
     "output_type": "stream",
     "text": [
      "Contagem de tipos de transação:\n",
      "Tipo de transação compra: 3396\n",
      "Tipo de transação saque: 3362\n",
      "Tipo de transação transferência: 3342\n",
      "\n",
      "Contagem de localização da transação:\n",
      "Localização online: 5171\n",
      "Localização fisico: 4929\n"
     ]
    }
   ],
   "source": [
    "# Exibindo o gráfico de contagem para 'transaction_type'\n",
    "plt.figure(figsize=(10, 6))\n",
    "sns.countplot(data=dados, x='transaction_type', label='Count')\n",
    "plt.title('Contagem de Tipos de Transação')\n",
    "plt.xlabel('Tipo de Transação')\n",
    "plt.ylabel('Contagem')\n",
    "plt.show()\n",
    "\n",
    "# Exibindo o gráfico de contagem para 'location'\n",
    "plt.figure(figsize=(10, 6))\n",
    "sns.countplot(data=dados, x='location', label='Count')\n",
    "plt.title('Contagem de Localização da Transação')\n",
    "plt.xlabel('Localização da Transação')\n",
    "plt.ylabel('Contagem')\n",
    "plt.show()\n",
    "\n",
    "# Value counts for 'transaction_type'\n",
    "transaction_type_counts = dados['transaction_type'].value_counts()\n",
    "print(\"Contagem de tipos de transação:\")\n",
    "for transaction_type, count in transaction_type_counts.items():\n",
    "    print(f'Tipo de transação {transaction_type}: {count}')\n",
    "\n",
    "# Value counts for 'location'\n",
    "location_counts = dados['location'].value_counts()\n",
    "print(\"\\nContagem de localização da transação:\")\n",
    "for location, count in location_counts.items():\n",
    "    print(f'Localização {location}: {count}')"
   ]
  },
  {
   "cell_type": "markdown",
   "id": "63db17af",
   "metadata": {},
   "source": [
    "<br>\n",
    "\n",
    "## Aplicando Label Encoding\n",
    "#### Vamos transformar as variáveis **Categóricas** transaction_type e location na sua represetação **Numérica**"
   ]
  },
  {
   "cell_type": "code",
   "execution_count": 14,
   "id": "1db310d5",
   "metadata": {},
   "outputs": [
    {
     "data": {
      "text/plain": [
       "Index(['transaction_id', 'account_age', 'transaction_amount',\n",
       "       'transaction_type', 'location', 'is_fraud'],\n",
       "      dtype='object')"
      ]
     },
     "execution_count": 14,
     "metadata": {},
     "output_type": "execute_result"
    }
   ],
   "source": [
    "dados.columns"
   ]
  },
  {
   "cell_type": "code",
   "execution_count": 15,
   "id": "fcabf660",
   "metadata": {},
   "outputs": [
    {
     "data": {
      "text/html": [
       "<div>\n",
       "<style scoped>\n",
       "    .dataframe tbody tr th:only-of-type {\n",
       "        vertical-align: middle;\n",
       "    }\n",
       "\n",
       "    .dataframe tbody tr th {\n",
       "        vertical-align: top;\n",
       "    }\n",
       "\n",
       "    .dataframe thead th {\n",
       "        text-align: right;\n",
       "    }\n",
       "</style>\n",
       "<table border=\"1\" class=\"dataframe\">\n",
       "  <thead>\n",
       "    <tr style=\"text-align: right;\">\n",
       "      <th></th>\n",
       "      <th>transaction_id</th>\n",
       "      <th>account_age</th>\n",
       "      <th>transaction_amount</th>\n",
       "      <th>transaction_type</th>\n",
       "      <th>location</th>\n",
       "      <th>is_fraud</th>\n",
       "    </tr>\n",
       "  </thead>\n",
       "  <tbody>\n",
       "    <tr>\n",
       "      <th>3308</th>\n",
       "      <td>TX3308</td>\n",
       "      <td>113.0</td>\n",
       "      <td>175.345875</td>\n",
       "      <td>saque</td>\n",
       "      <td>online</td>\n",
       "      <td>0</td>\n",
       "    </tr>\n",
       "    <tr>\n",
       "      <th>5969</th>\n",
       "      <td>TX5969</td>\n",
       "      <td>177.0</td>\n",
       "      <td>579.486959</td>\n",
       "      <td>saque</td>\n",
       "      <td>fisico</td>\n",
       "      <td>0</td>\n",
       "    </tr>\n",
       "    <tr>\n",
       "      <th>8474</th>\n",
       "      <td>TX8474</td>\n",
       "      <td>21.0</td>\n",
       "      <td>25.863418</td>\n",
       "      <td>saque</td>\n",
       "      <td>online</td>\n",
       "      <td>0</td>\n",
       "    </tr>\n",
       "    <tr>\n",
       "      <th>9760</th>\n",
       "      <td>TX9760</td>\n",
       "      <td>170.0</td>\n",
       "      <td>428.784372</td>\n",
       "      <td>compra</td>\n",
       "      <td>online</td>\n",
       "      <td>0</td>\n",
       "    </tr>\n",
       "    <tr>\n",
       "      <th>7665</th>\n",
       "      <td>TX7665</td>\n",
       "      <td>179.0</td>\n",
       "      <td>166.729780</td>\n",
       "      <td>transferência</td>\n",
       "      <td>online</td>\n",
       "      <td>0</td>\n",
       "    </tr>\n",
       "    <tr>\n",
       "      <th>1971</th>\n",
       "      <td>TX1971</td>\n",
       "      <td>158.0</td>\n",
       "      <td>8.016942</td>\n",
       "      <td>saque</td>\n",
       "      <td>fisico</td>\n",
       "      <td>0</td>\n",
       "    </tr>\n",
       "    <tr>\n",
       "      <th>2061</th>\n",
       "      <td>TX2061</td>\n",
       "      <td>230.0</td>\n",
       "      <td>221.497061</td>\n",
       "      <td>saque</td>\n",
       "      <td>online</td>\n",
       "      <td>0</td>\n",
       "    </tr>\n",
       "    <tr>\n",
       "      <th>940</th>\n",
       "      <td>TX940</td>\n",
       "      <td>56.0</td>\n",
       "      <td>168.242559</td>\n",
       "      <td>compra</td>\n",
       "      <td>fisico</td>\n",
       "      <td>0</td>\n",
       "    </tr>\n",
       "    <tr>\n",
       "      <th>9280</th>\n",
       "      <td>TX9280</td>\n",
       "      <td>78.0</td>\n",
       "      <td>145.185562</td>\n",
       "      <td>compra</td>\n",
       "      <td>online</td>\n",
       "      <td>0</td>\n",
       "    </tr>\n",
       "    <tr>\n",
       "      <th>7151</th>\n",
       "      <td>TX7151</td>\n",
       "      <td>6.0</td>\n",
       "      <td>213.186789</td>\n",
       "      <td>transferência</td>\n",
       "      <td>fisico</td>\n",
       "      <td>0</td>\n",
       "    </tr>\n",
       "  </tbody>\n",
       "</table>\n",
       "</div>"
      ],
      "text/plain": [
       "     transaction_id  account_age  transaction_amount transaction_type  \\\n",
       "3308         TX3308        113.0          175.345875            saque   \n",
       "5969         TX5969        177.0          579.486959            saque   \n",
       "8474         TX8474         21.0           25.863418            saque   \n",
       "9760         TX9760        170.0          428.784372           compra   \n",
       "7665         TX7665        179.0          166.729780    transferência   \n",
       "1971         TX1971        158.0            8.016942            saque   \n",
       "2061         TX2061        230.0          221.497061            saque   \n",
       "940           TX940         56.0          168.242559           compra   \n",
       "9280         TX9280         78.0          145.185562           compra   \n",
       "7151         TX7151          6.0          213.186789    transferência   \n",
       "\n",
       "     location  is_fraud  \n",
       "3308   online         0  \n",
       "5969   fisico         0  \n",
       "8474   online         0  \n",
       "9760   online         0  \n",
       "7665   online         0  \n",
       "1971   fisico         0  \n",
       "2061   online         0  \n",
       "940    fisico         0  \n",
       "9280   online         0  \n",
       "7151   fisico         0  "
      ]
     },
     "execution_count": 15,
     "metadata": {},
     "output_type": "execute_result"
    }
   ],
   "source": [
    "dados.sample(10)"
   ]
  },
  {
   "cell_type": "code",
   "execution_count": 16,
   "id": "172cb93b",
   "metadata": {},
   "outputs": [],
   "source": [
    "# Inicializando os label encoders\n",
    "le_transaction_type = LabelEncoder()\n",
    "le_location = LabelEncoder()\n",
    "\n",
    "# Aplicando label encoding às variáveis categóricas\n",
    "dados['transaction_type'] = le_transaction_type.fit_transform(dados['transaction_type'])\n",
    "dados['location'] = le_location.fit_transform(dados['location'])"
   ]
  },
  {
   "cell_type": "code",
   "execution_count": 17,
   "id": "8a685f8a",
   "metadata": {},
   "outputs": [
    {
     "name": "stdout",
     "output_type": "stream",
     "text": [
      "<class 'pandas.core.frame.DataFrame'>\n",
      "RangeIndex: 10100 entries, 0 to 10099\n",
      "Data columns (total 6 columns):\n",
      " #   Column              Non-Null Count  Dtype  \n",
      "---  ------              --------------  -----  \n",
      " 0   transaction_id      10100 non-null  object \n",
      " 1   account_age         9998 non-null   float64\n",
      " 2   transaction_amount  9996 non-null   float64\n",
      " 3   transaction_type    10100 non-null  int64  \n",
      " 4   location            10100 non-null  int64  \n",
      " 5   is_fraud            10100 non-null  int64  \n",
      "dtypes: float64(2), int64(3), object(1)\n",
      "memory usage: 473.6+ KB\n"
     ]
    }
   ],
   "source": [
    "# Info\n",
    "dados.info()"
   ]
  },
  {
   "cell_type": "code",
   "execution_count": 18,
   "id": "97fa276f",
   "metadata": {},
   "outputs": [
    {
     "data": {
      "text/html": [
       "<div>\n",
       "<style scoped>\n",
       "    .dataframe tbody tr th:only-of-type {\n",
       "        vertical-align: middle;\n",
       "    }\n",
       "\n",
       "    .dataframe tbody tr th {\n",
       "        vertical-align: top;\n",
       "    }\n",
       "\n",
       "    .dataframe thead th {\n",
       "        text-align: right;\n",
       "    }\n",
       "</style>\n",
       "<table border=\"1\" class=\"dataframe\">\n",
       "  <thead>\n",
       "    <tr style=\"text-align: right;\">\n",
       "      <th></th>\n",
       "      <th>transaction_id</th>\n",
       "      <th>account_age</th>\n",
       "      <th>transaction_amount</th>\n",
       "      <th>transaction_type</th>\n",
       "      <th>location</th>\n",
       "      <th>is_fraud</th>\n",
       "    </tr>\n",
       "  </thead>\n",
       "  <tbody>\n",
       "    <tr>\n",
       "      <th>4382</th>\n",
       "      <td>TX4382</td>\n",
       "      <td>194.0</td>\n",
       "      <td>45.752728</td>\n",
       "      <td>1</td>\n",
       "      <td>1</td>\n",
       "      <td>0</td>\n",
       "    </tr>\n",
       "    <tr>\n",
       "      <th>5812</th>\n",
       "      <td>TX5812</td>\n",
       "      <td>92.0</td>\n",
       "      <td>39.600897</td>\n",
       "      <td>0</td>\n",
       "      <td>1</td>\n",
       "      <td>0</td>\n",
       "    </tr>\n",
       "    <tr>\n",
       "      <th>4507</th>\n",
       "      <td>TX4507</td>\n",
       "      <td>178.0</td>\n",
       "      <td>11.469798</td>\n",
       "      <td>2</td>\n",
       "      <td>0</td>\n",
       "      <td>0</td>\n",
       "    </tr>\n",
       "    <tr>\n",
       "      <th>6429</th>\n",
       "      <td>TX6429</td>\n",
       "      <td>59.0</td>\n",
       "      <td>865.456093</td>\n",
       "      <td>2</td>\n",
       "      <td>0</td>\n",
       "      <td>0</td>\n",
       "    </tr>\n",
       "    <tr>\n",
       "      <th>6624</th>\n",
       "      <td>TX6624</td>\n",
       "      <td>192.0</td>\n",
       "      <td>278.703231</td>\n",
       "      <td>2</td>\n",
       "      <td>0</td>\n",
       "      <td>0</td>\n",
       "    </tr>\n",
       "    <tr>\n",
       "      <th>5054</th>\n",
       "      <td>TX5054</td>\n",
       "      <td>27.0</td>\n",
       "      <td>135.380498</td>\n",
       "      <td>2</td>\n",
       "      <td>0</td>\n",
       "      <td>0</td>\n",
       "    </tr>\n",
       "    <tr>\n",
       "      <th>4764</th>\n",
       "      <td>TX4764</td>\n",
       "      <td>188.0</td>\n",
       "      <td>36.693618</td>\n",
       "      <td>2</td>\n",
       "      <td>1</td>\n",
       "      <td>0</td>\n",
       "    </tr>\n",
       "    <tr>\n",
       "      <th>529</th>\n",
       "      <td>TX529</td>\n",
       "      <td>58.0</td>\n",
       "      <td>107.443428</td>\n",
       "      <td>0</td>\n",
       "      <td>0</td>\n",
       "      <td>0</td>\n",
       "    </tr>\n",
       "    <tr>\n",
       "      <th>6372</th>\n",
       "      <td>TX6372</td>\n",
       "      <td>13.0</td>\n",
       "      <td>237.755862</td>\n",
       "      <td>0</td>\n",
       "      <td>1</td>\n",
       "      <td>1</td>\n",
       "    </tr>\n",
       "    <tr>\n",
       "      <th>7219</th>\n",
       "      <td>TX7219</td>\n",
       "      <td>32.0</td>\n",
       "      <td>97.464900</td>\n",
       "      <td>2</td>\n",
       "      <td>1</td>\n",
       "      <td>0</td>\n",
       "    </tr>\n",
       "  </tbody>\n",
       "</table>\n",
       "</div>"
      ],
      "text/plain": [
       "     transaction_id  account_age  transaction_amount  transaction_type  \\\n",
       "4382         TX4382        194.0           45.752728                 1   \n",
       "5812         TX5812         92.0           39.600897                 0   \n",
       "4507         TX4507        178.0           11.469798                 2   \n",
       "6429         TX6429         59.0          865.456093                 2   \n",
       "6624         TX6624        192.0          278.703231                 2   \n",
       "5054         TX5054         27.0          135.380498                 2   \n",
       "4764         TX4764        188.0           36.693618                 2   \n",
       "529           TX529         58.0          107.443428                 0   \n",
       "6372         TX6372         13.0          237.755862                 0   \n",
       "7219         TX7219         32.0           97.464900                 2   \n",
       "\n",
       "      location  is_fraud  \n",
       "4382         1         0  \n",
       "5812         1         0  \n",
       "4507         0         0  \n",
       "6429         0         0  \n",
       "6624         0         0  \n",
       "5054         0         0  \n",
       "4764         1         0  \n",
       "529          0         0  \n",
       "6372         1         1  \n",
       "7219         1         0  "
      ]
     },
     "execution_count": 18,
     "metadata": {},
     "output_type": "execute_result"
    }
   ],
   "source": [
    "dados.sample(10)"
   ]
  },
  {
   "cell_type": "markdown",
   "id": "f0674469",
   "metadata": {},
   "source": [
    "<br>\n",
    "\n",
    "### Removendo Variável transaction_id"
   ]
  },
  {
   "cell_type": "code",
   "execution_count": 19,
   "id": "0d4e05d7",
   "metadata": {},
   "outputs": [
    {
     "name": "stdout",
     "output_type": "stream",
     "text": [
      "   account_age  transaction_amount  transaction_type  location  is_fraud\n",
      "0        103.0          154.239105                 1         1         0\n",
      "1        180.0            2.859674                 1         1         0\n"
     ]
    }
   ],
   "source": [
    "# Removendo a variável transaction_id\n",
    "dados = dados.drop('transaction_id', axis=1)\n",
    "\n",
    "# Verificando as primeiras linhas do dataframe após a remoção\n",
    "print(dados.head(2))"
   ]
  },
  {
   "cell_type": "markdown",
   "id": "5e9e1da7",
   "metadata": {},
   "source": [
    "<br>\n",
    "\n",
    "# Limpeza nos Dados\n",
    "\n",
    "<br>\n",
    "\n",
    "### Tratando Valores Ausentes"
   ]
  },
  {
   "cell_type": "code",
   "execution_count": 20,
   "id": "71ccd8d1",
   "metadata": {},
   "outputs": [
    {
     "data": {
      "text/plain": [
       "account_age           102\n",
       "transaction_amount    104\n",
       "transaction_type        0\n",
       "location                0\n",
       "is_fraud                0\n",
       "dtype: int64"
      ]
     },
     "execution_count": 20,
     "metadata": {},
     "output_type": "execute_result"
    }
   ],
   "source": [
    "# Verifica se há valores ausentes (por coluna)\n",
    "dados.isna().sum()"
   ]
  },
  {
   "cell_type": "code",
   "execution_count": 21,
   "id": "c49091fa",
   "metadata": {},
   "outputs": [
    {
     "data": {
      "text/plain": [
       "account_age           0\n",
       "transaction_amount    0\n",
       "transaction_type      0\n",
       "location              0\n",
       "is_fraud              0\n",
       "dtype: int64"
      ]
     },
     "execution_count": 21,
     "metadata": {},
     "output_type": "execute_result"
    }
   ],
   "source": [
    "# Eliminando as linhas com valores ausentes\n",
    "dados = dados.dropna()\n",
    "\n",
    "\n",
    "# Verifica se há valores ausentes (por coluna)\n",
    "dados.isna().sum()"
   ]
  },
  {
   "cell_type": "markdown",
   "id": "2990074a",
   "metadata": {},
   "source": [
    "<br>\n",
    "\n",
    "## Tratando Valores Duplicados"
   ]
  },
  {
   "cell_type": "code",
   "execution_count": 22,
   "id": "741db219",
   "metadata": {},
   "outputs": [
    {
     "name": "stdout",
     "output_type": "stream",
     "text": [
      "(9894, 5)\n",
      "94\n"
     ]
    }
   ],
   "source": [
    "# Shape\n",
    "print(dados.shape)\n",
    "\n",
    "# Verifica quantidade de valores duplicados\n",
    "print(dados.duplicated().sum())"
   ]
  },
  {
   "cell_type": "code",
   "execution_count": 24,
   "id": "cae824f6",
   "metadata": {},
   "outputs": [
    {
     "name": "stdout",
     "output_type": "stream",
     "text": [
      "(9800, 5)\n"
     ]
    }
   ],
   "source": [
    "# Remove registros duplicados (remove uma das duplicatas)\n",
    "dados = dados.drop_duplicates()\n",
    "\n",
    "# Shape\n",
    "print(dados.shape)"
   ]
  },
  {
   "cell_type": "markdown",
   "id": "33b58514",
   "metadata": {},
   "source": [
    "<br>\n",
    "\n",
    "## Tratando Valores Outliers\n",
    "\n",
    "- Conforme dito acima, vamos olhar para a variável **transaction_amount**."
   ]
  },
  {
   "cell_type": "code",
   "execution_count": null,
   "id": "3bfcef2c",
   "metadata": {},
   "outputs": [],
   "source": []
  },
  {
   "cell_type": "code",
   "execution_count": null,
   "id": "4449f38b",
   "metadata": {},
   "outputs": [],
   "source": []
  },
  {
   "cell_type": "markdown",
   "id": "f1752ba6",
   "metadata": {},
   "source": [
    "- Tratar valores outliers\n",
    "- dividir dados em treino e teste\n",
    "- após divisão aplicar padronização\n",
    "- aplicar balanceamento na variável alvo"
   ]
  }
 ],
 "metadata": {
  "kernelspec": {
   "display_name": "Python 3 (ipykernel)",
   "language": "python",
   "name": "python3"
  },
  "language_info": {
   "codemirror_mode": {
    "name": "ipython",
    "version": 3
   },
   "file_extension": ".py",
   "mimetype": "text/x-python",
   "name": "python",
   "nbconvert_exporter": "python",
   "pygments_lexer": "ipython3",
   "version": "3.9.7"
  }
 },
 "nbformat": 4,
 "nbformat_minor": 5
}
