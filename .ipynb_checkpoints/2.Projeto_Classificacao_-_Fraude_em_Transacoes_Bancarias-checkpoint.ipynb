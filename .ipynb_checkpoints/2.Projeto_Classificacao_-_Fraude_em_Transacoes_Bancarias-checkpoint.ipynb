{
 "cells": [
  {
   "cell_type": "markdown",
   "id": "9c2ca94e",
   "metadata": {},
   "source": [
    "# <span style=\"color: green; font-size: 40px; font-weight: bold;\"> Projeto 2 (Classificação) </span>"
   ]
  },
  {
   "cell_type": "markdown",
   "id": "e954ef0e",
   "metadata": {},
   "source": [
    "<br><br>\n",
    "\n",
    "# Classificação de Fraude em Transações Bancárias\n",
    "\n",
    "<br><br>\n",
    "\n",
    "### Contexto\n",
    "\n",
    "- Um banco está preocupado com o aumento de fraudes em transações bancárias e quer usar um modelo de classificação para identificar transações fraudulentas.\n",
    "- O **objetivo** é proteger os clientes e minimizar as perdas financeiras devido a fraudes.\n",
    "\n",
    "<br>\n",
    "\n",
    "### Problema de Negócio\n",
    "- Como podemos identificar se uma transação bancária é fraudulenta ou não com base em suas características?\n",
    "\n",
    "<br>\n",
    "\n",
    "### Sobre o Conjunto de Dados\n",
    "\n",
    "O conjunto de dados simulado terá 10.000 linhas e incluirá as seguintes colunas:\n",
    "\n",
    "<br>\n",
    "\n",
    "<table border=\"2\">\n",
    "  <tr>\n",
    "    <th style=\"text-align: center; font-size: 16px;\">Nome da Coluna</th>\n",
    "    <th style=\"text-align: center; font-size: 16px;\">Tipo de Dado</th>\n",
    "    <th style=\"text-align: center; font-size: 16px;\">Descrição</th>\n",
    "  </tr>\n",
    "  <tr>\n",
    "    <td>transaction_id</td>\n",
    "    <td>str</td>\n",
    "    <td>Identificação única da transação.</td>\n",
    "  </tr>\n",
    "  <tr>\n",
    "    <td>account_age</td>\n",
    "    <td>int</td>\n",
    "    <td>Idade da conta em meses.</td>\n",
    "  </tr>\n",
    "  <tr>\n",
    "    <td>transaction_amount</td>\n",
    "    <td>float</td>\n",
    "    <td>Valor da transação em reais.</td>\n",
    "  </tr>\n",
    "  <tr>\n",
    "    <td>transaction_type</td>\n",
    "    <td>str</td>\n",
    "    <td>Tipo de transação (compra, transferência, saque).</td>\n",
    "  </tr>\n",
    "  <tr>\n",
    "    <td>location</td>\n",
    "    <td>str</td>\n",
    "    <td>Localização da transação.</td>\n",
    "  </tr>\n",
    "  <tr>\n",
    "    <td>is_fraud</td>\n",
    "    <td>int</td>\n",
    "    <td>Indicador se a transação é fraudulenta (1) ou não (0).</td>\n",
    "  </tr>\n",
    "</table>\n",
    "\n",
    "<br><br>\n",
    "\n",
    "### Perguntas de Negócio Adicionais:\n",
    "\n",
    "- Quais padrões de localização estão associados a transações fraudulentas?\n",
    "\n",
    "> Analisando a localização das transações, podemos identificar se fraudes ocorrem mais frequentemente em determinadas áreas geográficas. Isso pode ajudar a detectar atividades suspeitas em regiões específicas e implementar medidas de segurança mais eficazes.\n",
    "\n",
    "- Como o valor da transação e o tipo de transação influenciam a probabilidade de fraude?\n",
    "\n",
    "> Investigando a relação entre o valor da transação e seu tipo (compra, transferência, saque), podemos identificar combinações que são mais susceptíveis a fraudes. Isso permitirá ao banco criar alertas específicos para transações de alto risco."
   ]
  },
  {
   "cell_type": "markdown",
   "id": "3aa5407a",
   "metadata": {},
   "source": [
    "<br><br>\n",
    "\n",
    "## Importando Pacotes"
   ]
  },
  {
   "cell_type": "code",
   "execution_count": 1,
   "id": "6e8bc930",
   "metadata": {},
   "outputs": [],
   "source": [
    "# Manipulação de Dados\n",
    "import numpy as np\n",
    "import pandas as pd\n",
    "\n",
    "# Criação e Visualização de Gráficos\n",
    "import seaborn as sns\n",
    "import matplotlib.pyplot as plt\n",
    "\n",
    "# Carrega a função SMOTE (Balanceamento de Classes)\n",
    "from imblearn.over_sampling import SMOTE\n",
    "\n",
    "# Label Enconding\n",
    "from sklearn.preprocessing import LabelEncoder\n",
    "\n",
    "# Pacote do Python para Machine Learning\n",
    "import sklearn\n",
    "\n",
    "# Função model_selection do pacote sklearn\n",
    "from sklearn.model_selection import train_test_split    # dividir os dados em treino e teste\n",
    "from sklearn.model_selection import GridSearchCV        # técnica de utilização de hiperparâmetros\n",
    "from sklearn.model_selection import RandomizedSearchCV  # técnica de utilização de hiperparâmetros\n",
    "from sklearn.model_selection import cross_val_score     # validação cruzada (para avaliação do modelo)\n",
    "\n",
    "# Padronização\n",
    "from sklearn.pipeline import Pipeline\n",
    "from sklearn.preprocessing import StandardScaler\n",
    "\n",
    "# Pacotes do sklearn com os Algoritmos\n",
    "\n",
    "# Função com Algoritmo de ML (Regressão Logística)\n",
    "from sklearn.linear_model import LogisticRegression     \n",
    "\n",
    "# Função com Algoritmo de ML (RandomForest)\n",
    "from sklearn.ensemble import RandomForestClassifier\n",
    "\n",
    "# Função com Algoritmo de ML (KNN)\n",
    "from sklearn.neighbors import KNeighborsClassifier\n",
    "\n",
    "# Função com Algoritmo de ML (Árvores de Decisão)\n",
    "from sklearn.tree import DecisionTreeClassifier\n",
    "\n",
    "# Função com Algoritmo de ML (SVC)\n",
    "from sklearn.svm import SVC\n",
    "\n",
    "# Função com Algoritmo de ML (GBM)\n",
    "from sklearn.ensemble import GradientBoostingClassifier\n",
    "\n",
    "# Função com Algoritmo de ML (AdaBoost)\n",
    "from sklearn.ensemble import AdaBoostClassifier\n",
    "\n",
    "# Função com Algoritmo de ML (LGBMClassifier)\n",
    "from lightgbm import LGBMClassifier \n",
    "\n",
    "# Calcular as Métricas para Avaliação dos Modelos\n",
    "from sklearn.metrics import roc_curve, auc, roc_auc_score, confusion_matrix\n",
    "from sklearn.metrics import accuracy_score\n",
    "\n",
    "# Salvar o modelo após o treinamento\n",
    "import joblib\n",
    "import pickle\n",
    "\n",
    "# Indicando que os Gráficos apareçam no Jupyter Notebook\n",
    "%matplotlib inline\n",
    "\n",
    "# Mensagens de Aviso\n",
    "import warnings\n",
    "warnings.filterwarnings(\"ignore\")"
   ]
  },
  {
   "cell_type": "code",
   "execution_count": null,
   "id": "38b4c544",
   "metadata": {},
   "outputs": [],
   "source": []
  },
  {
   "cell_type": "markdown",
   "id": "5079556b",
   "metadata": {},
   "source": [
    "<br><br>\n",
    "\n",
    "## Carregando Conjunto de Dados"
   ]
  },
  {
   "cell_type": "code",
   "execution_count": 2,
   "id": "2d5e412a",
   "metadata": {},
   "outputs": [],
   "source": [
    "# Carrega o dataset\n",
    "dados = pd.read_csv('dados/transacoes_bancarias_ajustado.csv')"
   ]
  },
  {
   "cell_type": "code",
   "execution_count": 3,
   "id": "d4d280e4",
   "metadata": {},
   "outputs": [
    {
     "data": {
      "text/html": [
       "<div>\n",
       "<style scoped>\n",
       "    .dataframe tbody tr th:only-of-type {\n",
       "        vertical-align: middle;\n",
       "    }\n",
       "\n",
       "    .dataframe tbody tr th {\n",
       "        vertical-align: top;\n",
       "    }\n",
       "\n",
       "    .dataframe thead th {\n",
       "        text-align: right;\n",
       "    }\n",
       "</style>\n",
       "<table border=\"1\" class=\"dataframe\">\n",
       "  <thead>\n",
       "    <tr style=\"text-align: right;\">\n",
       "      <th></th>\n",
       "      <th>transaction_id</th>\n",
       "      <th>account_age</th>\n",
       "      <th>transaction_amount</th>\n",
       "      <th>transaction_type</th>\n",
       "      <th>location</th>\n",
       "      <th>is_fraud</th>\n",
       "    </tr>\n",
       "  </thead>\n",
       "  <tbody>\n",
       "    <tr>\n",
       "      <th>0</th>\n",
       "      <td>TX0</td>\n",
       "      <td>111.0</td>\n",
       "      <td>118.087401</td>\n",
       "      <td>transferência</td>\n",
       "      <td>online</td>\n",
       "      <td>0</td>\n",
       "    </tr>\n",
       "    <tr>\n",
       "      <th>1</th>\n",
       "      <td>TX1</td>\n",
       "      <td>144.0</td>\n",
       "      <td>89.681117</td>\n",
       "      <td>transferência</td>\n",
       "      <td>fisico</td>\n",
       "      <td>0</td>\n",
       "    </tr>\n",
       "    <tr>\n",
       "      <th>2</th>\n",
       "      <td>TX2</td>\n",
       "      <td>125.0</td>\n",
       "      <td>14.275808</td>\n",
       "      <td>compra</td>\n",
       "      <td>fisico</td>\n",
       "      <td>0</td>\n",
       "    </tr>\n",
       "    <tr>\n",
       "      <th>3</th>\n",
       "      <td>TX3</td>\n",
       "      <td>173.0</td>\n",
       "      <td>NaN</td>\n",
       "      <td>transferência</td>\n",
       "      <td>online</td>\n",
       "      <td>1</td>\n",
       "    </tr>\n",
       "    <tr>\n",
       "      <th>4</th>\n",
       "      <td>TX4</td>\n",
       "      <td>16.0</td>\n",
       "      <td>462.077119</td>\n",
       "      <td>transferência</td>\n",
       "      <td>fisico</td>\n",
       "      <td>0</td>\n",
       "    </tr>\n",
       "  </tbody>\n",
       "</table>\n",
       "</div>"
      ],
      "text/plain": [
       "  transaction_id  account_age  transaction_amount transaction_type location  \\\n",
       "0            TX0        111.0          118.087401    transferência   online   \n",
       "1            TX1        144.0           89.681117    transferência   fisico   \n",
       "2            TX2        125.0           14.275808           compra   fisico   \n",
       "3            TX3        173.0                 NaN    transferência   online   \n",
       "4            TX4         16.0          462.077119    transferência   fisico   \n",
       "\n",
       "   is_fraud  \n",
       "0         0  \n",
       "1         0  \n",
       "2         0  \n",
       "3         1  \n",
       "4         0  "
      ]
     },
     "execution_count": 3,
     "metadata": {},
     "output_type": "execute_result"
    }
   ],
   "source": [
    "# Visualiza\n",
    "dados.head()"
   ]
  },
  {
   "cell_type": "code",
   "execution_count": 4,
   "id": "84ccf5b5",
   "metadata": {},
   "outputs": [
    {
     "name": "stdout",
     "output_type": "stream",
     "text": [
      "<class 'pandas.core.frame.DataFrame'>\n",
      "RangeIndex: 11000 entries, 0 to 10999\n",
      "Data columns (total 6 columns):\n",
      " #   Column              Non-Null Count  Dtype  \n",
      "---  ------              --------------  -----  \n",
      " 0   transaction_id      11000 non-null  object \n",
      " 1   account_age         10450 non-null  float64\n",
      " 2   transaction_amount  10450 non-null  float64\n",
      " 3   transaction_type    11000 non-null  object \n",
      " 4   location            11000 non-null  object \n",
      " 5   is_fraud            11000 non-null  int64  \n",
      "dtypes: float64(2), int64(1), object(3)\n",
      "memory usage: 515.8+ KB\n",
      "\n",
      "\n",
      "Existem valores ausentes: True\n",
      "Variáveis com valores ausentes: ['account_age', 'transaction_amount']\n",
      "Existem valores duplicados: True\n",
      "Variáveis com valores duplicados: Todas as variáveis\n"
     ]
    }
   ],
   "source": [
    "# Info\n",
    "dados.info()\n",
    "\n",
    "# Verifica se há valores ausentes e duplicados\n",
    "valores_ausentes = dados.isna().sum().sum() > 0\n",
    "valores_duplicados = dados.duplicated().sum() > 0\n",
    "\n",
    "# Nomes das variáveis com valores ausentes\n",
    "variaveis_ausentes = dados.columns[dados.isna().any()].tolist()\n",
    "\n",
    "# Nomes das variáveis com valores duplicados (dados duplicados nas linhas inteiras)\n",
    "variaveis_duplicadas = \"Todas as variáveis\" if valores_duplicados else \"Nenhuma variável\"\n",
    "\n",
    "# Exibe o resultado\n",
    "print(f\"\\n\\nExistem valores ausentes: {valores_ausentes}\")\n",
    "if valores_ausentes:\n",
    "    print(f\"Variáveis com valores ausentes: {variaveis_ausentes}\")\n",
    "else:\n",
    "    print(\"Nenhuma variável possui valores ausentes.\")\n",
    "\n",
    "print(f\"Existem valores duplicados: {valores_duplicados}\")\n",
    "if valores_duplicados:\n",
    "    print(f\"Variáveis com valores duplicados: {variaveis_duplicadas}\")\n",
    "else:\n",
    "    print(\"Nenhuma variável possui valores duplicados.\")\n"
   ]
  },
  {
   "cell_type": "markdown",
   "id": "f1447972",
   "metadata": {},
   "source": [
    "<br>\n",
    "\n",
    "### Ordem Recomendada das Etapas de Pré-Processamento:\n",
    "\n",
    "- **Realizar Análise Exploratória** - Realizar Análise Exploratória das Variáveis Numéricas e Categóricas\n",
    "- **Transformação de Variáveis Categóricas**: Converter variáveis categóricas em numéricas.\n",
    "- **Tratamento de Valores Ausentes**: Lidar com valores ausentes primeiro garante que as próximas etapas possam ser aplicadas a um conjunto de dados completo e correto.\n",
    "- **Tratamento de Outliers**: Identificar e tratar outliers evita que esses valores influenciem negativamente as transformações e modelagens subsequentes.\n",
    "- **Verificação de Correlação**: Avaliar a correlação entre as variáveis para entender suas relações e evitar multicolinearidade.\n",
    "- **Divisão em Conjuntos de Treino e Teste**: Separar os dados em conjuntos de treino e teste antes de aplicar técnicas de modelagem.\n",
    "- **Escalonamento de Dados**: Normalizar ou padronizar os dados para garantir que todas as variáveis estejam na mesma escala, especialmente importante para modelos baseados em distância."
   ]
  },
  {
   "cell_type": "markdown",
   "id": "eeff19bf",
   "metadata": {},
   "source": [
    "<br><br>\n",
    "## Análise Exploratória de Dados"
   ]
  },
  {
   "cell_type": "code",
   "execution_count": 5,
   "id": "4cc05dbc",
   "metadata": {},
   "outputs": [
    {
     "data": {
      "text/plain": [
       "Index(['transaction_id', 'account_age', 'transaction_amount',\n",
       "       'transaction_type', 'location', 'is_fraud'],\n",
       "      dtype='object')"
      ]
     },
     "execution_count": 5,
     "metadata": {},
     "output_type": "execute_result"
    }
   ],
   "source": [
    "# Nome das colunas\n",
    "dados.columns"
   ]
  },
  {
   "cell_type": "code",
   "execution_count": 6,
   "id": "31642b12",
   "metadata": {},
   "outputs": [
    {
     "data": {
      "text/html": [
       "<div>\n",
       "<style scoped>\n",
       "    .dataframe tbody tr th:only-of-type {\n",
       "        vertical-align: middle;\n",
       "    }\n",
       "\n",
       "    .dataframe tbody tr th {\n",
       "        vertical-align: top;\n",
       "    }\n",
       "\n",
       "    .dataframe thead th {\n",
       "        text-align: right;\n",
       "    }\n",
       "</style>\n",
       "<table border=\"1\" class=\"dataframe\">\n",
       "  <thead>\n",
       "    <tr style=\"text-align: right;\">\n",
       "      <th></th>\n",
       "      <th>transaction_id</th>\n",
       "      <th>account_age</th>\n",
       "      <th>transaction_amount</th>\n",
       "      <th>transaction_type</th>\n",
       "      <th>location</th>\n",
       "      <th>is_fraud</th>\n",
       "    </tr>\n",
       "  </thead>\n",
       "  <tbody>\n",
       "    <tr>\n",
       "      <th>0</th>\n",
       "      <td>TX0</td>\n",
       "      <td>111.0</td>\n",
       "      <td>118.087401</td>\n",
       "      <td>transferência</td>\n",
       "      <td>online</td>\n",
       "      <td>0</td>\n",
       "    </tr>\n",
       "    <tr>\n",
       "      <th>1</th>\n",
       "      <td>TX1</td>\n",
       "      <td>144.0</td>\n",
       "      <td>89.681117</td>\n",
       "      <td>transferência</td>\n",
       "      <td>fisico</td>\n",
       "      <td>0</td>\n",
       "    </tr>\n",
       "    <tr>\n",
       "      <th>2</th>\n",
       "      <td>TX2</td>\n",
       "      <td>125.0</td>\n",
       "      <td>14.275808</td>\n",
       "      <td>compra</td>\n",
       "      <td>fisico</td>\n",
       "      <td>0</td>\n",
       "    </tr>\n",
       "  </tbody>\n",
       "</table>\n",
       "</div>"
      ],
      "text/plain": [
       "  transaction_id  account_age  transaction_amount transaction_type location  \\\n",
       "0            TX0        111.0          118.087401    transferência   online   \n",
       "1            TX1        144.0           89.681117    transferência   fisico   \n",
       "2            TX2        125.0           14.275808           compra   fisico   \n",
       "\n",
       "   is_fraud  \n",
       "0         0  \n",
       "1         0  \n",
       "2         0  "
      ]
     },
     "execution_count": 6,
     "metadata": {},
     "output_type": "execute_result"
    }
   ],
   "source": [
    "# Visualiza dados\n",
    "dados.head(3)"
   ]
  },
  {
   "cell_type": "markdown",
   "id": "f96b2211",
   "metadata": {},
   "source": [
    "#### Visualizando Variáveis Categóricas e Numéricas"
   ]
  },
  {
   "cell_type": "code",
   "execution_count": 7,
   "id": "89314321",
   "metadata": {},
   "outputs": [
    {
     "data": {
      "text/plain": [
       "transaction_id      object\n",
       "transaction_type    object\n",
       "location            object\n",
       "dtype: object"
      ]
     },
     "execution_count": 7,
     "metadata": {},
     "output_type": "execute_result"
    }
   ],
   "source": [
    "# Exibindo Variáveis Categóricas (filtrando)\n",
    "dados.dtypes[dados.dtypes == 'object']"
   ]
  },
  {
   "cell_type": "code",
   "execution_count": 8,
   "id": "81630449",
   "metadata": {},
   "outputs": [
    {
     "data": {
      "text/plain": [
       "account_age           float64\n",
       "transaction_amount    float64\n",
       "is_fraud                int64\n",
       "dtype: object"
      ]
     },
     "execution_count": 8,
     "metadata": {},
     "output_type": "execute_result"
    }
   ],
   "source": [
    "# Exibindo Variáveis Numéricas (filtrando)\n",
    "dados.dtypes[dados.dtypes != 'object']"
   ]
  },
  {
   "cell_type": "markdown",
   "id": "79af0b59",
   "metadata": {},
   "source": [
    "<br><br>\n",
    "\n",
    "## Explorando Variáveis Numéricas\n",
    "\n",
    "#### Resumo Estatístico"
   ]
  },
  {
   "cell_type": "code",
   "execution_count": 9,
   "id": "fa5d8581",
   "metadata": {},
   "outputs": [
    {
     "data": {
      "text/html": [
       "<div>\n",
       "<style scoped>\n",
       "    .dataframe tbody tr th:only-of-type {\n",
       "        vertical-align: middle;\n",
       "    }\n",
       "\n",
       "    .dataframe tbody tr th {\n",
       "        vertical-align: top;\n",
       "    }\n",
       "\n",
       "    .dataframe thead th {\n",
       "        text-align: right;\n",
       "    }\n",
       "</style>\n",
       "<table border=\"1\" class=\"dataframe\">\n",
       "  <thead>\n",
       "    <tr style=\"text-align: right;\">\n",
       "      <th></th>\n",
       "      <th>account_age</th>\n",
       "      <th>transaction_amount</th>\n",
       "      <th>is_fraud</th>\n",
       "    </tr>\n",
       "  </thead>\n",
       "  <tbody>\n",
       "    <tr>\n",
       "      <th>count</th>\n",
       "      <td>10450.000000</td>\n",
       "      <td>10450.000000</td>\n",
       "      <td>11000.000000</td>\n",
       "    </tr>\n",
       "    <tr>\n",
       "      <th>mean</th>\n",
       "      <td>118.555789</td>\n",
       "      <td>201.700745</td>\n",
       "      <td>0.372636</td>\n",
       "    </tr>\n",
       "    <tr>\n",
       "      <th>std</th>\n",
       "      <td>69.205149</td>\n",
       "      <td>201.456500</td>\n",
       "      <td>0.483528</td>\n",
       "    </tr>\n",
       "    <tr>\n",
       "      <th>min</th>\n",
       "      <td>1.000000</td>\n",
       "      <td>0.002615</td>\n",
       "      <td>0.000000</td>\n",
       "    </tr>\n",
       "    <tr>\n",
       "      <th>25%</th>\n",
       "      <td>58.000000</td>\n",
       "      <td>57.851640</td>\n",
       "      <td>0.000000</td>\n",
       "    </tr>\n",
       "    <tr>\n",
       "      <th>50%</th>\n",
       "      <td>117.000000</td>\n",
       "      <td>138.640492</td>\n",
       "      <td>0.000000</td>\n",
       "    </tr>\n",
       "    <tr>\n",
       "      <th>75%</th>\n",
       "      <td>179.000000</td>\n",
       "      <td>280.274938</td>\n",
       "      <td>1.000000</td>\n",
       "    </tr>\n",
       "    <tr>\n",
       "      <th>max</th>\n",
       "      <td>239.000000</td>\n",
       "      <td>1840.540635</td>\n",
       "      <td>1.000000</td>\n",
       "    </tr>\n",
       "  </tbody>\n",
       "</table>\n",
       "</div>"
      ],
      "text/plain": [
       "        account_age  transaction_amount      is_fraud\n",
       "count  10450.000000        10450.000000  11000.000000\n",
       "mean     118.555789          201.700745      0.372636\n",
       "std       69.205149          201.456500      0.483528\n",
       "min        1.000000            0.002615      0.000000\n",
       "25%       58.000000           57.851640      0.000000\n",
       "50%      117.000000          138.640492      0.000000\n",
       "75%      179.000000          280.274938      1.000000\n",
       "max      239.000000         1840.540635      1.000000"
      ]
     },
     "execution_count": 9,
     "metadata": {},
     "output_type": "execute_result"
    }
   ],
   "source": [
    "dados.describe()"
   ]
  },
  {
   "cell_type": "markdown",
   "id": "d8295ad3",
   "metadata": {},
   "source": [
    "#### Visualizando através de Gráficos"
   ]
  },
  {
   "cell_type": "code",
   "execution_count": 10,
   "id": "7bd1ec00",
   "metadata": {},
   "outputs": [
    {
     "data": {
      "image/png": "[encoded data removed]",
      "text/plain": [
       "<Figure size 1080x1080 with 4 Axes>"
      ]
     },
     "metadata": {
      "needs_background": "light"
     },
     "output_type": "display_data"
    }
   ],
   "source": [
    "# Plot\n",
    "dados.hist(figsize = (15,15), bins = 10) \n",
    "plt.show()"
   ]
  },
  {
   "cell_type": "markdown",
   "id": "92bd2d7f",
   "metadata": {},
   "source": [
    "#### Interpretando o Resumo e Gráficos\n",
    "\n",
    "- **account_age**: A variável \"account_age\" está bem distribuída e não apresenta muitos outliers. Isso indica que a idade das contas é uma variável estável e pode ser usada diretamente nos modelos de machine learning.\n",
    "- **transaction_amount**: A variável \"transaction_amount\" possui uma distribuição assimétrica com uma cauda longa à direita, indicando a presença de outliers. Será necessário considerar técnicas para lidar com esses outliers, como a transformação dos dados ou a utilização de técnicas robustas a outliers.\n",
    "- **is_fraud**: A variável \"is_fraud\" é desbalanceada, o que pode afetar a performance dos modelos de machine learning. Técnicas de balanceamento, como a sobremostragem da classe minoritária ou a subamostragem da classe majoritária, devem ser consideradas para melhorar a capacidade dos modelos em identificar transações fraudulentas.\n",
    "\n",
    "#### Conclusão:\n",
    "\n",
    "- As variáveis \"account_age\" está bem distribuída e estável, \"transaction_amount\" apresenta outliers significativos, e \"is_fraud\" é altamente desbalanceada, exigindo técnicas de balanceamento para melhorar a detecção de fraudes."
   ]
  },
  {
   "cell_type": "markdown",
   "id": "c2e1f11d",
   "metadata": {},
   "source": [
    "<br>\n",
    "\n",
    "### Verificando value_counts da variável alvo"
   ]
  },
  {
   "cell_type": "code",
   "execution_count": 11,
   "id": "65b70928",
   "metadata": {},
   "outputs": [
    {
     "data": {
      "text/plain": [
       "is_fraud\n",
       "0    6901\n",
       "1    4099\n",
       "Name: count, dtype: int64"
      ]
     },
     "execution_count": 11,
     "metadata": {},
     "output_type": "execute_result"
    }
   ],
   "source": [
    "dados['is_fraud'].value_counts()"
   ]
  },
  {
   "cell_type": "markdown",
   "id": "d33cf927",
   "metadata": {},
   "source": [
    "<br><br>\n",
    "\n",
    "## Explorando Variável Categórica\n",
    "\n",
    "#### Resumo Estatístico"
   ]
  },
  {
   "cell_type": "code",
   "execution_count": 12,
   "id": "15e11d08",
   "metadata": {},
   "outputs": [
    {
     "data": {
      "text/html": [
       "<div>\n",
       "<style scoped>\n",
       "    .dataframe tbody tr th:only-of-type {\n",
       "        vertical-align: middle;\n",
       "    }\n",
       "\n",
       "    .dataframe tbody tr th {\n",
       "        vertical-align: top;\n",
       "    }\n",
       "\n",
       "    .dataframe thead th {\n",
       "        text-align: right;\n",
       "    }\n",
       "</style>\n",
       "<table border=\"1\" class=\"dataframe\">\n",
       "  <thead>\n",
       "    <tr style=\"text-align: right;\">\n",
       "      <th></th>\n",
       "      <th>transaction_id</th>\n",
       "      <th>transaction_type</th>\n",
       "      <th>location</th>\n",
       "    </tr>\n",
       "  </thead>\n",
       "  <tbody>\n",
       "    <tr>\n",
       "      <th>count</th>\n",
       "      <td>11000</td>\n",
       "      <td>11000</td>\n",
       "      <td>11000</td>\n",
       "    </tr>\n",
       "    <tr>\n",
       "      <th>unique</th>\n",
       "      <td>10000</td>\n",
       "      <td>3</td>\n",
       "      <td>2</td>\n",
       "    </tr>\n",
       "    <tr>\n",
       "      <th>top</th>\n",
       "      <td>TX5269</td>\n",
       "      <td>transferência</td>\n",
       "      <td>fisico</td>\n",
       "    </tr>\n",
       "    <tr>\n",
       "      <th>freq</th>\n",
       "      <td>2</td>\n",
       "      <td>3708</td>\n",
       "      <td>5519</td>\n",
       "    </tr>\n",
       "  </tbody>\n",
       "</table>\n",
       "</div>"
      ],
      "text/plain": [
       "       transaction_id transaction_type location\n",
       "count           11000            11000    11000\n",
       "unique          10000                3        2\n",
       "top            TX5269    transferência   fisico\n",
       "freq                2             3708     5519"
      ]
     },
     "execution_count": 12,
     "metadata": {},
     "output_type": "execute_result"
    }
   ],
   "source": [
    "# Describe (informando que é para somente variáveis categóricas)\n",
    "dados.describe(include = ['object'])"
   ]
  },
  {
   "cell_type": "code",
   "execution_count": 13,
   "id": "3f61478d",
   "metadata": {},
   "outputs": [
    {
     "name": "stdout",
     "output_type": "stream",
     "text": [
      "['TX0' 'TX1' 'TX2' ... 'TX9997' 'TX9998' 'TX9999']\n",
      "['transferência' 'compra' 'saque']\n",
      "['online' 'fisico']\n"
     ]
    }
   ],
   "source": [
    "# Verificando Tipo das Variáveis\n",
    "print(dados['transaction_id'].unique())\n",
    "print(dados['transaction_type'].unique())\n",
    "print(dados['location'].unique())"
   ]
  },
  {
   "cell_type": "code",
   "execution_count": 14,
   "id": "495a1aea",
   "metadata": {},
   "outputs": [
    {
     "name": "stdout",
     "output_type": "stream",
     "text": [
      "transaction_type\n",
      "transferência    3708\n",
      "compra           3659\n",
      "saque            3633\n",
      "Name: count, dtype: int64\n",
      "location\n",
      "fisico    5519\n",
      "online    5481\n",
      "Name: count, dtype: int64\n"
     ]
    }
   ],
   "source": [
    "# Verificando value_counts das Variáveis\n",
    "print(dados['transaction_type'].value_counts())\n",
    "print(dados['location'].value_counts())"
   ]
  },
  {
   "cell_type": "markdown",
   "id": "8a761909",
   "metadata": {},
   "source": [
    "#### Visualizando através de Gráfico"
   ]
  },
  {
   "cell_type": "code",
   "execution_count": 15,
   "id": "ba97b0b6",
   "metadata": {},
   "outputs": [
    {
     "data": {
      "image/png": "[encoded data removed]",
      "text/plain": [
       "<Figure size 720x432 with 1 Axes>"
      ]
     },
     "metadata": {
      "needs_background": "light"
     },
     "output_type": "display_data"
    },
    {
     "data": {
      "image/png": "[encoded data removed]",
      "text/plain": [
       "<Figure size 720x432 with 1 Axes>"
      ]
     },
     "metadata": {
      "needs_background": "light"
     },
     "output_type": "display_data"
    },
    {
     "name": "stdout",
     "output_type": "stream",
     "text": [
      "Contagem de tipos de transação:\n",
      "Tipo de transação transferência: 3708\n",
      "Tipo de transação compra: 3659\n",
      "Tipo de transação saque: 3633\n",
      "\n",
      "Contagem de localização da transação:\n",
      "Localização fisico: 5519\n",
      "Localização online: 5481\n"
     ]
    }
   ],
   "source": [
    "# Exibindo o gráfico de contagem para 'transaction_type'\n",
    "plt.figure(figsize=(10, 6))\n",
    "sns.countplot(data=dados, x='transaction_type', label='Count')\n",
    "plt.title('Contagem de Tipos de Transação')\n",
    "plt.xlabel('Tipo de Transação')\n",
    "plt.ylabel('Contagem')\n",
    "plt.show()\n",
    "\n",
    "# Exibindo o gráfico de contagem para 'location'\n",
    "plt.figure(figsize=(10, 6))\n",
    "sns.countplot(data=dados, x='location', label='Count')\n",
    "plt.title('Contagem de Localização da Transação')\n",
    "plt.xlabel('Localização da Transação')\n",
    "plt.ylabel('Contagem')\n",
    "plt.show()\n",
    "\n",
    "# Value counts for 'transaction_type'\n",
    "transaction_type_counts = dados['transaction_type'].value_counts()\n",
    "print(\"Contagem de tipos de transação:\")\n",
    "for transaction_type, count in transaction_type_counts.items():\n",
    "    print(f'Tipo de transação {transaction_type}: {count}')\n",
    "\n",
    "# Value counts for 'location'\n",
    "location_counts = dados['location'].value_counts()\n",
    "print(\"\\nContagem de localização da transação:\")\n",
    "for location, count in location_counts.items():\n",
    "    print(f'Localização {location}: {count}')"
   ]
  },
  {
   "cell_type": "markdown",
   "id": "5de6dd08",
   "metadata": {},
   "source": [
    "<br>\n",
    "\n",
    "## Removendo Variável transaction_id"
   ]
  },
  {
   "cell_type": "code",
   "execution_count": 16,
   "id": "99319def",
   "metadata": {},
   "outputs": [
    {
     "name": "stdout",
     "output_type": "stream",
     "text": [
      "(11000, 6)\n",
      "   account_age  transaction_amount transaction_type location  is_fraud\n",
      "0        111.0          118.087401    transferência   online         0\n",
      "1        144.0           89.681117    transferência   fisico         0\n",
      "(11000, 5)\n"
     ]
    }
   ],
   "source": [
    "# Shape\n",
    "print(dados.shape)\n",
    "\n",
    "# Removendo a variável transaction_id\n",
    "dados = dados.drop('transaction_id', axis=1)\n",
    "\n",
    "# Verificando as primeiras linhas do dataframe após a remoção\n",
    "print(dados.head(2))\n",
    "\n",
    "# Shape\n",
    "print(dados.shape)"
   ]
  },
  {
   "cell_type": "markdown",
   "id": "c86aae18",
   "metadata": {},
   "source": [
    "<br>\n",
    "\n",
    "## Aplicando Label Encoding\n",
    "#### Vamos transformar as variáveis **Categóricas** transaction_type e location na sua represetação **Numérica**"
   ]
  },
  {
   "cell_type": "code",
   "execution_count": 17,
   "id": "afd753e7",
   "metadata": {},
   "outputs": [
    {
     "data": {
      "text/plain": [
       "Index(['account_age', 'transaction_amount', 'transaction_type', 'location',\n",
       "       'is_fraud'],\n",
       "      dtype='object')"
      ]
     },
     "execution_count": 17,
     "metadata": {},
     "output_type": "execute_result"
    }
   ],
   "source": [
    "dados.columns"
   ]
  },
  {
   "cell_type": "code",
   "execution_count": 18,
   "id": "763ae011",
   "metadata": {},
   "outputs": [
    {
     "data": {
      "text/html": [
       "<div>\n",
       "<style scoped>\n",
       "    .dataframe tbody tr th:only-of-type {\n",
       "        vertical-align: middle;\n",
       "    }\n",
       "\n",
       "    .dataframe tbody tr th {\n",
       "        vertical-align: top;\n",
       "    }\n",
       "\n",
       "    .dataframe thead th {\n",
       "        text-align: right;\n",
       "    }\n",
       "</style>\n",
       "<table border=\"1\" class=\"dataframe\">\n",
       "  <thead>\n",
       "    <tr style=\"text-align: right;\">\n",
       "      <th></th>\n",
       "      <th>account_age</th>\n",
       "      <th>transaction_amount</th>\n",
       "      <th>transaction_type</th>\n",
       "      <th>location</th>\n",
       "      <th>is_fraud</th>\n",
       "    </tr>\n",
       "  </thead>\n",
       "  <tbody>\n",
       "    <tr>\n",
       "      <th>3624</th>\n",
       "      <td>147.0</td>\n",
       "      <td>271.471775</td>\n",
       "      <td>compra</td>\n",
       "      <td>fisico</td>\n",
       "      <td>0</td>\n",
       "    </tr>\n",
       "    <tr>\n",
       "      <th>9839</th>\n",
       "      <td>108.0</td>\n",
       "      <td>60.641415</td>\n",
       "      <td>compra</td>\n",
       "      <td>online</td>\n",
       "      <td>1</td>\n",
       "    </tr>\n",
       "    <tr>\n",
       "      <th>5690</th>\n",
       "      <td>203.0</td>\n",
       "      <td>79.275814</td>\n",
       "      <td>saque</td>\n",
       "      <td>fisico</td>\n",
       "      <td>0</td>\n",
       "    </tr>\n",
       "    <tr>\n",
       "      <th>5998</th>\n",
       "      <td>145.0</td>\n",
       "      <td>87.463050</td>\n",
       "      <td>transferência</td>\n",
       "      <td>fisico</td>\n",
       "      <td>0</td>\n",
       "    </tr>\n",
       "    <tr>\n",
       "      <th>10763</th>\n",
       "      <td>64.0</td>\n",
       "      <td>130.232007</td>\n",
       "      <td>saque</td>\n",
       "      <td>online</td>\n",
       "      <td>0</td>\n",
       "    </tr>\n",
       "    <tr>\n",
       "      <th>2465</th>\n",
       "      <td>114.0</td>\n",
       "      <td>229.506658</td>\n",
       "      <td>saque</td>\n",
       "      <td>fisico</td>\n",
       "      <td>0</td>\n",
       "    </tr>\n",
       "    <tr>\n",
       "      <th>2090</th>\n",
       "      <td>49.0</td>\n",
       "      <td>890.146424</td>\n",
       "      <td>compra</td>\n",
       "      <td>fisico</td>\n",
       "      <td>1</td>\n",
       "    </tr>\n",
       "    <tr>\n",
       "      <th>3403</th>\n",
       "      <td>109.0</td>\n",
       "      <td>52.091338</td>\n",
       "      <td>compra</td>\n",
       "      <td>fisico</td>\n",
       "      <td>1</td>\n",
       "    </tr>\n",
       "    <tr>\n",
       "      <th>2232</th>\n",
       "      <td>203.0</td>\n",
       "      <td>115.232376</td>\n",
       "      <td>saque</td>\n",
       "      <td>online</td>\n",
       "      <td>0</td>\n",
       "    </tr>\n",
       "    <tr>\n",
       "      <th>6529</th>\n",
       "      <td>44.0</td>\n",
       "      <td>35.204207</td>\n",
       "      <td>saque</td>\n",
       "      <td>fisico</td>\n",
       "      <td>1</td>\n",
       "    </tr>\n",
       "  </tbody>\n",
       "</table>\n",
       "</div>"
      ],
      "text/plain": [
       "       account_age  transaction_amount transaction_type location  is_fraud\n",
       "3624         147.0          271.471775           compra   fisico         0\n",
       "9839         108.0           60.641415           compra   online         1\n",
       "5690         203.0           79.275814            saque   fisico         0\n",
       "5998         145.0           87.463050    transferência   fisico         0\n",
       "10763         64.0          130.232007            saque   online         0\n",
       "2465         114.0          229.506658            saque   fisico         0\n",
       "2090          49.0          890.146424           compra   fisico         1\n",
       "3403         109.0           52.091338           compra   fisico         1\n",
       "2232         203.0          115.232376            saque   online         0\n",
       "6529          44.0           35.204207            saque   fisico         1"
      ]
     },
     "execution_count": 18,
     "metadata": {},
     "output_type": "execute_result"
    }
   ],
   "source": [
    "dados.sample(10)"
   ]
  },
  {
   "cell_type": "code",
   "execution_count": 19,
   "id": "c6d912ff",
   "metadata": {},
   "outputs": [],
   "source": [
    "# Inicializando os label encoders\n",
    "le_transaction_type = LabelEncoder()\n",
    "le_location = LabelEncoder()\n",
    "\n",
    "# Aplicando label encoding às variáveis categóricas\n",
    "dados['transaction_type'] = le_transaction_type.fit_transform(dados['transaction_type'])\n",
    "dados['location'] = le_location.fit_transform(dados['location'])"
   ]
  },
  {
   "cell_type": "code",
   "execution_count": 20,
   "id": "03eb06dd",
   "metadata": {},
   "outputs": [
    {
     "name": "stdout",
     "output_type": "stream",
     "text": [
      "<class 'pandas.core.frame.DataFrame'>\n",
      "RangeIndex: 11000 entries, 0 to 10999\n",
      "Data columns (total 5 columns):\n",
      " #   Column              Non-Null Count  Dtype  \n",
      "---  ------              --------------  -----  \n",
      " 0   account_age         10450 non-null  float64\n",
      " 1   transaction_amount  10450 non-null  float64\n",
      " 2   transaction_type    11000 non-null  int64  \n",
      " 3   location            11000 non-null  int64  \n",
      " 4   is_fraud            11000 non-null  int64  \n",
      "dtypes: float64(2), int64(3)\n",
      "memory usage: 429.8 KB\n"
     ]
    }
   ],
   "source": [
    "# Info\n",
    "dados.info()"
   ]
  },
  {
   "cell_type": "code",
   "execution_count": 21,
   "id": "b23b6514",
   "metadata": {},
   "outputs": [
    {
     "data": {
      "text/html": [
       "<div>\n",
       "<style scoped>\n",
       "    .dataframe tbody tr th:only-of-type {\n",
       "        vertical-align: middle;\n",
       "    }\n",
       "\n",
       "    .dataframe tbody tr th {\n",
       "        vertical-align: top;\n",
       "    }\n",
       "\n",
       "    .dataframe thead th {\n",
       "        text-align: right;\n",
       "    }\n",
       "</style>\n",
       "<table border=\"1\" class=\"dataframe\">\n",
       "  <thead>\n",
       "    <tr style=\"text-align: right;\">\n",
       "      <th></th>\n",
       "      <th>account_age</th>\n",
       "      <th>transaction_amount</th>\n",
       "      <th>transaction_type</th>\n",
       "      <th>location</th>\n",
       "      <th>is_fraud</th>\n",
       "    </tr>\n",
       "  </thead>\n",
       "  <tbody>\n",
       "    <tr>\n",
       "      <th>5523</th>\n",
       "      <td>214.0</td>\n",
       "      <td>212.284665</td>\n",
       "      <td>0</td>\n",
       "      <td>1</td>\n",
       "      <td>0</td>\n",
       "    </tr>\n",
       "    <tr>\n",
       "      <th>3073</th>\n",
       "      <td>183.0</td>\n",
       "      <td>9.067776</td>\n",
       "      <td>2</td>\n",
       "      <td>1</td>\n",
       "      <td>0</td>\n",
       "    </tr>\n",
       "    <tr>\n",
       "      <th>1493</th>\n",
       "      <td>52.0</td>\n",
       "      <td>75.972414</td>\n",
       "      <td>0</td>\n",
       "      <td>0</td>\n",
       "      <td>1</td>\n",
       "    </tr>\n",
       "    <tr>\n",
       "      <th>10260</th>\n",
       "      <td>181.0</td>\n",
       "      <td>1570.140599</td>\n",
       "      <td>1</td>\n",
       "      <td>1</td>\n",
       "      <td>0</td>\n",
       "    </tr>\n",
       "    <tr>\n",
       "      <th>7762</th>\n",
       "      <td>184.0</td>\n",
       "      <td>NaN</td>\n",
       "      <td>0</td>\n",
       "      <td>1</td>\n",
       "      <td>1</td>\n",
       "    </tr>\n",
       "    <tr>\n",
       "      <th>5655</th>\n",
       "      <td>15.0</td>\n",
       "      <td>208.911593</td>\n",
       "      <td>0</td>\n",
       "      <td>1</td>\n",
       "      <td>0</td>\n",
       "    </tr>\n",
       "    <tr>\n",
       "      <th>5204</th>\n",
       "      <td>40.0</td>\n",
       "      <td>168.264550</td>\n",
       "      <td>2</td>\n",
       "      <td>0</td>\n",
       "      <td>0</td>\n",
       "    </tr>\n",
       "    <tr>\n",
       "      <th>6998</th>\n",
       "      <td>162.0</td>\n",
       "      <td>201.653995</td>\n",
       "      <td>0</td>\n",
       "      <td>0</td>\n",
       "      <td>1</td>\n",
       "    </tr>\n",
       "    <tr>\n",
       "      <th>10088</th>\n",
       "      <td>155.0</td>\n",
       "      <td>326.831522</td>\n",
       "      <td>2</td>\n",
       "      <td>1</td>\n",
       "      <td>0</td>\n",
       "    </tr>\n",
       "    <tr>\n",
       "      <th>10690</th>\n",
       "      <td>162.0</td>\n",
       "      <td>832.186857</td>\n",
       "      <td>0</td>\n",
       "      <td>1</td>\n",
       "      <td>1</td>\n",
       "    </tr>\n",
       "  </tbody>\n",
       "</table>\n",
       "</div>"
      ],
      "text/plain": [
       "       account_age  transaction_amount  transaction_type  location  is_fraud\n",
       "5523         214.0          212.284665                 0         1         0\n",
       "3073         183.0            9.067776                 2         1         0\n",
       "1493          52.0           75.972414                 0         0         1\n",
       "10260        181.0         1570.140599                 1         1         0\n",
       "7762         184.0                 NaN                 0         1         1\n",
       "5655          15.0          208.911593                 0         1         0\n",
       "5204          40.0          168.264550                 2         0         0\n",
       "6998         162.0          201.653995                 0         0         1\n",
       "10088        155.0          326.831522                 2         1         0\n",
       "10690        162.0          832.186857                 0         1         1"
      ]
     },
     "execution_count": 21,
     "metadata": {},
     "output_type": "execute_result"
    }
   ],
   "source": [
    "dados.sample(10)"
   ]
  },
  {
   "cell_type": "markdown",
   "id": "d44ad932",
   "metadata": {},
   "source": [
    "<br>\n",
    "\n",
    "# Limpeza nos Dados\n",
    "\n",
    "<br>\n",
    "\n",
    "### Tratando Valores Ausentes"
   ]
  },
  {
   "cell_type": "code",
   "execution_count": 22,
   "id": "a06e4603",
   "metadata": {},
   "outputs": [
    {
     "data": {
      "text/plain": [
       "account_age           550\n",
       "transaction_amount    550\n",
       "transaction_type        0\n",
       "location                0\n",
       "is_fraud                0\n",
       "dtype: int64"
      ]
     },
     "execution_count": 22,
     "metadata": {},
     "output_type": "execute_result"
    }
   ],
   "source": [
    "# Verifica se há valores ausentes (por coluna)\n",
    "dados.isna().sum()"
   ]
  },
  {
   "cell_type": "code",
   "execution_count": 23,
   "id": "684b3b5a",
   "metadata": {},
   "outputs": [
    {
     "name": "stdout",
     "output_type": "stream",
     "text": [
      "(11000, 5)\n",
      "(9923, 5)\n"
     ]
    }
   ],
   "source": [
    "# Shape\n",
    "print(dados.shape)\n",
    "\n",
    "# Eliminando as linhas com valores ausentes\n",
    "dados = dados.dropna()\n",
    "\n",
    "\n",
    "# Verifica se há valores ausentes (por coluna)\n",
    "dados.isna().sum()\n",
    "\n",
    "# Shape\n",
    "print(dados.shape)"
   ]
  },
  {
   "cell_type": "markdown",
   "id": "5d1f4aaf",
   "metadata": {},
   "source": [
    "<br>\n",
    "\n",
    "## Tratando Valores Duplicados"
   ]
  },
  {
   "cell_type": "code",
   "execution_count": 24,
   "id": "aa0a54f4",
   "metadata": {},
   "outputs": [
    {
     "name": "stdout",
     "output_type": "stream",
     "text": [
      "(9923, 5)\n",
      "834\n"
     ]
    }
   ],
   "source": [
    "# Shape\n",
    "print(dados.shape)\n",
    "\n",
    "# Verifica quantidade de valores duplicados\n",
    "print(dados.duplicated().sum())"
   ]
  },
  {
   "cell_type": "code",
   "execution_count": 25,
   "id": "b240a412",
   "metadata": {},
   "outputs": [
    {
     "name": "stdout",
     "output_type": "stream",
     "text": [
      "(9089, 5)\n"
     ]
    }
   ],
   "source": [
    "# Remove registros duplicados (remove uma das duplicatas)\n",
    "dados = dados.drop_duplicates()\n",
    "\n",
    "# Shape\n",
    "print(dados.shape)"
   ]
  },
  {
   "cell_type": "markdown",
   "id": "8530fc64",
   "metadata": {},
   "source": [
    "<br>\n",
    "\n",
    "## Tratando Valores Outliers\n",
    "\n",
    "- Conforme dito acima, vamos olhar para a variável **transaction_amount**."
   ]
  },
  {
   "cell_type": "code",
   "execution_count": 26,
   "id": "97391149",
   "metadata": {},
   "outputs": [
    {
     "name": "stdout",
     "output_type": "stream",
     "text": [
      "count    9089.000000\n",
      "mean      201.513092\n",
      "std       199.961979\n",
      "min         0.004513\n",
      "25%        58.634359\n",
      "50%       139.097082\n",
      "75%       279.914838\n",
      "max      1840.540635\n",
      "Name: transaction_amount, dtype: float64\n",
      "(9089, 5)\n"
     ]
    }
   ],
   "source": [
    "# Describe\n",
    "print(dados['transaction_amount'].describe())\n",
    "\n",
    "print(dados.shape)"
   ]
  },
  {
   "cell_type": "code",
   "execution_count": 27,
   "id": "8293c74a",
   "metadata": {},
   "outputs": [
    {
     "data": {
      "text/plain": [
       "<Axes: ylabel='transaction_amount'>"
      ]
     },
     "execution_count": 27,
     "metadata": {},
     "output_type": "execute_result"
    },
    {
     "data": {
      "image/png": "[encoded data removed]",
      "text/plain": [
       "<Figure size 432x288 with 1 Axes>"
      ]
     },
     "metadata": {
      "needs_background": "light"
     },
     "output_type": "display_data"
    }
   ],
   "source": [
    "# Boxplot\n",
    "sns.boxplot(dados.transaction_amount)"
   ]
  },
  {
   "cell_type": "code",
   "execution_count": 28,
   "id": "6c02cd23",
   "metadata": {},
   "outputs": [
    {
     "name": "stdout",
     "output_type": "stream",
     "text": [
      "Total de valores acima da média: 3352\n",
      "Quantidade de valores acima de 1500: 5\n",
      "Total de valores na variável: 9089\n"
     ]
    }
   ],
   "source": [
    "# Exibindo a quantidade de valores acima da média:\n",
    "\n",
    "# Cálculo da média\n",
    "media = dados['transaction_amount'].mean()\n",
    "\n",
    "# Contagem de valores acima da média\n",
    "total_acima_media = (dados['transaction_amount'] > media).sum()\n",
    "\n",
    "print(\"Total de valores acima da média:\", total_acima_media)\n",
    "\n",
    "# Quantidade de valores acima de 1400\n",
    "acima_1400 = (dados['transaction_amount'] > 1400).sum()\n",
    "print(f\"Quantidade de valores acima de 1500: {acima_1400}\")\n",
    "\n",
    "print(\"Total de valores na variável:\", len(dados['transaction_amount']))"
   ]
  },
  {
   "cell_type": "markdown",
   "id": "74367228",
   "metadata": {},
   "source": [
    "#### Removendo Valores Acima de 1400"
   ]
  },
  {
   "cell_type": "code",
   "execution_count": 29,
   "id": "afb27add",
   "metadata": {},
   "outputs": [
    {
     "name": "stdout",
     "output_type": "stream",
     "text": [
      "count    9084.000000\n",
      "mean      200.696473\n",
      "std       196.924816\n",
      "min         0.004513\n",
      "25%        58.582575\n",
      "50%       138.989039\n",
      "75%       279.734666\n",
      "max      1355.685459\n",
      "Name: transaction_amount, dtype: float64\n"
     ]
    }
   ],
   "source": [
    "# Removendo valores acima de 1400\n",
    "dados = dados[dados['transaction_amount'] <= 1400]\n",
    "\n",
    "# Verificando o resultado\n",
    "print(dados['transaction_amount'].describe())"
   ]
  },
  {
   "cell_type": "code",
   "execution_count": 30,
   "id": "cd8d32de",
   "metadata": {},
   "outputs": [
    {
     "data": {
      "text/plain": [
       "<Axes: ylabel='transaction_amount'>"
      ]
     },
     "execution_count": 30,
     "metadata": {},
     "output_type": "execute_result"
    },
    {
     "data": {
      "image/png": "[encoded data removed]",
      "text/plain": [
       "<Figure size 432x288 with 1 Axes>"
      ]
     },
     "metadata": {
      "needs_background": "light"
     },
     "output_type": "display_data"
    }
   ],
   "source": [
    "# Boxplot\n",
    "sns.boxplot(dados.transaction_amount)"
   ]
  },
  {
   "cell_type": "code",
   "execution_count": 31,
   "id": "a8f89f5f",
   "metadata": {},
   "outputs": [
    {
     "name": "stdout",
     "output_type": "stream",
     "text": [
      "count    9084.000000\n",
      "mean      200.696473\n",
      "std       196.924816\n",
      "min         0.004513\n",
      "25%        58.582575\n",
      "50%       138.989039\n",
      "75%       279.734666\n",
      "max      1355.685459\n",
      "Name: transaction_amount, dtype: float64\n",
      "(9084, 5)\n"
     ]
    }
   ],
   "source": [
    "# Describe\n",
    "print(dados['transaction_amount'].describe())\n",
    "\n",
    "print(dados.shape)"
   ]
  },
  {
   "cell_type": "markdown",
   "id": "a49886f6",
   "metadata": {},
   "source": [
    "### Conclusão\n",
    "- O objetivo do tratamento de outliers foi reduzir o impacto de valores extremos na variável \"transaction_amount\" para melhorar a qualidade dos modelos de machine learning e garantir que os resultados sejam representativos da maioria das transações no conjunto de dados.\n",
    "- Remoção de Valores Acima de 1400: Transações com valores acima de 1400 representavam 5 casos. Esses valores são mais altos que a média e o desvio padrão, mas sua remoção adicional ajuda a garantir que a modelagem seja ainda mais robusta contra outliers."
   ]
  },
  {
   "cell_type": "markdown",
   "id": "6761a7f7",
   "metadata": {},
   "source": [
    "<br>\n",
    "\n",
    "## Verificando Correlação"
   ]
  },
  {
   "cell_type": "code",
   "execution_count": 32,
   "id": "fed5e306",
   "metadata": {},
   "outputs": [
    {
     "name": "stdout",
     "output_type": "stream",
     "text": [
      "<class 'pandas.core.frame.DataFrame'>\n",
      "Index: 9084 entries, 0 to 10995\n",
      "Data columns (total 5 columns):\n",
      " #   Column              Non-Null Count  Dtype  \n",
      "---  ------              --------------  -----  \n",
      " 0   account_age         9084 non-null   float64\n",
      " 1   transaction_amount  9084 non-null   float64\n",
      " 2   transaction_type    9084 non-null   int64  \n",
      " 3   location            9084 non-null   int64  \n",
      " 4   is_fraud            9084 non-null   int64  \n",
      "dtypes: float64(2), int64(3)\n",
      "memory usage: 425.8 KB\n"
     ]
    }
   ],
   "source": [
    "# Info\n",
    "dados.info()"
   ]
  },
  {
   "cell_type": "code",
   "execution_count": 33,
   "id": "c11cb9a1",
   "metadata": {},
   "outputs": [
    {
     "data": {
      "text/html": [
       "<div>\n",
       "<style scoped>\n",
       "    .dataframe tbody tr th:only-of-type {\n",
       "        vertical-align: middle;\n",
       "    }\n",
       "\n",
       "    .dataframe tbody tr th {\n",
       "        vertical-align: top;\n",
       "    }\n",
       "\n",
       "    .dataframe thead th {\n",
       "        text-align: right;\n",
       "    }\n",
       "</style>\n",
       "<table border=\"1\" class=\"dataframe\">\n",
       "  <thead>\n",
       "    <tr style=\"text-align: right;\">\n",
       "      <th></th>\n",
       "      <th>account_age</th>\n",
       "      <th>transaction_amount</th>\n",
       "      <th>transaction_type</th>\n",
       "      <th>location</th>\n",
       "      <th>is_fraud</th>\n",
       "    </tr>\n",
       "  </thead>\n",
       "  <tbody>\n",
       "    <tr>\n",
       "      <th>account_age</th>\n",
       "      <td>1.000000</td>\n",
       "      <td>0.003142</td>\n",
       "      <td>0.027786</td>\n",
       "      <td>-0.008585</td>\n",
       "      <td>-0.005514</td>\n",
       "    </tr>\n",
       "    <tr>\n",
       "      <th>transaction_amount</th>\n",
       "      <td>0.003142</td>\n",
       "      <td>1.000000</td>\n",
       "      <td>0.004953</td>\n",
       "      <td>0.000397</td>\n",
       "      <td>-0.001830</td>\n",
       "    </tr>\n",
       "    <tr>\n",
       "      <th>transaction_type</th>\n",
       "      <td>0.027786</td>\n",
       "      <td>0.004953</td>\n",
       "      <td>1.000000</td>\n",
       "      <td>0.016132</td>\n",
       "      <td>0.012608</td>\n",
       "    </tr>\n",
       "    <tr>\n",
       "      <th>location</th>\n",
       "      <td>-0.008585</td>\n",
       "      <td>0.000397</td>\n",
       "      <td>0.016132</td>\n",
       "      <td>1.000000</td>\n",
       "      <td>0.009159</td>\n",
       "    </tr>\n",
       "    <tr>\n",
       "      <th>is_fraud</th>\n",
       "      <td>-0.005514</td>\n",
       "      <td>-0.001830</td>\n",
       "      <td>0.012608</td>\n",
       "      <td>0.009159</td>\n",
       "      <td>1.000000</td>\n",
       "    </tr>\n",
       "  </tbody>\n",
       "</table>\n",
       "</div>"
      ],
      "text/plain": [
       "                    account_age  transaction_amount  transaction_type  \\\n",
       "account_age            1.000000            0.003142          0.027786   \n",
       "transaction_amount     0.003142            1.000000          0.004953   \n",
       "transaction_type       0.027786            0.004953          1.000000   \n",
       "location              -0.008585            0.000397          0.016132   \n",
       "is_fraud              -0.005514           -0.001830          0.012608   \n",
       "\n",
       "                    location  is_fraud  \n",
       "account_age        -0.008585 -0.005514  \n",
       "transaction_amount  0.000397 -0.001830  \n",
       "transaction_type    0.016132  0.012608  \n",
       "location            1.000000  0.009159  \n",
       "is_fraud            0.009159  1.000000  "
      ]
     },
     "execution_count": 33,
     "metadata": {},
     "output_type": "execute_result"
    }
   ],
   "source": [
    "# Verificando Correlação (tabela)\n",
    "dados.corr()"
   ]
  },
  {
   "cell_type": "code",
   "execution_count": 34,
   "id": "da0bd4c8",
   "metadata": {},
   "outputs": [
    {
     "data": {
      "image/png": "[encoded data removed]",
      "text/plain": [
       "<Figure size 720x576 with 2 Axes>"
      ]
     },
     "metadata": {
      "needs_background": "light"
     },
     "output_type": "display_data"
    }
   ],
   "source": [
    "# Visualizando Correlações através de um Mapa de Calor\n",
    "\n",
    "# Criando o heatmap\n",
    "corr_matrix = dados.select_dtypes(include=[np.number]).corr()\n",
    "\n",
    "plt.figure(figsize=(10, 8))  # Define o tamanho da figura\n",
    "sns.heatmap(corr_matrix, annot=True, fmt=\".2f\", cmap='coolwarm', vmin=-1, vmax=1, cbar=True, square=True)\n",
    "plt.title('Mapa de Calor das Correlações')\n",
    "plt.show()"
   ]
  },
  {
   "cell_type": "markdown",
   "id": "cfd2dd4a",
   "metadata": {},
   "source": [
    "### Conclusão\n",
    "- As variáveis no conjunto de dados não têm correlações fortes entre si, indicando que cada variável traz informações independentes para o modelo. Isso é desejável em muitos cenários de machine learning, pois reduz a chance de multicolinearidade, onde variáveis fortemente correlacionadas podem afetar negativamente a performance do modelo.\n",
    "\n",
    "- Para a detecção de fraudes, a baixa correlação das variáveis com \"is_fraud\" sugere que não há uma única variável dominante para prever fraudes, e uma abordagem mais complexa pode ser necessária para identificar padrões de fraude."
   ]
  },
  {
   "cell_type": "markdown",
   "id": "76fb4aea",
   "metadata": {},
   "source": [
    "### Verificando Correlação Individualmente"
   ]
  },
  {
   "cell_type": "code",
   "execution_count": 35,
   "id": "a85b6dd8",
   "metadata": {},
   "outputs": [
    {
     "data": {
      "image/png": "[encoded data removed]",
      "text/plain": [
       "<Figure size 1008x720 with 4 Axes>"
      ]
     },
     "metadata": {
      "needs_background": "light"
     },
     "output_type": "display_data"
    }
   ],
   "source": [
    "import matplotlib.pyplot as plt\n",
    "import seaborn as sns\n",
    "\n",
    "# Configurando o tamanho da figura\n",
    "fig, axes = plt.subplots(2, 2, figsize=(14, 10))\n",
    "\n",
    "# Gráfico de dispersão para 'account_age' vs 'is_fraud'\n",
    "sns.boxplot(x='is_fraud', y='account_age', data=dados, ax=axes[0, 0])\n",
    "axes[0, 0].set_title('Idade da Conta vs Fraude')\n",
    "axes[0, 0].set_xlabel('Fraude')\n",
    "axes[0, 0].set_ylabel('Idade da Conta')\n",
    "\n",
    "# Gráfico de dispersão para 'transaction_amount' vs 'is_fraud'\n",
    "sns.boxplot(x='is_fraud', y='transaction_amount', data=dados, ax=axes[0, 1])\n",
    "axes[0, 1].set_title('Valor da Transação vs Fraude')\n",
    "axes[0, 1].set_xlabel('Fraude')\n",
    "axes[0, 1].set_ylabel('Valor da Transação')\n",
    "\n",
    "# Gráfico de contagem para 'transaction_type' vs 'is_fraud'\n",
    "sns.countplot(x='transaction_type', hue='is_fraud', data=dados, ax=axes[1, 0])\n",
    "axes[1, 0].set_title('Tipo de Transação vs Fraude')\n",
    "axes[1, 0].set_xlabel('Tipo de Transação')\n",
    "axes[1, 0].set_ylabel('Contagem')\n",
    "\n",
    "# Gráfico de contagem para 'location' vs 'is_fraud'\n",
    "sns.countplot(x='location', hue='is_fraud', data=dados, ax=axes[1, 1])\n",
    "axes[1, 1].set_title('Localização vs Fraude')\n",
    "axes[1, 1].set_xlabel('Localização')\n",
    "axes[1, 1].set_ylabel('Contagem')\n",
    "\n",
    "# Ajustando layout\n",
    "plt.tight_layout()\n",
    "plt.show()"
   ]
  },
  {
   "cell_type": "markdown",
   "id": "c7162e9a",
   "metadata": {},
   "source": [
    "#### Conclusão\n",
    "\n",
    "- Os gráficos mostram que **não há uma diferença substancial na distribuição de fraudes em relação à idade da conta, valor da transação, tipo de transação ou localização**. Isso sugere que a fraude pode ser influenciada por uma combinação mais complexa de fatores e não por uma única variável."
   ]
  },
  {
   "cell_type": "markdown",
   "id": "4f08e793",
   "metadata": {},
   "source": [
    "<br><br>\n",
    "\n",
    "# Pré-Processamento de Dados Para Construção de Modelos de Machine Learning\n",
    "\n",
    "<br><br>\n",
    "\n",
    "\n",
    "## Dividindo os dados em Dados de Treino e Dados de Teste\n",
    "- Nós **treinamos** o modelo com **dados de treino** e **avaliamos** o modelo com **dados de teste**."
   ]
  },
  {
   "cell_type": "code",
   "execution_count": 36,
   "id": "43a5160e",
   "metadata": {},
   "outputs": [
    {
     "name": "stdout",
     "output_type": "stream",
     "text": [
      "(7267, 4) (1817, 4) (7267,) (1817,)\n"
     ]
    }
   ],
   "source": [
    "# Cria um objeto separado para a variável alvo\n",
    "y = dados.is_fraud\n",
    "\n",
    "# Cria um objeto separado para as variáveis de entrada\n",
    "X = dados.drop('is_fraud', axis=1)\n",
    "\n",
    "# Split em dados de treino e teste sem amostragem estratificada\n",
    "X_treino, X_teste, y_treino, y_teste = train_test_split(X, \n",
    "                                                        y, \n",
    "                                                        test_size=0.2, \n",
    "                                                        random_state=1234)\n",
    "\n",
    "# Print do shape\n",
    "print(X_treino.shape, X_teste.shape, y_treino.shape, y_teste.shape)"
   ]
  },
  {
   "cell_type": "markdown",
   "id": "789b967a",
   "metadata": {},
   "source": [
    "<br>\n",
    "\n",
    "### Balanceamento de Classes\n",
    "\n",
    "- Realizar o balanceamento da variável alvo 'is_fraud'"
   ]
  },
  {
   "cell_type": "code",
   "execution_count": 37,
   "id": "281dc4cf",
   "metadata": {},
   "outputs": [
    {
     "data": {
      "text/plain": [
       "is_fraud\n",
       "0    5689\n",
       "1    3395\n",
       "Name: count, dtype: int64"
      ]
     },
     "execution_count": 37,
     "metadata": {},
     "output_type": "execute_result"
    }
   ],
   "source": [
    "dados['is_fraud'].value_counts()"
   ]
  },
  {
   "cell_type": "markdown",
   "id": "6ae2573c",
   "metadata": {},
   "source": [
    "#### Justificativa para Escolha da Técnica de Oversampling\n",
    "\n",
    "- Para o seu projeto de classificação de fraudes em transações bancárias, recomendo utilizar a técnica de Oversampling com SMOTE. A razão principal é que a detecção de fraudes é uma tarefa crítica, onde a perda de informações (que pode ocorrer com o Undersampling) é altamente indesejável. As fraudes são eventos raros, e cada registro de fraude pode conter informações valiosas que ajudam o modelo a identificar padrões fraudulentos. Além disso:\n",
    "\n",
    "<br>\n",
    "\n",
    "#### Aplicando a Técnica de Oversampling"
   ]
  },
  {
   "cell_type": "code",
   "execution_count": 38,
   "id": "bd9cb4db",
   "metadata": {},
   "outputs": [],
   "source": [
    "# Vamos aplicar a técnica de oversampling e aumentar o número de exemplos da classe minoritária\n",
    "over_sampler = SMOTE(k_neighbors=5, random_state=42)\n",
    "\n",
    "# Aplica o oversampling (deve ser feito somente com dados de treino)\n",
    "X_res, y_res = over_sampler.fit_resample(X_treino, y_treino)"
   ]
  },
  {
   "cell_type": "code",
   "execution_count": 39,
   "id": "5cbbd1ff",
   "metadata": {},
   "outputs": [
    {
     "name": "stdout",
     "output_type": "stream",
     "text": [
      "is_fraud\n",
      "0    4565\n",
      "1    2702\n",
      "Name: count, dtype: int64\n",
      "(7267, 4)\n",
      "(7267,)\n",
      "\n",
      "==================================================\n",
      "\n",
      "is_fraud\n",
      "0    4565\n",
      "1    4565\n",
      "Name: count, dtype: int64\n",
      "(9130, 4)\n",
      "(9130,)\n"
     ]
    }
   ],
   "source": [
    "print(y_treino.value_counts())\n",
    "print(X_treino.shape)\n",
    "print(y_treino.shape)\n",
    "\n",
    "print('\\n==================================================\\n')\n",
    "\n",
    "# Ajusta o nome do dataset de treino para X\n",
    "X_treino = X_res\n",
    "# Ajusta o nome do dataset de treino para y\n",
    "y_treino = y_res\n",
    "\n",
    "print(y_treino.value_counts())\n",
    "print(X_treino.shape)\n",
    "print(y_treino.shape)"
   ]
  },
  {
   "cell_type": "markdown",
   "id": "752e27c9",
   "metadata": {},
   "source": [
    "<br>\n",
    "\n",
    "### Aplicando Técnica de Padronização\n",
    "\n",
    "- Aplicaremos a técnica somente nas variáveis 'account_age' e 'transaction_amount'.\n",
    "- As demais variáveis são do tipo categóricas transformadas em numéricas."
   ]
  },
  {
   "cell_type": "code",
   "execution_count": 40,
   "id": "85cec2f1",
   "metadata": {},
   "outputs": [
    {
     "data": {
      "text/html": [
       "<div>\n",
       "<style scoped>\n",
       "    .dataframe tbody tr th:only-of-type {\n",
       "        vertical-align: middle;\n",
       "    }\n",
       "\n",
       "    .dataframe tbody tr th {\n",
       "        vertical-align: top;\n",
       "    }\n",
       "\n",
       "    .dataframe thead th {\n",
       "        text-align: right;\n",
       "    }\n",
       "</style>\n",
       "<table border=\"1\" class=\"dataframe\">\n",
       "  <thead>\n",
       "    <tr style=\"text-align: right;\">\n",
       "      <th></th>\n",
       "      <th>account_age</th>\n",
       "      <th>transaction_amount</th>\n",
       "      <th>transaction_type</th>\n",
       "      <th>location</th>\n",
       "    </tr>\n",
       "  </thead>\n",
       "  <tbody>\n",
       "    <tr>\n",
       "      <th>0</th>\n",
       "      <td>151.0</td>\n",
       "      <td>9.521033</td>\n",
       "      <td>2</td>\n",
       "      <td>1</td>\n",
       "    </tr>\n",
       "    <tr>\n",
       "      <th>1</th>\n",
       "      <td>212.0</td>\n",
       "      <td>189.478493</td>\n",
       "      <td>2</td>\n",
       "      <td>0</td>\n",
       "    </tr>\n",
       "    <tr>\n",
       "      <th>2</th>\n",
       "      <td>24.0</td>\n",
       "      <td>87.407452</td>\n",
       "      <td>1</td>\n",
       "      <td>1</td>\n",
       "    </tr>\n",
       "  </tbody>\n",
       "</table>\n",
       "</div>"
      ],
      "text/plain": [
       "   account_age  transaction_amount  transaction_type  location\n",
       "0        151.0            9.521033                 2         1\n",
       "1        212.0          189.478493                 2         0\n",
       "2         24.0           87.407452                 1         1"
      ]
     },
     "execution_count": 40,
     "metadata": {},
     "output_type": "execute_result"
    }
   ],
   "source": [
    "# Visulizando os Dados\n",
    "X_treino.head(3)"
   ]
  },
  {
   "cell_type": "code",
   "execution_count": 41,
   "id": "42d9f466",
   "metadata": {},
   "outputs": [
    {
     "data": {
      "text/html": [
       "<div>\n",
       "<style scoped>\n",
       "    .dataframe tbody tr th:only-of-type {\n",
       "        vertical-align: middle;\n",
       "    }\n",
       "\n",
       "    .dataframe tbody tr th {\n",
       "        vertical-align: top;\n",
       "    }\n",
       "\n",
       "    .dataframe thead th {\n",
       "        text-align: right;\n",
       "    }\n",
       "</style>\n",
       "<table border=\"1\" class=\"dataframe\">\n",
       "  <thead>\n",
       "    <tr style=\"text-align: right;\">\n",
       "      <th></th>\n",
       "      <th>account_age</th>\n",
       "      <th>transaction_amount</th>\n",
       "      <th>transaction_type</th>\n",
       "      <th>location</th>\n",
       "    </tr>\n",
       "  </thead>\n",
       "  <tbody>\n",
       "    <tr>\n",
       "      <th>0</th>\n",
       "      <td>151.0</td>\n",
       "      <td>9.521033</td>\n",
       "      <td>2</td>\n",
       "      <td>1</td>\n",
       "    </tr>\n",
       "    <tr>\n",
       "      <th>1</th>\n",
       "      <td>212.0</td>\n",
       "      <td>189.478493</td>\n",
       "      <td>2</td>\n",
       "      <td>0</td>\n",
       "    </tr>\n",
       "    <tr>\n",
       "      <th>2</th>\n",
       "      <td>24.0</td>\n",
       "      <td>87.407452</td>\n",
       "      <td>1</td>\n",
       "      <td>1</td>\n",
       "    </tr>\n",
       "  </tbody>\n",
       "</table>\n",
       "</div>"
      ],
      "text/plain": [
       "   account_age  transaction_amount  transaction_type  location\n",
       "0        151.0            9.521033                 2         1\n",
       "1        212.0          189.478493                 2         0\n",
       "2         24.0           87.407452                 1         1"
      ]
     },
     "metadata": {},
     "output_type": "display_data"
    },
    {
     "data": {
      "text/html": [
       "<div>\n",
       "<style scoped>\n",
       "    .dataframe tbody tr th:only-of-type {\n",
       "        vertical-align: middle;\n",
       "    }\n",
       "\n",
       "    .dataframe tbody tr th {\n",
       "        vertical-align: top;\n",
       "    }\n",
       "\n",
       "    .dataframe thead th {\n",
       "        text-align: right;\n",
       "    }\n",
       "</style>\n",
       "<table border=\"1\" class=\"dataframe\">\n",
       "  <thead>\n",
       "    <tr style=\"text-align: right;\">\n",
       "      <th></th>\n",
       "      <th>account_age</th>\n",
       "      <th>transaction_amount</th>\n",
       "      <th>transaction_type</th>\n",
       "      <th>location</th>\n",
       "    </tr>\n",
       "  </thead>\n",
       "  <tbody>\n",
       "    <tr>\n",
       "      <th>count</th>\n",
       "      <td>9130.000000</td>\n",
       "      <td>9130.000000</td>\n",
       "      <td>9130.000000</td>\n",
       "      <td>9130.000000</td>\n",
       "    </tr>\n",
       "    <tr>\n",
       "      <th>mean</th>\n",
       "      <td>118.656350</td>\n",
       "      <td>198.946404</td>\n",
       "      <td>0.950164</td>\n",
       "      <td>0.448193</td>\n",
       "    </tr>\n",
       "    <tr>\n",
       "      <th>std</th>\n",
       "      <td>69.394601</td>\n",
       "      <td>196.824819</td>\n",
       "      <td>0.802581</td>\n",
       "      <td>0.497336</td>\n",
       "    </tr>\n",
       "    <tr>\n",
       "      <th>min</th>\n",
       "      <td>1.000000</td>\n",
       "      <td>0.004513</td>\n",
       "      <td>0.000000</td>\n",
       "      <td>0.000000</td>\n",
       "    </tr>\n",
       "    <tr>\n",
       "      <th>25%</th>\n",
       "      <td>58.624891</td>\n",
       "      <td>58.602839</td>\n",
       "      <td>0.000000</td>\n",
       "      <td>0.000000</td>\n",
       "    </tr>\n",
       "    <tr>\n",
       "      <th>50%</th>\n",
       "      <td>117.193230</td>\n",
       "      <td>136.616768</td>\n",
       "      <td>1.000000</td>\n",
       "      <td>0.000000</td>\n",
       "    </tr>\n",
       "    <tr>\n",
       "      <th>75%</th>\n",
       "      <td>179.421800</td>\n",
       "      <td>273.733080</td>\n",
       "      <td>2.000000</td>\n",
       "      <td>1.000000</td>\n",
       "    </tr>\n",
       "    <tr>\n",
       "      <th>max</th>\n",
       "      <td>239.000000</td>\n",
       "      <td>1355.685459</td>\n",
       "      <td>2.000000</td>\n",
       "      <td>1.000000</td>\n",
       "    </tr>\n",
       "  </tbody>\n",
       "</table>\n",
       "</div>"
      ],
      "text/plain": [
       "       account_age  transaction_amount  transaction_type     location\n",
       "count  9130.000000         9130.000000       9130.000000  9130.000000\n",
       "mean    118.656350          198.946404          0.950164     0.448193\n",
       "std      69.394601          196.824819          0.802581     0.497336\n",
       "min       1.000000            0.004513          0.000000     0.000000\n",
       "25%      58.624891           58.602839          0.000000     0.000000\n",
       "50%     117.193230          136.616768          1.000000     0.000000\n",
       "75%     179.421800          273.733080          2.000000     1.000000\n",
       "max     239.000000         1355.685459          2.000000     1.000000"
      ]
     },
     "metadata": {},
     "output_type": "display_data"
    },
    {
     "name": "stdout",
     "output_type": "stream",
     "text": [
      "\n",
      "==================================================\n",
      "\n"
     ]
    },
    {
     "data": {
      "text/html": [
       "<div>\n",
       "<style scoped>\n",
       "    .dataframe tbody tr th:only-of-type {\n",
       "        vertical-align: middle;\n",
       "    }\n",
       "\n",
       "    .dataframe tbody tr th {\n",
       "        vertical-align: top;\n",
       "    }\n",
       "\n",
       "    .dataframe thead th {\n",
       "        text-align: right;\n",
       "    }\n",
       "</style>\n",
       "<table border=\"1\" class=\"dataframe\">\n",
       "  <thead>\n",
       "    <tr style=\"text-align: right;\">\n",
       "      <th></th>\n",
       "      <th>account_age</th>\n",
       "      <th>transaction_amount</th>\n",
       "      <th>transaction_type</th>\n",
       "      <th>location</th>\n",
       "    </tr>\n",
       "  </thead>\n",
       "  <tbody>\n",
       "    <tr>\n",
       "      <th>0</th>\n",
       "      <td>0.466109</td>\n",
       "      <td>-0.962459</td>\n",
       "      <td>2</td>\n",
       "      <td>1</td>\n",
       "    </tr>\n",
       "    <tr>\n",
       "      <th>1</th>\n",
       "      <td>1.345188</td>\n",
       "      <td>-0.048106</td>\n",
       "      <td>2</td>\n",
       "      <td>0</td>\n",
       "    </tr>\n",
       "    <tr>\n",
       "      <th>2</th>\n",
       "      <td>-1.364105</td>\n",
       "      <td>-0.566723</td>\n",
       "      <td>1</td>\n",
       "      <td>1</td>\n",
       "    </tr>\n",
       "  </tbody>\n",
       "</table>\n",
       "</div>"
      ],
      "text/plain": [
       "   account_age  transaction_amount  transaction_type  location\n",
       "0     0.466109           -0.962459                 2         1\n",
       "1     1.345188           -0.048106                 2         0\n",
       "2    -1.364105           -0.566723                 1         1"
      ]
     },
     "metadata": {},
     "output_type": "display_data"
    },
    {
     "data": {
      "text/html": [
       "<div>\n",
       "<style scoped>\n",
       "    .dataframe tbody tr th:only-of-type {\n",
       "        vertical-align: middle;\n",
       "    }\n",
       "\n",
       "    .dataframe tbody tr th {\n",
       "        vertical-align: top;\n",
       "    }\n",
       "\n",
       "    .dataframe thead th {\n",
       "        text-align: right;\n",
       "    }\n",
       "</style>\n",
       "<table border=\"1\" class=\"dataframe\">\n",
       "  <thead>\n",
       "    <tr style=\"text-align: right;\">\n",
       "      <th></th>\n",
       "      <th>account_age</th>\n",
       "      <th>transaction_amount</th>\n",
       "      <th>transaction_type</th>\n",
       "      <th>location</th>\n",
       "    </tr>\n",
       "  </thead>\n",
       "  <tbody>\n",
       "    <tr>\n",
       "      <th>count</th>\n",
       "      <td>9.130000e+03</td>\n",
       "      <td>9.130000e+03</td>\n",
       "      <td>9130.000000</td>\n",
       "      <td>9130.000000</td>\n",
       "    </tr>\n",
       "    <tr>\n",
       "      <th>mean</th>\n",
       "      <td>1.343455e-16</td>\n",
       "      <td>-3.852340e-17</td>\n",
       "      <td>0.950164</td>\n",
       "      <td>0.448193</td>\n",
       "    </tr>\n",
       "    <tr>\n",
       "      <th>std</th>\n",
       "      <td>1.000055e+00</td>\n",
       "      <td>1.000055e+00</td>\n",
       "      <td>0.802581</td>\n",
       "      <td>0.497336</td>\n",
       "    </tr>\n",
       "    <tr>\n",
       "      <th>min</th>\n",
       "      <td>-1.695561e+00</td>\n",
       "      <td>-1.010811e+00</td>\n",
       "      <td>0.000000</td>\n",
       "      <td>0.000000</td>\n",
       "    </tr>\n",
       "    <tr>\n",
       "      <th>25%</th>\n",
       "      <td>-8.651213e-01</td>\n",
       "      <td>-7.130770e-01</td>\n",
       "      <td>0.000000</td>\n",
       "      <td>0.000000</td>\n",
       "    </tr>\n",
       "    <tr>\n",
       "      <th>50%</th>\n",
       "      <td>-2.108521e-02</td>\n",
       "      <td>-3.166930e-01</td>\n",
       "      <td>1.000000</td>\n",
       "      <td>0.000000</td>\n",
       "    </tr>\n",
       "    <tr>\n",
       "      <th>75%</th>\n",
       "      <td>8.756989e-01</td>\n",
       "      <td>3.799865e-01</td>\n",
       "      <td>2.000000</td>\n",
       "      <td>1.000000</td>\n",
       "    </tr>\n",
       "    <tr>\n",
       "      <th>max</th>\n",
       "      <td>1.734288e+00</td>\n",
       "      <td>5.877320e+00</td>\n",
       "      <td>2.000000</td>\n",
       "      <td>1.000000</td>\n",
       "    </tr>\n",
       "  </tbody>\n",
       "</table>\n",
       "</div>"
      ],
      "text/plain": [
       "        account_age  transaction_amount  transaction_type     location\n",
       "count  9.130000e+03        9.130000e+03       9130.000000  9130.000000\n",
       "mean   1.343455e-16       -3.852340e-17          0.950164     0.448193\n",
       "std    1.000055e+00        1.000055e+00          0.802581     0.497336\n",
       "min   -1.695561e+00       -1.010811e+00          0.000000     0.000000\n",
       "25%   -8.651213e-01       -7.130770e-01          0.000000     0.000000\n",
       "50%   -2.108521e-02       -3.166930e-01          1.000000     0.000000\n",
       "75%    8.756989e-01        3.799865e-01          2.000000     1.000000\n",
       "max    1.734288e+00        5.877320e+00          2.000000     1.000000"
      ]
     },
     "metadata": {},
     "output_type": "display_data"
    }
   ],
   "source": [
    "# Visualizando o Describe\n",
    "display(X_treino.head(3))\n",
    "display(X_treino.describe())\n",
    "\n",
    "# Inicializa o scaler\n",
    "scaler = StandardScaler()\n",
    "\n",
    "# Copia as variáveis categóricas transformadas (não precisam de padronização)\n",
    "X_treino_categorico = X_treino[['transaction_type', 'location']].copy()\n",
    "X_teste_categorico = X_teste[['transaction_type', 'location']].copy()\n",
    "\n",
    "# Aplica o scaler apenas nas variáveis contínuas dos dados de treino\n",
    "X_treino_continuo = scaler.fit_transform(X_treino[['account_age', 'transaction_amount']])\n",
    "\n",
    "# Usa a mesma transformação para os dados de teste\n",
    "X_teste_continuo = scaler.transform(X_teste[['account_age', 'transaction_amount']])\n",
    "\n",
    "# Converte de volta para DataFrame\n",
    "X_treino_continuo = pd.DataFrame(X_treino_continuo, columns=['account_age', 'transaction_amount'])\n",
    "X_teste_continuo = pd.DataFrame(X_teste_continuo, columns=['account_age', 'transaction_amount'])\n",
    "\n",
    "# Combina as variáveis contínuas padronizadas com as variáveis categóricas transformadas\n",
    "X_treino_scaled = pd.concat([X_treino_continuo, X_treino_categorico.reset_index(drop=True)], axis=1)\n",
    "X_teste_scaled = pd.concat([X_teste_continuo, X_teste_categorico.reset_index(drop=True)], axis=1)\n",
    "\n",
    "# Ajusta o nome do dataset de treino para X\n",
    "X_treino = X_treino_scaled\n",
    "# Ajusta o nome do dataset de treino para y\n",
    "X_teste = X_teste_scaled\n",
    "\n",
    "print('\\n==================================================\\n')\n",
    "\n",
    "# Visualizando o Describe\n",
    "display(X_treino.head(3))\n",
    "display(X_treino.describe())"
   ]
  },
  {
   "cell_type": "markdown",
   "id": "b605a738",
   "metadata": {},
   "source": [
    "<br><br><br><br>\n",
    "\n",
    "<span style=\"color: green; font-size: 40px; font-weight: bold;\">Construindo Modelos de Machine Learning</span>\n",
    "### Nesta etapa do projeto, desenvolveremos e avaliaremos <u>cinco diferentes</u> modelos de machine learning para identificar qual deles apresenta o <u>melhor desempenho</u> para o nosso conjunto de dados.\n",
    "    \n",
    "#### Cada modelo foi escolhido por suas características únicas e capacidade de lidar com problemas de classificação.<br>\n",
    "\n",
    "Abaixo estão os modelos que serão implementados e testados:\n",
    "    \n",
    "- **Modelo 1: Regressão Logística** - Utilizado como benchmark devido à sua simplicidade e eficácia em problemas de classificação binária. Este modelo ajudará a estabelecer uma linha base para a performance que esperamos superar com técnicas mais complexas.<br><br>\n",
    "- **Modelo 2: Random Forest** - Um modelo de ensemble que usa múltiplas árvores de decisão para melhorar a generalização. É conhecido por sua alta precisão e capacidade de ranquear a importância das variáveis.<br><br>\n",
    "- **Modelo 3: KNN (K-Nearest Neighbors)** - Um modelo baseado em instância que faz previsões com base nas labels das amostras mais próximas no espaço de características. Este modelo é eficaz em casos onde a relação entre as variáveis é altamente não-linear.<br><br>\n",
    "- **Modelo 4: Decision Tree (Árvore de Decisão)** - Uma árvore de decisão é útil por sua interpretabilidade, permitindo entender claramente quais critérios o modelo está usando para tomar decisões.<br><br>\n",
    "- **Modelo 5: SVM (Support Vector Machine)** - Ideal para problemas de classificação e regressão de margem grande. O SVM é eficiente na criação de hiperplanos em um espaço multidimensional, o que o torna adequado para casos com muitas variáveis de entrada.<br><br>\n",
    "- **Modelo 6: Gradient Boosting Machine (GBM)** - Um modelo de ensemble que combina múltiplas árvores de decisão, onde cada nova árvore corrige os erros das anteriores. GBM é conhecido por sua alta precisão e flexibilidade, capaz de lidar com problemas complexos de classificação e regressão.<br><br>\n",
    "- **Modelo 7: AdaBoost** - Um método de ensemble que ajusta iterativamente um modelo simples, como uma árvore de decisão rasa, dando maior peso às amostras que foram classificadas incorretamente nas iterações anteriores. É eficaz em melhorar a precisão de modelos de base fraca.<br><br>\n",
    "- **Modelo 8: LightGBM** - Uma implementação de Gradient Boosting que utiliza técnicas avançadas como o histogram-based learning e o Leaf-wise growth. LightGBM é conhecido por sua alta eficiência e velocidade, especialmente em conjuntos de dados grandes.<br><br>\n",
    "- **Modelo 9: XGBoost** - Uma poderosa biblioteca de boosting que é amplamente utilizada em competições de machine learning. XGBoost implementa otimizações avançadas e regularizações que ajudam a evitar overfitting, tornando-o robusto e eficiente para uma variedade de problemas de classificação e regressão.<br><br>\n",
    "- **Modelo 10: Naive Bayes** - Um algoritmo probabilístico baseado no teorema de Bayes, assumindo a independência entre as características. É particularmente eficaz para problemas de classificação de texto e outras tarefas com grandes dimensões.<br><br>\n",
    "- **Modelo 11: Neural Networks (Redes Neurais)** - Redes neurais são modelos inspirados no funcionamento do cérebro humano e são capazes de capturar padrões complexos e não-lineares. Eles são especialmente eficazes para grandes volumes de dados e problemas onde a relação entre variáveis é altamente complexa.<br><br>\n",
    "- **Modelo 12: CatBoost)** - Uma biblioteca de gradient boosting desenvolvida pela Yandex. CatBoost é conhecido por lidar bem com variáveis categóricas, sem a necessidade de pré-processamento extensivo, e oferece boa precisão e velocidade.<br><br>\n",
    "- **Modelo 13: Extra Trees (Extremely Randomized Trees)** - Uma variante do Random Forest que utiliza uma maior randomização na escolha dos splits. É geralmente mais rápido que Random Forest e pode resultar em modelos mais precisos.<br><br>\n",
    "- **Modelo 15: Voting Classifier** - Um modelo ensemble que combina as previsões de vários modelos base (por exemplo, Random Forest, SVM, KNN) para melhorar a robustez e a precisão das previsões.<br><br>\n",
    "\n",
    "Cada modelo será treinado utilizando o mesmo conjunto de dados, permitindo uma comparação justa de sua eficácia. A avaliação de cada modelo incluirá métricas como precisão, AUC-ROC, entre outras, dependendo das especificidades de nosso problema e dados."
   ]
  },
  {
   "cell_type": "markdown",
   "id": "dc68b54b",
   "metadata": {},
   "source": [
    "<br><br>\n",
    "\n",
    "## Criando <U>Dataframe</U> para salvar métricas de cada Modelo"
   ]
  },
  {
   "cell_type": "code",
   "execution_count": 42,
   "id": "b141b6e3",
   "metadata": {},
   "outputs": [],
   "source": [
    "# Cria um dataframe para receber as métricas de cada modelo\n",
    "df_modelos = pd.DataFrame()"
   ]
  },
  {
   "cell_type": "markdown",
   "id": "0ad52f2d",
   "metadata": {},
   "source": [
    "<br><br><br>\n",
    "\n",
    "# <span style=\"color: green; font-size: 38px; font-weight: bold;\">Modelo 1 - Regressão Logística (Benchmark)</span>\n",
    "\n",
    "<br>\n",
    "\n",
    "- Para a **primeira versão do modelo** o ideal é escolher um **algoritmo simples**, fácil de compreender e que será usado como Benchmark (**modelo base**).\n",
    "- Cria várias modelos com o **GridSearchCV** com um **Pipeline** de **StandardScaler** e **LogisticRegression** para encontrar os **melhores hiperparâmetros**.\n",
    "- Após a identificação do **melhor parâmetro**, o modelo final é treinado diretamente com a **LogisticRegression**, usando esses hiperparâmetros otimizados, para garantir um modelo eficiente e pronto para implementação prática.\n",
    "\n",
    "<br>\n",
    "\n",
    "### Criando o Modelo"
   ]
  },
  {
   "cell_type": "code",
   "execution_count": 43,
   "id": "540ecd5a",
   "metadata": {},
   "outputs": [
    {
     "data": {
      "text/plain": [
       "Pipeline(steps=[('scaler', StandardScaler()),\n",
       "                ('logistic', LogisticRegression(C=10, max_iter=1000))])"
      ]
     },
     "execution_count": 43,
     "metadata": {},
     "output_type": "execute_result"
    }
   ],
   "source": [
    "# Configuração do pipeline de pré-processamento e modelo\n",
    "pipeline = Pipeline([\n",
    "    ('scaler', StandardScaler()),                    # Adiciona o escalonador\n",
    "    ('logistic', LogisticRegression(max_iter=1000))  # Aumenta max_iter para garantir a convergência\n",
    "])\n",
    "\n",
    "# Define lista de hiperparâmetros\n",
    "tuned_params_RL = {\n",
    "    'logistic__C': [0.0001, 0.001, 0.01, 0.1, 1, 10, 100, 1000, 10000],\n",
    "    'logistic__penalty': ['l2']  # 'l1' está disponível apenas com o solucionador 'liblinear'\n",
    "}\n",
    "\n",
    "# Criando modelos com GridSearch\n",
    "grid_search = GridSearchCV(pipeline, \n",
    "                         tuned_params_RL, \n",
    "                         scoring='roc_auc', \n",
    "                         n_jobs=-1)\n",
    "grid_search.fit(X_treino, y_treino)\n",
    "\n",
    "# Visualziando o melhor modelo\n",
    "grid_search.best_estimator_"
   ]
  },
  {
   "cell_type": "markdown",
   "id": "070efdde",
   "metadata": {},
   "source": [
    "#### Construindo e Treinando o Modelo com LogisticRegression"
   ]
  },
  {
   "cell_type": "code",
   "execution_count": 44,
   "id": "384558a8",
   "metadata": {},
   "outputs": [
    {
     "data": {
      "text/plain": [
       "LogisticRegression(C=10, max_iter=1000)"
      ]
     },
     "execution_count": 44,
     "metadata": {},
     "output_type": "execute_result"
    }
   ],
   "source": [
    "# Obtendo os melhores hiperparâmetros encontrados\n",
    "best_params = grid_search.best_params_\n",
    "\n",
    "# Criando o Modelo\n",
    "modelo_RL = LogisticRegression(\n",
    "    C=best_params['logistic__C'], \n",
    "    penalty='l2', \n",
    "    max_iter=1000\n",
    ")\n",
    "\n",
    "# Treinando o Modelo\n",
    "modelo_RL.fit(X_treino, y_treino)"
   ]
  },
  {
   "cell_type": "markdown",
   "id": "f06e06e1",
   "metadata": {},
   "source": [
    "<br><br>\n",
    "\n",
    "## Previsão / Avaliação do Modelo"
   ]
  },
  {
   "cell_type": "code",
   "execution_count": 45,
   "id": "f52e2806",
   "metadata": {},
   "outputs": [
    {
     "name": "stdout",
     "output_type": "stream",
     "text": [
      "Previsões de Classe:\n",
      "[1 0 1 0 0]\n",
      "\n",
      "--------------------------------------------------------------------------------\n",
      "\n",
      "Previsões de Probabilidade para Cada Classe:\n",
      "[[0.49584488 0.50415512]\n",
      " [0.5158561  0.4841439 ]\n",
      " [0.42486796 0.57513204]\n",
      " [0.55360128 0.44639872]\n",
      " [0.59097805 0.40902195]]\n",
      "\n",
      "--------------------------------------------------------------------------------\n",
      "\n",
      "Previsões de Probabilidade para a Classe Positiva:\n",
      "[0.50415512 0.4841439  0.57513204 0.44639872 0.40902195]\n",
      "\n",
      "--------------------------------------------------------------------------------\n",
      "\n",
      "Matriz de Confusão:\n",
      "[[578 546]\n",
      " [354 339]]\n",
      "\n",
      "--------------------------------------------------------------------------------\n",
      "\n",
      "Acurácia: 0.5047\n",
      "ROC AUC Score: 0.5022\n",
      "AUC Score: 0.5022\n"
     ]
    }
   ],
   "source": [
    "## Previsão / Avaliação do Modelo\n",
    "\n",
    "## Previsões\n",
    "\n",
    "# Previsões com dados de teste\n",
    "y_pred_RL = modelo_RL.predict(X_teste)\n",
    "print('Previsões de Classe:')\n",
    "print(y_pred_RL[:5])\n",
    "print('\\n' + '-' * 80 + '\\n')\n",
    "\n",
    "# Obtemos as previsões no formato de probabilidade para cada classe\n",
    "y_pred_proba_RL = modelo_RL.predict_proba(X_teste)\n",
    "print('Previsões de Probabilidade para Cada Classe:')\n",
    "print(y_pred_proba_RL[:5])\n",
    "print('\\n' + '-' * 80 + '\\n')\n",
    "\n",
    "# Obtemos as previsões no formato de probabilidade filtrando para a classe positiva (Cálculo da Curva ROC)\n",
    "y_pred_proba_RL_pos = modelo_RL.predict_proba(X_teste)[:, 1]\n",
    "print('Previsões de Probabilidade para a Classe Positiva:')\n",
    "print(y_pred_proba_RL_pos[:5])\n",
    "print('\\n' + '-' * 80 + '\\n')\n",
    "\n",
    "## Avaliação do Modelo\n",
    "\n",
    "# Matriz de confusão\n",
    "conf_matrix_RL = confusion_matrix(y_teste, y_pred_RL)\n",
    "print('Matriz de Confusão:')\n",
    "print(conf_matrix_RL)\n",
    "print('\\n' + '-' * 80 + '\\n')\n",
    "\n",
    "# Extraindo cada valor da Confusion Matrix\n",
    "tn_RL, fp_RL, fn_RL, tp_RL = conf_matrix_RL.ravel()\n",
    "\n",
    "# Calcula a métrica global AUC (Area Under The Curve) com dados reais e previsões em teste\n",
    "roc_auc_RL = roc_auc_score(y_teste, y_pred_proba_RL_pos)\n",
    "\n",
    "# Calcula a curva ROC com dados e previsões em teste\n",
    "fpr_RL, tpr_RL, thresholds_RL = roc_curve(y_teste, y_pred_proba_RL_pos)\n",
    "\n",
    "# AUC em teste\n",
    "auc_RL = auc(fpr_RL, tpr_RL)\n",
    "\n",
    "# Acurácia em teste\n",
    "acuracia_RL = accuracy_score(y_teste, y_pred_RL)\n",
    "\n",
    "# Exibindo as métricas\n",
    "print(f'Acurácia: {acuracia_RL:.4f}')\n",
    "print(f'ROC AUC Score: {roc_auc_RL:.4f}')\n",
    "print(f'AUC Score: {auc_RL:.4f}')"
   ]
  },
  {
   "cell_type": "markdown",
   "id": "1442a7d7",
   "metadata": {},
   "source": [
    "<br>\n",
    "\n",
    "#### Visualizando Importância das Variáveis"
   ]
  },
  {
   "cell_type": "code",
   "execution_count": 46,
   "id": "827a9e64",
   "metadata": {},
   "outputs": [
    {
     "name": "stdout",
     "output_type": "stream",
     "text": [
      "Visualizando Importância das Variáveis\n",
      "--------------------------------------------------------------------------------\n",
      "              Feature  Importance\n",
      "3            location    0.382416\n",
      "2    transaction_type    0.152437\n",
      "1  transaction_amount    0.009702\n",
      "0         account_age    0.005700\n",
      "--------------------------------------------------------------------------------\n"
     ]
    },
    {
     "data": {
      "image/png": "[encoded data removed]",
      "text/plain": [
       "<Figure size 720x576 with 1 Axes>"
      ]
     },
     "metadata": {
      "needs_background": "light"
     },
     "output_type": "display_data"
    }
   ],
   "source": [
    "# Extrair coeficientes diretamente do modelo\n",
    "coeficientes = modelo_RL.coef_[0]\n",
    "\n",
    "# Calcular a importância como o valor absoluto dos coeficientes\n",
    "importancias = np.abs(coeficientes)\n",
    "\n",
    "# Criar DataFrame para visualização\n",
    "features = X_treino.columns\n",
    "df_importancias = pd.DataFrame({'Feature': features, 'Importance': importancias})\n",
    "df_importancias = df_importancias.sort_values(by='Importance', ascending=False)\n",
    "\n",
    "# Exibir importâncias\n",
    "print('Visualizando Importância das Variáveis')\n",
    "print(80 * '-')\n",
    "print(df_importancias)\n",
    "print(80 * '-')\n",
    "\n",
    "# Gráfico de barras da importância das variáveis\n",
    "plt.figure(figsize=(10, 8))\n",
    "sns.barplot(x='Importance', y='Feature', data=df_importancias)\n",
    "plt.title('Feature Importance from Logistic Regression Coefficients')\n",
    "plt.xlabel('Importance')\n",
    "plt.ylabel('Features')\n",
    "plt.show()"
   ]
  },
  {
   "cell_type": "markdown",
   "id": "b98d836a",
   "metadata": {},
   "source": [
    "<br><br>\n",
    "\n",
    "### Salvando as Métricas"
   ]
  },
  {
   "cell_type": "code",
   "execution_count": 47,
   "id": "44d9a240",
   "metadata": {},
   "outputs": [
    {
     "data": {
      "text/html": [
       "<div>\n",
       "<style scoped>\n",
       "    .dataframe tbody tr th:only-of-type {\n",
       "        vertical-align: middle;\n",
       "    }\n",
       "\n",
       "    .dataframe tbody tr th {\n",
       "        vertical-align: top;\n",
       "    }\n",
       "\n",
       "    .dataframe thead th {\n",
       "        text-align: right;\n",
       "    }\n",
       "</style>\n",
       "<table border=\"1\" class=\"dataframe\">\n",
       "  <thead>\n",
       "    <tr style=\"text-align: right;\">\n",
       "      <th></th>\n",
       "      <th>Nome do Modelo</th>\n",
       "      <th>Nome do Algoritmo</th>\n",
       "      <th>ROC_AUC Score</th>\n",
       "      <th>AUC Score</th>\n",
       "      <th>Acuracia</th>\n",
       "    </tr>\n",
       "  </thead>\n",
       "  <tbody>\n",
       "    <tr>\n",
       "      <th>0</th>\n",
       "      <td>Modelo 1</td>\n",
       "      <td>Logistic Regression</td>\n",
       "      <td>0.502197</td>\n",
       "      <td>0.502197</td>\n",
       "      <td>0.504678</td>\n",
       "    </tr>\n",
       "  </tbody>\n",
       "</table>\n",
       "</div>"
      ],
      "text/plain": [
       "  Nome do Modelo    Nome do Algoritmo  ROC_AUC Score  AUC Score  Acuracia\n",
       "0       Modelo 1  Logistic Regression       0.502197   0.502197  0.504678"
      ]
     },
     "metadata": {},
     "output_type": "display_data"
    }
   ],
   "source": [
    "modelo_RL = pd.DataFrame({\n",
    "    'Nome do Modelo': ['Modelo 1'],\n",
    "    'Nome do Algoritmo': ['Logistic Regression'],\n",
    "    'ROC_AUC Score': [roc_auc_RL],\n",
    "    'AUC Score': [auc_RL],\n",
    "    'Acuracia': [acuracia_RL]    \n",
    "})\n",
    "\n",
    "df_modelos = pd.concat([df_modelos, modelo_RL], ignore_index=True)\n",
    "\n",
    "# Verifica as métricas salvas\n",
    "display(df_modelos)"
   ]
  },
  {
   "cell_type": "markdown",
   "id": "15746862",
   "metadata": {},
   "source": [
    "<br><br><br>\n",
    "\n",
    "# <span style=\"color: green; font-size: 38px; font-weight: bold;\">Modelo 2 - Random Forest</span>\n",
    "\n",
    "<br>\n",
    "\n",
    "- Cria várias modelos com o **RandomizedSearchCV** para encontrar os **melhores hiperparâmetros**.\n",
    "- Após a identificação do **melhor** modelo, o modelo final é treinado diretamente com a **RandomForestClassifier**, usando esses **hiperparâmetros** otimizados, para garantir um modelo eficiente e pronto para implementação prática.\n",
    "\n",
    "<br>\n",
    "\n",
    "### Criando o Modelo"
   ]
  },
  {
   "cell_type": "code",
   "execution_count": 48,
   "id": "3a9d3b74",
   "metadata": {},
   "outputs": [
    {
     "name": "stdout",
     "output_type": "stream",
     "text": [
      "RandomForestClassifier(n_estimators=400)\n"
     ]
    }
   ],
   "source": [
    "# Grid de hiperparâmetros\n",
    "tuned_params_v1_RF = {'n_estimators': [100, 200, 300, 400, 500], \n",
    "                      'min_samples_split': [2, 5, 10], \n",
    "                      'min_samples_leaf': [1, 2, 4]}\n",
    "\n",
    "# Cria o modelo com RandomizedSearchCV para buscar a melhor combinação de hiperparâmetros\n",
    "modelo = RandomizedSearchCV(RandomForestClassifier(), \n",
    "                               tuned_params_v1_RF, \n",
    "                               n_iter = 15, \n",
    "                               scoring = 'roc_auc', \n",
    "                               n_jobs  = -1)\n",
    "\n",
    "# Treina o modelo\n",
    "modelo.fit(X_treino, y_treino)\n",
    "\n",
    "# Extrai o melhor modelo\n",
    "best_rf = modelo.best_estimator_\n",
    "\n",
    "# Imprime os detalhes do melhor modelo, incluindo o número de n_estimators\n",
    "print(best_rf)"
   ]
  },
  {
   "cell_type": "markdown",
   "id": "3e1b527e",
   "metadata": {},
   "source": [
    "#### Construindo e Treinando o Modelo com RandomForestClassifier"
   ]
  },
  {
   "cell_type": "code",
   "execution_count": 49,
   "id": "63f527ca",
   "metadata": {},
   "outputs": [
    {
     "data": {
      "text/plain": [
       "RandomForestClassifier(n_estimators=400)"
      ]
     },
     "execution_count": 49,
     "metadata": {},
     "output_type": "execute_result"
    }
   ],
   "source": [
    "# Extraindo melhores parâmetros\n",
    "best_params = best_rf.get_params()\n",
    "\n",
    "# Recria o modelo com os melhores hiperparâmetros\n",
    "modelo_RF = RandomForestClassifier(\n",
    "    n_estimators=best_params['n_estimators'],\n",
    "    min_samples_split=best_params['min_samples_split'],\n",
    "    min_samples_leaf=best_params['min_samples_leaf'],\n",
    "    max_features=best_params['max_features'],\n",
    "    bootstrap=best_params['bootstrap']\n",
    ")\n",
    "\n",
    "# Treinando o modelo final no conjunto de treino\n",
    "modelo_RF.fit(X_treino, y_treino)"
   ]
  },
  {
   "cell_type": "markdown",
   "id": "ea1516ec",
   "metadata": {},
   "source": [
    "<br><br>\n",
    "\n",
    "## Previsão / Avaliação do Modelo"
   ]
  },
  {
   "cell_type": "code",
   "execution_count": 50,
   "id": "a16af6b1",
   "metadata": {},
   "outputs": [
    {
     "name": "stdout",
     "output_type": "stream",
     "text": [
      "Previsões de Classe:\n",
      "[1 0 1 1 0]\n",
      "\n",
      "--------------------------------------------------------------------------------\n",
      "\n",
      "Previsões de Probabilidade para Cada Classe:\n",
      "[[0.3825 0.6175]\n",
      " [0.6375 0.3625]\n",
      " [0.42   0.58  ]\n",
      " [0.285  0.715 ]\n",
      " [0.9    0.1   ]]\n",
      "\n",
      "--------------------------------------------------------------------------------\n",
      "\n",
      "Previsões de Probabilidade para a Classe Positiva:\n",
      "[0.6175 0.3625 0.58   0.715  0.1   ]\n",
      "\n",
      "--------------------------------------------------------------------------------\n",
      "\n",
      "Matriz de Confusão:\n",
      "[[706 418]\n",
      " [417 276]]\n",
      "\n",
      "--------------------------------------------------------------------------------\n",
      "\n",
      "Acurácia: 0.5405\n",
      "ROC AUC Score: 0.5168\n",
      "AUC Score: 0.5168\n"
     ]
    }
   ],
   "source": [
    "## Previsões\n",
    "\n",
    "# Previsões com dados de teste\n",
    "y_pred_RF = modelo_RF.predict(X_teste)\n",
    "print('Previsões de Classe:')\n",
    "print(y_pred_RF[:5])\n",
    "print('\\n' + '-' * 80 + '\\n')\n",
    "\n",
    "# Obtemos as previsões no formato de probabilidade para cada classe\n",
    "y_pred_proba_RF = modelo_RF.predict_proba(X_teste)\n",
    "print('Previsões de Probabilidade para Cada Classe:')\n",
    "print(y_pred_proba_RF[:5])\n",
    "print('\\n' + '-' * 80 + '\\n')\n",
    "\n",
    "# Obtemos as previsões no formato de probabilidade filtrando para a classe positiva (Cálculo da Curva ROC)\n",
    "y_pred_proba_RF_pos = modelo_RF.predict_proba(X_teste)[:, 1]\n",
    "print('Previsões de Probabilidade para a Classe Positiva:')\n",
    "print(y_pred_proba_RF_pos[:5])\n",
    "print('\\n' + '-' * 80 + '\\n')\n",
    "\n",
    "## Avaliação do Modelo\n",
    "\n",
    "# Matriz de confusão\n",
    "conf_matrix_RF = confusion_matrix(y_teste, y_pred_RF)\n",
    "print('Matriz de Confusão:')\n",
    "print(conf_matrix_RF)\n",
    "print('\\n' + '-' * 80 + '\\n')\n",
    "\n",
    "# Extraindo cada valor da Confusion Matrix\n",
    "tn_RF, fp_RF, fn_RF, tp_RF = conf_matrix_RF.ravel()\n",
    "\n",
    "# Calcula a métrica global AUC (Area Under The Curve) com dados reais e previsões em teste\n",
    "roc_auc_RF = roc_auc_score(y_teste, y_pred_proba_RF_pos)\n",
    "\n",
    "# Calcula a curva ROC com dados e previsões em teste\n",
    "fpr_RF, tpr_RF, thresholds_RF = roc_curve(y_teste, y_pred_proba_RF_pos)\n",
    "\n",
    "# AUC em teste\n",
    "auc_RF = auc(fpr_RF, tpr_RF)\n",
    "\n",
    "# Acurácia em teste\n",
    "acuracia_RF = accuracy_score(y_teste, y_pred_RF)\n",
    "\n",
    "# Exibindo as métricas\n",
    "print(f'Acurácia: {acuracia_RF:.4f}')\n",
    "print(f'ROC AUC Score: {roc_auc_RF:.4f}')\n",
    "print(f'AUC Score: {auc_RF:.4f}')"
   ]
  },
  {
   "cell_type": "markdown",
   "id": "88c4e120",
   "metadata": {},
   "source": [
    "<br>\n",
    "\n",
    "#### Visualizando Importância das Variáveis"
   ]
  },
  {
   "cell_type": "code",
   "execution_count": 51,
   "id": "3464d39a",
   "metadata": {},
   "outputs": [
    {
     "name": "stdout",
     "output_type": "stream",
     "text": [
      "Visualizando Importância das Variáveis\n",
      "--------------------------------------------------------------------------------\n",
      "              Feature  Importance\n",
      "1  transaction_amount    0.541193\n",
      "0         account_age    0.428438\n",
      "2    transaction_type    0.018912\n",
      "3            location    0.011457\n",
      "--------------------------------------------------------------------------------\n",
      "--------------------------------------------------------------------------------\n"
     ]
    },
    {
     "data": {
      "image/png": "[encoded data removed]",
      "text/plain": [
       "<Figure size 720x576 with 1 Axes>"
      ]
     },
     "metadata": {
      "needs_background": "light"
     },
     "output_type": "display_data"
    }
   ],
   "source": [
    "# Extrair coeficientes do modelo\n",
    "importancias = modelo_RF.feature_importances_\n",
    "\n",
    "# Criar DataFrame para visualização\n",
    "features = X_treino.columns\n",
    "df_importancias = pd.DataFrame({'Feature': features, 'Importance': importancias})\n",
    "df_importancias = df_importancias.sort_values(by='Importance', ascending=False)\n",
    "\n",
    "# Exibir importâncias\n",
    "print('Visualizando Importância das Variáveis')\n",
    "print(80*'-')\n",
    "print(df_importancias)\n",
    "\n",
    "print(80*'-')\n",
    "print(80*'-')\n",
    "\n",
    "# Gráfico de barras da importância das variáveis\n",
    "plt.figure(figsize=(10, 8))\n",
    "sns.barplot(x='Importance', y='Feature', data=df_importancias)\n",
    "plt.title('Feature Importance from Random Forest')\n",
    "plt.xlabel('Importance')\n",
    "plt.ylabel('Features')\n",
    "plt.show()"
   ]
  },
  {
   "cell_type": "markdown",
   "id": "d805fe06",
   "metadata": {},
   "source": [
    "<br><br>\n",
    "\n",
    "### Salvando as Métricas"
   ]
  },
  {
   "cell_type": "code",
   "execution_count": 52,
   "id": "f0d69931",
   "metadata": {},
   "outputs": [
    {
     "data": {
      "text/html": [
       "<div>\n",
       "<style scoped>\n",
       "    .dataframe tbody tr th:only-of-type {\n",
       "        vertical-align: middle;\n",
       "    }\n",
       "\n",
       "    .dataframe tbody tr th {\n",
       "        vertical-align: top;\n",
       "    }\n",
       "\n",
       "    .dataframe thead th {\n",
       "        text-align: right;\n",
       "    }\n",
       "</style>\n",
       "<table border=\"1\" class=\"dataframe\">\n",
       "  <thead>\n",
       "    <tr style=\"text-align: right;\">\n",
       "      <th></th>\n",
       "      <th>Nome do Modelo</th>\n",
       "      <th>Nome do Algoritmo</th>\n",
       "      <th>ROC_AUC Score</th>\n",
       "      <th>AUC Score</th>\n",
       "      <th>Acuracia</th>\n",
       "    </tr>\n",
       "  </thead>\n",
       "  <tbody>\n",
       "    <tr>\n",
       "      <th>0</th>\n",
       "      <td>Modelo 1</td>\n",
       "      <td>Logistic Regression</td>\n",
       "      <td>0.502197</td>\n",
       "      <td>0.502197</td>\n",
       "      <td>0.504678</td>\n",
       "    </tr>\n",
       "    <tr>\n",
       "      <th>1</th>\n",
       "      <td>Modelo 2</td>\n",
       "      <td>Random Forest</td>\n",
       "      <td>0.516768</td>\n",
       "      <td>0.516768</td>\n",
       "      <td>0.540451</td>\n",
       "    </tr>\n",
       "  </tbody>\n",
       "</table>\n",
       "</div>"
      ],
      "text/plain": [
       "  Nome do Modelo    Nome do Algoritmo  ROC_AUC Score  AUC Score  Acuracia\n",
       "0       Modelo 1  Logistic Regression       0.502197   0.502197  0.504678\n",
       "1       Modelo 2        Random Forest       0.516768   0.516768  0.540451"
      ]
     },
     "metadata": {},
     "output_type": "display_data"
    }
   ],
   "source": [
    "# Salvando as Métricas\n",
    "dict_modelo_RF = {\n",
    "    'Nome do Modelo': 'Modelo 2', \n",
    "    'Nome do Algoritmo': 'Random Forest', \n",
    "    'ROC_AUC Score': roc_auc_RF,\n",
    "    'AUC Score': auc_RF,\n",
    "    'Acuracia': acuracia_RF\n",
    "}\n",
    "# Adicionando as métricas ao DataFrame existente\n",
    "df_modelos = pd.concat([df_modelos, pd.DataFrame([dict_modelo_RF])], ignore_index=True)\n",
    "\n",
    "# Verifica as métricas salvas\n",
    "display(df_modelos)"
   ]
  },
  {
   "cell_type": "markdown",
   "id": "284434c1",
   "metadata": {},
   "source": [
    "<br><br><br>\n",
    "\n",
    "# <span style=\"color: green; font-size: 38px; font-weight: bold;\">Modelo 3 - KNN</span>\n",
    "\n",
    "<br>\n",
    "\n",
    "- Para esse algoritmo precisamos antes definir o **valor de K**, que é o **número de vizinhos mais próximos**.\n",
    "- Com o algoritmo KNN **não extraímos as variáveis mais importantes**, pois o conceito do algoritmo é diferente.\n",
    "\n",
    "<br>\n",
    "\n",
    "### Criando o Modelo"
   ]
  },
  {
   "cell_type": "code",
   "execution_count": 53,
   "id": "2a8256e0",
   "metadata": {},
   "outputs": [
    {
     "name": "stdout",
     "output_type": "stream",
     "text": [
      "O valor ideal de k é 1\n"
     ]
    }
   ],
   "source": [
    "# Lista de possíveis valores de K\n",
    "vizinhos = list(range(1, 20, 2))\n",
    "\n",
    "# Lista para os scores\n",
    "cv_scores = []\n",
    "\n",
    "# Validação cruzada para determinar o melhor valor de k\n",
    "for k in vizinhos:\n",
    "    knn = KNeighborsClassifier(n_neighbors = k)\n",
    "    scores = cross_val_score(knn, X_treino, y_treino, cv = 5, scoring = 'accuracy')\n",
    "    cv_scores.append(scores.mean())  \n",
    "    \n",
    "# Ajustando o erro de classificação\n",
    "erro = [1 - x for x in cv_scores]\n",
    "\n",
    "# Determinando o melhor valor de k (com menor erro)\n",
    "optimal_k = vizinhos[erro.index(min(erro))]\n",
    "print('O valor ideal de k é %d' % optimal_k)"
   ]
  },
  {
   "cell_type": "markdown",
   "id": "991b91da",
   "metadata": {},
   "source": [
    "#### Construindo e Treinando o Modelo"
   ]
  },
  {
   "cell_type": "code",
   "execution_count": 54,
   "id": "7d3a6fd9",
   "metadata": {},
   "outputs": [
    {
     "data": {
      "text/plain": [
       "KNeighborsClassifier(n_neighbors=1)"
      ]
     },
     "execution_count": 54,
     "metadata": {},
     "output_type": "execute_result"
    }
   ],
   "source": [
    "# Criamos o modelo versão 3\n",
    "modelo_KNN = KNeighborsClassifier(n_neighbors=optimal_k)\n",
    "\n",
    "# Treinando o modelo\n",
    "modelo_KNN.fit(X_treino, y_treino)"
   ]
  },
  {
   "cell_type": "markdown",
   "id": "bd77a53a",
   "metadata": {},
   "source": [
    "<br><br>\n",
    "\n",
    "## Previsão / Avaliação do Modelo"
   ]
  },
  {
   "cell_type": "code",
   "execution_count": 55,
   "id": "bcd3b6f7",
   "metadata": {},
   "outputs": [
    {
     "name": "stdout",
     "output_type": "stream",
     "text": [
      "Previsões de Classe:\n",
      "[1 0 1 1 0]\n",
      "\n",
      "--------------------------------------------------------------------------------\n",
      "\n",
      "Previsões de Probabilidade para Cada Classe:\n",
      "[[0. 1.]\n",
      " [1. 0.]\n",
      " [0. 1.]\n",
      " [0. 1.]\n",
      " [1. 0.]]\n",
      "\n",
      "--------------------------------------------------------------------------------\n",
      "\n",
      "Previsões de Probabilidade para a Classe Positiva:\n",
      "[1. 0. 1. 1. 0.]\n",
      "\n",
      "--------------------------------------------------------------------------------\n",
      "\n",
      "Matriz de Confusão:\n",
      "[[643 481]\n",
      " [396 297]]\n",
      "\n",
      "--------------------------------------------------------------------------------\n",
      "\n",
      "Acurácia: 0.5173\n",
      "ROC AUC Score: 0.5003\n",
      "AUC Score: 0.5003\n"
     ]
    }
   ],
   "source": [
    "## Previsões\n",
    "\n",
    "# Previsões com dados de teste\n",
    "y_pred_KNN = modelo_KNN.predict(X_teste)\n",
    "print('Previsões de Classe:')\n",
    "print(y_pred_KNN[:5])\n",
    "print('\\n' + '-' * 80 + '\\n')\n",
    "\n",
    "# Obtemos as previsões no formato de probabilidade para cada classe\n",
    "y_pred_proba_KNN = modelo_KNN.predict_proba(X_teste)\n",
    "print('Previsões de Probabilidade para Cada Classe:')\n",
    "print(y_pred_proba_KNN[:5])\n",
    "print('\\n' + '-' * 80 + '\\n')\n",
    "\n",
    "# Obtemos as previsões no formato de probabilidade filtrando para a classe positiva (Cálculo da Curva ROC)\n",
    "y_pred_proba_KNN_pos = modelo_KNN.predict_proba(X_teste)[:, 1]\n",
    "print('Previsões de Probabilidade para a Classe Positiva:')\n",
    "print(y_pred_proba_KNN_pos[:5])\n",
    "print('\\n' + '-' * 80 + '\\n')\n",
    "\n",
    "## Avaliação do Modelo\n",
    "\n",
    "# Matriz de confusão\n",
    "conf_matrix_KNN = confusion_matrix(y_teste, y_pred_KNN)\n",
    "print('Matriz de Confusão:')\n",
    "print(conf_matrix_KNN)\n",
    "print('\\n' + '-' * 80 + '\\n')\n",
    "\n",
    "# Extraindo cada valor da Confusion Matrix\n",
    "tn_KNN, fp_KNN, fn_KNN, tp_KNN = conf_matrix_KNN.ravel()\n",
    "\n",
    "# Calcula a métrica global AUC (Area Under The Curve) com dados reais e previsões em teste\n",
    "roc_auc_KNN = roc_auc_score(y_teste, y_pred_proba_KNN_pos)\n",
    "\n",
    "# Calcula a curva ROC com dados e previsões em teste\n",
    "fpr_KNN, tpr_KNN, thresholds_KNN = roc_curve(y_teste, y_pred_proba_KNN_pos)\n",
    "\n",
    "# AUC em teste\n",
    "auc_KNN = auc(fpr_KNN, tpr_KNN)\n",
    "\n",
    "# Acurácia em teste\n",
    "acuracia_KNN = accuracy_score(y_teste, y_pred_KNN)\n",
    "\n",
    "# Exibindo as métricas\n",
    "print(f'Acurácia: {acuracia_KNN:.4f}')\n",
    "print(f'ROC AUC Score: {roc_auc_KNN:.4f}')\n",
    "print(f'AUC Score: {auc_KNN:.4f}')"
   ]
  },
  {
   "cell_type": "markdown",
   "id": "38c89318",
   "metadata": {},
   "source": [
    "<br><br>\n",
    "\n",
    "### Salvando as Métricas"
   ]
  },
  {
   "cell_type": "code",
   "execution_count": 56,
   "id": "e9d4167a",
   "metadata": {},
   "outputs": [
    {
     "data": {
      "text/html": [
       "<div>\n",
       "<style scoped>\n",
       "    .dataframe tbody tr th:only-of-type {\n",
       "        vertical-align: middle;\n",
       "    }\n",
       "\n",
       "    .dataframe tbody tr th {\n",
       "        vertical-align: top;\n",
       "    }\n",
       "\n",
       "    .dataframe thead th {\n",
       "        text-align: right;\n",
       "    }\n",
       "</style>\n",
       "<table border=\"1\" class=\"dataframe\">\n",
       "  <thead>\n",
       "    <tr style=\"text-align: right;\">\n",
       "      <th></th>\n",
       "      <th>Nome do Modelo</th>\n",
       "      <th>Nome do Algoritmo</th>\n",
       "      <th>ROC_AUC Score</th>\n",
       "      <th>AUC Score</th>\n",
       "      <th>Acuracia</th>\n",
       "    </tr>\n",
       "  </thead>\n",
       "  <tbody>\n",
       "    <tr>\n",
       "      <th>0</th>\n",
       "      <td>Modelo 1</td>\n",
       "      <td>Logistic Regression</td>\n",
       "      <td>0.502197</td>\n",
       "      <td>0.502197</td>\n",
       "      <td>0.504678</td>\n",
       "    </tr>\n",
       "    <tr>\n",
       "      <th>1</th>\n",
       "      <td>Modelo 2</td>\n",
       "      <td>Random Forest</td>\n",
       "      <td>0.516768</td>\n",
       "      <td>0.516768</td>\n",
       "      <td>0.540451</td>\n",
       "    </tr>\n",
       "    <tr>\n",
       "      <th>2</th>\n",
       "      <td>Modelo 3</td>\n",
       "      <td>K-Nearest Neighbors</td>\n",
       "      <td>0.500318</td>\n",
       "      <td>0.500318</td>\n",
       "      <td>0.517336</td>\n",
       "    </tr>\n",
       "  </tbody>\n",
       "</table>\n",
       "</div>"
      ],
      "text/plain": [
       "  Nome do Modelo    Nome do Algoritmo  ROC_AUC Score  AUC Score  Acuracia\n",
       "0       Modelo 1  Logistic Regression       0.502197   0.502197  0.504678\n",
       "1       Modelo 2        Random Forest       0.516768   0.516768  0.540451\n",
       "2       Modelo 3  K-Nearest Neighbors       0.500318   0.500318  0.517336"
      ]
     },
     "metadata": {},
     "output_type": "display_data"
    }
   ],
   "source": [
    "# Salvando as Métricas\n",
    "dict_modelo_KNN = {\n",
    "    'Nome do Modelo': 'Modelo 3', \n",
    "    'Nome do Algoritmo': 'K-Nearest Neighbors', \n",
    "    'ROC_AUC Score': roc_auc_KNN,\n",
    "    'AUC Score': auc_KNN,\n",
    "    'Acuracia': acuracia_KNN\n",
    "}\n",
    "\n",
    "# Adicionando as métricas ao DataFrame existente\n",
    "df_modelos = pd.concat([df_modelos, pd.DataFrame([dict_modelo_KNN])], ignore_index=True)\n",
    "\n",
    "# Verifica as métricas salvas\n",
    "display(df_modelos)"
   ]
  },
  {
   "cell_type": "markdown",
   "id": "17561778",
   "metadata": {},
   "source": [
    "<br><br><br>\n",
    "\n",
    "# <span style=\"color: green; font-size: 38px; font-weight: bold;\">Modelo 4 - Decision Tree</span>\n",
    "\n",
    "<br>\n",
    "\n",
    "- Cria várias modelos com o **RandomizedSearchCV** para encontrar os **melhores hiperparâmetros**.\n",
    "- Após a identificação do **melhor modelo**, o modelo final é treinado diretamente com a **DecisionTreeClassifier**, usando esses hiperparâmetros otimizados, para garantir um modelo eficiente e pronto para implementação prática.\n",
    "\n",
    "<br>\n",
    "\n",
    "### Criando o Modelo"
   ]
  },
  {
   "cell_type": "code",
   "execution_count": 57,
   "id": "e778b9da",
   "metadata": {},
   "outputs": [
    {
     "name": "stdout",
     "output_type": "stream",
     "text": [
      "DecisionTreeClassifier(max_depth=7)\n"
     ]
    }
   ],
   "source": [
    "# Hiperparâmetros\n",
    "tuned_params_DT = {\n",
    "    'min_samples_split': [2, 3, 4, 5, 7], \n",
    "    'min_samples_leaf': [1, 2, 3, 4, 6], \n",
    "    'max_depth': [2, 3, 4, 5, 6, 7]\n",
    "}\n",
    "\n",
    "# Cria o modelo com RandomizedSearchCV\n",
    "modelo = RandomizedSearchCV(DecisionTreeClassifier(), \n",
    "                            tuned_params_DT, \n",
    "                            n_iter=15, \n",
    "                            scoring='roc_auc', \n",
    "                            n_jobs=-1)\n",
    "\n",
    "# Treinamento\n",
    "modelo.fit(X_treino, y_treino)\n",
    "\n",
    "# Visualiza o melhor modelo\n",
    "best_dt = modelo.best_estimator_\n",
    "print(best_dt)"
   ]
  },
  {
   "cell_type": "markdown",
   "id": "9fd4d92d",
   "metadata": {},
   "source": [
    "#### Construindo e Treinando o Modelo com DecisionTreeClassifier"
   ]
  },
  {
   "cell_type": "code",
   "execution_count": 58,
   "id": "ab856b3c",
   "metadata": {},
   "outputs": [
    {
     "data": {
      "text/plain": [
       "DecisionTreeClassifier(max_depth=7)"
      ]
     },
     "execution_count": 58,
     "metadata": {},
     "output_type": "execute_result"
    }
   ],
   "source": [
    "# Recriando o modelo com os melhores hiperparâmetros automaticamente\n",
    "best_params = best_dt.get_params()\n",
    "\n",
    "# Treinando o modelo final no conjunto de treino\n",
    "modelo_DT = DecisionTreeClassifier(**best_params)\n",
    "modelo_DT.fit(X_treino, y_treino)"
   ]
  },
  {
   "cell_type": "markdown",
   "id": "4a04bd75",
   "metadata": {},
   "source": [
    "<br><br>\n",
    "\n",
    "## Previsão / Avaliação do Modelo"
   ]
  },
  {
   "cell_type": "code",
   "execution_count": 59,
   "id": "dd589a85",
   "metadata": {},
   "outputs": [
    {
     "name": "stdout",
     "output_type": "stream",
     "text": [
      "Previsões de Classe:\n",
      "[0 0 0 0 0]\n",
      "\n",
      "--------------------------------------------------------------------------------\n",
      "\n",
      "Previsões de Probabilidade para Cada Classe:\n",
      "[[0.56619718 0.43380282]\n",
      " [0.55480769 0.44519231]\n",
      " [0.56807512 0.43192488]\n",
      " [0.55480769 0.44519231]\n",
      " [0.55828221 0.44171779]]\n",
      "\n",
      "--------------------------------------------------------------------------------\n",
      "\n",
      "Previsões de Probabilidade para a Classe Positiva:\n",
      "[0.43380282 0.44519231 0.43192488 0.44519231 0.44171779]\n",
      "\n",
      "--------------------------------------------------------------------------------\n",
      "\n",
      "Matriz de Confusão:\n",
      "[[668 456]\n",
      " [414 279]]\n",
      "\n",
      "--------------------------------------------------------------------------------\n",
      "\n",
      "Acurácia: 0.5212\n",
      "ROC AUC Score: 0.5006\n",
      "AUC Score: 0.5006\n"
     ]
    }
   ],
   "source": [
    "## Previsões\n",
    "\n",
    "# Previsões com dados de teste\n",
    "y_pred_DT = modelo_DT.predict(X_teste)\n",
    "print('Previsões de Classe:')\n",
    "print(y_pred_DT[:5])\n",
    "print('\\n' + '-' * 80 + '\\n')\n",
    "\n",
    "# Obtemos as previsões no formato de probabilidade para cada classe\n",
    "y_pred_proba_DT = modelo_DT.predict_proba(X_teste)\n",
    "print('Previsões de Probabilidade para Cada Classe:')\n",
    "print(y_pred_proba_DT[:5])\n",
    "print('\\n' + '-' * 80 + '\\n')\n",
    "\n",
    "# Obtemos as previsões no formato de probabilidade filtrando para a classe positiva (Cálculo da Curva ROC)\n",
    "y_pred_proba_DT_pos = modelo_DT.predict_proba(X_teste)[:, 1]\n",
    "print('Previsões de Probabilidade para a Classe Positiva:')\n",
    "print(y_pred_proba_DT_pos[:5])\n",
    "print('\\n' + '-' * 80 + '\\n')\n",
    "\n",
    "## Avaliação do Modelo\n",
    "\n",
    "# Matriz de confusão\n",
    "conf_matrix_DT = confusion_matrix(y_teste, y_pred_DT)\n",
    "print('Matriz de Confusão:')\n",
    "print(conf_matrix_DT)\n",
    "print('\\n' + '-' * 80 + '\\n')\n",
    "\n",
    "# Extraindo cada valor da Confusion Matrix\n",
    "tn_DT, fp_DT, fn_DT, tp_DT = conf_matrix_DT.ravel()\n",
    "\n",
    "# Calcula a métrica global AUC (Area Under The Curve) com dados reais e previsões em teste\n",
    "roc_auc_DT = roc_auc_score(y_teste, y_pred_proba_DT_pos)\n",
    "\n",
    "# Calcula a curva ROC com dados e previsões em teste\n",
    "fpr_DT, tpr_DT, thresholds_DT = roc_curve(y_teste, y_pred_proba_DT_pos)\n",
    "\n",
    "# AUC em teste\n",
    "auc_DT = auc(fpr_DT, tpr_DT)\n",
    "\n",
    "# Acurácia em teste\n",
    "acuracia_DT = accuracy_score(y_teste, y_pred_DT)\n",
    "\n",
    "# Exibindo as métricas\n",
    "print(f'Acurácia: {acuracia_DT:.4f}')\n",
    "print(f'ROC AUC Score: {roc_auc_DT:.4f}')\n",
    "print(f'AUC Score: {auc_DT:.4f}')"
   ]
  },
  {
   "cell_type": "markdown",
   "id": "f3ec798d",
   "metadata": {},
   "source": [
    "<br>\n",
    "\n",
    "#### Visualizando Importância das Variáveis"
   ]
  },
  {
   "cell_type": "code",
   "execution_count": 60,
   "id": "bd73bc9f",
   "metadata": {},
   "outputs": [
    {
     "name": "stdout",
     "output_type": "stream",
     "text": [
      "Visualizando Importância das Variáveis\n",
      "--------------------------------------------------------------------------------\n",
      "              Feature  Importance\n",
      "1  transaction_amount    0.396403\n",
      "0         account_age    0.364479\n",
      "3            location    0.129452\n",
      "2    transaction_type    0.109666\n",
      "--------------------------------------------------------------------------------\n"
     ]
    },
    {
     "data": {
      "image/png": "[encoded data removed]",
      "text/plain": [
       "<Figure size 720x576 with 1 Axes>"
      ]
     },
     "metadata": {
      "needs_background": "light"
     },
     "output_type": "display_data"
    }
   ],
   "source": [
    "# Extrair coeficientes do modelo\n",
    "importancias = modelo_DT.feature_importances_\n",
    "\n",
    "# Criar DataFrame para visualização\n",
    "features = X_treino.columns\n",
    "df_importancias = pd.DataFrame({'Feature': features, 'Importance': importancias})\n",
    "df_importancias = df_importancias.sort_values(by='Importance', ascending=False)\n",
    "\n",
    "# Exibir importâncias\n",
    "print('Visualizando Importância das Variáveis')\n",
    "print(80*'-')\n",
    "print(df_importancias.head())\n",
    "print(80*'-')\n",
    "\n",
    "# Gráfico de barras da importância das variáveis\n",
    "plt.figure(figsize=(10, 8))\n",
    "sns.barplot(x='Importance', y='Feature', data=df_importancias)\n",
    "plt.title('Feature Importance from Decision Tree')\n",
    "plt.xlabel('Importance')\n",
    "plt.ylabel('Features')\n",
    "plt.show()"
   ]
  },
  {
   "cell_type": "markdown",
   "id": "1a895f07",
   "metadata": {},
   "source": [
    "<br><br>\n",
    "\n",
    "### Salvando as Métricas"
   ]
  },
  {
   "cell_type": "code",
   "execution_count": 61,
   "id": "4d03f1a0",
   "metadata": {},
   "outputs": [
    {
     "data": {
      "text/html": [
       "<div>\n",
       "<style scoped>\n",
       "    .dataframe tbody tr th:only-of-type {\n",
       "        vertical-align: middle;\n",
       "    }\n",
       "\n",
       "    .dataframe tbody tr th {\n",
       "        vertical-align: top;\n",
       "    }\n",
       "\n",
       "    .dataframe thead th {\n",
       "        text-align: right;\n",
       "    }\n",
       "</style>\n",
       "<table border=\"1\" class=\"dataframe\">\n",
       "  <thead>\n",
       "    <tr style=\"text-align: right;\">\n",
       "      <th></th>\n",
       "      <th>Nome do Modelo</th>\n",
       "      <th>Nome do Algoritmo</th>\n",
       "      <th>ROC_AUC Score</th>\n",
       "      <th>AUC Score</th>\n",
       "      <th>Acuracia</th>\n",
       "    </tr>\n",
       "  </thead>\n",
       "  <tbody>\n",
       "    <tr>\n",
       "      <th>0</th>\n",
       "      <td>Modelo 1</td>\n",
       "      <td>Logistic Regression</td>\n",
       "      <td>0.502197</td>\n",
       "      <td>0.502197</td>\n",
       "      <td>0.504678</td>\n",
       "    </tr>\n",
       "    <tr>\n",
       "      <th>1</th>\n",
       "      <td>Modelo 2</td>\n",
       "      <td>Random Forest</td>\n",
       "      <td>0.516768</td>\n",
       "      <td>0.516768</td>\n",
       "      <td>0.540451</td>\n",
       "    </tr>\n",
       "    <tr>\n",
       "      <th>2</th>\n",
       "      <td>Modelo 3</td>\n",
       "      <td>K-Nearest Neighbors</td>\n",
       "      <td>0.500318</td>\n",
       "      <td>0.500318</td>\n",
       "      <td>0.517336</td>\n",
       "    </tr>\n",
       "    <tr>\n",
       "      <th>3</th>\n",
       "      <td>Modelo 4</td>\n",
       "      <td>Decision Tree</td>\n",
       "      <td>0.500585</td>\n",
       "      <td>0.500585</td>\n",
       "      <td>0.521189</td>\n",
       "    </tr>\n",
       "  </tbody>\n",
       "</table>\n",
       "</div>"
      ],
      "text/plain": [
       "  Nome do Modelo    Nome do Algoritmo  ROC_AUC Score  AUC Score  Acuracia\n",
       "0       Modelo 1  Logistic Regression       0.502197   0.502197  0.504678\n",
       "1       Modelo 2        Random Forest       0.516768   0.516768  0.540451\n",
       "2       Modelo 3  K-Nearest Neighbors       0.500318   0.500318  0.517336\n",
       "3       Modelo 4        Decision Tree       0.500585   0.500585  0.521189"
      ]
     },
     "metadata": {},
     "output_type": "display_data"
    }
   ],
   "source": [
    "# Salvando as Métricas\n",
    "dict_modelo_DT = {\n",
    "    'Nome do Modelo': 'Modelo 4', \n",
    "    'Nome do Algoritmo': 'Decision Tree', \n",
    "    'ROC_AUC Score': roc_auc_DT,\n",
    "    'AUC Score': auc_DT,\n",
    "    'Acuracia': acuracia_DT\n",
    "}\n",
    "\n",
    "# Adicionando as métricas ao DataFrame existente\n",
    "df_modelos = pd.concat([df_modelos, pd.DataFrame([dict_modelo_DT])], ignore_index=True)\n",
    "\n",
    "# Verifica as métricas salvas\n",
    "display(df_modelos)"
   ]
  },
  {
   "cell_type": "markdown",
   "id": "c6d93f75",
   "metadata": {},
   "source": [
    "<br><br><br>\n",
    "\n",
    "# <span style=\"color: green; font-size: 38px; font-weight: bold;\">Modelo 5 - SVM</span>\n",
    "\n",
    "<br>\n",
    "\n",
    "- Para a construção deste modelo, utilizamos o algoritmo Support Vector Machine (SVM) com a função kernel radial (RBF).\n",
    "- A seleção de hiperparâmetros será realizada utilizando GridSearchCV para encontrar a melhor combinação de parâmetros para o nosso modelo.\n",
    "- Após a identificação dos melhores hiperparâmetros, treinaremos o modelo final com esses valores otimizados para garantir um desempenho eficiente e pronto para implementação prática.\n",
    "\n",
    "<br>\n",
    "\n",
    "### Criando o Modelo"
   ]
  },
  {
   "cell_type": "code",
   "execution_count": 62,
   "id": "4eb6c07d",
   "metadata": {},
   "outputs": [
    {
     "name": "stdout",
     "output_type": "stream",
     "text": [
      "{'gamma': 1, 'C': 0.1}\n"
     ]
    }
   ],
   "source": [
    "# Função para seleção de hiperparâmetros\n",
    "#def svc_param_selection(X, y, nfolds):\n",
    "#    Cs = [0.001, 0.01, 0.1, 1, 10]\n",
    "#    gammas = [0.001, 0.01, 0.1, 1]\n",
    "#    param_grid = {'C': Cs, 'gamma': gammas}\n",
    "#    grid_search = GridSearchCV(SVC(kernel='rbf', probability=True), param_grid, cv=nfolds)\n",
    "#    grid_search.fit(X, y)\n",
    "#    return grid_search.best_params_\n",
    "\n",
    "# Aplica a função para obter os melhores hiperparâmetros\n",
    "# best_params_SVM = svc_param_selection(X_treino, y_treino, 5)\n",
    "# print(best_params_SVM)\n",
    "\n",
    "\n",
    "#### USANDO RandomizedSearchCV (Mais rápido)\n",
    "\n",
    "# Função para seleção de hiperparâmetros usando RandomizedSearchCV\n",
    "def svc_param_selection(X, y, n_iter, nfolds):\n",
    "    Cs = [0.001, 0.01, 0.1, 1, 10]\n",
    "    gammas = [0.001, 0.01, 0.1, 1]\n",
    "    param_grid = {'C': Cs, 'gamma': gammas}\n",
    "    random_search = RandomizedSearchCV(SVC(kernel='rbf', probability=True), param_distributions=param_grid, n_iter=n_iter, cv=nfolds, random_state=42, n_jobs=-1)\n",
    "    random_search.fit(X, y)\n",
    "    return random_search.best_params_\n",
    "\n",
    "# Aplica a função para obter os melhores hiperparâmetros com um número limitado de iterações (10)\n",
    "best_params_SVM = svc_param_selection(X_treino, y_treino, n_iter=10, nfolds=5)\n",
    "print(best_params_SVM)"
   ]
  },
  {
   "cell_type": "markdown",
   "id": "3e78e958",
   "metadata": {},
   "source": [
    "#### Construindo e Treinando"
   ]
  },
  {
   "cell_type": "code",
   "execution_count": 63,
   "id": "8844e807",
   "metadata": {},
   "outputs": [
    {
     "data": {
      "text/plain": [
       "SVC(C=0.1, gamma=1, probability=True)"
      ]
     },
     "execution_count": 63,
     "metadata": {},
     "output_type": "execute_result"
    }
   ],
   "source": [
    "# Cria o modelo com os melhores hiperparâmetros\n",
    "modelo_SVM = SVC(**best_params_SVM, probability=True)\n",
    "\n",
    "# Treinamento\n",
    "modelo_SVM.fit(X_treino, y_treino)"
   ]
  },
  {
   "cell_type": "markdown",
   "id": "38f1dbad",
   "metadata": {},
   "source": [
    "<br><br>\n",
    "\n",
    "## Previsão / Avaliação do Modelo"
   ]
  },
  {
   "cell_type": "code",
   "execution_count": 64,
   "id": "c87e2855",
   "metadata": {},
   "outputs": [
    {
     "name": "stdout",
     "output_type": "stream",
     "text": [
      "Previsões de Classe:\n",
      "[0 0 1 0 0]\n",
      "\n",
      "--------------------------------------------------------------------------------\n",
      "\n",
      "Previsões de Probabilidade para Cada Classe:\n",
      "[[0.57558101 0.42441899]\n",
      " [0.54765457 0.45234543]\n",
      " [0.4411593  0.5588407 ]\n",
      " [0.5571691  0.4428309 ]\n",
      " [0.57578611 0.42421389]]\n",
      "\n",
      "--------------------------------------------------------------------------------\n",
      "\n",
      "Previsões de Probabilidade para a Classe Positiva:\n",
      "[0.42441899 0.45234543 0.5588407  0.4428309  0.42421389]\n",
      "\n",
      "--------------------------------------------------------------------------------\n",
      "\n",
      "Matriz de Confusão:\n",
      "[[647 477]\n",
      " [410 283]]\n",
      "\n",
      "--------------------------------------------------------------------------------\n",
      "\n",
      "Acurácia: 0.5118\n",
      "ROC AUC Score: 0.5010\n",
      "AUC Score: 0.5010\n"
     ]
    }
   ],
   "source": [
    "## Previsões\n",
    "\n",
    "# Previsões com dados de teste\n",
    "y_pred_SVM = modelo_SVM.predict(X_teste)\n",
    "print('Previsões de Classe:')\n",
    "print(y_pred_SVM[:5])\n",
    "print('\\n' + '-' * 80 + '\\n')\n",
    "\n",
    "# Obtemos as previsões no formato de probabilidade para cada classe\n",
    "y_pred_proba_SVM = modelo_SVM.predict_proba(X_teste)\n",
    "print('Previsões de Probabilidade para Cada Classe:')\n",
    "print(y_pred_proba_SVM[:5])\n",
    "print('\\n' + '-' * 80 + '\\n')\n",
    "\n",
    "# Obtemos as previsões no formato de probabilidade filtrando para a classe positiva (Cálculo da Curva ROC)\n",
    "y_pred_proba_SVM_pos = modelo_SVM.predict_proba(X_teste)[:, 1]\n",
    "print('Previsões de Probabilidade para a Classe Positiva:')\n",
    "print(y_pred_proba_SVM_pos[:5])\n",
    "print('\\n' + '-' * 80 + '\\n')\n",
    "\n",
    "## Avaliação do Modelo\n",
    "\n",
    "# Matriz de confusão\n",
    "conf_matrix_SVM = confusion_matrix(y_teste, y_pred_SVM)\n",
    "print('Matriz de Confusão:')\n",
    "print(conf_matrix_SVM)\n",
    "print('\\n' + '-' * 80 + '\\n')\n",
    "\n",
    "# Extraindo cada valor da Confusion Matrix\n",
    "tn_SVM, fp_SVM, fn_SVM, tp_SVM = conf_matrix_SVM.ravel()\n",
    "\n",
    "# Calcula a métrica global AUC (Area Under The Curve) com dados reais e previsões em teste\n",
    "roc_auc_SVM = roc_auc_score(y_teste, y_pred_proba_SVM_pos)\n",
    "\n",
    "# Calcula a curva ROC com dados e previsões em teste\n",
    "fpr_SVM, tpr_SVM, thresholds_SVM = roc_curve(y_teste, y_pred_proba_SVM_pos)\n",
    "\n",
    "# AUC em teste\n",
    "auc_SVM = auc(fpr_SVM, tpr_SVM)\n",
    "\n",
    "# Acurácia em teste\n",
    "acuracia_SVM = accuracy_score(y_teste, y_pred_SVM)\n",
    "\n",
    "# Exibindo as métricas\n",
    "print(f'Acurácia: {acuracia_SVM:.4f}')\n",
    "print(f'ROC AUC Score: {roc_auc_SVM:.4f}')\n",
    "print(f'AUC Score: {auc_SVM:.4f}')"
   ]
  },
  {
   "cell_type": "markdown",
   "id": "a865043a",
   "metadata": {},
   "source": [
    "<br>\n",
    "\n",
    "#### Visualizando Importância das Variáveis"
   ]
  },
  {
   "cell_type": "code",
   "execution_count": 65,
   "id": "77a442f1",
   "metadata": {},
   "outputs": [
    {
     "name": "stdout",
     "output_type": "stream",
     "text": [
      "Visualizando Importância das Variáveis para o Modelo SVM\n",
      "--------------------------------------------------------------------------------\n",
      "              Feature  Importance\n",
      "1  transaction_amount   -0.005008\n",
      "3            location   -0.006549\n",
      "0         account_age   -0.007925\n",
      "2    transaction_type   -0.014199\n",
      "--------------------------------------------------------------------------------\n"
     ]
    },
    {
     "data": {
      "image/png": "[encoded data removed]",
      "text/plain": [
       "<Figure size 720x576 with 1 Axes>"
      ]
     },
     "metadata": {
      "needs_background": "light"
     },
     "output_type": "display_data"
    }
   ],
   "source": [
    "from sklearn.inspection import permutation_importance\n",
    "\n",
    "# Avaliação da importância das variáveis através da permutação\n",
    "result = permutation_importance(modelo_SVM, X_teste, y_teste, n_repeats=10, random_state=42, n_jobs=-1)\n",
    "\n",
    "# Criando DataFrame para visualização\n",
    "df_importancias_SVM = pd.DataFrame({'Feature': X_teste.columns, 'Importance': result.importances_mean})\n",
    "df_importancias_SVM = df_importancias_SVM.sort_values(by='Importance', ascending=False)\n",
    "\n",
    "# Exibindo as importâncias\n",
    "print('Visualizando Importância das Variáveis para o Modelo SVM')\n",
    "print(80 * '-')\n",
    "print(df_importancias_SVM)\n",
    "print(80 * '-')\n",
    "\n",
    "# Gráfico de barras da importância das variáveis\n",
    "plt.figure(figsize=(10, 8))\n",
    "sns.barplot(x='Importance', y='Feature', data=df_importancias_SVM)\n",
    "plt.title('Feature Importance from SVM (Permutation Importance)')\n",
    "plt.xlabel('Importance')\n",
    "plt.ylabel('Features')\n",
    "plt.show()"
   ]
  },
  {
   "cell_type": "markdown",
   "id": "573e011f",
   "metadata": {},
   "source": [
    "<br><br>\n",
    "\n",
    "### Salvando as Métricas"
   ]
  },
  {
   "cell_type": "code",
   "execution_count": 66,
   "id": "29ea0f34",
   "metadata": {},
   "outputs": [
    {
     "data": {
      "text/html": [
       "<div>\n",
       "<style scoped>\n",
       "    .dataframe tbody tr th:only-of-type {\n",
       "        vertical-align: middle;\n",
       "    }\n",
       "\n",
       "    .dataframe tbody tr th {\n",
       "        vertical-align: top;\n",
       "    }\n",
       "\n",
       "    .dataframe thead th {\n",
       "        text-align: right;\n",
       "    }\n",
       "</style>\n",
       "<table border=\"1\" class=\"dataframe\">\n",
       "  <thead>\n",
       "    <tr style=\"text-align: right;\">\n",
       "      <th></th>\n",
       "      <th>Nome do Modelo</th>\n",
       "      <th>Nome do Algoritmo</th>\n",
       "      <th>ROC_AUC Score</th>\n",
       "      <th>AUC Score</th>\n",
       "      <th>Acuracia</th>\n",
       "    </tr>\n",
       "  </thead>\n",
       "  <tbody>\n",
       "    <tr>\n",
       "      <th>0</th>\n",
       "      <td>Modelo 1</td>\n",
       "      <td>Logistic Regression</td>\n",
       "      <td>0.502197</td>\n",
       "      <td>0.502197</td>\n",
       "      <td>0.504678</td>\n",
       "    </tr>\n",
       "    <tr>\n",
       "      <th>1</th>\n",
       "      <td>Modelo 2</td>\n",
       "      <td>Random Forest</td>\n",
       "      <td>0.516768</td>\n",
       "      <td>0.516768</td>\n",
       "      <td>0.540451</td>\n",
       "    </tr>\n",
       "    <tr>\n",
       "      <th>2</th>\n",
       "      <td>Modelo 3</td>\n",
       "      <td>K-Nearest Neighbors</td>\n",
       "      <td>0.500318</td>\n",
       "      <td>0.500318</td>\n",
       "      <td>0.517336</td>\n",
       "    </tr>\n",
       "    <tr>\n",
       "      <th>3</th>\n",
       "      <td>Modelo 4</td>\n",
       "      <td>Decision Tree</td>\n",
       "      <td>0.500585</td>\n",
       "      <td>0.500585</td>\n",
       "      <td>0.521189</td>\n",
       "    </tr>\n",
       "    <tr>\n",
       "      <th>4</th>\n",
       "      <td>Modelo 5</td>\n",
       "      <td>SVM</td>\n",
       "      <td>0.500996</td>\n",
       "      <td>0.500996</td>\n",
       "      <td>0.511833</td>\n",
       "    </tr>\n",
       "  </tbody>\n",
       "</table>\n",
       "</div>"
      ],
      "text/plain": [
       "  Nome do Modelo    Nome do Algoritmo  ROC_AUC Score  AUC Score  Acuracia\n",
       "0       Modelo 1  Logistic Regression       0.502197   0.502197  0.504678\n",
       "1       Modelo 2        Random Forest       0.516768   0.516768  0.540451\n",
       "2       Modelo 3  K-Nearest Neighbors       0.500318   0.500318  0.517336\n",
       "3       Modelo 4        Decision Tree       0.500585   0.500585  0.521189\n",
       "4       Modelo 5                  SVM       0.500996   0.500996  0.511833"
      ]
     },
     "metadata": {},
     "output_type": "display_data"
    }
   ],
   "source": [
    "# Salvando as Métricas\n",
    "dict_modelo_SVM = {\n",
    "    'Nome do Modelo': 'Modelo 5', \n",
    "    'Nome do Algoritmo': 'SVM', \n",
    "    'ROC_AUC Score': roc_auc_SVM,\n",
    "    'AUC Score': auc_SVM,\n",
    "    'Acuracia': acuracia_SVM\n",
    "}\n",
    "\n",
    "# Adicionando as métricas ao DataFrame existente\n",
    "df_modelos = pd.concat([df_modelos, pd.DataFrame([dict_modelo_SVM])], ignore_index=True)\n",
    "\n",
    "# Verifica as métricas salvas\n",
    "display(df_modelos)"
   ]
  },
  {
   "cell_type": "markdown",
   "id": "6aae9c60",
   "metadata": {},
   "source": [
    "<br><br><br>\n",
    "\n",
    "# <span style=\"color: green; font-size: 38px; font-weight: bold;\">Modelo 6 - Gradient Boosting Machine</span>\n",
    "\n",
    "<br>\n",
    "\n",
    "- Cria várias modelos com o RandomizedSearchCV para encontrar os melhores hiperparâmetros. Após a identificação do melhor modelo, o modelo final é treinado diretamente com o GradientBoostingClassifier, usando esses hiperparâmetros otimizados, para garantir um modelo eficiente e pronto para implementação prática.\n",
    "\n",
    "<br>\n",
    "\n",
    "### Criando o Modelo"
   ]
  },
  {
   "cell_type": "code",
   "execution_count": 67,
   "id": "4e39283d",
   "metadata": {},
   "outputs": [
    {
     "name": "stdout",
     "output_type": "stream",
     "text": [
      "GradientBoostingClassifier(max_depth=5, min_samples_leaf=2, n_estimators=300)\n"
     ]
    }
   ],
   "source": [
    "# Hiperparâmetros\n",
    "tuned_params_GBM = {\n",
    "    'n_estimators': [100, 200, 300],\n",
    "    'learning_rate': [0.01, 0.05, 0.1],\n",
    "    'max_depth': [3, 4, 5],\n",
    "    'min_samples_split': [2, 3, 4],\n",
    "    'min_samples_leaf': [1, 2, 3]\n",
    "}\n",
    "\n",
    "# Cria o modelo com RandomizedSearchCV\n",
    "modelo = RandomizedSearchCV(GradientBoostingClassifier(), \n",
    "                            tuned_params_GBM, \n",
    "                            n_iter=15, \n",
    "                            scoring='roc_auc', \n",
    "                            n_jobs=-1)\n",
    "\n",
    "# Treinamento\n",
    "modelo.fit(X_treino, y_treino)\n",
    "\n",
    "# Visualiza o melhor modelo\n",
    "best_gbm = modelo.best_estimator_\n",
    "print(best_gbm)"
   ]
  },
  {
   "cell_type": "markdown",
   "id": "eb216317",
   "metadata": {},
   "source": [
    "#### Construindo e Treinando o Modelo com GradientBoostingClassifier"
   ]
  },
  {
   "cell_type": "code",
   "execution_count": 68,
   "id": "826b0f56",
   "metadata": {},
   "outputs": [
    {
     "name": "stdout",
     "output_type": "stream",
     "text": [
      "GradientBoostingClassifier(max_depth=5, min_samples_leaf=2, n_estimators=300)\n"
     ]
    }
   ],
   "source": [
    "# Recriando o modelo com os melhores hiperparâmetros automaticamente\n",
    "best_params = best_gbm.get_params()\n",
    "\n",
    "# Treinando o modelo final no conjunto de treino\n",
    "modelo_GBM = GradientBoostingClassifier(**best_params)\n",
    "modelo_GBM.fit(X_treino, y_treino)\n",
    "print(modelo_GBM)"
   ]
  },
  {
   "cell_type": "markdown",
   "id": "e0ecd49e",
   "metadata": {},
   "source": [
    "<br><br>\n",
    "\n",
    "## Previsão / Avaliação do Modelo"
   ]
  },
  {
   "cell_type": "code",
   "execution_count": 69,
   "id": "e323254f",
   "metadata": {},
   "outputs": [
    {
     "name": "stdout",
     "output_type": "stream",
     "text": [
      "Previsões de Classe:\n",
      "[0 1 0 0 0]\n",
      "\n",
      "--------------------------------------------------------------------------------\n",
      "\n",
      "Previsões de Probabilidade para Cada Classe:\n",
      "[[0.6205184  0.3794816 ]\n",
      " [0.32316818 0.67683182]\n",
      " [0.60124282 0.39875718]\n",
      " [0.54853374 0.45146626]\n",
      " [0.67878847 0.32121153]]\n",
      "\n",
      "--------------------------------------------------------------------------------\n",
      "\n",
      "Previsões de Probabilidade para a Classe Positiva:\n",
      "[0.3794816  0.67683182 0.39875718 0.45146626 0.32121153]\n",
      "\n",
      "--------------------------------------------------------------------------------\n",
      "\n",
      "Matriz de Confusão:\n",
      "[[688 436]\n",
      " [408 285]]\n",
      "\n",
      "--------------------------------------------------------------------------------\n",
      "\n",
      "Acurácia: 0.5355\n",
      "ROC AUC Score: 0.5174\n",
      "AUC Score: 0.5174\n"
     ]
    }
   ],
   "source": [
    "## Previsões\n",
    "\n",
    "# Previsões com dados de teste\n",
    "y_pred_GBM = modelo_GBM.predict(X_teste)\n",
    "print('Previsões de Classe:')\n",
    "print(y_pred_GBM[:5])\n",
    "print('\\n' + '-' * 80 + '\\n')\n",
    "\n",
    "# Obtemos as previsões no formato de probabilidade para cada classe\n",
    "y_pred_proba_GBM = modelo_GBM.predict_proba(X_teste)\n",
    "print('Previsões de Probabilidade para Cada Classe:')\n",
    "print(y_pred_proba_GBM[:5])\n",
    "print('\\n' + '-' * 80 + '\\n')\n",
    "\n",
    "# Obtemos as previsões no formato de probabilidade filtrando para a classe positiva (Cálculo da Curva ROC)\n",
    "y_pred_proba_GBM_pos = modelo_GBM.predict_proba(X_teste)[:, 1]\n",
    "print('Previsões de Probabilidade para a Classe Positiva:')\n",
    "print(y_pred_proba_GBM_pos[:5])\n",
    "print('\\n' + '-' * 80 + '\\n')\n",
    "\n",
    "## Avaliação do Modelo\n",
    "\n",
    "# Matriz de confusão\n",
    "conf_matrix_GBM = confusion_matrix(y_teste, y_pred_GBM)\n",
    "print('Matriz de Confusão:')\n",
    "print(conf_matrix_GBM)\n",
    "print('\\n' + '-' * 80 + '\\n')\n",
    "\n",
    "# Extraindo cada valor da Confusion Matrix\n",
    "tn_GBM, fp_GBM, fn_GBM, tp_GBM = conf_matrix_GBM.ravel()\n",
    "\n",
    "# Calcula a métrica global AUC (Area Under The Curve) com dados reais e previsões em teste\n",
    "roc_auc_GBM = roc_auc_score(y_teste, y_pred_proba_GBM_pos)\n",
    "\n",
    "# Calcula a curva ROC com dados e previsões em teste\n",
    "fpr_GBM, tpr_GBM, thresholds_GBM = roc_curve(y_teste, y_pred_proba_GBM_pos)\n",
    "\n",
    "# AUC em teste\n",
    "auc_GBM = auc(fpr_GBM, tpr_GBM)\n",
    "\n",
    "# Acurácia em teste\n",
    "acuracia_GBM = accuracy_score(y_teste, y_pred_GBM)\n",
    "\n",
    "# Exibindo as métricas\n",
    "print(f'Acurácia: {acuracia_GBM:.4f}')\n",
    "print(f'ROC AUC Score: {roc_auc_GBM:.4f}')\n",
    "print(f'AUC Score: {auc_GBM:.4f}')"
   ]
  },
  {
   "cell_type": "markdown",
   "id": "6f136749",
   "metadata": {},
   "source": [
    "<br>\n",
    "\n",
    "#### Visualizando Importância das Variáveis"
   ]
  },
  {
   "cell_type": "code",
   "execution_count": 70,
   "id": "cdb7626c",
   "metadata": {},
   "outputs": [
    {
     "name": "stdout",
     "output_type": "stream",
     "text": [
      "Visualizando Importância das Variáveis\n",
      "--------------------------------------------------------------------------------\n",
      "              Feature  Importance\n",
      "1  transaction_amount    0.503837\n",
      "0         account_age    0.388774\n",
      "2    transaction_type    0.061566\n",
      "3            location    0.045823\n",
      "--------------------------------------------------------------------------------\n"
     ]
    },
    {
     "data": {
      "image/png": "[encoded data removed]",
      "text/plain": [
       "<Figure size 720x576 with 1 Axes>"
      ]
     },
     "metadata": {
      "needs_background": "light"
     },
     "output_type": "display_data"
    }
   ],
   "source": [
    "# Extrair coeficientes do modelo\n",
    "importancias = modelo_GBM.feature_importances_\n",
    "\n",
    "# Criar DataFrame para visualização\n",
    "features = X_treino.columns\n",
    "df_importancias = pd.DataFrame({'Feature': features, 'Importance': importancias})\n",
    "df_importancias = df_importancias.sort_values(by='Importance', ascending=False)\n",
    "\n",
    "# Exibir importâncias\n",
    "print('Visualizando Importância das Variáveis')\n",
    "print(80*'-')\n",
    "print(df_importancias.head())\n",
    "print(80*'-')\n",
    "\n",
    "# Gráfico de barras da importância das variáveis\n",
    "plt.figure(figsize=(10, 8))\n",
    "sns.barplot(x='Importance', y='Feature', data=df_importancias)\n",
    "plt.title('Feature Importance from Gradient Boosting Machine')\n",
    "plt.xlabel('Importance')\n",
    "plt.ylabel('Features')\n",
    "plt.show()"
   ]
  },
  {
   "cell_type": "markdown",
   "id": "9219a6d4",
   "metadata": {},
   "source": [
    "<br><br>\n",
    "\n",
    "### Salvando as Métricas"
   ]
  },
  {
   "cell_type": "code",
   "execution_count": 71,
   "id": "2e1c48ca",
   "metadata": {},
   "outputs": [
    {
     "data": {
      "text/html": [
       "<div>\n",
       "<style scoped>\n",
       "    .dataframe tbody tr th:only-of-type {\n",
       "        vertical-align: middle;\n",
       "    }\n",
       "\n",
       "    .dataframe tbody tr th {\n",
       "        vertical-align: top;\n",
       "    }\n",
       "\n",
       "    .dataframe thead th {\n",
       "        text-align: right;\n",
       "    }\n",
       "</style>\n",
       "<table border=\"1\" class=\"dataframe\">\n",
       "  <thead>\n",
       "    <tr style=\"text-align: right;\">\n",
       "      <th></th>\n",
       "      <th>Nome do Modelo</th>\n",
       "      <th>Nome do Algoritmo</th>\n",
       "      <th>ROC_AUC Score</th>\n",
       "      <th>AUC Score</th>\n",
       "      <th>Acuracia</th>\n",
       "    </tr>\n",
       "  </thead>\n",
       "  <tbody>\n",
       "    <tr>\n",
       "      <th>0</th>\n",
       "      <td>Modelo 1</td>\n",
       "      <td>Logistic Regression</td>\n",
       "      <td>0.502197</td>\n",
       "      <td>0.502197</td>\n",
       "      <td>0.504678</td>\n",
       "    </tr>\n",
       "    <tr>\n",
       "      <th>1</th>\n",
       "      <td>Modelo 2</td>\n",
       "      <td>Random Forest</td>\n",
       "      <td>0.516768</td>\n",
       "      <td>0.516768</td>\n",
       "      <td>0.540451</td>\n",
       "    </tr>\n",
       "    <tr>\n",
       "      <th>2</th>\n",
       "      <td>Modelo 3</td>\n",
       "      <td>K-Nearest Neighbors</td>\n",
       "      <td>0.500318</td>\n",
       "      <td>0.500318</td>\n",
       "      <td>0.517336</td>\n",
       "    </tr>\n",
       "    <tr>\n",
       "      <th>3</th>\n",
       "      <td>Modelo 4</td>\n",
       "      <td>Decision Tree</td>\n",
       "      <td>0.500585</td>\n",
       "      <td>0.500585</td>\n",
       "      <td>0.521189</td>\n",
       "    </tr>\n",
       "    <tr>\n",
       "      <th>4</th>\n",
       "      <td>Modelo 5</td>\n",
       "      <td>SVM</td>\n",
       "      <td>0.500996</td>\n",
       "      <td>0.500996</td>\n",
       "      <td>0.511833</td>\n",
       "    </tr>\n",
       "    <tr>\n",
       "      <th>5</th>\n",
       "      <td>Modelo 6</td>\n",
       "      <td>Gradient Boosting Machine</td>\n",
       "      <td>0.517419</td>\n",
       "      <td>0.517419</td>\n",
       "      <td>0.535498</td>\n",
       "    </tr>\n",
       "  </tbody>\n",
       "</table>\n",
       "</div>"
      ],
      "text/plain": [
       "  Nome do Modelo          Nome do Algoritmo  ROC_AUC Score  AUC Score  \\\n",
       "0       Modelo 1        Logistic Regression       0.502197   0.502197   \n",
       "1       Modelo 2              Random Forest       0.516768   0.516768   \n",
       "2       Modelo 3        K-Nearest Neighbors       0.500318   0.500318   \n",
       "3       Modelo 4              Decision Tree       0.500585   0.500585   \n",
       "4       Modelo 5                        SVM       0.500996   0.500996   \n",
       "5       Modelo 6  Gradient Boosting Machine       0.517419   0.517419   \n",
       "\n",
       "   Acuracia  \n",
       "0  0.504678  \n",
       "1  0.540451  \n",
       "2  0.517336  \n",
       "3  0.521189  \n",
       "4  0.511833  \n",
       "5  0.535498  "
      ]
     },
     "metadata": {},
     "output_type": "display_data"
    }
   ],
   "source": [
    "# Salvando as Métricas\n",
    "dict_modelo_GBM = {\n",
    "    'Nome do Modelo': 'Modelo 6', \n",
    "    'Nome do Algoritmo': 'Gradient Boosting Machine', \n",
    "    'ROC_AUC Score': roc_auc_GBM,\n",
    "    'AUC Score': auc_GBM,\n",
    "    'Acuracia': acuracia_GBM\n",
    "}\n",
    "\n",
    "# Adicionando as métricas ao DataFrame existente\n",
    "df_modelos = pd.concat([df_modelos, pd.DataFrame([dict_modelo_GBM])], ignore_index=True)\n",
    "\n",
    "# Verifica as métricas salvas\n",
    "display(df_modelos)"
   ]
  },
  {
   "cell_type": "markdown",
   "id": "7606ddf9",
   "metadata": {},
   "source": [
    "<br><br><br>\n",
    "\n",
    "# <span style=\"color: green; font-size: 38px; font-weight: bold;\">Modelo 7 - AdaBoost</span>\n",
    "\n",
    "<br>\n",
    "\n",
    "- Cria várias modelos com o RandomizedSearchCV para encontrar os melhores hiperparâmetros. Após a identificação do melhor modelo, o modelo final é treinado diretamente com o AdaBoostClassifier, usando esses hiperparâmetros otimizados, para garantir um modelo eficiente e pronto para implementação prática.\n",
    "\n",
    "<br>\n",
    "\n",
    "### Criando o Modelo"
   ]
  },
  {
   "cell_type": "code",
   "execution_count": 72,
   "id": "66ae18de",
   "metadata": {},
   "outputs": [
    {
     "name": "stdout",
     "output_type": "stream",
     "text": [
      "AdaBoostClassifier(learning_rate=0.05, n_estimators=250)\n"
     ]
    }
   ],
   "source": [
    "# Hiperparâmetros\n",
    "tuned_params_AB = {\n",
    "    'n_estimators': [50, 100, 150, 200, 250],\n",
    "    'learning_rate': [0.01, 0.05, 0.1, 0.5, 1]\n",
    "}\n",
    "\n",
    "# Cria o modelo com RandomizedSearchCV\n",
    "modelo = RandomizedSearchCV(AdaBoostClassifier(), \n",
    "                            tuned_params_AB, \n",
    "                            n_iter=10, \n",
    "                            scoring='roc_auc', \n",
    "                            n_jobs=-1)\n",
    "\n",
    "# Treinamento\n",
    "modelo.fit(X_treino, y_treino)\n",
    "\n",
    "# Visualiza o melhor modelo\n",
    "best_ab = modelo.best_estimator_\n",
    "print(best_ab)"
   ]
  },
  {
   "cell_type": "markdown",
   "id": "f3ee0584",
   "metadata": {},
   "source": [
    "#### Construindo e Treinando o Modelo com AdaBoostClassifier"
   ]
  },
  {
   "cell_type": "code",
   "execution_count": 73,
   "id": "107a1851",
   "metadata": {},
   "outputs": [
    {
     "name": "stdout",
     "output_type": "stream",
     "text": [
      "AdaBoostClassifier(learning_rate=0.05, n_estimators=250)\n"
     ]
    }
   ],
   "source": [
    "# Recriando o modelo com os melhores hiperparâmetros automaticamente\n",
    "best_params = best_ab.get_params()\n",
    "\n",
    "# Treinando o modelo final no conjunto de treino\n",
    "modelo_AB = AdaBoostClassifier(**best_params)\n",
    "modelo_AB.fit(X_treino, y_treino)\n",
    "print(modelo_AB)"
   ]
  },
  {
   "cell_type": "markdown",
   "id": "b612ae83",
   "metadata": {},
   "source": [
    "<br><br>\n",
    "\n",
    "## Previsão / Avaliação do Modelo"
   ]
  },
  {
   "cell_type": "code",
   "execution_count": 74,
   "id": "75951038",
   "metadata": {},
   "outputs": [
    {
     "name": "stdout",
     "output_type": "stream",
     "text": [
      "Previsões de Classe:\n",
      "[0 0 1 0 0]\n",
      "\n",
      "--------------------------------------------------------------------------------\n",
      "\n",
      "Previsões de Probabilidade para Cada Classe:\n",
      "[[0.50240348 0.49759652]\n",
      " [0.50127338 0.49872662]\n",
      " [0.49590485 0.50409515]\n",
      " [0.50397724 0.49602276]\n",
      " [0.50759478 0.49240522]]\n",
      "\n",
      "--------------------------------------------------------------------------------\n",
      "\n",
      "Previsões de Probabilidade para a Classe Positiva:\n",
      "[0.49759652 0.49872662 0.50409515 0.49602276 0.49240522]\n",
      "\n",
      "--------------------------------------------------------------------------------\n",
      "\n",
      "Matriz de Confusão:\n",
      "[[653 471]\n",
      " [406 287]]\n",
      "\n",
      "--------------------------------------------------------------------------------\n",
      "\n",
      "Acurácia: 0.5173\n",
      "ROC AUC Score: 0.5089\n",
      "AUC Score: 0.5089\n"
     ]
    }
   ],
   "source": [
    "## Previsões\n",
    "\n",
    "# Previsões com dados de teste\n",
    "y_pred_AB = modelo_AB.predict(X_teste)\n",
    "print('Previsões de Classe:')\n",
    "print(y_pred_AB[:5])\n",
    "print('\\n' + '-' * 80 + '\\n')\n",
    "\n",
    "# Obtemos as previsões no formato de probabilidade para cada classe\n",
    "y_pred_proba_AB = modelo_AB.predict_proba(X_teste)\n",
    "print('Previsões de Probabilidade para Cada Classe:')\n",
    "print(y_pred_proba_AB[:5])\n",
    "print('\\n' + '-' * 80 + '\\n')\n",
    "\n",
    "# Obtemos as previsões no formato de probabilidade filtrando para a classe positiva (Cálculo da Curva ROC)\n",
    "y_pred_proba_AB_pos = modelo_AB.predict_proba(X_teste)[:, 1]\n",
    "print('Previsões de Probabilidade para a Classe Positiva:')\n",
    "print(y_pred_proba_AB_pos[:5])\n",
    "print('\\n' + '-' * 80 + '\\n')\n",
    "\n",
    "## Avaliação do Modelo\n",
    "\n",
    "# Matriz de confusão\n",
    "conf_matrix_AB = confusion_matrix(y_teste, y_pred_AB)\n",
    "print('Matriz de Confusão:')\n",
    "print(conf_matrix_AB)\n",
    "print('\\n' + '-' * 80 + '\\n')\n",
    "\n",
    "# Extraindo cada valor da Confusion Matrix\n",
    "tn_AB, fp_AB, fn_AB, tp_AB = conf_matrix_AB.ravel()\n",
    "\n",
    "# Calcula a métrica global AUC (Area Under The Curve) com dados reais e previsões em teste\n",
    "roc_auc_AB = roc_auc_score(y_teste, y_pred_proba_AB_pos)\n",
    "\n",
    "# Calcula a curva ROC com dados e previsões em teste\n",
    "fpr_AB, tpr_AB, thresholds_AB = roc_curve(y_teste, y_pred_proba_AB_pos)\n",
    "\n",
    "# AUC em teste\n",
    "auc_AB = auc(fpr_AB, tpr_AB)\n",
    "\n",
    "# Acurácia em teste\n",
    "acuracia_AB = accuracy_score(y_teste, y_pred_AB)\n",
    "\n",
    "# Exibindo as métricas\n",
    "print(f'Acurácia: {acuracia_AB:.4f}')\n",
    "print(f'ROC AUC Score: {roc_auc_AB:.4f}')\n",
    "print(f'AUC Score: {auc_AB:.4f}')"
   ]
  },
  {
   "cell_type": "markdown",
   "id": "eae5250b",
   "metadata": {},
   "source": [
    "<br>\n",
    "\n",
    "#### Visualizando Importância das Variáveis"
   ]
  },
  {
   "cell_type": "code",
   "execution_count": 75,
   "id": "ed7799da",
   "metadata": {},
   "outputs": [
    {
     "name": "stdout",
     "output_type": "stream",
     "text": [
      "Visualizando Importância das Variáveis\n",
      "--------------------------------------------------------------------------------\n",
      "              Feature  Importance\n",
      "0         account_age       0.420\n",
      "1  transaction_amount       0.284\n",
      "3            location       0.152\n",
      "2    transaction_type       0.144\n",
      "--------------------------------------------------------------------------------\n"
     ]
    },
    {
     "data": {
      "image/png": "[encoded data removed]",
      "text/plain": [
       "<Figure size 720x576 with 1 Axes>"
      ]
     },
     "metadata": {
      "needs_background": "light"
     },
     "output_type": "display_data"
    }
   ],
   "source": [
    "# Extrair coeficientes do modelo\n",
    "importancias = modelo_AB.feature_importances_\n",
    "\n",
    "# Criar DataFrame para visualização\n",
    "features = X_treino.columns\n",
    "df_importancias = pd.DataFrame({'Feature': features, 'Importance': importancias})\n",
    "df_importancias = df_importancias.sort_values(by='Importance', ascending=False)\n",
    "\n",
    "# Exibir importâncias\n",
    "print('Visualizando Importância das Variáveis')\n",
    "print(80*'-')\n",
    "print(df_importancias.head())\n",
    "print(80*'-')\n",
    "\n",
    "# Gráfico de barras da importância das variáveis\n",
    "plt.figure(figsize=(10, 8))\n",
    "sns.barplot(x='Importance', y='Feature', data=df_importancias)\n",
    "plt.title('Feature Importance from AdaBoost')\n",
    "plt.xlabel('Importance')\n",
    "plt.ylabel('Features')\n",
    "plt.show()"
   ]
  },
  {
   "cell_type": "markdown",
   "id": "cc6237ff",
   "metadata": {},
   "source": [
    "<br><br>\n",
    "\n",
    "### Salvando as Métricas"
   ]
  },
  {
   "cell_type": "code",
   "execution_count": 76,
   "id": "1049cdce",
   "metadata": {},
   "outputs": [
    {
     "data": {
      "text/html": [
       "<div>\n",
       "<style scoped>\n",
       "    .dataframe tbody tr th:only-of-type {\n",
       "        vertical-align: middle;\n",
       "    }\n",
       "\n",
       "    .dataframe tbody tr th {\n",
       "        vertical-align: top;\n",
       "    }\n",
       "\n",
       "    .dataframe thead th {\n",
       "        text-align: right;\n",
       "    }\n",
       "</style>\n",
       "<table border=\"1\" class=\"dataframe\">\n",
       "  <thead>\n",
       "    <tr style=\"text-align: right;\">\n",
       "      <th></th>\n",
       "      <th>Nome do Modelo</th>\n",
       "      <th>Nome do Algoritmo</th>\n",
       "      <th>ROC_AUC Score</th>\n",
       "      <th>AUC Score</th>\n",
       "      <th>Acuracia</th>\n",
       "    </tr>\n",
       "  </thead>\n",
       "  <tbody>\n",
       "    <tr>\n",
       "      <th>0</th>\n",
       "      <td>Modelo 1</td>\n",
       "      <td>Logistic Regression</td>\n",
       "      <td>0.502197</td>\n",
       "      <td>0.502197</td>\n",
       "      <td>0.504678</td>\n",
       "    </tr>\n",
       "    <tr>\n",
       "      <th>1</th>\n",
       "      <td>Modelo 2</td>\n",
       "      <td>Random Forest</td>\n",
       "      <td>0.516768</td>\n",
       "      <td>0.516768</td>\n",
       "      <td>0.540451</td>\n",
       "    </tr>\n",
       "    <tr>\n",
       "      <th>2</th>\n",
       "      <td>Modelo 3</td>\n",
       "      <td>K-Nearest Neighbors</td>\n",
       "      <td>0.500318</td>\n",
       "      <td>0.500318</td>\n",
       "      <td>0.517336</td>\n",
       "    </tr>\n",
       "    <tr>\n",
       "      <th>3</th>\n",
       "      <td>Modelo 4</td>\n",
       "      <td>Decision Tree</td>\n",
       "      <td>0.500585</td>\n",
       "      <td>0.500585</td>\n",
       "      <td>0.521189</td>\n",
       "    </tr>\n",
       "    <tr>\n",
       "      <th>4</th>\n",
       "      <td>Modelo 5</td>\n",
       "      <td>SVM</td>\n",
       "      <td>0.500996</td>\n",
       "      <td>0.500996</td>\n",
       "      <td>0.511833</td>\n",
       "    </tr>\n",
       "    <tr>\n",
       "      <th>5</th>\n",
       "      <td>Modelo 6</td>\n",
       "      <td>Gradient Boosting Machine</td>\n",
       "      <td>0.517419</td>\n",
       "      <td>0.517419</td>\n",
       "      <td>0.535498</td>\n",
       "    </tr>\n",
       "    <tr>\n",
       "      <th>6</th>\n",
       "      <td>Modelo 7</td>\n",
       "      <td>AdaBoost</td>\n",
       "      <td>0.508913</td>\n",
       "      <td>0.508913</td>\n",
       "      <td>0.517336</td>\n",
       "    </tr>\n",
       "  </tbody>\n",
       "</table>\n",
       "</div>"
      ],
      "text/plain": [
       "  Nome do Modelo          Nome do Algoritmo  ROC_AUC Score  AUC Score  \\\n",
       "0       Modelo 1        Logistic Regression       0.502197   0.502197   \n",
       "1       Modelo 2              Random Forest       0.516768   0.516768   \n",
       "2       Modelo 3        K-Nearest Neighbors       0.500318   0.500318   \n",
       "3       Modelo 4              Decision Tree       0.500585   0.500585   \n",
       "4       Modelo 5                        SVM       0.500996   0.500996   \n",
       "5       Modelo 6  Gradient Boosting Machine       0.517419   0.517419   \n",
       "6       Modelo 7                   AdaBoost       0.508913   0.508913   \n",
       "\n",
       "   Acuracia  \n",
       "0  0.504678  \n",
       "1  0.540451  \n",
       "2  0.517336  \n",
       "3  0.521189  \n",
       "4  0.511833  \n",
       "5  0.535498  \n",
       "6  0.517336  "
      ]
     },
     "metadata": {},
     "output_type": "display_data"
    }
   ],
   "source": [
    "# Salvando as Métricas\n",
    "dict_modelo_AB = {\n",
    "    'Nome do Modelo': 'Modelo 7', \n",
    "    'Nome do Algoritmo': 'AdaBoost', \n",
    "    'ROC_AUC Score': roc_auc_AB,\n",
    "    'AUC Score': auc_AB,\n",
    "    'Acuracia': acuracia_AB\n",
    "}\n",
    "\n",
    "# Adicionando as métricas ao DataFrame existente\n",
    "df_modelos = pd.concat([df_modelos, pd.DataFrame([dict_modelo_AB])], ignore_index=True)\n",
    "\n",
    "# Verifica as métricas salvas\n",
    "display(df_modelos)"
   ]
  },
  {
   "cell_type": "markdown",
   "id": "f1d050d4",
   "metadata": {},
   "source": [
    "<br><br><br>\n",
    "\n",
    "# <span style=\"color: green; font-size: 38px; font-weight: bold;\">Modelo 8 - LightGBM</span>\n",
    "\n",
    "<br>\n",
    "\n",
    "- Cria várias modelos com o RandomizedSearchCV para encontrar os melhores hiperparâmetros. Após a identificação do melhor modelo, o modelo final é treinado diretamente com o LGBMClassifier, usando esses hiperparâmetros otimizados, para garantir um modelo eficiente e pronto para implementação prática.\n",
    "\n",
    "<br>\n",
    "\n",
    "### Criando o Modelo"
   ]
  },
  {
   "cell_type": "code",
   "execution_count": null,
   "id": "cab3a48c",
   "metadata": {},
   "outputs": [],
   "source": [
    "# Hiperparâmetros\n",
    "tuned_params_LGBM = {\n",
    "    'n_estimators': [100, 200, 300],\n",
    "    'learning_rate': [0.01, 0.05, 0.1],\n",
    "    'num_leaves': [31, 50, 70],\n",
    "    'min_child_samples': [20, 30, 40],\n",
    "    'subsample': [0.6, 0.8, 1.0]\n",
    "}\n",
    "\n",
    "# Cria o modelo com RandomizedSearchCV\n",
    "modelo = RandomizedSearchCV(LGBMClassifier(), \n",
    "                            tuned_params_LGBM, \n",
    "                            n_iter=10, \n",
    "                            scoring='roc_auc', \n",
    "                            n_jobs=-1)\n",
    "\n",
    "# Treinamento\n",
    "modelo.fit(X_treino, y_treino)\n",
    "\n",
    "# Visualiza o melhor modelo\n",
    "best_lgbm = modelo.best_estimator_\n",
    "print(best_lgbm)"
   ]
  },
  {
   "cell_type": "markdown",
   "id": "e730dfc6",
   "metadata": {},
   "source": [
    "#### Construindo e Treinando o Modelo com LGBMClassifier"
   ]
  },
  {
   "cell_type": "code",
   "execution_count": null,
   "id": "26c7001e",
   "metadata": {},
   "outputs": [],
   "source": [
    "# Recriando o modelo com os melhores hiperparâmetros automaticamente\n",
    "best_params = best_lgbm.get_params()\n",
    "\n",
    "# Treinando o modelo final no conjunto de treino\n",
    "modelo_LGBM = LGBMClassifier(**best_params)\n",
    "modelo_LGBM.fit(X_treino, y_treino)\n",
    "print(modelo_LGBM)"
   ]
  },
  {
   "cell_type": "markdown",
   "id": "826e5ae4",
   "metadata": {},
   "source": [
    "<br><br>\n",
    "\n",
    "## Previsão / Avaliação do Modelo"
   ]
  },
  {
   "cell_type": "code",
   "execution_count": null,
   "id": "6200df52",
   "metadata": {},
   "outputs": [],
   "source": [
    "## Previsões\n",
    "\n",
    "# Previsões com dados de teste\n",
    "y_pred_LGBM = modelo_LGBM.predict(X_teste)\n",
    "print('Previsões de Classe:')\n",
    "print(y_pred_LGBM[:5])\n",
    "print('\\n' + '-' * 80 + '\\n')\n",
    "\n",
    "# Obtemos as previsões no formato de probabilidade para cada classe\n",
    "y_pred_proba_LGBM = modelo_LGBM.predict_proba(X_teste)\n",
    "print('Previsões de Probabilidade para Cada Classe:')\n",
    "print(y_pred_proba_LGBM[:5])\n",
    "print('\\n' + '-' * 80 + '\\n')\n",
    "\n",
    "# Obtemos as previsões no formato de probabilidade filtrando para a classe positiva (Cálculo da Curva ROC)\n",
    "y_pred_proba_LGBM_pos = modelo_LGBM.predict_proba(X_teste)[:, 1]\n",
    "print('Previsões de Probabilidade para a Classe Positiva:')\n",
    "print(y_pred_proba_LGBM_pos[:5])\n",
    "print('\\n' + '-' * 80 + '\\n')\n",
    "\n",
    "## Avaliação do Modelo\n",
    "\n",
    "# Matriz de confusão\n",
    "conf_matrix_LGBM = confusion_matrix(y_teste, y_pred_LGBM)\n",
    "print('Matriz de Confusão:')\n",
    "print(conf_matrix_LGBM)\n",
    "print('\\n' + '-' * 80 + '\\n')\n",
    "\n",
    "# Extraindo cada valor da Confusion Matrix\n",
    "tn_LGBM, fp_LGBM, fn_LGBM, tp_LGBM = conf_matrix_LGBM.ravel()\n",
    "\n",
    "# Calcula a métrica global AUC (Area Under The Curve) com dados reais e previsões em teste\n",
    "roc_auc_LGBM = roc_auc_score(y_teste, y_pred_proba_LGBM_pos)\n",
    "\n",
    "# Calcula a curva ROC com dados e previsões em teste\n",
    "fpr_LGBM, tpr_LGBM, thresholds_LGBM = roc_curve(y_teste, y_pred_proba_LGBM_pos)\n",
    "\n",
    "# AUC em teste\n",
    "auc_LGBM = auc(fpr_LGBM, tpr_LGBM)\n",
    "\n",
    "# Acurácia em teste\n",
    "acuracia_LGBM = accuracy_score(y_teste, y_pred_LGBM)\n",
    "\n",
    "# Exibindo as métricas\n",
    "print(f'Acurácia: {acuracia_LGBM:.4f}')\n",
    "print(f'ROC AUC Score: {roc_auc_LGBM:.4f}')\n",
    "print(f'AUC Score: {auc_LGBM:.4f}')\n"
   ]
  },
  {
   "cell_type": "markdown",
   "id": "20fc0faf",
   "metadata": {},
   "source": [
    "<br>\n",
    "\n",
    "#### Visualizando Importância das Variáveis"
   ]
  },
  {
   "cell_type": "code",
   "execution_count": null,
   "id": "8c531eca",
   "metadata": {},
   "outputs": [],
   "source": [
    "# Extrair coeficientes do modelo\n",
    "importancias = modelo_LGBM.feature_importances_\n",
    "\n",
    "# Criar DataFrame para visualização\n",
    "features = X_treino.columns\n",
    "df_importancias = pd.DataFrame({'Feature': features, 'Importance': importancias})\n",
    "df_importancias = df_importancias.sort_values(by='Importance', ascending=False)\n",
    "\n",
    "# Exibir importâncias\n",
    "print('Visualizando Importância das Variáveis')\n",
    "print(80*'-')\n",
    "print(df_importancias.head())\n",
    "print(80*'-')\n",
    "\n",
    "# Gráfico de barras da importância das variáveis\n",
    "plt.figure(figsize=(10, 8))\n",
    "sns.barplot(x='Importance', y='Feature', data=df_importancias)\n",
    "plt.title('Feature Importance from LightGBM')\n",
    "plt.xlabel('Importance')\n",
    "plt.ylabel('Features')\n",
    "plt.show()\n"
   ]
  },
  {
   "cell_type": "markdown",
   "id": "6cfbde9b",
   "metadata": {},
   "source": [
    "<br><br>\n",
    "\n",
    "### Salvando as Métricas"
   ]
  },
  {
   "cell_type": "code",
   "execution_count": null,
   "id": "9bf89329",
   "metadata": {},
   "outputs": [],
   "source": [
    "# Salvando as Métricas\n",
    "dict_modelo_LGBM = {\n",
    "    'Nome do Modelo': 'Modelo 8', \n",
    "    'Nome do Algoritmo': 'LightGBM', \n",
    "    'ROC_AUC Score': roc_auc_LGBM,\n",
    "    'AUC Score': auc_LGBM,\n",
    "    'Acuracia': acuracia_LGBM\n",
    "}\n",
    "\n",
    "# Adicionando as métricas ao DataFrame existente\n",
    "df_modelos = pd.concat([df_modelos, pd.DataFrame([dict_modelo_LGBM])], ignore_index=True)\n",
    "\n",
    "# Verifica as métricas salvas\n",
    "display(df_modelos)\n"
   ]
  },
  {
   "cell_type": "markdown",
   "id": "2e23e79f",
   "metadata": {},
   "source": [
    "<br><br><br>\n",
    "\n",
    "# <span style=\"color: green; font-size: 38px; font-weight: bold;\">Modelo 9 - XGBoost</span>\n",
    "\n",
    "<br>\n",
    "\n",
    "- \n",
    "\n",
    "<br>\n",
    "\n",
    "### Criando o Modelo"
   ]
  },
  {
   "cell_type": "code",
   "execution_count": null,
   "id": "1bfb04d8",
   "metadata": {},
   "outputs": [],
   "source": []
  },
  {
   "cell_type": "markdown",
   "id": "8bac0f98",
   "metadata": {},
   "source": [
    "#### Construindo e Treinando o Modelo com"
   ]
  },
  {
   "cell_type": "code",
   "execution_count": null,
   "id": "6e8f2853",
   "metadata": {},
   "outputs": [],
   "source": []
  },
  {
   "cell_type": "markdown",
   "id": "542fef7e",
   "metadata": {},
   "source": [
    "<br><br>\n",
    "\n",
    "## Previsão / Avaliação do Modelo"
   ]
  },
  {
   "cell_type": "code",
   "execution_count": null,
   "id": "2f5b949a",
   "metadata": {},
   "outputs": [],
   "source": []
  },
  {
   "cell_type": "markdown",
   "id": "aa38b0fa",
   "metadata": {},
   "source": [
    "<br>\n",
    "\n",
    "#### Visualizando Importância das Variáveis"
   ]
  },
  {
   "cell_type": "code",
   "execution_count": null,
   "id": "a5e2ed6b",
   "metadata": {},
   "outputs": [],
   "source": []
  },
  {
   "cell_type": "markdown",
   "id": "1a89991a",
   "metadata": {},
   "source": [
    "<br><br>\n",
    "\n",
    "### Salvando as Métricas"
   ]
  },
  {
   "cell_type": "code",
   "execution_count": null,
   "id": "2ab62a5c",
   "metadata": {},
   "outputs": [],
   "source": []
  },
  {
   "cell_type": "markdown",
   "id": "7421ca5a",
   "metadata": {},
   "source": [
    "<br><br><br>\n",
    "\n",
    "# <span style=\"color: green; font-size: 38px; font-weight: bold;\">Modelo 10 - </span>\n",
    "\n",
    "<br>\n",
    "\n",
    "- \n",
    "\n",
    "<br>\n",
    "\n",
    "### Criando o Modelo"
   ]
  },
  {
   "cell_type": "code",
   "execution_count": null,
   "id": "2fb6f3bc",
   "metadata": {},
   "outputs": [],
   "source": []
  },
  {
   "cell_type": "markdown",
   "id": "528b3296",
   "metadata": {},
   "source": [
    "#### Construindo e Treinando o Modelo com"
   ]
  },
  {
   "cell_type": "code",
   "execution_count": null,
   "id": "9b890fc6",
   "metadata": {},
   "outputs": [],
   "source": []
  },
  {
   "cell_type": "markdown",
   "id": "57150678",
   "metadata": {},
   "source": [
    "<br><br>\n",
    "\n",
    "## Previsão / Avaliação do Modelo"
   ]
  },
  {
   "cell_type": "code",
   "execution_count": null,
   "id": "9f95873a",
   "metadata": {},
   "outputs": [],
   "source": []
  },
  {
   "cell_type": "markdown",
   "id": "5f767e1d",
   "metadata": {},
   "source": [
    "<br>\n",
    "\n",
    "#### Visualizando Importância das Variáveis"
   ]
  },
  {
   "cell_type": "code",
   "execution_count": null,
   "id": "df733177",
   "metadata": {},
   "outputs": [],
   "source": []
  },
  {
   "cell_type": "markdown",
   "id": "acef9545",
   "metadata": {},
   "source": [
    "<br><br>\n",
    "\n",
    "### Salvando as Métricas"
   ]
  },
  {
   "cell_type": "code",
   "execution_count": null,
   "id": "a94b103b",
   "metadata": {},
   "outputs": [],
   "source": []
  },
  {
   "cell_type": "markdown",
   "id": "97da8013",
   "metadata": {},
   "source": [
    "<br><br><br>\n",
    "\n",
    "# <span style=\"color: green; font-size: 38px; font-weight: bold;\">Modelo 11 - </span>\n",
    "\n",
    "<br>\n",
    "\n",
    "- \n",
    "\n",
    "<br>\n",
    "\n",
    "### Criando o Modelo"
   ]
  },
  {
   "cell_type": "code",
   "execution_count": null,
   "id": "03842af2",
   "metadata": {},
   "outputs": [],
   "source": []
  },
  {
   "cell_type": "markdown",
   "id": "d6f25ef9",
   "metadata": {},
   "source": [
    "#### Construindo e Treinando o Modelo com"
   ]
  },
  {
   "cell_type": "code",
   "execution_count": null,
   "id": "609bb004",
   "metadata": {},
   "outputs": [],
   "source": []
  },
  {
   "cell_type": "markdown",
   "id": "f1a6c610",
   "metadata": {},
   "source": [
    "<br><br>\n",
    "\n",
    "## Previsão / Avaliação do Modelo"
   ]
  },
  {
   "cell_type": "code",
   "execution_count": null,
   "id": "11f13100",
   "metadata": {},
   "outputs": [],
   "source": []
  },
  {
   "cell_type": "markdown",
   "id": "b816418b",
   "metadata": {},
   "source": [
    "<br>\n",
    "\n",
    "#### Visualizando Importância das Variáveis"
   ]
  },
  {
   "cell_type": "code",
   "execution_count": null,
   "id": "3d78f2b1",
   "metadata": {},
   "outputs": [],
   "source": []
  },
  {
   "cell_type": "markdown",
   "id": "41a73a94",
   "metadata": {},
   "source": [
    "<br><br>\n",
    "\n",
    "### Salvando as Métricas"
   ]
  },
  {
   "cell_type": "code",
   "execution_count": null,
   "id": "465002e8",
   "metadata": {},
   "outputs": [],
   "source": []
  },
  {
   "cell_type": "markdown",
   "id": "8bce2179",
   "metadata": {},
   "source": [
    "<br><br><br>\n",
    "\n",
    "# <span style=\"color: green; font-size: 38px; font-weight: bold;\">Modelo 12 - </span>\n",
    "\n",
    "<br>\n",
    "\n",
    "- \n",
    "\n",
    "<br>\n",
    "\n",
    "### Criando o Modelo"
   ]
  },
  {
   "cell_type": "code",
   "execution_count": null,
   "id": "0e1622fb",
   "metadata": {},
   "outputs": [],
   "source": []
  },
  {
   "cell_type": "markdown",
   "id": "74ebfb75",
   "metadata": {},
   "source": [
    "#### Construindo e Treinando o Modelo com"
   ]
  },
  {
   "cell_type": "code",
   "execution_count": null,
   "id": "2f029522",
   "metadata": {},
   "outputs": [],
   "source": []
  },
  {
   "cell_type": "markdown",
   "id": "ae5bc3b7",
   "metadata": {},
   "source": [
    "<br><br>\n",
    "\n",
    "## Previsão / Avaliação do Modelo"
   ]
  },
  {
   "cell_type": "code",
   "execution_count": null,
   "id": "2d77f450",
   "metadata": {},
   "outputs": [],
   "source": []
  },
  {
   "cell_type": "markdown",
   "id": "cfcec3d2",
   "metadata": {},
   "source": [
    "<br>\n",
    "\n",
    "#### Visualizando Importância das Variáveis"
   ]
  },
  {
   "cell_type": "code",
   "execution_count": null,
   "id": "8da3cfc1",
   "metadata": {},
   "outputs": [],
   "source": []
  },
  {
   "cell_type": "markdown",
   "id": "d2e71775",
   "metadata": {},
   "source": [
    "<br><br>\n",
    "\n",
    "### Salvando as Métricas"
   ]
  },
  {
   "cell_type": "code",
   "execution_count": null,
   "id": "6c19b6a8",
   "metadata": {},
   "outputs": [],
   "source": []
  },
  {
   "cell_type": "markdown",
   "id": "8424e773",
   "metadata": {},
   "source": [
    "<br><br><br>\n",
    "\n",
    "# <span style=\"color: green; font-size: 38px; font-weight: bold;\">Modelo 13 - </span>\n",
    "\n",
    "<br>\n",
    "\n",
    "- \n",
    "\n",
    "<br>\n",
    "\n",
    "### Criando o Modelo"
   ]
  },
  {
   "cell_type": "code",
   "execution_count": null,
   "id": "91cd3bc1",
   "metadata": {},
   "outputs": [],
   "source": []
  },
  {
   "cell_type": "markdown",
   "id": "2d0bc397",
   "metadata": {},
   "source": [
    "#### Construindo e Treinando o Modelo com"
   ]
  },
  {
   "cell_type": "code",
   "execution_count": null,
   "id": "351039d0",
   "metadata": {},
   "outputs": [],
   "source": []
  },
  {
   "cell_type": "markdown",
   "id": "f671c803",
   "metadata": {},
   "source": [
    "<br><br>\n",
    "\n",
    "## Previsão / Avaliação do Modelo"
   ]
  },
  {
   "cell_type": "code",
   "execution_count": null,
   "id": "0d3abb8c",
   "metadata": {},
   "outputs": [],
   "source": []
  },
  {
   "cell_type": "markdown",
   "id": "24e75be1",
   "metadata": {},
   "source": [
    "<br>\n",
    "\n",
    "#### Visualizando Importância das Variáveis"
   ]
  },
  {
   "cell_type": "code",
   "execution_count": null,
   "id": "0d1e13ac",
   "metadata": {},
   "outputs": [],
   "source": []
  },
  {
   "cell_type": "markdown",
   "id": "770da8d0",
   "metadata": {},
   "source": [
    "<br><br>\n",
    "\n",
    "### Salvando as Métricas"
   ]
  },
  {
   "cell_type": "code",
   "execution_count": null,
   "id": "5cee8fe9",
   "metadata": {},
   "outputs": [],
   "source": []
  },
  {
   "cell_type": "markdown",
   "id": "3b50a8ad",
   "metadata": {},
   "source": [
    "<br><br><br>\n",
    "\n",
    "# <span style=\"color: green; font-size: 38px; font-weight: bold;\">Modelo 14 - </span>\n",
    "\n",
    "<br>\n",
    "\n",
    "- \n",
    "\n",
    "<br>\n",
    "\n",
    "### Criando o Modelo"
   ]
  },
  {
   "cell_type": "code",
   "execution_count": null,
   "id": "deae85c9",
   "metadata": {},
   "outputs": [],
   "source": []
  },
  {
   "cell_type": "markdown",
   "id": "fe32ba35",
   "metadata": {},
   "source": [
    "#### Construindo e Treinando o Modelo com"
   ]
  },
  {
   "cell_type": "code",
   "execution_count": null,
   "id": "18e7e623",
   "metadata": {},
   "outputs": [],
   "source": []
  },
  {
   "cell_type": "markdown",
   "id": "2ec04fd6",
   "metadata": {},
   "source": [
    "<br><br>\n",
    "\n",
    "## Previsão / Avaliação do Modelo"
   ]
  },
  {
   "cell_type": "code",
   "execution_count": null,
   "id": "632d0e86",
   "metadata": {},
   "outputs": [],
   "source": []
  },
  {
   "cell_type": "markdown",
   "id": "f654580f",
   "metadata": {},
   "source": [
    "<br>\n",
    "\n",
    "#### Visualizando Importância das Variáveis"
   ]
  },
  {
   "cell_type": "code",
   "execution_count": null,
   "id": "95b1e5fe",
   "metadata": {},
   "outputs": [],
   "source": []
  },
  {
   "cell_type": "markdown",
   "id": "78f939e0",
   "metadata": {},
   "source": [
    "<br><br>\n",
    "\n",
    "### Salvando as Métricas"
   ]
  },
  {
   "cell_type": "code",
   "execution_count": null,
   "id": "54f2288f",
   "metadata": {},
   "outputs": [],
   "source": []
  },
  {
   "cell_type": "code",
   "execution_count": null,
   "id": "2eb41b36",
   "metadata": {},
   "outputs": [],
   "source": []
  },
  {
   "cell_type": "code",
   "execution_count": null,
   "id": "88f105b6",
   "metadata": {},
   "outputs": [],
   "source": []
  },
  {
   "cell_type": "markdown",
   "id": "d98c1b2a",
   "metadata": {},
   "source": [
    "## FIM"
   ]
  },
  {
   "cell_type": "code",
   "execution_count": null,
   "id": "e67fe42b",
   "metadata": {},
   "outputs": [],
   "source": []
  }
 ],
 "metadata": {
  "kernelspec": {
   "display_name": "Python 3 (ipykernel)",
   "language": "python",
   "name": "python3"
  },
  "language_info": {
   "codemirror_mode": {
    "name": "ipython",
    "version": 3
   },
   "file_extension": ".py",
   "mimetype": "text/x-python",
   "name": "python",
   "nbconvert_exporter": "python",
   "pygments_lexer": "ipython3",
   "version": "3.9.7"
  }
 },
 "nbformat": 4,
 "nbformat_minor": 5
}
