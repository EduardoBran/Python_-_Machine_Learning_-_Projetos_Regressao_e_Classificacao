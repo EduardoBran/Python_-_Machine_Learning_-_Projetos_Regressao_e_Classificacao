{
 "cells": [
  {
   "cell_type": "markdown",
   "id": "99b2d29d",
   "metadata": {},
   "source": [
    "# <span style=\"color: green; font-size: 40px; font-weight: bold;\"> Projeto 1 (Regressão) </span>"
   ]
  },
  {
   "cell_type": "markdown",
   "id": "0b32c90e",
   "metadata": {},
   "source": [
    "<br><br>\n",
    "\n",
    "# Prevendo o Valor de Propriedades Imobiliárias\n",
    "\n",
    "<br><br>\n",
    "\n",
    "### Contexto\n",
    "\n",
    "- Uma empresa de corretagem imobiliária está procurando melhorar suas estimativas de preços de venda para propriedades residenciais. Eles querem usar um modelo de regressão para prever o valor de uma casa com base em várias características.\n",
    "- O **objetivo** é ajudar os corretores a fornecer estimativas de preço mais precisas para seus clientes e, assim, fechar negócios mais rapidamente.\n",
    "\n",
    "<br>\n",
    "\n",
    "### Problema de Negócio\n",
    "- Como podemos prever o valor de venda de uma propriedade residencial com base em suas características?\n",
    "\n",
    "<br>\n",
    "\n",
    "### Sobre o Conjunto de Dados\n",
    "\n",
    "O conjunto de dados simulado terá 10.000 linhas e incluirá as seguintes colunas:\n",
    "\n",
    "- **area (float)**: Área da propriedade em metros quadrados.\n",
    "- **bedrooms (int)**: Número de quartos.\n",
    "- **bathrooms (int)**: Número de banheiros.\n",
    "- **floors (int)**: Número de andares.\n",
    "- **year_built (int)**: Ano de construção.\n",
    "- **location (str)**: Localização da propriedade (bairro ou cidade).\n",
    "- **garage (int)**: Número de vagas na garagem.\n",
    "- **value (float)**: Valor de venda da propriedade (variável alvo).\n"
   ]
  },
  {
   "cell_type": "markdown",
   "id": "ac7b5a3c",
   "metadata": {},
   "source": [
    "<br><br>\n",
    "\n",
    "## Importando Pacotes"
   ]
  },
  {
   "cell_type": "code",
   "execution_count": 1,
   "id": "38caf7d7",
   "metadata": {},
   "outputs": [],
   "source": [
    "### Manipulação de Dados ###\n",
    "\n",
    "# NumPy: Biblioteca para operações matemáticas e manipulação de arrays.\n",
    "import numpy as np\n",
    "# Pandas: Biblioteca para manipulação e análise de dados estruturados.\n",
    "import pandas as pd\n",
    "\n",
    "\n",
    "### Exibição de Gráficos ###\n",
    "\n",
    "# Matplotlib: Biblioteca para criação de gráficos e visualizações.\n",
    "import matplotlib.pyplot as plt\n",
    "# Seaborn: Biblioteca para criação de gráficos estatísticos e visualizações.\n",
    "import seaborn as sns\n",
    "\n",
    "\n",
    "### Machine Learning ###\n",
    "\n",
    "# Scikit-learn: Biblioteca para ML, incluindo ferramentas para pré-processamento, modelagem, e avaliação.\n",
    "import sklearn\n",
    "# Train Test Split: Função para dividir os dados em conjuntos de treino e teste.\n",
    "from sklearn.model_selection import train_test_split\n",
    "# StandardScaler: Ferramenta para padronização de recursos, ajustando a média e a variância.\n",
    "from sklearn.preprocessing import StandardScaler\n",
    "# LinearRegression, Ridge, Lasso: Algoritmos de regressão linear, incluindo regularização L2 (Ridge) e L1 (Lasso).\n",
    "from sklearn.linear_model import LinearRegression, Ridge, Lasso\n",
    "\n",
    "\n",
    "### Avaliação de Modelos ### \n",
    "\n",
    "# Métricas para avaliar o desempenho\n",
    "from sklearn.metrics import mean_absolute_error, mean_squared_error, r2_score, explained_variance_score\n",
    "\n",
    "\n",
    "### Configurações Adicionais ###\n",
    "\n",
    "# Configuração de estilo para visualizações Seaborn.\n",
    "sns.set_style('whitegrid')\n",
    "# Inline: Para exibir gráficos diretamente no Jupyter Notebook.\n",
    "%matplotlib inline\n",
    "# Warnings: Biblioteca para gerenciar mensagens de aviso, aqui usada para ignorar avisos futuros.\n",
    "import warnings\n",
    "warnings.filterwarnings(\"ignore\", category=FutureWarning)\n",
    "# Ignorando avisos de depreciação\n",
    "warnings.filterwarnings(\"ignore\", category=DeprecationWarning)"
   ]
  },
  {
   "cell_type": "markdown",
   "id": "47a00464",
   "metadata": {},
   "source": [
    "<br><br><br>\n",
    "\n",
    "## Carregando Conjunto de Dados"
   ]
  },
  {
   "cell_type": "code",
   "execution_count": 5,
   "id": "ce0373ec",
   "metadata": {},
   "outputs": [],
   "source": [
    "# Carrega o dataset\n",
    "dados = pd.read_csv('dados/imoveis.csv')"
   ]
  },
  {
   "cell_type": "code",
   "execution_count": 6,
   "id": "0938e256",
   "metadata": {},
   "outputs": [
    {
     "data": {
      "text/html": [
       "<div>\n",
       "<style scoped>\n",
       "    .dataframe tbody tr th:only-of-type {\n",
       "        vertical-align: middle;\n",
       "    }\n",
       "\n",
       "    .dataframe tbody tr th {\n",
       "        vertical-align: top;\n",
       "    }\n",
       "\n",
       "    .dataframe thead th {\n",
       "        text-align: right;\n",
       "    }\n",
       "</style>\n",
       "<table border=\"1\" class=\"dataframe\">\n",
       "  <thead>\n",
       "    <tr style=\"text-align: right;\">\n",
       "      <th></th>\n",
       "      <th>area</th>\n",
       "      <th>bedrooms</th>\n",
       "      <th>bathrooms</th>\n",
       "      <th>floors</th>\n",
       "      <th>year_built</th>\n",
       "      <th>location</th>\n",
       "      <th>garage</th>\n",
       "      <th>value</th>\n",
       "    </tr>\n",
       "  </thead>\n",
       "  <tbody>\n",
       "    <tr>\n",
       "      <th>0</th>\n",
       "      <td>174.835708</td>\n",
       "      <td>2.0</td>\n",
       "      <td>2.0</td>\n",
       "      <td>2.0</td>\n",
       "      <td>1919.0</td>\n",
       "      <td>Zona Norte</td>\n",
       "      <td>3.0</td>\n",
       "      <td>664379.908882</td>\n",
       "    </tr>\n",
       "    <tr>\n",
       "      <th>1</th>\n",
       "      <td>143.086785</td>\n",
       "      <td>1.0</td>\n",
       "      <td>1.0</td>\n",
       "      <td>2.0</td>\n",
       "      <td>1959.0</td>\n",
       "      <td>Zona Norte</td>\n",
       "      <td>0.0</td>\n",
       "      <td>501897.679702</td>\n",
       "    </tr>\n",
       "    <tr>\n",
       "      <th>2</th>\n",
       "      <td>182.384427</td>\n",
       "      <td>5.0</td>\n",
       "      <td>2.0</td>\n",
       "      <td>1.0</td>\n",
       "      <td>1939.0</td>\n",
       "      <td>Centro</td>\n",
       "      <td>1.0</td>\n",
       "      <td>803255.932459</td>\n",
       "    </tr>\n",
       "    <tr>\n",
       "      <th>3</th>\n",
       "      <td>226.151493</td>\n",
       "      <td>2.0</td>\n",
       "      <td>3.0</td>\n",
       "      <td>1.0</td>\n",
       "      <td>1982.0</td>\n",
       "      <td>Zona Oeste</td>\n",
       "      <td>2.0</td>\n",
       "      <td>922852.429946</td>\n",
       "    </tr>\n",
       "    <tr>\n",
       "      <th>4</th>\n",
       "      <td>138.292331</td>\n",
       "      <td>1.0</td>\n",
       "      <td>2.0</td>\n",
       "      <td>1.0</td>\n",
       "      <td>2001.0</td>\n",
       "      <td>Centro</td>\n",
       "      <td>1.0</td>\n",
       "      <td>433672.784015</td>\n",
       "    </tr>\n",
       "  </tbody>\n",
       "</table>\n",
       "</div>"
      ],
      "text/plain": [
       "         area  bedrooms  bathrooms  floors  year_built    location  garage  \\\n",
       "0  174.835708       2.0        2.0     2.0      1919.0  Zona Norte     3.0   \n",
       "1  143.086785       1.0        1.0     2.0      1959.0  Zona Norte     0.0   \n",
       "2  182.384427       5.0        2.0     1.0      1939.0      Centro     1.0   \n",
       "3  226.151493       2.0        3.0     1.0      1982.0  Zona Oeste     2.0   \n",
       "4  138.292331       1.0        2.0     1.0      2001.0      Centro     1.0   \n",
       "\n",
       "           value  \n",
       "0  664379.908882  \n",
       "1  501897.679702  \n",
       "2  803255.932459  \n",
       "3  922852.429946  \n",
       "4  433672.784015  "
      ]
     },
     "execution_count": 6,
     "metadata": {},
     "output_type": "execute_result"
    }
   ],
   "source": [
    "# Visualiza\n",
    "dados.head()"
   ]
  },
  {
   "cell_type": "code",
   "execution_count": 8,
   "id": "13433a97",
   "metadata": {},
   "outputs": [
    {
     "name": "stdout",
     "output_type": "stream",
     "text": [
      "<class 'pandas.core.frame.DataFrame'>\n",
      "RangeIndex: 10100 entries, 0 to 10099\n",
      "Data columns (total 8 columns):\n",
      " #   Column      Non-Null Count  Dtype  \n",
      "---  ------      --------------  -----  \n",
      " 0   area        10000 non-null  float64\n",
      " 1   bedrooms    9998 non-null   float64\n",
      " 2   bathrooms   9997 non-null   float64\n",
      " 3   floors      10100 non-null  float64\n",
      " 4   year_built  9999 non-null   float64\n",
      " 5   location    10100 non-null  object \n",
      " 6   garage      9999 non-null   float64\n",
      " 7   value       10100 non-null  float64\n",
      "dtypes: float64(7), object(1)\n",
      "memory usage: 631.4+ KB\n"
     ]
    }
   ],
   "source": [
    "# Info\n",
    "dados.info()"
   ]
  },
  {
   "cell_type": "code",
   "execution_count": null,
   "id": "a86a7caf",
   "metadata": {},
   "outputs": [],
   "source": []
  },
  {
   "cell_type": "code",
   "execution_count": null,
   "id": "f678b054",
   "metadata": {},
   "outputs": [],
   "source": []
  },
  {
   "cell_type": "code",
   "execution_count": null,
   "id": "88560c12",
   "metadata": {},
   "outputs": [],
   "source": []
  },
  {
   "cell_type": "code",
   "execution_count": null,
   "id": "d7405903",
   "metadata": {},
   "outputs": [],
   "source": []
  },
  {
   "cell_type": "code",
   "execution_count": null,
   "id": "881ed6e0",
   "metadata": {},
   "outputs": [],
   "source": []
  },
  {
   "cell_type": "code",
   "execution_count": null,
   "id": "f2c7fe2a",
   "metadata": {},
   "outputs": [],
   "source": []
  }
 ],
 "metadata": {
  "kernelspec": {
   "display_name": "Python 3 (ipykernel)",
   "language": "python",
   "name": "python3"
  },
  "language_info": {
   "codemirror_mode": {
    "name": "ipython",
    "version": 3
   },
   "file_extension": ".py",
   "mimetype": "text/x-python",
   "name": "python",
   "nbconvert_exporter": "python",
   "pygments_lexer": "ipython3",
   "version": "3.9.7"
  }
 },
 "nbformat": 4,
 "nbformat_minor": 5
}
