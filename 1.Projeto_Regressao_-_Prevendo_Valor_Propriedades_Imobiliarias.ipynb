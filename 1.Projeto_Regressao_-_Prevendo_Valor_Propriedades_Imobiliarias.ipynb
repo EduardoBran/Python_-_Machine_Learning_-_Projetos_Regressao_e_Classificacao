{
 "cells": [
  {
   "cell_type": "markdown",
   "id": "f08b3aed",
   "metadata": {},
   "source": [
    "# <span style=\"color: green; font-size: 40px; font-weight: bold;\"> Projeto 1 (Regressão) </span>"
   ]
  },
  {
   "cell_type": "markdown",
   "id": "283b64a7",
   "metadata": {},
   "source": [
    "<br><br>\n",
    "\n",
    "# Prevendo o Valor de Propriedades Imobiliárias\n",
    "\n",
    "<br><br>\n",
    "\n",
    "### Contexto\n",
    "\n",
    "- Uma empresa de corretagem imobiliária está procurando melhorar suas estimativas de preços de venda para propriedades residenciais. Eles querem usar um modelo de regressão para prever o valor de uma casa com base em várias características.\n",
    "- O **objetivo** é ajudar os corretores a fornecer estimativas de preço mais precisas para seus clientes e, assim, fechar negócios mais rapidamente.\n",
    "\n",
    "<br>\n",
    "\n",
    "### Problema de Negócio\n",
    "- Como podemos prever o valor de venda de uma propriedade residencial com base em suas características?\n",
    "\n",
    "<br>\n",
    "\n",
    "### Sobre o Conjunto de Dados\n",
    "\n",
    "O conjunto de dados simulado terá 10.000 linhas e incluirá as seguintes colunas:\n",
    "\n",
    "- **area (float)**: Área da propriedade em metros quadrados.\n",
    "- **bedrooms (int)**: Número de quartos.\n",
    "- **bathrooms (int)**: Número de banheiros.\n",
    "- **floors (int)**: Número de andares.\n",
    "- **year_built (int)**: Ano de construção.\n",
    "- **location (str)**: Localização da propriedade (bairro ou cidade).\n",
    "- **garage (int)**: Número de vagas na garagem.\n",
    "- **value (float)**: Valor de venda da propriedade (variável alvo).\n"
   ]
  },
  {
   "cell_type": "markdown",
   "id": "46cc6d57",
   "metadata": {},
   "source": [
    "<br><br>\n",
    "\n",
    "## Importando Pacotes"
   ]
  },
  {
   "cell_type": "code",
   "execution_count": 1,
   "id": "4948e5b1",
   "metadata": {},
   "outputs": [],
   "source": [
    "### Manipulação de Dados ###\n",
    "\n",
    "# NumPy: Biblioteca para operações matemáticas e manipulação de arrays.\n",
    "import numpy as np\n",
    "# Pandas: Biblioteca para manipulação e análise de dados estruturados.\n",
    "import pandas as pd\n",
    "\n",
    "\n",
    "### Exibição de Gráficos ###\n",
    "\n",
    "# Matplotlib: Biblioteca para criação de gráficos e visualizações.\n",
    "import matplotlib.pyplot as plt\n",
    "# Seaborn: Biblioteca para criação de gráficos estatísticos e visualizações.\n",
    "import seaborn as sns\n",
    "\n",
    "\n",
    "### Machine Learning ###\n",
    "\n",
    "# Scikit-learn: Biblioteca para ML, incluindo ferramentas para pré-processamento, modelagem, e avaliação.\n",
    "import sklearn\n",
    "# Train Test Split: Função para dividir os dados em conjuntos de treino e teste.\n",
    "from sklearn.model_selection import train_test_split\n",
    "# StandardScaler: Ferramenta para padronização de recursos, ajustando a média e a variância.\n",
    "from sklearn.preprocessing import StandardScaler\n",
    "# LinearRegression, Ridge, Lasso: Algoritmos de regressão linear, incluindo regularização L2 (Ridge) e L1 (Lasso).\n",
    "from sklearn.linear_model import LinearRegression, Ridge, Lasso\n",
    "\n",
    "\n",
    "### Avaliação de Modelos ### \n",
    "\n",
    "# Métricas para avaliar o desempenho\n",
    "from sklearn.metrics import mean_absolute_error, mean_squared_error, r2_score, explained_variance_score\n",
    "\n",
    "\n",
    "### Configurações Adicionais ###\n",
    "\n",
    "# Configuração de estilo para visualizações Seaborn.\n",
    "sns.set_style('whitegrid')\n",
    "# Inline: Para exibir gráficos diretamente no Jupyter Notebook.\n",
    "%matplotlib inline\n",
    "# Warnings: Biblioteca para gerenciar mensagens de aviso, aqui usada para ignorar avisos futuros.\n",
    "import warnings\n",
    "warnings.filterwarnings(\"ignore\", category=FutureWarning)\n",
    "# Ignorando avisos de depreciação\n",
    "warnings.filterwarnings(\"ignore\", category=DeprecationWarning)"
   ]
  },
  {
   "cell_type": "markdown",
   "id": "c9e260f9",
   "metadata": {},
   "source": [
    "<br><br>\n",
    "\n",
    "## Carregando Conjunto de Dados"
   ]
  },
  {
   "cell_type": "code",
   "execution_count": 2,
   "id": "0c5aa566",
   "metadata": {},
   "outputs": [],
   "source": [
    "# Carrega o dataset\n",
    "dados = pd.read_csv('dados/imoveis.csv')"
   ]
  },
  {
   "cell_type": "code",
   "execution_count": 3,
   "id": "36cd4eb7",
   "metadata": {},
   "outputs": [
    {
     "data": {
      "text/html": [
       "<div>\n",
       "<style scoped>\n",
       "    .dataframe tbody tr th:only-of-type {\n",
       "        vertical-align: middle;\n",
       "    }\n",
       "\n",
       "    .dataframe tbody tr th {\n",
       "        vertical-align: top;\n",
       "    }\n",
       "\n",
       "    .dataframe thead th {\n",
       "        text-align: right;\n",
       "    }\n",
       "</style>\n",
       "<table border=\"1\" class=\"dataframe\">\n",
       "  <thead>\n",
       "    <tr style=\"text-align: right;\">\n",
       "      <th></th>\n",
       "      <th>area</th>\n",
       "      <th>bedrooms</th>\n",
       "      <th>bathrooms</th>\n",
       "      <th>floors</th>\n",
       "      <th>year_built</th>\n",
       "      <th>location</th>\n",
       "      <th>garage</th>\n",
       "      <th>value</th>\n",
       "    </tr>\n",
       "  </thead>\n",
       "  <tbody>\n",
       "    <tr>\n",
       "      <th>0</th>\n",
       "      <td>174.835708</td>\n",
       "      <td>2.0</td>\n",
       "      <td>2.0</td>\n",
       "      <td>2.0</td>\n",
       "      <td>1919.0</td>\n",
       "      <td>Zona Norte</td>\n",
       "      <td>3.0</td>\n",
       "      <td>664379.908882</td>\n",
       "    </tr>\n",
       "    <tr>\n",
       "      <th>1</th>\n",
       "      <td>143.086785</td>\n",
       "      <td>1.0</td>\n",
       "      <td>1.0</td>\n",
       "      <td>2.0</td>\n",
       "      <td>1959.0</td>\n",
       "      <td>Zona Norte</td>\n",
       "      <td>0.0</td>\n",
       "      <td>501897.679702</td>\n",
       "    </tr>\n",
       "    <tr>\n",
       "      <th>2</th>\n",
       "      <td>182.384427</td>\n",
       "      <td>5.0</td>\n",
       "      <td>2.0</td>\n",
       "      <td>1.0</td>\n",
       "      <td>1939.0</td>\n",
       "      <td>Centro</td>\n",
       "      <td>1.0</td>\n",
       "      <td>803255.932459</td>\n",
       "    </tr>\n",
       "    <tr>\n",
       "      <th>3</th>\n",
       "      <td>226.151493</td>\n",
       "      <td>2.0</td>\n",
       "      <td>3.0</td>\n",
       "      <td>1.0</td>\n",
       "      <td>1982.0</td>\n",
       "      <td>Zona Oeste</td>\n",
       "      <td>2.0</td>\n",
       "      <td>922852.429946</td>\n",
       "    </tr>\n",
       "    <tr>\n",
       "      <th>4</th>\n",
       "      <td>138.292331</td>\n",
       "      <td>1.0</td>\n",
       "      <td>2.0</td>\n",
       "      <td>1.0</td>\n",
       "      <td>2001.0</td>\n",
       "      <td>Centro</td>\n",
       "      <td>1.0</td>\n",
       "      <td>433672.784015</td>\n",
       "    </tr>\n",
       "  </tbody>\n",
       "</table>\n",
       "</div>"
      ],
      "text/plain": [
       "         area  bedrooms  bathrooms  floors  year_built    location  garage  \\\n",
       "0  174.835708       2.0        2.0     2.0      1919.0  Zona Norte     3.0   \n",
       "1  143.086785       1.0        1.0     2.0      1959.0  Zona Norte     0.0   \n",
       "2  182.384427       5.0        2.0     1.0      1939.0      Centro     1.0   \n",
       "3  226.151493       2.0        3.0     1.0      1982.0  Zona Oeste     2.0   \n",
       "4  138.292331       1.0        2.0     1.0      2001.0      Centro     1.0   \n",
       "\n",
       "           value  \n",
       "0  664379.908882  \n",
       "1  501897.679702  \n",
       "2  803255.932459  \n",
       "3  922852.429946  \n",
       "4  433672.784015  "
      ]
     },
     "execution_count": 3,
     "metadata": {},
     "output_type": "execute_result"
    }
   ],
   "source": [
    "# Visualiza\n",
    "dados.head()"
   ]
  },
  {
   "cell_type": "code",
   "execution_count": 4,
   "id": "0633bfb8",
   "metadata": {},
   "outputs": [
    {
     "name": "stdout",
     "output_type": "stream",
     "text": [
      "<class 'pandas.core.frame.DataFrame'>\n",
      "RangeIndex: 10100 entries, 0 to 10099\n",
      "Data columns (total 8 columns):\n",
      " #   Column      Non-Null Count  Dtype  \n",
      "---  ------      --------------  -----  \n",
      " 0   area        10000 non-null  float64\n",
      " 1   bedrooms    9998 non-null   float64\n",
      " 2   bathrooms   9997 non-null   float64\n",
      " 3   floors      10100 non-null  float64\n",
      " 4   year_built  9999 non-null   float64\n",
      " 5   location    10100 non-null  object \n",
      " 6   garage      9999 non-null   float64\n",
      " 7   value       10100 non-null  float64\n",
      "dtypes: float64(7), object(1)\n",
      "memory usage: 631.4+ KB\n"
     ]
    }
   ],
   "source": [
    "# Info\n",
    "dados.info()"
   ]
  },
  {
   "cell_type": "markdown",
   "id": "ce1b7989",
   "metadata": {},
   "source": [
    "> Existem valores ausentes."
   ]
  },
  {
   "cell_type": "markdown",
   "id": "3d7fe6ac",
   "metadata": {},
   "source": [
    "<br>\n",
    "\n",
    "### Ordem Recomendada das Etapas de Pré-Processamento:\n",
    "\n",
    "- **Realizar Análise Exploratória** - Realizar Análise Exploratória das Variáveis Numéricas e Categóricas\n",
    "- **Transformação de Variáveis Categóricas**: Converter variáveis categóricas em numéricas.\n",
    "- **Tratamento de Valores Ausentes**: Lidar com valores ausentes primeiro garante que as próximas etapas possam ser aplicadas a um conjunto de dados completo e correto.\n",
    "- **Tratamento de Outliers**: Identificar e tratar outliers evita que esses valores influenciem negativamente as transformações e modelagens subsequentes.\n",
    "- **Verificação de Correlação**: Avaliar a correlação entre as variáveis para entender suas relações e evitar multicolinearidade.\n",
    "- **Divisão em Conjuntos de Treino e Teste**: Separar os dados em conjuntos de treino e teste antes de aplicar técnicas de modelagem.\n",
    "- **Escalonamento de Dados**: Normalizar ou padronizar os dados para garantir que todas as variáveis estejam na mesma escala, especialmente importante para modelos baseados em distância.\n"
   ]
  },
  {
   "cell_type": "markdown",
   "id": "8591c616",
   "metadata": {},
   "source": [
    "<br><br>\n",
    "## Análise Exploratória de Dados"
   ]
  },
  {
   "cell_type": "code",
   "execution_count": 5,
   "id": "9ff7f8d3",
   "metadata": {},
   "outputs": [
    {
     "data": {
      "text/plain": [
       "Index(['area', 'bedrooms', 'bathrooms', 'floors', 'year_built', 'location',\n",
       "       'garage', 'value'],\n",
       "      dtype='object')"
      ]
     },
     "execution_count": 5,
     "metadata": {},
     "output_type": "execute_result"
    }
   ],
   "source": [
    "# Nome das colunas\n",
    "dados.columns"
   ]
  },
  {
   "cell_type": "markdown",
   "id": "41faa756",
   "metadata": {},
   "source": [
    "#### Visualizando Variáveis Categóricas e Numéricas"
   ]
  },
  {
   "cell_type": "code",
   "execution_count": 6,
   "id": "c2ec645e",
   "metadata": {},
   "outputs": [
    {
     "data": {
      "text/plain": [
       "location    object\n",
       "dtype: object"
      ]
     },
     "execution_count": 6,
     "metadata": {},
     "output_type": "execute_result"
    }
   ],
   "source": [
    "# Exibindo Variáveis Categóricas (filtrando)\n",
    "dados.dtypes[dados.dtypes == 'object']"
   ]
  },
  {
   "cell_type": "code",
   "execution_count": 7,
   "id": "b1c7c706",
   "metadata": {},
   "outputs": [
    {
     "data": {
      "text/plain": [
       "area          float64\n",
       "bedrooms      float64\n",
       "bathrooms     float64\n",
       "floors        float64\n",
       "year_built    float64\n",
       "garage        float64\n",
       "value         float64\n",
       "dtype: object"
      ]
     },
     "execution_count": 7,
     "metadata": {},
     "output_type": "execute_result"
    }
   ],
   "source": [
    "# Exibindo Variáveis Numéricas (filtrando)\n",
    "dados.dtypes[dados.dtypes != 'object']"
   ]
  },
  {
   "cell_type": "markdown",
   "id": "62129668",
   "metadata": {},
   "source": [
    "<br><br>\n",
    "\n",
    "### Explorando Variáveis Numéricas\n",
    "\n",
    "#### Resumo Estatístico"
   ]
  },
  {
   "cell_type": "code",
   "execution_count": 8,
   "id": "0a3b057f",
   "metadata": {},
   "outputs": [
    {
     "data": {
      "text/html": [
       "<div>\n",
       "<style scoped>\n",
       "    .dataframe tbody tr th:only-of-type {\n",
       "        vertical-align: middle;\n",
       "    }\n",
       "\n",
       "    .dataframe tbody tr th {\n",
       "        vertical-align: top;\n",
       "    }\n",
       "\n",
       "    .dataframe thead th {\n",
       "        text-align: right;\n",
       "    }\n",
       "</style>\n",
       "<table border=\"1\" class=\"dataframe\">\n",
       "  <thead>\n",
       "    <tr style=\"text-align: right;\">\n",
       "      <th></th>\n",
       "      <th>area</th>\n",
       "      <th>bedrooms</th>\n",
       "      <th>bathrooms</th>\n",
       "      <th>floors</th>\n",
       "      <th>year_built</th>\n",
       "      <th>garage</th>\n",
       "      <th>value</th>\n",
       "    </tr>\n",
       "  </thead>\n",
       "  <tbody>\n",
       "    <tr>\n",
       "      <th>count</th>\n",
       "      <td>10000.000000</td>\n",
       "      <td>9998.000000</td>\n",
       "      <td>9997.000000</td>\n",
       "      <td>10100.000000</td>\n",
       "      <td>9999.000000</td>\n",
       "      <td>9999.00000</td>\n",
       "      <td>1.010000e+04</td>\n",
       "    </tr>\n",
       "    <tr>\n",
       "      <th>mean</th>\n",
       "      <td>150.390483</td>\n",
       "      <td>2.997600</td>\n",
       "      <td>1.992198</td>\n",
       "      <td>1.508812</td>\n",
       "      <td>1960.034203</td>\n",
       "      <td>1.49625</td>\n",
       "      <td>6.552605e+05</td>\n",
       "    </tr>\n",
       "    <tr>\n",
       "      <th>std</th>\n",
       "      <td>49.231224</td>\n",
       "      <td>1.409677</td>\n",
       "      <td>0.824021</td>\n",
       "      <td>0.499947</td>\n",
       "      <td>35.329929</td>\n",
       "      <td>1.11786</td>\n",
       "      <td>1.908042e+05</td>\n",
       "    </tr>\n",
       "    <tr>\n",
       "      <th>min</th>\n",
       "      <td>50.000000</td>\n",
       "      <td>1.000000</td>\n",
       "      <td>1.000000</td>\n",
       "      <td>1.000000</td>\n",
       "      <td>1900.000000</td>\n",
       "      <td>0.00000</td>\n",
       "      <td>6.927193e+04</td>\n",
       "    </tr>\n",
       "    <tr>\n",
       "      <th>25%</th>\n",
       "      <td>116.347417</td>\n",
       "      <td>2.000000</td>\n",
       "      <td>1.000000</td>\n",
       "      <td>1.000000</td>\n",
       "      <td>1929.000000</td>\n",
       "      <td>1.00000</td>\n",
       "      <td>5.291141e+05</td>\n",
       "    </tr>\n",
       "    <tr>\n",
       "      <th>50%</th>\n",
       "      <td>150.063279</td>\n",
       "      <td>3.000000</td>\n",
       "      <td>2.000000</td>\n",
       "      <td>2.000000</td>\n",
       "      <td>1960.000000</td>\n",
       "      <td>1.00000</td>\n",
       "      <td>6.521742e+05</td>\n",
       "    </tr>\n",
       "    <tr>\n",
       "      <th>75%</th>\n",
       "      <td>183.662711</td>\n",
       "      <td>4.000000</td>\n",
       "      <td>3.000000</td>\n",
       "      <td>2.000000</td>\n",
       "      <td>1991.000000</td>\n",
       "      <td>3.00000</td>\n",
       "      <td>7.731492e+05</td>\n",
       "    </tr>\n",
       "    <tr>\n",
       "      <th>max</th>\n",
       "      <td>346.311885</td>\n",
       "      <td>5.000000</td>\n",
       "      <td>3.000000</td>\n",
       "      <td>2.000000</td>\n",
       "      <td>2020.000000</td>\n",
       "      <td>3.00000</td>\n",
       "      <td>3.379100e+06</td>\n",
       "    </tr>\n",
       "  </tbody>\n",
       "</table>\n",
       "</div>"
      ],
      "text/plain": [
       "               area     bedrooms    bathrooms        floors   year_built  \\\n",
       "count  10000.000000  9998.000000  9997.000000  10100.000000  9999.000000   \n",
       "mean     150.390483     2.997600     1.992198      1.508812  1960.034203   \n",
       "std       49.231224     1.409677     0.824021      0.499947    35.329929   \n",
       "min       50.000000     1.000000     1.000000      1.000000  1900.000000   \n",
       "25%      116.347417     2.000000     1.000000      1.000000  1929.000000   \n",
       "50%      150.063279     3.000000     2.000000      2.000000  1960.000000   \n",
       "75%      183.662711     4.000000     3.000000      2.000000  1991.000000   \n",
       "max      346.311885     5.000000     3.000000      2.000000  2020.000000   \n",
       "\n",
       "           garage         value  \n",
       "count  9999.00000  1.010000e+04  \n",
       "mean      1.49625  6.552605e+05  \n",
       "std       1.11786  1.908042e+05  \n",
       "min       0.00000  6.927193e+04  \n",
       "25%       1.00000  5.291141e+05  \n",
       "50%       1.00000  6.521742e+05  \n",
       "75%       3.00000  7.731492e+05  \n",
       "max       3.00000  3.379100e+06  "
      ]
     },
     "execution_count": 8,
     "metadata": {},
     "output_type": "execute_result"
    }
   ],
   "source": [
    "dados.describe()"
   ]
  },
  {
   "cell_type": "markdown",
   "id": "280ecc70",
   "metadata": {},
   "source": [
    "#### Visualizando através de Gráficos"
   ]
  },
  {
   "cell_type": "code",
   "execution_count": 9,
   "id": "5c9643a4",
   "metadata": {},
   "outputs": [
    {
     "data": {
      "image/png": "[encoded data removed]",
      "text/plain": [
       "<Figure size 1080x1080 with 9 Axes>"
      ]
     },
     "metadata": {
      "needs_background": "light"
     },
     "output_type": "display_data"
    }
   ],
   "source": [
    "# Plot\n",
    "dados.hist(figsize = (15,15), bins = 10) \n",
    "plt.show()"
   ]
  },
  {
   "cell_type": "markdown",
   "id": "fab68799",
   "metadata": {},
   "source": [
    "#### Interpretando o Resumo e Gráficos\n",
    "\n",
    "- **area**: A variável área parece estar bem distribuída, mas com um pico em torno de 150 m². **Não há muitos outliers**, mas a **dispersão é alta**, indicando uma **variação significativa nas áreas das propriedades**.\n",
    "\n",
    "<br>\n",
    "\n",
    "- **bedrooms**: A distribuição do número de quartos é bastante uniforme, com uma leve concentração em 3 quartos. Isso sugere que **a maioria das propriedades tem entre 2 a 4 quartos**. **Outliers não são um problema** significativo aqui.\n",
    "\n",
    "<br>\n",
    "\n",
    "- **bathrooms**: A distribuição do número de banheiros também é uniforme, com uma **leve concentração em 2 banheiros**. As propriedades geralmente têm entre 1 a 3 banheiros, **sem outliers significativos**.\n",
    "\n",
    "<br>\n",
    "\n",
    "- **floors**: Há uma **distribuição binária entre 1 e 2 andares**, com uma ligeira predominância de propriedades de 2 andares. **Não há outliers, pois a variável é discreta e limitada**.\n",
    "\n",
    "<br>\n",
    "\n",
    "- **year_built**: A idade das propriedades está bem distribuída ao longo do século passado. **Não há outliers claros**, mas a dispersão é ampla, indicando uma mistura de propriedades novas e antigas.\n",
    "\n",
    "<br>\n",
    "\n",
    "- **garage**: A distribuição do número de vagas na garagem é relativamente uniforme, com uma leve concentração em 1 e 3 vagas. **Não há outliers** significativos.\n",
    "\n",
    "<br>\n",
    "\n",
    "- **value**: O valor das propriedades apresenta uma **distribuição assimétrica com uma cauda longa à direita**, indicando a **presença de outliers de alto valor**. Isso sugere que algumas propriedades são significativamente mais caras que a maioria.\n",
    "\n",
    "#### Conclusão:\n",
    "\n",
    "- Há **outliers notáveis na variável \"value\"**, que poderão necessitar de tratamento específico. As demais variáveis apresentam distribuições razoavelmente uniformes ou binárias sem outliers significativos."
   ]
  },
  {
   "cell_type": "markdown",
   "id": "10ae1506",
   "metadata": {},
   "source": [
    "<br><br>\n",
    "\n",
    "### Explorando Variável Categórica\n",
    "\n",
    "#### Resumo Estatístico"
   ]
  },
  {
   "cell_type": "code",
   "execution_count": 10,
   "id": "343e2bef",
   "metadata": {},
   "outputs": [
    {
     "data": {
      "text/html": [
       "<div>\n",
       "<style scoped>\n",
       "    .dataframe tbody tr th:only-of-type {\n",
       "        vertical-align: middle;\n",
       "    }\n",
       "\n",
       "    .dataframe tbody tr th {\n",
       "        vertical-align: top;\n",
       "    }\n",
       "\n",
       "    .dataframe thead th {\n",
       "        text-align: right;\n",
       "    }\n",
       "</style>\n",
       "<table border=\"1\" class=\"dataframe\">\n",
       "  <thead>\n",
       "    <tr style=\"text-align: right;\">\n",
       "      <th></th>\n",
       "      <th>location</th>\n",
       "    </tr>\n",
       "  </thead>\n",
       "  <tbody>\n",
       "    <tr>\n",
       "      <th>count</th>\n",
       "      <td>10100</td>\n",
       "    </tr>\n",
       "    <tr>\n",
       "      <th>unique</th>\n",
       "      <td>5</td>\n",
       "    </tr>\n",
       "    <tr>\n",
       "      <th>top</th>\n",
       "      <td>Zona Oeste</td>\n",
       "    </tr>\n",
       "    <tr>\n",
       "      <th>freq</th>\n",
       "      <td>2082</td>\n",
       "    </tr>\n",
       "  </tbody>\n",
       "</table>\n",
       "</div>"
      ],
      "text/plain": [
       "          location\n",
       "count        10100\n",
       "unique           5\n",
       "top     Zona Oeste\n",
       "freq          2082"
      ]
     },
     "execution_count": 10,
     "metadata": {},
     "output_type": "execute_result"
    }
   ],
   "source": [
    "# Describe (informando que é para somente variáveis categóricas)\n",
    "dados.describe(include = ['object'])"
   ]
  },
  {
   "cell_type": "code",
   "execution_count": 11,
   "id": "2506062e",
   "metadata": {},
   "outputs": [
    {
     "data": {
      "text/plain": [
       "array(['Zona Norte', 'Centro', 'Zona Oeste', 'Zona Sul', 'Zona Leste'],\n",
       "      dtype=object)"
      ]
     },
     "execution_count": 11,
     "metadata": {},
     "output_type": "execute_result"
    }
   ],
   "source": [
    "# Verificando Tipo de Valores\n",
    "dados['location'].unique()"
   ]
  },
  {
   "cell_type": "markdown",
   "id": "6c331e56",
   "metadata": {},
   "source": [
    "#### Visualizando através de Gráfico"
   ]
  },
  {
   "cell_type": "code",
   "execution_count": 12,
   "id": "88bc6b5c",
   "metadata": {},
   "outputs": [
    {
     "name": "stdout",
     "output_type": "stream",
     "text": [
      "Número de propriedades na Zona Oeste: 2082\n",
      "Número de propriedades na Centro: 2046\n",
      "Número de propriedades na Zona Sul: 2016\n",
      "Número de propriedades na Zona Norte: 1997\n",
      "Número de propriedades na Zona Leste: 1959\n"
     ]
    },
    {
     "data": {
      "image/png": "[encoded data removed]",
      "text/plain": [
       "<Figure size 432x288 with 1 Axes>"
      ]
     },
     "metadata": {
      "needs_background": "light"
     },
     "output_type": "display_data"
    }
   ],
   "source": [
    "# Plot\n",
    "sns.countplot(data = dados, x = 'location', label = 'Count')\n",
    "\n",
    "# Value counts\n",
    "location_counts = dados['location'].value_counts()\n",
    "\n",
    "# Print\n",
    "for location, count in location_counts.items():\n",
    "    print(f'Número de propriedades na {location}: {count}')"
   ]
  },
  {
   "cell_type": "markdown",
   "id": "a3b17fb8",
   "metadata": {},
   "source": [
    "### Aplicando Label Encoding\n",
    "#### Vamos transformar a variável **Categórica** Gender na sua represetação **Numérica**"
   ]
  },
  {
   "cell_type": "code",
   "execution_count": 13,
   "id": "8509debc",
   "metadata": {},
   "outputs": [
    {
     "name": "stdout",
     "output_type": "stream",
     "text": [
      "<class 'pandas.core.frame.DataFrame'>\n",
      "RangeIndex: 10100 entries, 0 to 10099\n",
      "Data columns (total 8 columns):\n",
      " #   Column      Non-Null Count  Dtype  \n",
      "---  ------      --------------  -----  \n",
      " 0   area        10000 non-null  float64\n",
      " 1   bedrooms    9998 non-null   float64\n",
      " 2   bathrooms   9997 non-null   float64\n",
      " 3   floors      10100 non-null  float64\n",
      " 4   year_built  9999 non-null   float64\n",
      " 5   location    10100 non-null  int64  \n",
      " 6   garage      9999 non-null   float64\n",
      " 7   value       10100 non-null  float64\n",
      "dtypes: float64(7), int64(1)\n",
      "memory usage: 631.4 KB\n"
     ]
    }
   ],
   "source": [
    "# Função para label encoding ('Centro' = 0, 'Zona Norte' = 1, 'Zona Sul' = 2, 'Zona Leste' = 3, 'Zona Oeste' = 4)\n",
    "def encoding_func(x):\n",
    "    if x == 'Centro':\n",
    "        return 0\n",
    "    elif x == 'Zona Norte':\n",
    "        return 1\n",
    "    elif x == 'Zona Sul':\n",
    "        return 2\n",
    "    elif x == 'Zona Leste':\n",
    "        return 3\n",
    "    elif x == 'Zona Oeste':\n",
    "        return 4\n",
    "\n",
    "# Aplica a função\n",
    "dados['location'] = dados['location'].map(encoding_func)\n",
    "\n",
    "# Verificando info\n",
    "dados.info()"
   ]
  },
  {
   "cell_type": "code",
   "execution_count": 14,
   "id": "cfa8beb3",
   "metadata": {},
   "outputs": [
    {
     "data": {
      "text/html": [
       "<div>\n",
       "<style scoped>\n",
       "    .dataframe tbody tr th:only-of-type {\n",
       "        vertical-align: middle;\n",
       "    }\n",
       "\n",
       "    .dataframe tbody tr th {\n",
       "        vertical-align: top;\n",
       "    }\n",
       "\n",
       "    .dataframe thead th {\n",
       "        text-align: right;\n",
       "    }\n",
       "</style>\n",
       "<table border=\"1\" class=\"dataframe\">\n",
       "  <thead>\n",
       "    <tr style=\"text-align: right;\">\n",
       "      <th></th>\n",
       "      <th>area</th>\n",
       "      <th>bedrooms</th>\n",
       "      <th>bathrooms</th>\n",
       "      <th>floors</th>\n",
       "      <th>year_built</th>\n",
       "      <th>location</th>\n",
       "      <th>garage</th>\n",
       "      <th>value</th>\n",
       "    </tr>\n",
       "  </thead>\n",
       "  <tbody>\n",
       "    <tr>\n",
       "      <th>1446</th>\n",
       "      <td>NaN</td>\n",
       "      <td>2.0</td>\n",
       "      <td>3.0</td>\n",
       "      <td>1.0</td>\n",
       "      <td>1991.0</td>\n",
       "      <td>1</td>\n",
       "      <td>3.0</td>\n",
       "      <td>641824.554207</td>\n",
       "    </tr>\n",
       "    <tr>\n",
       "      <th>6770</th>\n",
       "      <td>148.397625</td>\n",
       "      <td>4.0</td>\n",
       "      <td>3.0</td>\n",
       "      <td>2.0</td>\n",
       "      <td>1990.0</td>\n",
       "      <td>3</td>\n",
       "      <td>2.0</td>\n",
       "      <td>825290.682348</td>\n",
       "    </tr>\n",
       "    <tr>\n",
       "      <th>5698</th>\n",
       "      <td>144.751615</td>\n",
       "      <td>3.0</td>\n",
       "      <td>2.0</td>\n",
       "      <td>2.0</td>\n",
       "      <td>2010.0</td>\n",
       "      <td>3</td>\n",
       "      <td>2.0</td>\n",
       "      <td>676237.564565</td>\n",
       "    </tr>\n",
       "  </tbody>\n",
       "</table>\n",
       "</div>"
      ],
      "text/plain": [
       "            area  bedrooms  bathrooms  floors  year_built  location  garage  \\\n",
       "1446         NaN       2.0        3.0     1.0      1991.0         1     3.0   \n",
       "6770  148.397625       4.0        3.0     2.0      1990.0         3     2.0   \n",
       "5698  144.751615       3.0        2.0     2.0      2010.0         3     2.0   \n",
       "\n",
       "              value  \n",
       "1446  641824.554207  \n",
       "6770  825290.682348  \n",
       "5698  676237.564565  "
      ]
     },
     "execution_count": 14,
     "metadata": {},
     "output_type": "execute_result"
    }
   ],
   "source": [
    "# Visualiza os dados\n",
    "dados.sample(3)"
   ]
  },
  {
   "cell_type": "markdown",
   "id": "c90e17c9",
   "metadata": {},
   "source": [
    "<br>\n",
    "\n",
    "# Limpeza nos Dados"
   ]
  },
  {
   "cell_type": "markdown",
   "id": "754d77d7",
   "metadata": {},
   "source": [
    "<br>\n",
    "\n",
    "### Tratando Valores Ausentes"
   ]
  },
  {
   "cell_type": "code",
   "execution_count": 15,
   "id": "9a42e575",
   "metadata": {},
   "outputs": [
    {
     "data": {
      "text/plain": [
       "area          100\n",
       "bedrooms      102\n",
       "bathrooms     103\n",
       "floors          0\n",
       "year_built    101\n",
       "location        0\n",
       "garage        101\n",
       "value           0\n",
       "dtype: int64"
      ]
     },
     "execution_count": 15,
     "metadata": {},
     "output_type": "execute_result"
    }
   ],
   "source": [
    "# Verifica se há valores ausentes (por coluna)\n",
    "dados.isna().sum()"
   ]
  },
  {
   "cell_type": "code",
   "execution_count": 16,
   "id": "a4d23467",
   "metadata": {},
   "outputs": [
    {
     "data": {
      "text/plain": [
       "area          0\n",
       "bedrooms      0\n",
       "bathrooms     0\n",
       "floors        0\n",
       "year_built    0\n",
       "location      0\n",
       "garage        0\n",
       "value         0\n",
       "dtype: int64"
      ]
     },
     "execution_count": 16,
     "metadata": {},
     "output_type": "execute_result"
    }
   ],
   "source": [
    "# Eliminando as linhas com valores ausentes\n",
    "dados = dados.dropna()\n",
    "\n",
    "\n",
    "# Verifica se há valores ausentes (por coluna)\n",
    "dados.isna().sum()"
   ]
  },
  {
   "cell_type": "markdown",
   "id": "51768ff6",
   "metadata": {},
   "source": [
    "<br>\n",
    "\n",
    "## Tratando Valores Duplicados"
   ]
  },
  {
   "cell_type": "code",
   "execution_count": 17,
   "id": "d34ffc4f",
   "metadata": {},
   "outputs": [
    {
     "name": "stdout",
     "output_type": "stream",
     "text": [
      "(9604, 8)\n",
      "94\n"
     ]
    }
   ],
   "source": [
    "# Shape\n",
    "print(dados.shape)\n",
    "\n",
    "# Verifica quantidade de valores duplicados\n",
    "print(dados.duplicated().sum())"
   ]
  },
  {
   "cell_type": "code",
   "execution_count": 18,
   "id": "a0db44a3",
   "metadata": {},
   "outputs": [
    {
     "name": "stdout",
     "output_type": "stream",
     "text": [
      "(9510, 8)\n"
     ]
    }
   ],
   "source": [
    "# Remove registros duplicados (remove uma das duplicatas)\n",
    "dados = dados.drop_duplicates()\n",
    "\n",
    "# Shape\n",
    "print(dados.shape)"
   ]
  },
  {
   "cell_type": "markdown",
   "id": "cd34978d",
   "metadata": {},
   "source": [
    "<br>\n",
    "\n",
    "## Tratando Valores Outliers\n",
    "\n",
    "- Conforme dito acima, vamos olhar para a variável **value**."
   ]
  },
  {
   "cell_type": "code",
   "execution_count": 19,
   "id": "a402472e",
   "metadata": {},
   "outputs": [
    {
     "data": {
      "text/plain": [
       "count    9.510000e+03\n",
       "mean     6.552477e+05\n",
       "std      1.896765e+05\n",
       "min      6.927193e+04\n",
       "25%      5.294397e+05\n",
       "50%      6.530258e+05\n",
       "75%      7.738436e+05\n",
       "max      3.379100e+06\n",
       "Name: value, dtype: float64"
      ]
     },
     "execution_count": 19,
     "metadata": {},
     "output_type": "execute_result"
    }
   ],
   "source": [
    "# Describe\n",
    "dados['value'].describe()"
   ]
  },
  {
   "cell_type": "code",
   "execution_count": 20,
   "id": "3a4f7168",
   "metadata": {},
   "outputs": [
    {
     "data": {
      "text/plain": [
       "<Axes: ylabel='value'>"
      ]
     },
     "execution_count": 20,
     "metadata": {},
     "output_type": "execute_result"
    },
    {
     "data": {
      "image/png": "[encoded data removed]",
      "text/plain": [
       "<Figure size 432x288 with 1 Axes>"
      ]
     },
     "metadata": {
      "needs_background": "light"
     },
     "output_type": "display_data"
    }
   ],
   "source": [
    "# Boxplot\n",
    "sns.boxplot(dados.value)"
   ]
  },
  {
   "cell_type": "code",
   "execution_count": 21,
   "id": "29ca978f",
   "metadata": {},
   "outputs": [
    {
     "name": "stdout",
     "output_type": "stream",
     "text": [
      "Total de valores acima da média: 4709\n",
      "Quantidade de imóveis com valor abaixo de 250 mil: 87\n",
      "Quantidade de imóveis com valor acima de 1.4 milhões: 15\n",
      "Quantidade de imóveis com valor acima de 1.75 milhões: 12\n",
      "Quantidade de imóveis com valor acima de 2 milhões: 8\n",
      "Quantidade de imóveis com valor acima de 2.5 milhões: 5\n",
      "Quantidade de imóveis com valor acima de 3 milhões: 2\n",
      "Total de valores na variável: 9510\n"
     ]
    }
   ],
   "source": [
    "# Exibindo a quantidade de valores acima da média:\n",
    "\n",
    "# Cálculo da média\n",
    "media = dados['value'].mean()\n",
    "\n",
    "# Contagem de valores acima da média\n",
    "total_acima_media = (dados['value'] > media).sum()\n",
    "\n",
    "print(\"Total de valores acima da média:\", total_acima_media)\n",
    "\n",
    "# Quantidade de imóveis com valor abaixo de de 250 mil\n",
    "abaixo_250_mil = (dados['value'] < 250000).sum()\n",
    "print(f\"Quantidade de imóveis com valor abaixo de 250 mil: {abaixo_250_mil}\")\n",
    "\n",
    "# Quantidade de imóveis com valor acima de 1.4 milhões\n",
    "acima_1_4_milhoes = (dados['value'] > 1400000).sum()\n",
    "print(f\"Quantidade de imóveis com valor acima de 1.4 milhões: {acima_1_4_milhoes}\")\n",
    "\n",
    "# Quantidade de imóveis com valor acima de 1.75 milhões\n",
    "acima_1_75_milhoes = (dados['value'] > 1750000).sum()\n",
    "print(f\"Quantidade de imóveis com valor acima de 1.75 milhões: {acima_1_75_milhoes}\")\n",
    "\n",
    "# Quantidade de imóveis com valor acima de 2 milhões\n",
    "acima_2_milhoes = (dados['value'] > 2000000).sum()\n",
    "print(f\"Quantidade de imóveis com valor acima de 2 milhões: {acima_2_milhoes}\")\n",
    "\n",
    "# Quantidade de imóveis com valor acima de 2.5 milhões\n",
    "acima_2_5_milhoes = (dados['value'] > 2500000).sum()\n",
    "print(f\"Quantidade de imóveis com valor acima de 2.5 milhões: {acima_2_5_milhoes}\")\n",
    "\n",
    "# Quantidade de imóveis com valor acima de 3 milhões\n",
    "acima_3_milhoes = (dados['value'] > 3000000).sum()\n",
    "print(f\"Quantidade de imóveis com valor acima de 3 milhões: {acima_3_milhoes}\")\n",
    "\n",
    "\n",
    "print(\"Total de valores na variável:\", len(dados['value']))"
   ]
  },
  {
   "cell_type": "markdown",
   "id": "1abf2f30",
   "metadata": {},
   "source": [
    "#### Removendo Valores Acima de 2 milhões"
   ]
  },
  {
   "cell_type": "code",
   "execution_count": 22,
   "id": "dccd00c1",
   "metadata": {},
   "outputs": [
    {
     "name": "stdout",
     "output_type": "stream",
     "text": [
      "count    9.408000e+03\n",
      "mean     6.569848e+05\n",
      "std      1.735392e+05\n",
      "min      2.523682e+05\n",
      "25%      5.330157e+05\n",
      "50%      6.549217e+05\n",
      "75%      7.744031e+05\n",
      "max      1.276326e+06\n",
      "Name: value, dtype: float64\n"
     ]
    }
   ],
   "source": [
    "# Removendo imóveis com valor abaixo de 250 mil\n",
    "dados = dados[dados['value'] >= 250000]\n",
    "\n",
    "# Removendo imóveis com valor acima de 1.4 milhões\n",
    "dados = dados[dados['value'] <= 1400000]\n",
    "\n",
    "# Verificando o resultado\n",
    "print(dados['value'].describe())"
   ]
  },
  {
   "cell_type": "code",
   "execution_count": 23,
   "id": "c5b593c9",
   "metadata": {},
   "outputs": [
    {
     "data": {
      "text/plain": [
       "<Axes: ylabel='value'>"
      ]
     },
     "execution_count": 23,
     "metadata": {},
     "output_type": "execute_result"
    },
    {
     "data": {
      "image/png": "[encoded data removed]",
      "text/plain": [
       "<Figure size 432x288 with 1 Axes>"
      ]
     },
     "metadata": {
      "needs_background": "light"
     },
     "output_type": "display_data"
    }
   ],
   "source": [
    "# Boxplot\n",
    "sns.boxplot(dados.value)"
   ]
  },
  {
   "cell_type": "markdown",
   "id": "3729ca99",
   "metadata": {},
   "source": [
    "### Conclusão\n",
    "- O objetivo do tratamento de outliers foi reduzir o impacto de valores extremos na variável \"value\" para melhorar a qualidade do modelo de regressão e garantir que os resultados sejam representativos da maioria dos imóveis no conjunto de dados.\n",
    "\n",
    "<br>\n",
    "\n",
    "- **Remoção de Valores Abaixo de 250 Mil**: Imóveis com valores abaixo de 250 mil representavam apenas **87 casos**, o que é uma pequena fração do total. Esses imóveis podem ser considerados atípicos e poderiam distorcer as análises, influenciando negativamente as estatísticas e a precisão do modelo.\n",
    "- **Remoção de Valores Acima de 1.4 Milhões**: Imóveis com valores acima de 1.4 milhões representavam apenas **15 casos**. Esses valores são consideravelmente mais altos do que a média e o desvio padrão, indicando que são outliers. A remoção desses imóveis ajuda a evitar que esses valores extremos afetem desproporcionalmente os resultados da modelagem."
   ]
  },
  {
   "cell_type": "markdown",
   "id": "25509fe6",
   "metadata": {},
   "source": [
    "<br>\n",
    "\n",
    "## Verificando Correlação"
   ]
  },
  {
   "cell_type": "code",
   "execution_count": 24,
   "id": "97637e79",
   "metadata": {},
   "outputs": [
    {
     "data": {
      "text/html": [
       "<div>\n",
       "<style scoped>\n",
       "    .dataframe tbody tr th:only-of-type {\n",
       "        vertical-align: middle;\n",
       "    }\n",
       "\n",
       "    .dataframe tbody tr th {\n",
       "        vertical-align: top;\n",
       "    }\n",
       "\n",
       "    .dataframe thead th {\n",
       "        text-align: right;\n",
       "    }\n",
       "</style>\n",
       "<table border=\"1\" class=\"dataframe\">\n",
       "  <thead>\n",
       "    <tr style=\"text-align: right;\">\n",
       "      <th></th>\n",
       "      <th>area</th>\n",
       "      <th>bedrooms</th>\n",
       "      <th>bathrooms</th>\n",
       "      <th>floors</th>\n",
       "      <th>year_built</th>\n",
       "      <th>location</th>\n",
       "      <th>garage</th>\n",
       "      <th>value</th>\n",
       "    </tr>\n",
       "  </thead>\n",
       "  <tbody>\n",
       "    <tr>\n",
       "      <th>area</th>\n",
       "      <td>1.000000</td>\n",
       "      <td>-0.015345</td>\n",
       "      <td>-0.007077</td>\n",
       "      <td>-0.015706</td>\n",
       "      <td>-0.011728</td>\n",
       "      <td>0.010285</td>\n",
       "      <td>0.001241</td>\n",
       "      <td>0.823034</td>\n",
       "    </tr>\n",
       "    <tr>\n",
       "      <th>bedrooms</th>\n",
       "      <td>-0.015345</td>\n",
       "      <td>1.000000</td>\n",
       "      <td>0.020576</td>\n",
       "      <td>-0.016490</td>\n",
       "      <td>0.011355</td>\n",
       "      <td>-0.004973</td>\n",
       "      <td>-0.014242</td>\n",
       "      <td>0.392146</td>\n",
       "    </tr>\n",
       "    <tr>\n",
       "      <th>bathrooms</th>\n",
       "      <td>-0.007077</td>\n",
       "      <td>0.020576</td>\n",
       "      <td>1.000000</td>\n",
       "      <td>-0.015821</td>\n",
       "      <td>-0.003746</td>\n",
       "      <td>0.010069</td>\n",
       "      <td>-0.007227</td>\n",
       "      <td>0.144430</td>\n",
       "    </tr>\n",
       "    <tr>\n",
       "      <th>floors</th>\n",
       "      <td>-0.015706</td>\n",
       "      <td>-0.016490</td>\n",
       "      <td>-0.015821</td>\n",
       "      <td>1.000000</td>\n",
       "      <td>-0.004557</td>\n",
       "      <td>0.005059</td>\n",
       "      <td>0.002812</td>\n",
       "      <td>0.031967</td>\n",
       "    </tr>\n",
       "    <tr>\n",
       "      <th>year_built</th>\n",
       "      <td>-0.011728</td>\n",
       "      <td>0.011355</td>\n",
       "      <td>-0.003746</td>\n",
       "      <td>-0.004557</td>\n",
       "      <td>1.000000</td>\n",
       "      <td>0.004074</td>\n",
       "      <td>-0.010321</td>\n",
       "      <td>0.197656</td>\n",
       "    </tr>\n",
       "    <tr>\n",
       "      <th>location</th>\n",
       "      <td>0.010285</td>\n",
       "      <td>-0.004973</td>\n",
       "      <td>0.010069</td>\n",
       "      <td>0.005059</td>\n",
       "      <td>0.004074</td>\n",
       "      <td>1.000000</td>\n",
       "      <td>-0.006029</td>\n",
       "      <td>0.012395</td>\n",
       "    </tr>\n",
       "    <tr>\n",
       "      <th>garage</th>\n",
       "      <td>0.001241</td>\n",
       "      <td>-0.014242</td>\n",
       "      <td>-0.007227</td>\n",
       "      <td>0.002812</td>\n",
       "      <td>-0.010321</td>\n",
       "      <td>-0.006029</td>\n",
       "      <td>1.000000</td>\n",
       "      <td>0.081803</td>\n",
       "    </tr>\n",
       "    <tr>\n",
       "      <th>value</th>\n",
       "      <td>0.823034</td>\n",
       "      <td>0.392146</td>\n",
       "      <td>0.144430</td>\n",
       "      <td>0.031967</td>\n",
       "      <td>0.197656</td>\n",
       "      <td>0.012395</td>\n",
       "      <td>0.081803</td>\n",
       "      <td>1.000000</td>\n",
       "    </tr>\n",
       "  </tbody>\n",
       "</table>\n",
       "</div>"
      ],
      "text/plain": [
       "                area  bedrooms  bathrooms    floors  year_built  location  \\\n",
       "area        1.000000 -0.015345  -0.007077 -0.015706   -0.011728  0.010285   \n",
       "bedrooms   -0.015345  1.000000   0.020576 -0.016490    0.011355 -0.004973   \n",
       "bathrooms  -0.007077  0.020576   1.000000 -0.015821   -0.003746  0.010069   \n",
       "floors     -0.015706 -0.016490  -0.015821  1.000000   -0.004557  0.005059   \n",
       "year_built -0.011728  0.011355  -0.003746 -0.004557    1.000000  0.004074   \n",
       "location    0.010285 -0.004973   0.010069  0.005059    0.004074  1.000000   \n",
       "garage      0.001241 -0.014242  -0.007227  0.002812   -0.010321 -0.006029   \n",
       "value       0.823034  0.392146   0.144430  0.031967    0.197656  0.012395   \n",
       "\n",
       "              garage     value  \n",
       "area        0.001241  0.823034  \n",
       "bedrooms   -0.014242  0.392146  \n",
       "bathrooms  -0.007227  0.144430  \n",
       "floors      0.002812  0.031967  \n",
       "year_built -0.010321  0.197656  \n",
       "location   -0.006029  0.012395  \n",
       "garage      1.000000  0.081803  \n",
       "value       0.081803  1.000000  "
      ]
     },
     "execution_count": 24,
     "metadata": {},
     "output_type": "execute_result"
    }
   ],
   "source": [
    "# Verificando Correlação (tabela)\n",
    "dados.corr()"
   ]
  },
  {
   "cell_type": "code",
   "execution_count": 25,
   "id": "b26a80af",
   "metadata": {},
   "outputs": [
    {
     "data": {
      "image/png": "[encoded data removed]",
      "text/plain": [
       "<Figure size 720x576 with 2 Axes>"
      ]
     },
     "metadata": {
      "needs_background": "light"
     },
     "output_type": "display_data"
    }
   ],
   "source": [
    "# Visualizando Correlações através de um Mapa de Calor\n",
    "\n",
    "# Criando o heatmap\n",
    "corr_matrix = dados.select_dtypes(include=[np.number]).corr()\n",
    "\n",
    "plt.figure(figsize=(10, 8))  # Define o tamanho da figura\n",
    "sns.heatmap(corr_matrix, annot=True, fmt=\".2f\", cmap='coolwarm', vmin=-1, vmax=1, cbar=True, square=True)\n",
    "plt.title('Mapa de Calor das Correlações')\n",
    "plt.show()"
   ]
  },
  {
   "cell_type": "markdown",
   "id": "dc86f024",
   "metadata": {},
   "source": [
    "### Conclusão\n",
    "- A **área da propriedade** é a variável que mais **influencia o valor de venda**, com uma correlação **positiva muito forte** (0.82).\n",
    "- **Quartos e ano de construção** têm correlações **positivas moderadas e fracas**, respectivamente, indicando que também são fatores importantes, mas com menos impacto comparado à área.\n",
    "- **Banheiros, andares, localização, e garagem** têm **correlações fracas** com o valor de venda, sugerindo que seu impacto é menor.\n",
    "- **Relação entre as Variáveis Pretioras**: As variáveis preditivas apresentam **correlações muito fracas entre si**. Isso indica **baixa multicolinearidade**, o que é desejável em modelos de regressão, pois significa que cada variável está trazendo informações distintas e independentes."
   ]
  },
  {
   "cell_type": "markdown",
   "id": "c792d110",
   "metadata": {},
   "source": [
    "<br>\n",
    "\n",
    "### Análise 1 - Relação Entre Área e Valor do Imóvel"
   ]
  },
  {
   "cell_type": "code",
   "execution_count": 26,
   "id": "7fceb4de",
   "metadata": {},
   "outputs": [
    {
     "data": {
      "text/plain": [
       "<seaborn.axisgrid.JointGrid at 0x7fc5359d3820>"
      ]
     },
     "execution_count": 26,
     "metadata": {},
     "output_type": "execute_result"
    },
    {
     "data": {
      "text/plain": [
       "<Figure size 1296x864 with 0 Axes>"
      ]
     },
     "metadata": {},
     "output_type": "display_data"
    },
    {
     "data": {
      "image/png": "[encoded data removed]",
      "text/plain": [
       "<Figure size 432x432 with 3 Axes>"
      ]
     },
     "metadata": {},
     "output_type": "display_data"
    }
   ],
   "source": [
    "# Plot\n",
    "plt.figure(figsize = (18, 12))\n",
    "sns.set(font_scale = 1.1)\n",
    "sns.jointplot(data = dados, \n",
    "              x = 'area', \n",
    "              y = 'value',\n",
    "              color = 'blue')"
   ]
  },
  {
   "cell_type": "code",
   "execution_count": 27,
   "id": "c61ebf68",
   "metadata": {},
   "outputs": [
    {
     "data": {
      "text/html": [
       "<div>\n",
       "<style scoped>\n",
       "    .dataframe tbody tr th:only-of-type {\n",
       "        vertical-align: middle;\n",
       "    }\n",
       "\n",
       "    .dataframe tbody tr th {\n",
       "        vertical-align: top;\n",
       "    }\n",
       "\n",
       "    .dataframe thead th {\n",
       "        text-align: right;\n",
       "    }\n",
       "</style>\n",
       "<table border=\"1\" class=\"dataframe\">\n",
       "  <thead>\n",
       "    <tr style=\"text-align: right;\">\n",
       "      <th></th>\n",
       "      <th>area</th>\n",
       "      <th>value</th>\n",
       "    </tr>\n",
       "  </thead>\n",
       "  <tbody>\n",
       "    <tr>\n",
       "      <th>area</th>\n",
       "      <td>1.000000</td>\n",
       "      <td>0.823034</td>\n",
       "    </tr>\n",
       "    <tr>\n",
       "      <th>value</th>\n",
       "      <td>0.823034</td>\n",
       "      <td>1.000000</td>\n",
       "    </tr>\n",
       "  </tbody>\n",
       "</table>\n",
       "</div>"
      ],
      "text/plain": [
       "           area     value\n",
       "area   1.000000  0.823034\n",
       "value  0.823034  1.000000"
      ]
     },
     "execution_count": 27,
     "metadata": {},
     "output_type": "execute_result"
    }
   ],
   "source": [
    "# Correlação (tabela)\n",
    "dados[['area', 'value']].corr()"
   ]
  },
  {
   "cell_type": "markdown",
   "id": "39f33069",
   "metadata": {},
   "source": [
    "<br>\n",
    "\n",
    "### Análise 2 - Relação Entre Quantidade de Quartos e Valor do Imóvel"
   ]
  },
  {
   "cell_type": "code",
   "execution_count": 28,
   "id": "39057564",
   "metadata": {},
   "outputs": [
    {
     "data": {
      "text/plain": [
       "<seaborn.axisgrid.JointGrid at 0x7fc53d7fd400>"
      ]
     },
     "execution_count": 28,
     "metadata": {},
     "output_type": "execute_result"
    },
    {
     "data": {
      "text/plain": [
       "<Figure size 1296x864 with 0 Axes>"
      ]
     },
     "metadata": {},
     "output_type": "display_data"
    },
    {
     "data": {
      "image/png": "[encoded data removed]",
      "text/plain": [
       "<Figure size 432x432 with 3 Axes>"
      ]
     },
     "metadata": {},
     "output_type": "display_data"
    }
   ],
   "source": [
    "# Plot\n",
    "plt.figure(figsize = (18, 12))\n",
    "sns.set(font_scale = 1.1)\n",
    "sns.jointplot(data = dados, \n",
    "              x = 'bedrooms', \n",
    "              y = 'value',\n",
    "              color = 'orange')"
   ]
  },
  {
   "cell_type": "code",
   "execution_count": 29,
   "id": "a6f303ff",
   "metadata": {},
   "outputs": [
    {
     "data": {
      "text/html": [
       "<div>\n",
       "<style scoped>\n",
       "    .dataframe tbody tr th:only-of-type {\n",
       "        vertical-align: middle;\n",
       "    }\n",
       "\n",
       "    .dataframe tbody tr th {\n",
       "        vertical-align: top;\n",
       "    }\n",
       "\n",
       "    .dataframe thead th {\n",
       "        text-align: right;\n",
       "    }\n",
       "</style>\n",
       "<table border=\"1\" class=\"dataframe\">\n",
       "  <thead>\n",
       "    <tr style=\"text-align: right;\">\n",
       "      <th></th>\n",
       "      <th>bedrooms</th>\n",
       "      <th>value</th>\n",
       "    </tr>\n",
       "  </thead>\n",
       "  <tbody>\n",
       "    <tr>\n",
       "      <th>bedrooms</th>\n",
       "      <td>1.000000</td>\n",
       "      <td>0.392146</td>\n",
       "    </tr>\n",
       "    <tr>\n",
       "      <th>value</th>\n",
       "      <td>0.392146</td>\n",
       "      <td>1.000000</td>\n",
       "    </tr>\n",
       "  </tbody>\n",
       "</table>\n",
       "</div>"
      ],
      "text/plain": [
       "          bedrooms     value\n",
       "bedrooms  1.000000  0.392146\n",
       "value     0.392146  1.000000"
      ]
     },
     "execution_count": 29,
     "metadata": {},
     "output_type": "execute_result"
    }
   ],
   "source": [
    "# Correlação (tabela)\n",
    "dados[['bedrooms', 'value']].corr()"
   ]
  },
  {
   "cell_type": "markdown",
   "id": "eb2dc100",
   "metadata": {},
   "source": [
    "<br><br>\n",
    "\n",
    "# Pré-Processamento de Dados Para Construção de Modelos de Machine Learning\n",
    "\n",
    "<br>"
   ]
  },
  {
   "cell_type": "markdown",
   "id": "fae17239",
   "metadata": {},
   "source": [
    "<br>\n",
    "\n",
    "## Dividindo os dados em Dados de Treino e Dados de Teste\n",
    "- Nós **treinamos** o modelo com **dados de treino** e **avaliamos** o modelo com **dados de teste**."
   ]
  },
  {
   "cell_type": "code",
   "execution_count": 30,
   "id": "cf3a6965",
   "metadata": {},
   "outputs": [
    {
     "name": "stdout",
     "output_type": "stream",
     "text": [
      "(7526, 7) (1882, 7) (7526,) (1882,)\n"
     ]
    }
   ],
   "source": [
    "# Cria um objeto separado para a variável alvo\n",
    "y = dados.value\n",
    "\n",
    "# Cria um objeto separado para as variáveis de entrada\n",
    "X = dados.drop('value', axis=1)\n",
    "\n",
    "# Split em dados de treino e teste sem amostragem estratificada\n",
    "X_treino, X_teste, y_treino, y_teste = train_test_split(X, \n",
    "                                                        y, \n",
    "                                                        test_size=0.2, \n",
    "                                                        random_state=1234)\n",
    "\n",
    "# Print do shape\n",
    "print(X_treino.shape, X_teste.shape, y_treino.shape, y_teste.shape)"
   ]
  },
  {
   "cell_type": "markdown",
   "id": "d14443be",
   "metadata": {},
   "source": [
    "<br>\n",
    "\n",
    "## Padronização\n",
    "\n",
    "- Não é necessário aplicar padronização/normalização na variável alvo."
   ]
  },
  {
   "cell_type": "code",
   "execution_count": 31,
   "id": "863aac5c",
   "metadata": {},
   "outputs": [],
   "source": [
    "# Inicializa o scaler\n",
    "scaler = StandardScaler()\n",
    "\n",
    "# Ajusta e transforma os dados de treino\n",
    "X_treino_scaled = scaler.fit_transform(X_treino)\n",
    "X_teste_scaled = scaler.transform(X_teste)\n",
    "\n",
    "# Converte os arrays de volta para DataFrame\n",
    "X_treino_scaled = pd.DataFrame(X_treino_scaled, columns=X_treino.columns, index=X_treino.index)\n",
    "X_teste_scaled = pd.DataFrame(X_teste_scaled, columns=X_teste.columns, index=X_teste.index)\n",
    "\n",
    "X_treino = X_treino_scaled\n",
    "X_teste = X_teste_scaled"
   ]
  },
  {
   "cell_type": "code",
   "execution_count": 32,
   "id": "435c3b15",
   "metadata": {},
   "outputs": [
    {
     "name": "stdout",
     "output_type": "stream",
     "text": [
      "          area  bedrooms  bathrooms    floors  year_built  location    garage\n",
      "8367  0.372831 -1.427639   1.212215  0.995492    0.643081  1.393791  0.454270\n",
      "6181 -0.338076  0.707719  -1.215441 -1.004528    0.558135 -0.013463  0.454270\n",
      "2257 -0.457169  1.419505  -1.215441  0.995492   -0.546163 -0.013463 -0.437445\n",
      "3885  0.531222 -1.427639  -0.001613 -1.004528    1.209387 -0.717090 -0.437445\n",
      "3762 -0.862266 -0.004067   1.212215  0.995492   -0.404586 -0.013463  0.454270\n",
      "          area  bedrooms  bathrooms    floors  year_built  location    garage\n",
      "6909 -0.942360  0.707719  -1.215441  0.995492   -1.593830 -0.717090 -0.437445\n",
      "832  -1.059650 -0.004067  -1.215441 -1.004528    1.662433 -0.013463 -1.329159\n",
      "357  -0.320740  0.707719   1.212215 -1.004528    0.671396 -1.420717  1.345984\n",
      "9128  0.566537 -0.004067  -0.001613  0.995492   -0.064802  1.393791  0.454270\n",
      "6102 -1.193164  0.707719  -0.001613  0.995492    0.331612  0.690164  1.345984\n"
     ]
    }
   ],
   "source": [
    "# Verifica os DataFrames escalonados\n",
    "print(X_treino.head())\n",
    "print(X_teste.head())"
   ]
  },
  {
   "cell_type": "markdown",
   "id": "e17b2892",
   "metadata": {},
   "source": [
    "<br><br><br><br>\n",
    "\n",
    "<span style=\"color: green; font-size: 40px; font-weight: bold;\">Construindo Modelos de Machine Learning</span>\n",
    "### Nesta etapa do projeto, desenvolveremos e avaliaremos <u>três diferentes</u> modelos de machine learning para identificar qual deles apresenta o <u>melhor desempenho</u> para o nosso conjunto de dados.\n",
    "\n",
    "<br>\n",
    "\n",
    "Abaixo estão os modelos que serão implementados e testados:\n",
    "\n",
    "<br>\n",
    "\n",
    "\n",
    "- **Modelo 1**: **Regressão Linear (Benchmark)** - Utilizado como linha de base devido à sua simplicidade e eficácia em problemas de regressão. Este modelo ajudará a estabelecer uma base para a performance que esperamos superar com técnicas mais complexas.\n",
    "\n",
    "<br>\n",
    "\n",
    "- **Modelo 2**: **Regressão Ridge** - Um modelo de regressão que adiciona uma penalização L2 ao cálculo dos coeficientes, ajudando a reduzir o sobreajuste (overfitting) e melhorando a capacidade de generalização do modelo.\n",
    "\n",
    "<br>\n",
    "\n",
    "- **Modelo 3**: **Regressão LASSO** - Um modelo de regressão que aplica uma penalização L1, forçando a soma dos valores absolutos dos coeficientes a serem menores que um valor fixo. Isso pode resultar na eliminação de algumas variáveis irrelevantes, tornando o modelo mais interpretável e eficiente.\n",
    "\n",
    "<br>\n",
    "\n",
    "- **Modelo 4**: **Regressão ElasticNet** - Uma combinação de penalizações L1 e L2, este modelo busca combinar os benefícios de ambos os métodos Ridge e LASSO, ajustando a penalização para otimizar a performance e a interpretabilidade do modelo.\n",
    "\n",
    "<br>\n",
    "\n",
    "- **Modelo 5**: **Regressão com Árvores de Decisão** - Utiliza uma estrutura de árvore para modelar as relações entre variáveis preditoras e a variável alvo, podendo capturar relações não lineares e interações entre variáveis de forma eficaz.\n",
    "\n",
    "<br>\n",
    "\n",
    "- **Modelo 6**: **Regressão com Random Forest** - Uma extensão do modelo de árvores de decisão, que utiliza um conjunto de árvores (floresta) para melhorar a robustez e a capacidade de generalização do modelo, reduzindo o risco de overfitting.\n",
    "\n",
    "\n",
    "<br><br>\n",
    "\n",
    "\n",
    "Cada modelo será treinado utilizando o mesmo conjunto de dados, permitindo uma comparação justa de sua eficácia. A avaliação de cada modelo incluirá métricas como **erro médio absoluto (MAE)**, **erro quadrático médio (MSE)** e o **coeficiente de determinação (R²)**, entre outras, dependendo das especificidades de nosso problema e dados."
   ]
  },
  {
   "cell_type": "markdown",
   "id": "ca20af78",
   "metadata": {},
   "source": [
    "<br><br><br>\n",
    "\n",
    "## Criando Dataframe para salvar métricas de cada Modelo"
   ]
  },
  {
   "cell_type": "code",
   "execution_count": null,
   "id": "7be3228a",
   "metadata": {},
   "outputs": [],
   "source": [
    "# Cria um dataframe para receber as métricas de cada modelo\n",
    "df_modelos = pd.DataFrame()"
   ]
  },
  {
   "cell_type": "markdown",
   "id": "a2299189",
   "metadata": {},
   "source": [
    "<br><br><br>\n",
    "\n",
    "# <span style=\"color: green; font-weight: bold;\">Modelo 1 com Regressão Logística (Benchmark)</span>"
   ]
  },
  {
   "cell_type": "markdown",
   "id": "fec80500",
   "metadata": {},
   "source": [
    "### Criação e Treinamento do Modelo"
   ]
  },
  {
   "cell_type": "code",
   "execution_count": 34,
   "id": "f784c3f7",
   "metadata": {},
   "outputs": [
    {
     "data": {
      "text/html": [
       "<style>#sk-container-id-1 {\n",
       "  /* Definition of color scheme common for light and dark mode */\n",
       "  --sklearn-color-text: black;\n",
       "  --sklearn-color-line: gray;\n",
       "  /* Definition of color scheme for unfitted estimators */\n",
       "  --sklearn-color-unfitted-level-0: #fff5e6;\n",
       "  --sklearn-color-unfitted-level-1: #f6e4d2;\n",
       "  --sklearn-color-unfitted-level-2: #ffe0b3;\n",
       "  --sklearn-color-unfitted-level-3: chocolate;\n",
       "  /* Definition of color scheme for fitted estimators */\n",
       "  --sklearn-color-fitted-level-0: #f0f8ff;\n",
       "  --sklearn-color-fitted-level-1: #d4ebff;\n",
       "  --sklearn-color-fitted-level-2: #b3dbfd;\n",
       "  --sklearn-color-fitted-level-3: cornflowerblue;\n",
       "\n",
       "  /* Specific color for light theme */\n",
       "  --sklearn-color-text-on-default-background: var(--sg-text-color, var(--theme-code-foreground, var(--jp-content-font-color1, black)));\n",
       "  --sklearn-color-background: var(--sg-background-color, var(--theme-background, var(--jp-layout-color0, white)));\n",
       "  --sklearn-color-border-box: var(--sg-text-color, var(--theme-code-foreground, var(--jp-content-font-color1, black)));\n",
       "  --sklearn-color-icon: #696969;\n",
       "\n",
       "  @media (prefers-color-scheme: dark) {\n",
       "    /* Redefinition of color scheme for dark theme */\n",
       "    --sklearn-color-text-on-default-background: var(--sg-text-color, var(--theme-code-foreground, var(--jp-content-font-color1, white)));\n",
       "    --sklearn-color-background: var(--sg-background-color, var(--theme-background, var(--jp-layout-color0, #111)));\n",
       "    --sklearn-color-border-box: var(--sg-text-color, var(--theme-code-foreground, var(--jp-content-font-color1, white)));\n",
       "    --sklearn-color-icon: #878787;\n",
       "  }\n",
       "}\n",
       "\n",
       "#sk-container-id-1 {\n",
       "  color: var(--sklearn-color-text);\n",
       "}\n",
       "\n",
       "#sk-container-id-1 pre {\n",
       "  padding: 0;\n",
       "}\n",
       "\n",
       "#sk-container-id-1 input.sk-hidden--visually {\n",
       "  border: 0;\n",
       "  clip: rect(1px 1px 1px 1px);\n",
       "  clip: rect(1px, 1px, 1px, 1px);\n",
       "  height: 1px;\n",
       "  margin: -1px;\n",
       "  overflow: hidden;\n",
       "  padding: 0;\n",
       "  position: absolute;\n",
       "  width: 1px;\n",
       "}\n",
       "\n",
       "#sk-container-id-1 div.sk-dashed-wrapped {\n",
       "  border: 1px dashed var(--sklearn-color-line);\n",
       "  margin: 0 0.4em 0.5em 0.4em;\n",
       "  box-sizing: border-box;\n",
       "  padding-bottom: 0.4em;\n",
       "  background-color: var(--sklearn-color-background);\n",
       "}\n",
       "\n",
       "#sk-container-id-1 div.sk-container {\n",
       "  /* jupyter's `normalize.less` sets `[hidden] { display: none; }`\n",
       "     but bootstrap.min.css set `[hidden] { display: none !important; }`\n",
       "     so we also need the `!important` here to be able to override the\n",
       "     default hidden behavior on the sphinx rendered scikit-learn.org.\n",
       "     See: https://github.com/scikit-learn/scikit-learn/issues/21755 */\n",
       "  display: inline-block !important;\n",
       "  position: relative;\n",
       "}\n",
       "\n",
       "#sk-container-id-1 div.sk-text-repr-fallback {\n",
       "  display: none;\n",
       "}\n",
       "\n",
       "div.sk-parallel-item,\n",
       "div.sk-serial,\n",
       "div.sk-item {\n",
       "  /* draw centered vertical line to link estimators */\n",
       "  background-image: linear-gradient(var(--sklearn-color-text-on-default-background), var(--sklearn-color-text-on-default-background));\n",
       "  background-size: 2px 100%;\n",
       "  background-repeat: no-repeat;\n",
       "  background-position: center center;\n",
       "}\n",
       "\n",
       "/* Parallel-specific style estimator block */\n",
       "\n",
       "#sk-container-id-1 div.sk-parallel-item::after {\n",
       "  content: \"\";\n",
       "  width: 100%;\n",
       "  border-bottom: 2px solid var(--sklearn-color-text-on-default-background);\n",
       "  flex-grow: 1;\n",
       "}\n",
       "\n",
       "#sk-container-id-1 div.sk-parallel {\n",
       "  display: flex;\n",
       "  align-items: stretch;\n",
       "  justify-content: center;\n",
       "  background-color: var(--sklearn-color-background);\n",
       "  position: relative;\n",
       "}\n",
       "\n",
       "#sk-container-id-1 div.sk-parallel-item {\n",
       "  display: flex;\n",
       "  flex-direction: column;\n",
       "}\n",
       "\n",
       "#sk-container-id-1 div.sk-parallel-item:first-child::after {\n",
       "  align-self: flex-end;\n",
       "  width: 50%;\n",
       "}\n",
       "\n",
       "#sk-container-id-1 div.sk-parallel-item:last-child::after {\n",
       "  align-self: flex-start;\n",
       "  width: 50%;\n",
       "}\n",
       "\n",
       "#sk-container-id-1 div.sk-parallel-item:only-child::after {\n",
       "  width: 0;\n",
       "}\n",
       "\n",
       "/* Serial-specific style estimator block */\n",
       "\n",
       "#sk-container-id-1 div.sk-serial {\n",
       "  display: flex;\n",
       "  flex-direction: column;\n",
       "  align-items: center;\n",
       "  background-color: var(--sklearn-color-background);\n",
       "  padding-right: 1em;\n",
       "  padding-left: 1em;\n",
       "}\n",
       "\n",
       "\n",
       "/* Toggleable style: style used for estimator/Pipeline/ColumnTransformer box that is\n",
       "clickable and can be expanded/collapsed.\n",
       "- Pipeline and ColumnTransformer use this feature and define the default style\n",
       "- Estimators will overwrite some part of the style using the `sk-estimator` class\n",
       "*/\n",
       "\n",
       "/* Pipeline and ColumnTransformer style (default) */\n",
       "\n",
       "#sk-container-id-1 div.sk-toggleable {\n",
       "  /* Default theme specific background. It is overwritten whether we have a\n",
       "  specific estimator or a Pipeline/ColumnTransformer */\n",
       "  background-color: var(--sklearn-color-background);\n",
       "}\n",
       "\n",
       "/* Toggleable label */\n",
       "#sk-container-id-1 label.sk-toggleable__label {\n",
       "  cursor: pointer;\n",
       "  display: block;\n",
       "  width: 100%;\n",
       "  margin-bottom: 0;\n",
       "  padding: 0.5em;\n",
       "  box-sizing: border-box;\n",
       "  text-align: center;\n",
       "}\n",
       "\n",
       "#sk-container-id-1 label.sk-toggleable__label-arrow:before {\n",
       "  /* Arrow on the left of the label */\n",
       "  content: \"▸\";\n",
       "  float: left;\n",
       "  margin-right: 0.25em;\n",
       "  color: var(--sklearn-color-icon);\n",
       "}\n",
       "\n",
       "#sk-container-id-1 label.sk-toggleable__label-arrow:hover:before {\n",
       "  color: var(--sklearn-color-text);\n",
       "}\n",
       "\n",
       "/* Toggleable content - dropdown */\n",
       "\n",
       "#sk-container-id-1 div.sk-toggleable__content {\n",
       "  max-height: 0;\n",
       "  max-width: 0;\n",
       "  overflow: hidden;\n",
       "  text-align: left;\n",
       "  /* unfitted */\n",
       "  background-color: var(--sklearn-color-unfitted-level-0);\n",
       "}\n",
       "\n",
       "#sk-container-id-1 div.sk-toggleable__content.fitted {\n",
       "  /* fitted */\n",
       "  background-color: var(--sklearn-color-fitted-level-0);\n",
       "}\n",
       "\n",
       "#sk-container-id-1 div.sk-toggleable__content pre {\n",
       "  margin: 0.2em;\n",
       "  border-radius: 0.25em;\n",
       "  color: var(--sklearn-color-text);\n",
       "  /* unfitted */\n",
       "  background-color: var(--sklearn-color-unfitted-level-0);\n",
       "}\n",
       "\n",
       "#sk-container-id-1 div.sk-toggleable__content.fitted pre {\n",
       "  /* unfitted */\n",
       "  background-color: var(--sklearn-color-fitted-level-0);\n",
       "}\n",
       "\n",
       "#sk-container-id-1 input.sk-toggleable__control:checked~div.sk-toggleable__content {\n",
       "  /* Expand drop-down */\n",
       "  max-height: 200px;\n",
       "  max-width: 100%;\n",
       "  overflow: auto;\n",
       "}\n",
       "\n",
       "#sk-container-id-1 input.sk-toggleable__control:checked~label.sk-toggleable__label-arrow:before {\n",
       "  content: \"▾\";\n",
       "}\n",
       "\n",
       "/* Pipeline/ColumnTransformer-specific style */\n",
       "\n",
       "#sk-container-id-1 div.sk-label input.sk-toggleable__control:checked~label.sk-toggleable__label {\n",
       "  color: var(--sklearn-color-text);\n",
       "  background-color: var(--sklearn-color-unfitted-level-2);\n",
       "}\n",
       "\n",
       "#sk-container-id-1 div.sk-label.fitted input.sk-toggleable__control:checked~label.sk-toggleable__label {\n",
       "  background-color: var(--sklearn-color-fitted-level-2);\n",
       "}\n",
       "\n",
       "/* Estimator-specific style */\n",
       "\n",
       "/* Colorize estimator box */\n",
       "#sk-container-id-1 div.sk-estimator input.sk-toggleable__control:checked~label.sk-toggleable__label {\n",
       "  /* unfitted */\n",
       "  background-color: var(--sklearn-color-unfitted-level-2);\n",
       "}\n",
       "\n",
       "#sk-container-id-1 div.sk-estimator.fitted input.sk-toggleable__control:checked~label.sk-toggleable__label {\n",
       "  /* fitted */\n",
       "  background-color: var(--sklearn-color-fitted-level-2);\n",
       "}\n",
       "\n",
       "#sk-container-id-1 div.sk-label label.sk-toggleable__label,\n",
       "#sk-container-id-1 div.sk-label label {\n",
       "  /* The background is the default theme color */\n",
       "  color: var(--sklearn-color-text-on-default-background);\n",
       "}\n",
       "\n",
       "/* On hover, darken the color of the background */\n",
       "#sk-container-id-1 div.sk-label:hover label.sk-toggleable__label {\n",
       "  color: var(--sklearn-color-text);\n",
       "  background-color: var(--sklearn-color-unfitted-level-2);\n",
       "}\n",
       "\n",
       "/* Label box, darken color on hover, fitted */\n",
       "#sk-container-id-1 div.sk-label.fitted:hover label.sk-toggleable__label.fitted {\n",
       "  color: var(--sklearn-color-text);\n",
       "  background-color: var(--sklearn-color-fitted-level-2);\n",
       "}\n",
       "\n",
       "/* Estimator label */\n",
       "\n",
       "#sk-container-id-1 div.sk-label label {\n",
       "  font-family: monospace;\n",
       "  font-weight: bold;\n",
       "  display: inline-block;\n",
       "  line-height: 1.2em;\n",
       "}\n",
       "\n",
       "#sk-container-id-1 div.sk-label-container {\n",
       "  text-align: center;\n",
       "}\n",
       "\n",
       "/* Estimator-specific */\n",
       "#sk-container-id-1 div.sk-estimator {\n",
       "  font-family: monospace;\n",
       "  border: 1px dotted var(--sklearn-color-border-box);\n",
       "  border-radius: 0.25em;\n",
       "  box-sizing: border-box;\n",
       "  margin-bottom: 0.5em;\n",
       "  /* unfitted */\n",
       "  background-color: var(--sklearn-color-unfitted-level-0);\n",
       "}\n",
       "\n",
       "#sk-container-id-1 div.sk-estimator.fitted {\n",
       "  /* fitted */\n",
       "  background-color: var(--sklearn-color-fitted-level-0);\n",
       "}\n",
       "\n",
       "/* on hover */\n",
       "#sk-container-id-1 div.sk-estimator:hover {\n",
       "  /* unfitted */\n",
       "  background-color: var(--sklearn-color-unfitted-level-2);\n",
       "}\n",
       "\n",
       "#sk-container-id-1 div.sk-estimator.fitted:hover {\n",
       "  /* fitted */\n",
       "  background-color: var(--sklearn-color-fitted-level-2);\n",
       "}\n",
       "\n",
       "/* Specification for estimator info (e.g. \"i\" and \"?\") */\n",
       "\n",
       "/* Common style for \"i\" and \"?\" */\n",
       "\n",
       ".sk-estimator-doc-link,\n",
       "a:link.sk-estimator-doc-link,\n",
       "a:visited.sk-estimator-doc-link {\n",
       "  float: right;\n",
       "  font-size: smaller;\n",
       "  line-height: 1em;\n",
       "  font-family: monospace;\n",
       "  background-color: var(--sklearn-color-background);\n",
       "  border-radius: 1em;\n",
       "  height: 1em;\n",
       "  width: 1em;\n",
       "  text-decoration: none !important;\n",
       "  margin-left: 1ex;\n",
       "  /* unfitted */\n",
       "  border: var(--sklearn-color-unfitted-level-1) 1pt solid;\n",
       "  color: var(--sklearn-color-unfitted-level-1);\n",
       "}\n",
       "\n",
       ".sk-estimator-doc-link.fitted,\n",
       "a:link.sk-estimator-doc-link.fitted,\n",
       "a:visited.sk-estimator-doc-link.fitted {\n",
       "  /* fitted */\n",
       "  border: var(--sklearn-color-fitted-level-1) 1pt solid;\n",
       "  color: var(--sklearn-color-fitted-level-1);\n",
       "}\n",
       "\n",
       "/* On hover */\n",
       "div.sk-estimator:hover .sk-estimator-doc-link:hover,\n",
       ".sk-estimator-doc-link:hover,\n",
       "div.sk-label-container:hover .sk-estimator-doc-link:hover,\n",
       ".sk-estimator-doc-link:hover {\n",
       "  /* unfitted */\n",
       "  background-color: var(--sklearn-color-unfitted-level-3);\n",
       "  color: var(--sklearn-color-background);\n",
       "  text-decoration: none;\n",
       "}\n",
       "\n",
       "div.sk-estimator.fitted:hover .sk-estimator-doc-link.fitted:hover,\n",
       ".sk-estimator-doc-link.fitted:hover,\n",
       "div.sk-label-container:hover .sk-estimator-doc-link.fitted:hover,\n",
       ".sk-estimator-doc-link.fitted:hover {\n",
       "  /* fitted */\n",
       "  background-color: var(--sklearn-color-fitted-level-3);\n",
       "  color: var(--sklearn-color-background);\n",
       "  text-decoration: none;\n",
       "}\n",
       "\n",
       "/* Span, style for the box shown on hovering the info icon */\n",
       ".sk-estimator-doc-link span {\n",
       "  display: none;\n",
       "  z-index: 9999;\n",
       "  position: relative;\n",
       "  font-weight: normal;\n",
       "  right: .2ex;\n",
       "  padding: .5ex;\n",
       "  margin: .5ex;\n",
       "  width: min-content;\n",
       "  min-width: 20ex;\n",
       "  max-width: 50ex;\n",
       "  color: var(--sklearn-color-text);\n",
       "  box-shadow: 2pt 2pt 4pt #999;\n",
       "  /* unfitted */\n",
       "  background: var(--sklearn-color-unfitted-level-0);\n",
       "  border: .5pt solid var(--sklearn-color-unfitted-level-3);\n",
       "}\n",
       "\n",
       ".sk-estimator-doc-link.fitted span {\n",
       "  /* fitted */\n",
       "  background: var(--sklearn-color-fitted-level-0);\n",
       "  border: var(--sklearn-color-fitted-level-3);\n",
       "}\n",
       "\n",
       ".sk-estimator-doc-link:hover span {\n",
       "  display: block;\n",
       "}\n",
       "\n",
       "/* \"?\"-specific style due to the `<a>` HTML tag */\n",
       "\n",
       "#sk-container-id-1 a.estimator_doc_link {\n",
       "  float: right;\n",
       "  font-size: 1rem;\n",
       "  line-height: 1em;\n",
       "  font-family: monospace;\n",
       "  background-color: var(--sklearn-color-background);\n",
       "  border-radius: 1rem;\n",
       "  height: 1rem;\n",
       "  width: 1rem;\n",
       "  text-decoration: none;\n",
       "  /* unfitted */\n",
       "  color: var(--sklearn-color-unfitted-level-1);\n",
       "  border: var(--sklearn-color-unfitted-level-1) 1pt solid;\n",
       "}\n",
       "\n",
       "#sk-container-id-1 a.estimator_doc_link.fitted {\n",
       "  /* fitted */\n",
       "  border: var(--sklearn-color-fitted-level-1) 1pt solid;\n",
       "  color: var(--sklearn-color-fitted-level-1);\n",
       "}\n",
       "\n",
       "/* On hover */\n",
       "#sk-container-id-1 a.estimator_doc_link:hover {\n",
       "  /* unfitted */\n",
       "  background-color: var(--sklearn-color-unfitted-level-3);\n",
       "  color: var(--sklearn-color-background);\n",
       "  text-decoration: none;\n",
       "}\n",
       "\n",
       "#sk-container-id-1 a.estimator_doc_link.fitted:hover {\n",
       "  /* fitted */\n",
       "  background-color: var(--sklearn-color-fitted-level-3);\n",
       "}\n",
       "</style><div id=\"sk-container-id-1\" class=\"sk-top-container\"><div class=\"sk-text-repr-fallback\"><pre>LinearRegression()</pre><b>In a Jupyter environment, please rerun this cell to show the HTML representation or trust the notebook. <br />On GitHub, the HTML representation is unable to render, please try loading this page with nbviewer.org.</b></div><div class=\"sk-container\" hidden><div class=\"sk-item\"><div class=\"sk-estimator fitted sk-toggleable\"><input class=\"sk-toggleable__control sk-hidden--visually\" id=\"sk-estimator-id-1\" type=\"checkbox\" checked><label for=\"sk-estimator-id-1\" class=\"sk-toggleable__label fitted sk-toggleable__label-arrow fitted\">&nbsp;&nbsp;LinearRegression<a class=\"sk-estimator-doc-link fitted\" rel=\"noreferrer\" target=\"_blank\" href=\"https://scikit-learn.org/1.4/modules/generated/sklearn.linear_model.LinearRegression.html\">?<span>Documentation for LinearRegression</span></a><span class=\"sk-estimator-doc-link fitted\">i<span>Fitted</span></span></label><div class=\"sk-toggleable__content fitted\"><pre>LinearRegression()</pre></div> </div></div></div></div>"
      ],
      "text/plain": [
       "LinearRegression()"
      ]
     },
     "execution_count": 34,
     "metadata": {},
     "output_type": "execute_result"
    }
   ],
   "source": [
    "# Cria o modelo\n",
    "modelo_v1_RL = LinearRegression()\n",
    "\n",
    "# Treina o modelo\n",
    "modelo_v1_RL.fit(X_treino, y_treino)"
   ]
  },
  {
   "cell_type": "markdown",
   "id": "38829105",
   "metadata": {},
   "source": [
    "#### Visualizando coeficientes das variáveis preditoras"
   ]
  },
  {
   "cell_type": "code",
   "execution_count": 35,
   "id": "c28945ed",
   "metadata": {},
   "outputs": [
    {
     "data": {
      "text/html": [
       "<div>\n",
       "<style scoped>\n",
       "    .dataframe tbody tr th:only-of-type {\n",
       "        vertical-align: middle;\n",
       "    }\n",
       "\n",
       "    .dataframe tbody tr th {\n",
       "        vertical-align: top;\n",
       "    }\n",
       "\n",
       "    .dataframe thead th {\n",
       "        text-align: right;\n",
       "    }\n",
       "</style>\n",
       "<table border=\"1\" class=\"dataframe\">\n",
       "  <thead>\n",
       "    <tr style=\"text-align: right;\">\n",
       "      <th></th>\n",
       "      <th>Coeficiente</th>\n",
       "    </tr>\n",
       "  </thead>\n",
       "  <tbody>\n",
       "    <tr>\n",
       "      <th>area</th>\n",
       "      <td>143817.730025</td>\n",
       "    </tr>\n",
       "    <tr>\n",
       "      <th>bedrooms</th>\n",
       "      <td>69954.060360</td>\n",
       "    </tr>\n",
       "    <tr>\n",
       "      <th>bathrooms</th>\n",
       "      <td>24812.997807</td>\n",
       "    </tr>\n",
       "    <tr>\n",
       "      <th>floors</th>\n",
       "      <td>9422.885410</td>\n",
       "    </tr>\n",
       "    <tr>\n",
       "      <th>year_built</th>\n",
       "      <td>35755.182681</td>\n",
       "    </tr>\n",
       "    <tr>\n",
       "      <th>location</th>\n",
       "      <td>1130.528587</td>\n",
       "    </tr>\n",
       "    <tr>\n",
       "      <th>garage</th>\n",
       "      <td>15188.803916</td>\n",
       "    </tr>\n",
       "  </tbody>\n",
       "</table>\n",
       "</div>"
      ],
      "text/plain": [
       "              Coeficiente\n",
       "area        143817.730025\n",
       "bedrooms     69954.060360\n",
       "bathrooms    24812.997807\n",
       "floors        9422.885410\n",
       "year_built   35755.182681\n",
       "location      1130.528587\n",
       "garage       15188.803916"
      ]
     },
     "execution_count": 35,
     "metadata": {},
     "output_type": "execute_result"
    }
   ],
   "source": [
    "# Coeficientes das variáveis preditoras\n",
    "df_coef = pd.DataFrame(modelo_v1_RL.coef_, X.columns, columns=['Coeficiente'])\n",
    "df_coef"
   ]
  },
  {
   "cell_type": "markdown",
   "id": "2ed71081",
   "metadata": {},
   "source": [
    "### Interpretação dos Coeficientes das Variáveis Preditivas\n",
    "\n",
    "- **area**: Cada aumento de 1 metro quadrado na área da propriedade aumenta o valor do imóvel em média em **143,817.73 unidades monetárias**.\n",
    "- **bedrooms**: Cada quarto adicional aumenta o valor do imóvel em média em **69,954.06 unidades monetárias**.\n",
    "- **bathrooms**: Cada banheiro adicional aumenta o valor do imóvel em média em **24,812.99 unidades monetárias**.\n",
    "- **floors**: Cada andar adicional aumenta o valor do imóvel em média em **9,422.89 unidades monetárias**.\n",
    "- **year_built**: Cada ano mais recente de construção aumenta o valor do imóvel em média em **35,755.18 unidades monetárias**.\n",
    "- **location**: Cada mudança na localização, conforme codificação, aumenta o valor do imóvel em média em **1,130.53 unidades monetárias**.\n",
    "- **garage**: Cada vaga adicional na garagem aumenta o valor do imóvel em média em **15,188.80 unidades monetárias**.\n",
    "\n",
    "> Os **coeficientes** indicam que a **área** e o **número de quartos** são os fatores que mais **influenciam o valor do imóvel**, seguidos pelo ano de construção, número de banheiros e vagas na garagem. A localização tem um impacto menor comparativamente. Cada aumento nessas variáveis preditivas resulta em um aumento correspondente no valor do imóvel."
   ]
  },
  {
   "cell_type": "code",
   "execution_count": null,
   "id": "5631a101",
   "metadata": {},
   "outputs": [],
   "source": []
  },
  {
   "cell_type": "code",
   "execution_count": null,
   "id": "d6793941",
   "metadata": {},
   "outputs": [],
   "source": []
  },
  {
   "cell_type": "code",
   "execution_count": null,
   "id": "a9984bd1",
   "metadata": {},
   "outputs": [],
   "source": []
  },
  {
   "cell_type": "code",
   "execution_count": null,
   "id": "87cab63d",
   "metadata": {},
   "outputs": [],
   "source": []
  },
  {
   "cell_type": "code",
   "execution_count": null,
   "id": "fac741f6",
   "metadata": {},
   "outputs": [],
   "source": []
  }
 ],
 "metadata": {
  "kernelspec": {
   "display_name": "Python 3 (ipykernel)",
   "language": "python",
   "name": "python3"
  },
  "language_info": {
   "codemirror_mode": {
    "name": "ipython",
    "version": 3
   },
   "file_extension": ".py",
   "mimetype": "text/x-python",
   "name": "python",
   "nbconvert_exporter": "python",
   "pygments_lexer": "ipython3",
   "version": "3.9.7"
  }
 },
 "nbformat": 4,
 "nbformat_minor": 5
}
