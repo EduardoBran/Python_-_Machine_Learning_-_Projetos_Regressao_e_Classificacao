{
 "cells": [
  {
   "cell_type": "markdown",
   "id": "0ab1e636",
   "metadata": {},
   "source": [
    "# <span style=\"color: green; font-size: 40px; font-weight: bold;\"> Projeto: Classificação de Imagens de Veículos</span>\n",
    "\n",
    "<br><br>\n",
    "\n",
    "# Contexto\n",
    "\n",
    "- Lucas trabalha em uma empresa de segurança que utiliza câmeras para monitorar o tráfego em diversas partes da cidade. Identificar manualmente os diferentes tipos de veículos nas imagens capturadas é uma tarefa demorada. Para resolver esse problema, Lucas decidiu usar a inteligência artificial para automatizar a identificação dos veículos. Ele encontrou um conjunto de dados no Kaggle contendo imagens de diferentes tipos de veículos e começou a desenvolver um modelo de classificação de imagens utilizando redes neurais convolucionais (CNNs)."
   ]
  },
  {
   "cell_type": "markdown",
   "id": "8a76a531-1808-4530-9243-0185fb6671f8",
   "metadata": {},
   "source": [
    "<br><br>\n",
    "\n",
    "## Importando Pacotes"
   ]
  },
  {
   "cell_type": "code",
   "execution_count": null,
   "id": "478603d2",
   "metadata": {},
   "outputs": [],
   "source": [
    "import os\n",
    "import numpy as np\n",
    "import pandas as pd\n",
    "from tensorflow.keras.preprocessing.image import load_img, img_to_array, ImageDataGenerator\n",
    "import matplotlib.pyplot as plt\n",
    "import seaborn as sns\n",
    "from sklearn.model_selection import train_test_split\n",
    "from sklearn.preprocessing import LabelEncoder\n",
    "from tensorflow.keras.utils import to_categorical\n",
    "from tensorflow.keras.models import Sequential\n",
    "from tensorflow.keras.layers import Conv2D, MaxPooling2D, Flatten, Dense, Dropout\n",
    "from tensorflow.keras.models import load_model"
   ]
  },
  {
   "cell_type": "markdown",
   "id": "ed4dcccb",
   "metadata": {},
   "source": [
    "<br><br>\n",
    "\n",
    "## Download Conjunto de Dados"
   ]
  },
  {
   "cell_type": "code",
   "execution_count": null,
   "id": "b0975e6c",
   "metadata": {},
   "outputs": [],
   "source": []
  },
  {
   "cell_type": "markdown",
   "id": "7080aa1d",
   "metadata": {},
   "source": [
    "<br>\n",
    "\n",
    "## Carregando Conjunto de Dados\n",
    "\n",
    "- Carregando as imagens e rótulos do diretório do conjunto de dados."
   ]
  },
  {
   "cell_type": "code",
   "execution_count": null,
   "id": "cde1dcdf",
   "metadata": {},
   "outputs": [],
   "source": []
  },
  {
   "cell_type": "markdown",
   "id": "4d2ba3f4",
   "metadata": {},
   "source": [
    "<br>\n",
    "\n",
    "## Análise dos Dados\n",
    "\n",
    "- Realizando uma análise preliminar dos dados para verificar se estão corretos e prontos para o pré-processamento."
   ]
  },
  {
   "cell_type": "code",
   "execution_count": null,
   "id": "0d4d4f7c",
   "metadata": {},
   "outputs": [],
   "source": []
  },
  {
   "cell_type": "markdown",
   "id": "b6d7e091",
   "metadata": {},
   "source": [
    "<br>\n",
    "\n",
    "## Pré-processamento de Dados\n",
    "- **Carregando e rotulando as imagens**: Utilizamos **LabelEncoder** para transformar os rótulos de texto em rótulos numéricos.\n",
    "- **Dividindo os dados em treino e teste**: Utilizamos **train_test_split** para dividir os dados em conjuntos de treino (80%) e teste (20%).\n",
    "- **Normalizando os dados de entrada**: As imagens são normalizadas dividindo os valores dos pixels por 255.0, colocando-os na faixa de 0, 1.\n",
    "- **Codificando os rótulos em one-hot**: Os rótulos numéricos são convertidos em uma representação one-hot, essencial para a camada de saída do modelo de classificação.\n",
    "<br><br>\n",
    "Este bloco de código garante que os dados estejam preparados adequadamente para o treinamento do modelo de aprendizado de máquina, melhorando a eficiência e a precisão do modelo."
   ]
  },
  {
   "cell_type": "code",
   "execution_count": null,
   "id": "0fd893b3",
   "metadata": {},
   "outputs": [],
   "source": []
  },
  {
   "cell_type": "markdown",
   "id": "087ff3fc",
   "metadata": {},
   "source": [
    "<br>\n",
    "\n",
    "## Criação, Compilação e Treinamento do Modelo\n",
    "\n",
    "- Construímos o modelo de rede neural convolucional (CNN) utilizando Keras.\n",
    "- Compilamos o modelo com o otimizador Adam e a função de perda categorical crossentropy.\n",
    "- A técnica de **augmentação** de dados gera novas imagens a partir das imagens existentes, aumentando o tamanho efetivo do dataset sem a necessidade de coletar novas imagens reais. Isso ajuda a evitar overfitting, especialmente quando o dataset original é pequeno.\n",
    "- Treinamos o modelo com os dados de treinamento e validamos com os dados de teste."
   ]
  },
  {
   "cell_type": "code",
   "execution_count": null,
   "id": "cdd9374e",
   "metadata": {},
   "outputs": [],
   "source": []
  },
  {
   "cell_type": "markdown",
   "id": "fbaef6c2",
   "metadata": {},
   "source": [
    "<br>\n",
    "\n",
    "## Avaliação do Modelo\n",
    "\n",
    "- Avaliamos o desempenho do modelo utilizando os dados de teste."
   ]
  },
  {
   "cell_type": "code",
   "execution_count": null,
   "id": "d318b7ea",
   "metadata": {},
   "outputs": [],
   "source": []
  },
  {
   "cell_type": "markdown",
   "id": "a25fafd7",
   "metadata": {},
   "source": [
    "<br>\n",
    "\n",
    "## Salvando e Carregando o Modelo\n",
    "\n",
    "- Salvamos o modelo treinado em um arquivo e carregamos o modelo para uso futuro."
   ]
  },
  {
   "cell_type": "code",
   "execution_count": null,
   "id": "e4b0eff8",
   "metadata": {},
   "outputs": [],
   "source": []
  },
  {
   "cell_type": "markdown",
   "id": "e550921b",
   "metadata": {},
   "source": [
    "<br>\n",
    "\n",
    "## Previsões com Novas Imagens\n",
    "\n",
    "- Utilizamos o modelo para prever a classe de novas imagens. As novas imagens também precisam ser pré-processadas antes de serem passadas para o modelo."
   ]
  },
  {
   "cell_type": "code",
   "execution_count": null,
   "id": "2274cefc",
   "metadata": {},
   "outputs": [],
   "source": []
  },
  {
   "cell_type": "markdown",
   "id": "fd0dc11a",
   "metadata": {},
   "source": [
    "<br><br>\n",
    "\n",
    "### Resumo\n",
    "- Este projeto orienta você através das etapas para criar um modelo de classificação de imagens de frutas usando deep learning. Começamos verificando e instalando pacotes necessários, fornecemos o link para o download do conjunto de dados, realizamos uma análise preliminar para garantir a qualidade dos dados, e passamos pelo pré-processamento, construção, treinamento, avaliação e salvamento do modelo. No final, mostramos como prever a classe de novas imagens, garantindo que elas sejam pré-processadas adequadamente antes de serem passadas para o modelo."
   ]
  },
  {
   "cell_type": "code",
   "execution_count": null,
   "id": "0f48103b-67b5-4f78-9bec-b77eb51a91fd",
   "metadata": {},
   "outputs": [],
   "source": []
  }
 ],
 "metadata": {
  "kernelspec": {
   "display_name": "Python 3 (ipykernel)",
   "language": "python",
   "name": "python3"
  },
  "language_info": {
   "codemirror_mode": {
    "name": "ipython",
    "version": 3
   },
   "file_extension": ".py",
   "mimetype": "text/x-python",
   "name": "python",
   "nbconvert_exporter": "python",
   "pygments_lexer": "ipython3",
   "version": "3.9.7"
  }
 },
 "nbformat": 4,
 "nbformat_minor": 5
}
