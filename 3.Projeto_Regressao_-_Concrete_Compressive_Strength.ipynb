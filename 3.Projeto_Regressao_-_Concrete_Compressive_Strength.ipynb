{
 "cells": [
  {
   "cell_type": "markdown",
   "id": "800b8256",
   "metadata": {},
   "source": [
    "# <span style=\"color: green; font-size: 40px; font-weight: bold;\"> Projeto 3 (Regressão) </span>"
   ]
  },
  {
   "cell_type": "markdown",
   "id": "6a0f34ab",
   "metadata": {},
   "source": [
    "<br><br>\n",
    "\n",
    "# Projeto de Regressão: \"Concrete Compressive Strength\"\n",
    "\n",
    "<br><br>\n",
    "\n",
    "### Contexto\n",
    "\n",
    "- Uma empresa de construção civil, “Construções Modernas”, está buscando otimizar a fórmula de mistura de concreto para alcançar a máxima resistência à compressão. Eles possuem dados sobre diferentes componentes da mistura (cimento, escória de alto-forno, cinza volante, água, plastificante, agregados graúdos e finos) e a idade do concreto.\n",
    "\n",
    "<br>\n",
    "\n",
    "### Problema de Negócio\n",
    "- Como podemos prever a resistência à compressão do concreto com base nos componentes da mistura e na idade do concreto? Qual combinação de componentes resulta na resistência máxima?\n",
    "\n",
    "<br>\n",
    "\n",
    "### Sobre o Conjunto de Dados\n",
    "\n",
    "O conjunto de dados simulado terá 10.000 linhas e incluirá as seguintes colunas:\n",
    "\n",
    "<br>\n",
    "\n",
    "<table border=\"2\">\n",
    "  <tr>\n",
    "    <th style=\"text-align: center; font-size: 16px;\">Nome da Coluna</th>\n",
    "    <th style=\"text-align: center; font-size: 16px;\">Tipo de Dado</th>\n",
    "    <th style=\"text-align: center; font-size: 16px;\">Descrição</th>\n",
    "  </tr>\n",
    "  <tr>\n",
    "    <td>Cement</td>\n",
    "    <td>float</td>\n",
    "    <td>Quantidade de cimento em kg/m³.</td>\n",
    "  </tr>\n",
    "  <tr>\n",
    "    <td>Blast Furnace Slag</td>\n",
    "    <td>float</td>\n",
    "    <td>Quantidade de escória de alto-forno em kg/m³.</td>\n",
    "  </tr>\n",
    "  <tr>\n",
    "    <td>Fly Ash</td>\n",
    "    <td>float</td>\n",
    "    <td>Quantidade de cinza volante em kg/m³.</td>\n",
    "  </tr>\n",
    "  <tr>\n",
    "    <td>Water</td>\n",
    "    <td>float</td>\n",
    "    <td>Quantidade de água em kg/m³.</td>\n",
    "  </tr>\n",
    "  <tr>\n",
    "    <td>Superplasticizer</td>\n",
    "    <td>float</td>\n",
    "    <td>Quantidade de superplastificante em kg/m³.</td>\n",
    "  </tr>\n",
    "  <tr>\n",
    "    <td>Coarse Aggregate</td>\n",
    "    <td>float</td>\n",
    "    <td>Quantidade de agregado graúdo em kg/m³.</td>\n",
    "  </tr>\n",
    "  <tr>\n",
    "    <td>Fine Aggregate</td>\n",
    "    <td>float</td>\n",
    "    <td>Quantidade de agregado fino em kg/m³.</td>\n",
    "  </tr>\n",
    "  <tr>\n",
    "    <td>Age</td>\n",
    "    <td>int</td>\n",
    "    <td>Idade do concreto em dias.</td>\n",
    "  </tr>\n",
    "  <tr>\n",
    "    <td>Concrete compressive strength</td>\n",
    "    <td>float</td>\n",
    "    <td>Resistência à compressão do concreto em MPa (variável alvo).</td>\n",
    "  </tr>\n",
    "</table>\n",
    "\n",
    "<br><br>\n",
    "\n",
    "### Perguntas de Negócio Adicionais:\n",
    "\n",
    "- Como o tempo de cura (idade do concreto) afeta a resistência à compressão?\n",
    "\n",
    "> A análise pode revelar como a resistência do concreto evolui com o tempo e identificar o ponto ótimo de cura para maximizar a resistência. Isso pode ajudar a determinar os prazos ideais para usar o concreto em construções.\n",
    "\n",
    "- Quais são as interações entre os diferentes componentes da mistura que mais influenciam a resistência à compressão?\n",
    "\n",
    "> Investigando as interações entre componentes como cimento, água e agregados, podemos identificar combinações que melhoram ou prejudicam a resistência do concreto. Isso ajudaria a formular misturas mais eficientes e econômicas."
   ]
  },
  {
   "cell_type": "markdown",
   "id": "88b48c35",
   "metadata": {},
   "source": [
    "<br><br>\n",
    "\n",
    "## Importando Pacotes"
   ]
  },
  {
   "cell_type": "code",
   "execution_count": null,
   "id": "e240dd2b",
   "metadata": {},
   "outputs": [],
   "source": []
  },
  {
   "cell_type": "markdown",
   "id": "9e2e31be",
   "metadata": {},
   "source": [
    "<br><br>\n",
    "\n",
    "## Carregando Conjunto de Dados"
   ]
  },
  {
   "cell_type": "code",
   "execution_count": null,
   "id": "f09b6dd2",
   "metadata": {},
   "outputs": [],
   "source": []
  },
  {
   "cell_type": "code",
   "execution_count": null,
   "id": "ceffbc55",
   "metadata": {},
   "outputs": [],
   "source": []
  },
  {
   "cell_type": "code",
   "execution_count": null,
   "id": "f83709a4",
   "metadata": {},
   "outputs": [],
   "source": []
  },
  {
   "cell_type": "code",
   "execution_count": null,
   "id": "dc6b8a9c",
   "metadata": {},
   "outputs": [],
   "source": []
  },
  {
   "cell_type": "code",
   "execution_count": null,
   "id": "c8252574",
   "metadata": {},
   "outputs": [],
   "source": []
  }
 ],
 "metadata": {
  "kernelspec": {
   "display_name": "Python 3 (ipykernel)",
   "language": "python",
   "name": "python3"
  },
  "language_info": {
   "codemirror_mode": {
    "name": "ipython",
    "version": 3
   },
   "file_extension": ".py",
   "mimetype": "text/x-python",
   "name": "python",
   "nbconvert_exporter": "python",
   "pygments_lexer": "ipython3",
   "version": "3.9.7"
  }
 },
 "nbformat": 4,
 "nbformat_minor": 5
}
