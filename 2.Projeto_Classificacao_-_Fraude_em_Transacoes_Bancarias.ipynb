{
 "cells": [
  {
   "cell_type": "markdown",
   "id": "9c2ca94e",
   "metadata": {},
   "source": [
    "# <span style=\"color: green; font-size: 40px; font-weight: bold;\"> Projeto 2 (Classificação) </span>"
   ]
  },
  {
   "cell_type": "markdown",
   "id": "e954ef0e",
   "metadata": {},
   "source": [
    "<br><br>\n",
    "\n",
    "# Classificação de Fraude em Transações Bancárias\n",
    "\n",
    "<br><br>\n",
    "\n",
    "### Contexto\n",
    "\n",
    "- Um banco está preocupado com o aumento de fraudes em transações bancárias e quer usar um modelo de classificação para identificar transações fraudulentas.\n",
    "- O **objetivo** é proteger os clientes e minimizar as perdas financeiras devido a fraudes.\n",
    "\n",
    "<br>\n",
    "\n",
    "### Problema de Negócio\n",
    "- Como podemos identificar se uma transação bancária é fraudulenta ou não com base em suas características?\n",
    "\n",
    "<br>\n",
    "\n",
    "### Sobre o Conjunto de Dados\n",
    "\n",
    "O conjunto de dados simulado terá 10.000 linhas e incluirá as seguintes colunas:\n",
    "\n",
    "<br>\n",
    "\n",
    "<table border=\"2\">\n",
    "  <tr>\n",
    "    <th style=\"text-align: center; font-size: 16px;\">Nome da Coluna</th>\n",
    "    <th style=\"text-align: center; font-size: 16px;\">Tipo de Dado</th>\n",
    "    <th style=\"text-align: center; font-size: 16px;\">Descrição</th>\n",
    "  </tr>\n",
    "  <tr>\n",
    "    <td>transaction_id</td>\n",
    "    <td>str</td>\n",
    "    <td>Identificação única da transação.</td>\n",
    "  </tr>\n",
    "  <tr>\n",
    "    <td>account_age</td>\n",
    "    <td>int</td>\n",
    "    <td>Idade da conta em meses.</td>\n",
    "  </tr>\n",
    "  <tr>\n",
    "    <td>transaction_amount</td>\n",
    "    <td>float</td>\n",
    "    <td>Valor da transação em reais.</td>\n",
    "  </tr>\n",
    "  <tr>\n",
    "    <td>transaction_type</td>\n",
    "    <td>str</td>\n",
    "    <td>Tipo de transação (compra, transferência, saque).</td>\n",
    "  </tr>\n",
    "  <tr>\n",
    "    <td>location</td>\n",
    "    <td>str</td>\n",
    "    <td>Localização da transação.</td>\n",
    "  </tr>\n",
    "  <tr>\n",
    "    <td>is_fraud</td>\n",
    "    <td>int</td>\n",
    "    <td>Indicador se a transação é fraudulenta (1) ou não (0).</td>\n",
    "  </tr>\n",
    "</table>\n",
    "\n",
    "<br><br>\n",
    "\n",
    "### Perguntas de Negócio Adicionais:\n",
    "\n",
    "- Quais padrões de localização estão associados a transações fraudulentas?\n",
    "\n",
    "> Analisando a localização das transações, podemos identificar se fraudes ocorrem mais frequentemente em determinadas áreas geográficas. Isso pode ajudar a detectar atividades suspeitas em regiões específicas e implementar medidas de segurança mais eficazes.\n",
    "\n",
    "- Como o valor da transação e o tipo de transação influenciam a probabilidade de fraude?\n",
    "\n",
    "> Investigando a relação entre o valor da transação e seu tipo (compra, transferência, saque), podemos identificar combinações que são mais susceptíveis a fraudes. Isso permitirá ao banco criar alertas específicos para transações de alto risco."
   ]
  },
  {
   "cell_type": "markdown",
   "id": "3aa5407a",
   "metadata": {},
   "source": [
    "<br><br>\n",
    "\n",
    "## Importando Pacotes"
   ]
  },
  {
   "cell_type": "code",
   "execution_count": 110,
   "id": "6e8bc930",
   "metadata": {},
   "outputs": [],
   "source": [
    "# Manipulação de Dados\n",
    "import numpy as np\n",
    "import pandas as pd\n",
    "\n",
    "# Criação e Visualização de Gráficos\n",
    "import seaborn as sns\n",
    "import matplotlib.pyplot as plt\n",
    "\n",
    "# Carrega a função SMOTE (Balanceamento de Classes)\n",
    "from imblearn.over_sampling import SMOTE\n",
    "\n",
    "# Label Enconding\n",
    "from sklearn.preprocessing import LabelEncoder\n",
    "\n",
    "# Pacote do Python para Machine Learning\n",
    "import sklearn\n",
    "\n",
    "# Função model_selection do pacote sklearn\n",
    "from sklearn.model_selection import train_test_split    # dividir os dados em treino e teste\n",
    "from sklearn.model_selection import GridSearchCV        # técnica de utilização de hiperparâmetros\n",
    "from sklearn.model_selection import RandomizedSearchCV  # técnica de utilização de hiperparâmetros\n",
    "from sklearn.model_selection import cross_val_score     # validação cruzada (para avaliação do modelo)\n",
    "\n",
    "# Padronização\n",
    "from sklearn.pipeline import Pipeline\n",
    "from sklearn.preprocessing import StandardScaler\n",
    "\n",
    "# Pacotes do sklearn com os Algoritmos\n",
    "\n",
    "# Função com Algoritmo de ML (Regressão Logística)\n",
    "from sklearn.linear_model import LogisticRegression     \n",
    "\n",
    "# Função com Algoritmo de ML (RandomForest)\n",
    "from sklearn.ensemble import RandomForestClassifier\n",
    "\n",
    "# Função com Algoritmo de ML (KNN)\n",
    "from sklearn.neighbors import KNeighborsClassifier\n",
    "\n",
    "# Função com Algoritmo de ML (Árvores de Decisão)\n",
    "from sklearn.tree import DecisionTreeClassifier\n",
    "\n",
    "# Função com Algoritmo de ML (SVC)\n",
    "from sklearn.svm import SVC\n",
    "\n",
    "# Função com Algoritmo de ML (GBM)\n",
    "from sklearn.ensemble import GradientBoostingClassifier\n",
    "\n",
    "# Função com Algoritmo de ML (AdaBoost)\n",
    "from sklearn.ensemble import AdaBoostClassifier\n",
    "\n",
    "# Função com Algoritmo de ML (LGBMClassifier)\n",
    "from lightgbm import LGBMClassifier \n",
    "\n",
    "# Função com Algoritmo de ML (XGBClassifier)\n",
    "from xgboost import XGBClassifier\n",
    "\n",
    "# Função com Algoritmo de ML (Naive Bayes)\n",
    "from sklearn.naive_bayes import GaussianNB\n",
    "\n",
    "# Função com Algoritmo de ML (Neural Networks)\n",
    "from sklearn.neural_network import MLPClassifier\n",
    "\n",
    "# Função com Algoritmo de ML (CatBoost)\n",
    "from catboost import CatBoostClassifier\n",
    "\n",
    "# Função com Algoritmo de ML (Extra Trees (Extremely Randomized Trees)\n",
    "from sklearn.ensemble import ExtraTreesClassifier\n",
    "\n",
    "# Função com Algoritmo de ML (Voting Classifier)\n",
    "from sklearn.ensemble import VotingClassifier\n",
    "\n",
    "\n",
    "# Calcular as Métricas para Avaliação dos Modelos\n",
    "from sklearn.metrics import roc_curve, auc, roc_auc_score, confusion_matrix\n",
    "from sklearn.metrics import accuracy_score\n",
    "\n",
    "# Salvar o modelo após o treinamento\n",
    "import joblib\n",
    "import pickle\n",
    "\n",
    "# Indicando que os Gráficos apareçam no Jupyter Notebook\n",
    "%matplotlib inline\n",
    "\n",
    "# Mensagens de Aviso\n",
    "import warnings\n",
    "warnings.filterwarnings(\"ignore\")"
   ]
  },
  {
   "cell_type": "markdown",
   "id": "5079556b",
   "metadata": {},
   "source": [
    "<br><br>\n",
    "\n",
    "## Carregando Conjunto de Dados"
   ]
  },
  {
   "cell_type": "code",
   "execution_count": 2,
   "id": "2d5e412a",
   "metadata": {},
   "outputs": [],
   "source": [
    "# Carrega o dataset\n",
    "dados = pd.read_csv('dados/transacoes_bancarias_ajustado.csv')"
   ]
  },
  {
   "cell_type": "code",
   "execution_count": 3,
   "id": "d4d280e4",
   "metadata": {},
   "outputs": [
    {
     "data": {
      "text/html": [
       "<div>\n",
       "<style scoped>\n",
       "    .dataframe tbody tr th:only-of-type {\n",
       "        vertical-align: middle;\n",
       "    }\n",
       "\n",
       "    .dataframe tbody tr th {\n",
       "        vertical-align: top;\n",
       "    }\n",
       "\n",
       "    .dataframe thead th {\n",
       "        text-align: right;\n",
       "    }\n",
       "</style>\n",
       "<table border=\"1\" class=\"dataframe\">\n",
       "  <thead>\n",
       "    <tr style=\"text-align: right;\">\n",
       "      <th></th>\n",
       "      <th>transaction_id</th>\n",
       "      <th>account_age</th>\n",
       "      <th>transaction_amount</th>\n",
       "      <th>transaction_type</th>\n",
       "      <th>location</th>\n",
       "      <th>is_fraud</th>\n",
       "    </tr>\n",
       "  </thead>\n",
       "  <tbody>\n",
       "    <tr>\n",
       "      <th>0</th>\n",
       "      <td>TX0</td>\n",
       "      <td>111.0</td>\n",
       "      <td>118.087401</td>\n",
       "      <td>transferência</td>\n",
       "      <td>online</td>\n",
       "      <td>0</td>\n",
       "    </tr>\n",
       "    <tr>\n",
       "      <th>1</th>\n",
       "      <td>TX1</td>\n",
       "      <td>144.0</td>\n",
       "      <td>89.681117</td>\n",
       "      <td>transferência</td>\n",
       "      <td>fisico</td>\n",
       "      <td>0</td>\n",
       "    </tr>\n",
       "    <tr>\n",
       "      <th>2</th>\n",
       "      <td>TX2</td>\n",
       "      <td>125.0</td>\n",
       "      <td>14.275808</td>\n",
       "      <td>compra</td>\n",
       "      <td>fisico</td>\n",
       "      <td>0</td>\n",
       "    </tr>\n",
       "    <tr>\n",
       "      <th>3</th>\n",
       "      <td>TX3</td>\n",
       "      <td>173.0</td>\n",
       "      <td>NaN</td>\n",
       "      <td>transferência</td>\n",
       "      <td>online</td>\n",
       "      <td>1</td>\n",
       "    </tr>\n",
       "    <tr>\n",
       "      <th>4</th>\n",
       "      <td>TX4</td>\n",
       "      <td>16.0</td>\n",
       "      <td>462.077119</td>\n",
       "      <td>transferência</td>\n",
       "      <td>fisico</td>\n",
       "      <td>0</td>\n",
       "    </tr>\n",
       "  </tbody>\n",
       "</table>\n",
       "</div>"
      ],
      "text/plain": [
       "  transaction_id  account_age  transaction_amount transaction_type location  \\\n",
       "0            TX0        111.0          118.087401    transferência   online   \n",
       "1            TX1        144.0           89.681117    transferência   fisico   \n",
       "2            TX2        125.0           14.275808           compra   fisico   \n",
       "3            TX3        173.0                 NaN    transferência   online   \n",
       "4            TX4         16.0          462.077119    transferência   fisico   \n",
       "\n",
       "   is_fraud  \n",
       "0         0  \n",
       "1         0  \n",
       "2         0  \n",
       "3         1  \n",
       "4         0  "
      ]
     },
     "execution_count": 3,
     "metadata": {},
     "output_type": "execute_result"
    }
   ],
   "source": [
    "# Visualiza\n",
    "dados.head()"
   ]
  },
  {
   "cell_type": "code",
   "execution_count": 4,
   "id": "84ccf5b5",
   "metadata": {},
   "outputs": [
    {
     "name": "stdout",
     "output_type": "stream",
     "text": [
      "<class 'pandas.core.frame.DataFrame'>\n",
      "RangeIndex: 11000 entries, 0 to 10999\n",
      "Data columns (total 6 columns):\n",
      " #   Column              Non-Null Count  Dtype  \n",
      "---  ------              --------------  -----  \n",
      " 0   transaction_id      11000 non-null  object \n",
      " 1   account_age         10450 non-null  float64\n",
      " 2   transaction_amount  10450 non-null  float64\n",
      " 3   transaction_type    11000 non-null  object \n",
      " 4   location            11000 non-null  object \n",
      " 5   is_fraud            11000 non-null  int64  \n",
      "dtypes: float64(2), int64(1), object(3)\n",
      "memory usage: 515.8+ KB\n",
      "\n",
      "\n",
      "Existem valores ausentes: True\n",
      "Variáveis com valores ausentes: ['account_age', 'transaction_amount']\n",
      "Existem valores duplicados: True\n",
      "Variáveis com valores duplicados: Todas as variáveis\n"
     ]
    }
   ],
   "source": [
    "# Informações do DataFrame\n",
    "dados.info()\n",
    "\n",
    "# Verifica se há valores ausentes e duplicados\n",
    "valores_ausentes = dados.isna().sum().sum() > 0\n",
    "valores_duplicados = dados.duplicated().sum() > 0\n",
    "\n",
    "# Nomes das variáveis com valores ausentes\n",
    "variaveis_ausentes = dados.columns[dados.isna().any()].tolist()\n",
    "\n",
    "# Número de linhas duplicadas\n",
    "num_linhas_duplicadas = dados.duplicated().sum()\n",
    "\n",
    "# Porcentagem de linhas duplicadas\n",
    "porcentagem_linhas_duplicadas = (num_linhas_duplicadas / len(dados)) * 100\n",
    "\n",
    "# Exibe o resultado\n",
    "print(\"\\n\\nExistem valores ausentes:\", valores_ausentes)\n",
    "if valores_ausentes:\n",
    "    print(\"Variáveis com valores ausentes:\", variaveis_ausentes)\n",
    "else:\n",
    "    print(\"Nenhuma variável possui valores ausentes.\")\n",
    "\n",
    "print(\"Existem valores duplicados:\", valores_duplicados)\n",
    "if valores_duplicados:\n",
    "    print(\"Número de Linhas Duplicadas:\", num_linhas_duplicadas)\n",
    "    print(\"Porcentagem de Linhas Duplicadas: {:.2f}%\".format(porcentagem_linhas_duplicadas))\n",
    "else:\n",
    "    print(\"Nenhuma variável possui valores duplicados.\")\n"
   ]
  },
  {
   "cell_type": "markdown",
   "id": "884f57a2",
   "metadata": {},
   "source": [
    "<br>\n",
    "\n",
    "### Ordem Recomendada das Etapas de Pré-Processamento:\n",
    "\n",
    "- **Realizar Análise Exploratória** - Realizar Análise Exploratória das Variáveis Numéricas e Categóricas\n",
    "- **Transformação de Variáveis Categóricas**: Converter variáveis categóricas em numéricas.\n",
    "- **Tratamento de Valores Ausentes**: Lidar com valores ausentes primeiro garante que as próximas etapas possam ser aplicadas a um conjunto de dados completo e correto.\n",
    "- **Tratamento de Outliers**: Identificar e tratar outliers evita que esses valores influenciem negativamente as transformações e modelagens subsequentes.\n",
    "- **Verificação de Correlação**: Avaliar a correlação entre as variáveis para entender suas relações e evitar multicolinearidade.\n",
    "- **Divisão em Conjuntos de Treino e Teste**: Separar os dados em conjuntos de treino e teste antes de aplicar técnicas de modelagem.\n",
    "- **Escalonamento de Dados**: Normalizar ou padronizar os dados para garantir que todas as variáveis estejam na mesma escala, especialmente importante para modelos baseados em distância."
   ]
  },
  {
   "cell_type": "markdown",
   "id": "08dca66f",
   "metadata": {},
   "source": [
    "<br><br>\n",
    "## Análise Exploratória de Dados"
   ]
  },
  {
   "cell_type": "code",
   "execution_count": 5,
   "id": "d951a9e6",
   "metadata": {},
   "outputs": [
    {
     "data": {
      "text/plain": [
       "Index(['transaction_id', 'account_age', 'transaction_amount',\n",
       "       'transaction_type', 'location', 'is_fraud'],\n",
       "      dtype='object')"
      ]
     },
     "execution_count": 5,
     "metadata": {},
     "output_type": "execute_result"
    }
   ],
   "source": [
    "# Nome das colunas\n",
    "dados.columns"
   ]
  },
  {
   "cell_type": "code",
   "execution_count": 6,
   "id": "915bc21e",
   "metadata": {},
   "outputs": [
    {
     "data": {
      "text/html": [
       "<div>\n",
       "<style scoped>\n",
       "    .dataframe tbody tr th:only-of-type {\n",
       "        vertical-align: middle;\n",
       "    }\n",
       "\n",
       "    .dataframe tbody tr th {\n",
       "        vertical-align: top;\n",
       "    }\n",
       "\n",
       "    .dataframe thead th {\n",
       "        text-align: right;\n",
       "    }\n",
       "</style>\n",
       "<table border=\"1\" class=\"dataframe\">\n",
       "  <thead>\n",
       "    <tr style=\"text-align: right;\">\n",
       "      <th></th>\n",
       "      <th>transaction_id</th>\n",
       "      <th>account_age</th>\n",
       "      <th>transaction_amount</th>\n",
       "      <th>transaction_type</th>\n",
       "      <th>location</th>\n",
       "      <th>is_fraud</th>\n",
       "    </tr>\n",
       "  </thead>\n",
       "  <tbody>\n",
       "    <tr>\n",
       "      <th>0</th>\n",
       "      <td>TX0</td>\n",
       "      <td>111.0</td>\n",
       "      <td>118.087401</td>\n",
       "      <td>transferência</td>\n",
       "      <td>online</td>\n",
       "      <td>0</td>\n",
       "    </tr>\n",
       "    <tr>\n",
       "      <th>1</th>\n",
       "      <td>TX1</td>\n",
       "      <td>144.0</td>\n",
       "      <td>89.681117</td>\n",
       "      <td>transferência</td>\n",
       "      <td>fisico</td>\n",
       "      <td>0</td>\n",
       "    </tr>\n",
       "    <tr>\n",
       "      <th>2</th>\n",
       "      <td>TX2</td>\n",
       "      <td>125.0</td>\n",
       "      <td>14.275808</td>\n",
       "      <td>compra</td>\n",
       "      <td>fisico</td>\n",
       "      <td>0</td>\n",
       "    </tr>\n",
       "  </tbody>\n",
       "</table>\n",
       "</div>"
      ],
      "text/plain": [
       "  transaction_id  account_age  transaction_amount transaction_type location  \\\n",
       "0            TX0        111.0          118.087401    transferência   online   \n",
       "1            TX1        144.0           89.681117    transferência   fisico   \n",
       "2            TX2        125.0           14.275808           compra   fisico   \n",
       "\n",
       "   is_fraud  \n",
       "0         0  \n",
       "1         0  \n",
       "2         0  "
      ]
     },
     "execution_count": 6,
     "metadata": {},
     "output_type": "execute_result"
    }
   ],
   "source": [
    "# Visualiza dados\n",
    "dados.head(3)"
   ]
  },
  {
   "cell_type": "markdown",
   "id": "402e5358",
   "metadata": {},
   "source": [
    "#### Visualizando Variáveis Categóricas e Numéricas"
   ]
  },
  {
   "cell_type": "code",
   "execution_count": 7,
   "id": "10bc5d5e",
   "metadata": {},
   "outputs": [
    {
     "data": {
      "text/plain": [
       "transaction_id      object\n",
       "transaction_type    object\n",
       "location            object\n",
       "dtype: object"
      ]
     },
     "execution_count": 7,
     "metadata": {},
     "output_type": "execute_result"
    }
   ],
   "source": [
    "# Exibindo Variáveis Categóricas (filtrando)\n",
    "dados.dtypes[dados.dtypes == 'object']"
   ]
  },
  {
   "cell_type": "code",
   "execution_count": 8,
   "id": "d127d26e",
   "metadata": {},
   "outputs": [
    {
     "data": {
      "text/plain": [
       "account_age           float64\n",
       "transaction_amount    float64\n",
       "is_fraud                int64\n",
       "dtype: object"
      ]
     },
     "execution_count": 8,
     "metadata": {},
     "output_type": "execute_result"
    }
   ],
   "source": [
    "# Exibindo Variáveis Numéricas (filtrando)\n",
    "dados.dtypes[dados.dtypes != 'object']"
   ]
  },
  {
   "cell_type": "markdown",
   "id": "2f22f555",
   "metadata": {},
   "source": [
    "<br><br>\n",
    "\n",
    "## Explorando Variáveis Numéricas\n",
    "\n",
    "#### Resumo Estatístico"
   ]
  },
  {
   "cell_type": "code",
   "execution_count": 9,
   "id": "5d50bfec",
   "metadata": {},
   "outputs": [
    {
     "data": {
      "text/html": [
       "<div>\n",
       "<style scoped>\n",
       "    .dataframe tbody tr th:only-of-type {\n",
       "        vertical-align: middle;\n",
       "    }\n",
       "\n",
       "    .dataframe tbody tr th {\n",
       "        vertical-align: top;\n",
       "    }\n",
       "\n",
       "    .dataframe thead th {\n",
       "        text-align: right;\n",
       "    }\n",
       "</style>\n",
       "<table border=\"1\" class=\"dataframe\">\n",
       "  <thead>\n",
       "    <tr style=\"text-align: right;\">\n",
       "      <th></th>\n",
       "      <th>account_age</th>\n",
       "      <th>transaction_amount</th>\n",
       "      <th>is_fraud</th>\n",
       "    </tr>\n",
       "  </thead>\n",
       "  <tbody>\n",
       "    <tr>\n",
       "      <th>count</th>\n",
       "      <td>10450.000000</td>\n",
       "      <td>10450.000000</td>\n",
       "      <td>11000.000000</td>\n",
       "    </tr>\n",
       "    <tr>\n",
       "      <th>mean</th>\n",
       "      <td>118.555789</td>\n",
       "      <td>201.700745</td>\n",
       "      <td>0.372636</td>\n",
       "    </tr>\n",
       "    <tr>\n",
       "      <th>std</th>\n",
       "      <td>69.205149</td>\n",
       "      <td>201.456500</td>\n",
       "      <td>0.483528</td>\n",
       "    </tr>\n",
       "    <tr>\n",
       "      <th>min</th>\n",
       "      <td>1.000000</td>\n",
       "      <td>0.002615</td>\n",
       "      <td>0.000000</td>\n",
       "    </tr>\n",
       "    <tr>\n",
       "      <th>25%</th>\n",
       "      <td>58.000000</td>\n",
       "      <td>57.851640</td>\n",
       "      <td>0.000000</td>\n",
       "    </tr>\n",
       "    <tr>\n",
       "      <th>50%</th>\n",
       "      <td>117.000000</td>\n",
       "      <td>138.640492</td>\n",
       "      <td>0.000000</td>\n",
       "    </tr>\n",
       "    <tr>\n",
       "      <th>75%</th>\n",
       "      <td>179.000000</td>\n",
       "      <td>280.274938</td>\n",
       "      <td>1.000000</td>\n",
       "    </tr>\n",
       "    <tr>\n",
       "      <th>max</th>\n",
       "      <td>239.000000</td>\n",
       "      <td>1840.540635</td>\n",
       "      <td>1.000000</td>\n",
       "    </tr>\n",
       "  </tbody>\n",
       "</table>\n",
       "</div>"
      ],
      "text/plain": [
       "        account_age  transaction_amount      is_fraud\n",
       "count  10450.000000        10450.000000  11000.000000\n",
       "mean     118.555789          201.700745      0.372636\n",
       "std       69.205149          201.456500      0.483528\n",
       "min        1.000000            0.002615      0.000000\n",
       "25%       58.000000           57.851640      0.000000\n",
       "50%      117.000000          138.640492      0.000000\n",
       "75%      179.000000          280.274938      1.000000\n",
       "max      239.000000         1840.540635      1.000000"
      ]
     },
     "execution_count": 9,
     "metadata": {},
     "output_type": "execute_result"
    }
   ],
   "source": [
    "dados.describe()"
   ]
  },
  {
   "cell_type": "markdown",
   "id": "5d161172",
   "metadata": {},
   "source": [
    "#### Visualizando através de Gráficos"
   ]
  },
  {
   "cell_type": "code",
   "execution_count": 10,
   "id": "d9ff8f36",
   "metadata": {},
   "outputs": [
    {
     "data": {
      "image/png": "[encoded data removed]",
      "text/plain": [
       "<Figure size 1080x1080 with 4 Axes>"
      ]
     },
     "metadata": {
      "needs_background": "light"
     },
     "output_type": "display_data"
    }
   ],
   "source": [
    "# Plot\n",
    "dados.hist(figsize = (15,15), bins = 10) \n",
    "plt.show()"
   ]
  },
  {
   "cell_type": "markdown",
   "id": "752f48f7",
   "metadata": {},
   "source": [
    "#### Interpretando o Resumo e Gráficos\n",
    "\n",
    "- **account_age**: A variável \"account_age\" está bem distribuída e não apresenta muitos outliers. Isso indica que a idade das contas é uma variável estável e pode ser usada diretamente nos modelos de machine learning.\n",
    "- **transaction_amount**: A variável \"transaction_amount\" possui uma distribuição assimétrica com uma cauda longa à direita, indicando a presença de outliers. Será necessário considerar técnicas para lidar com esses outliers, como a transformação dos dados ou a utilização de técnicas robustas a outliers.\n",
    "- **is_fraud**: A variável \"is_fraud\" é desbalanceada, o que pode afetar a performance dos modelos de machine learning. Técnicas de balanceamento, como a sobremostragem da classe minoritária ou a subamostragem da classe majoritária, devem ser consideradas para melhorar a capacidade dos modelos em identificar transações fraudulentas.\n",
    "\n",
    "#### Conclusão:\n",
    "\n",
    "- As variáveis \"account_age\" está bem distribuída e estável, \"transaction_amount\" apresenta outliers significativos, e \"is_fraud\" é altamente desbalanceada, exigindo técnicas de balanceamento para melhorar a detecção de fraudes."
   ]
  },
  {
   "cell_type": "markdown",
   "id": "479465ac",
   "metadata": {},
   "source": [
    "<br>\n",
    "\n",
    "### Verificando value_counts da variável alvo"
   ]
  },
  {
   "cell_type": "code",
   "execution_count": 11,
   "id": "822e8303",
   "metadata": {},
   "outputs": [
    {
     "data": {
      "text/plain": [
       "is_fraud\n",
       "0    6901\n",
       "1    4099\n",
       "Name: count, dtype: int64"
      ]
     },
     "execution_count": 11,
     "metadata": {},
     "output_type": "execute_result"
    }
   ],
   "source": [
    "dados['is_fraud'].value_counts()"
   ]
  },
  {
   "cell_type": "markdown",
   "id": "3cd6abb9",
   "metadata": {},
   "source": [
    "<br><br>\n",
    "\n",
    "## Explorando Variável Categórica\n",
    "\n",
    "#### Resumo Estatístico"
   ]
  },
  {
   "cell_type": "code",
   "execution_count": 12,
   "id": "0b7beeea",
   "metadata": {},
   "outputs": [
    {
     "data": {
      "text/html": [
       "<div>\n",
       "<style scoped>\n",
       "    .dataframe tbody tr th:only-of-type {\n",
       "        vertical-align: middle;\n",
       "    }\n",
       "\n",
       "    .dataframe tbody tr th {\n",
       "        vertical-align: top;\n",
       "    }\n",
       "\n",
       "    .dataframe thead th {\n",
       "        text-align: right;\n",
       "    }\n",
       "</style>\n",
       "<table border=\"1\" class=\"dataframe\">\n",
       "  <thead>\n",
       "    <tr style=\"text-align: right;\">\n",
       "      <th></th>\n",
       "      <th>transaction_id</th>\n",
       "      <th>transaction_type</th>\n",
       "      <th>location</th>\n",
       "    </tr>\n",
       "  </thead>\n",
       "  <tbody>\n",
       "    <tr>\n",
       "      <th>count</th>\n",
       "      <td>11000</td>\n",
       "      <td>11000</td>\n",
       "      <td>11000</td>\n",
       "    </tr>\n",
       "    <tr>\n",
       "      <th>unique</th>\n",
       "      <td>10000</td>\n",
       "      <td>3</td>\n",
       "      <td>2</td>\n",
       "    </tr>\n",
       "    <tr>\n",
       "      <th>top</th>\n",
       "      <td>TX5269</td>\n",
       "      <td>transferência</td>\n",
       "      <td>fisico</td>\n",
       "    </tr>\n",
       "    <tr>\n",
       "      <th>freq</th>\n",
       "      <td>2</td>\n",
       "      <td>3708</td>\n",
       "      <td>5519</td>\n",
       "    </tr>\n",
       "  </tbody>\n",
       "</table>\n",
       "</div>"
      ],
      "text/plain": [
       "       transaction_id transaction_type location\n",
       "count           11000            11000    11000\n",
       "unique          10000                3        2\n",
       "top            TX5269    transferência   fisico\n",
       "freq                2             3708     5519"
      ]
     },
     "execution_count": 12,
     "metadata": {},
     "output_type": "execute_result"
    }
   ],
   "source": [
    "# Describe (informando que é para somente variáveis categóricas)\n",
    "dados.describe(include = ['object'])"
   ]
  },
  {
   "cell_type": "code",
   "execution_count": 13,
   "id": "3f61478d",
   "metadata": {},
   "outputs": [
    {
     "name": "stdout",
     "output_type": "stream",
     "text": [
      "['TX0' 'TX1' 'TX2' ... 'TX9997' 'TX9998' 'TX9999']\n",
      "['transferência' 'compra' 'saque']\n",
      "['online' 'fisico']\n"
     ]
    }
   ],
   "source": [
    "# Verificando Tipo das Variáveis\n",
    "print(dados['transaction_id'].unique())\n",
    "print(dados['transaction_type'].unique())\n",
    "print(dados['location'].unique())"
   ]
  },
  {
   "cell_type": "code",
   "execution_count": 14,
   "id": "c53c458d",
   "metadata": {},
   "outputs": [
    {
     "name": "stdout",
     "output_type": "stream",
     "text": [
      "transaction_type\n",
      "transferência    3708\n",
      "compra           3659\n",
      "saque            3633\n",
      "Name: count, dtype: int64\n",
      "location\n",
      "fisico    5519\n",
      "online    5481\n",
      "Name: count, dtype: int64\n"
     ]
    }
   ],
   "source": [
    "# Verificando value_counts das Variáveis\n",
    "print(dados['transaction_type'].value_counts())\n",
    "print(dados['location'].value_counts())"
   ]
  },
  {
   "cell_type": "markdown",
   "id": "28ca62cc",
   "metadata": {},
   "source": [
    "#### Visualizando através de Gráfico"
   ]
  },
  {
   "cell_type": "code",
   "execution_count": 15,
   "id": "ba97b0b6",
   "metadata": {},
   "outputs": [
    {
     "data": {
      "image/png": "[encoded data removed]",
      "text/plain": [
       "<Figure size 720x432 with 1 Axes>"
      ]
     },
     "metadata": {
      "needs_background": "light"
     },
     "output_type": "display_data"
    },
    {
     "data": {
      "image/png": "[encoded data removed]",
      "text/plain": [
       "<Figure size 720x432 with 1 Axes>"
      ]
     },
     "metadata": {
      "needs_background": "light"
     },
     "output_type": "display_data"
    },
    {
     "name": "stdout",
     "output_type": "stream",
     "text": [
      "Contagem de tipos de transação:\n",
      "Tipo de transação transferência: 3708\n",
      "Tipo de transação compra: 3659\n",
      "Tipo de transação saque: 3633\n",
      "\n",
      "Contagem de localização da transação:\n",
      "Localização fisico: 5519\n",
      "Localização online: 5481\n"
     ]
    }
   ],
   "source": [
    "# Exibindo o gráfico de contagem para 'transaction_type'\n",
    "plt.figure(figsize=(10, 6))\n",
    "sns.countplot(data=dados, x='transaction_type', label='Count')\n",
    "plt.title('Contagem de Tipos de Transação')\n",
    "plt.xlabel('Tipo de Transação')\n",
    "plt.ylabel('Contagem')\n",
    "plt.show()\n",
    "\n",
    "# Exibindo o gráfico de contagem para 'location'\n",
    "plt.figure(figsize=(10, 6))\n",
    "sns.countplot(data=dados, x='location', label='Count')\n",
    "plt.title('Contagem de Localização da Transação')\n",
    "plt.xlabel('Localização da Transação')\n",
    "plt.ylabel('Contagem')\n",
    "plt.show()\n",
    "\n",
    "# Value counts for 'transaction_type'\n",
    "transaction_type_counts = dados['transaction_type'].value_counts()\n",
    "print(\"Contagem de tipos de transação:\")\n",
    "for transaction_type, count in transaction_type_counts.items():\n",
    "    print(f'Tipo de transação {transaction_type}: {count}')\n",
    "\n",
    "# Value counts for 'location'\n",
    "location_counts = dados['location'].value_counts()\n",
    "print(\"\\nContagem de localização da transação:\")\n",
    "for location, count in location_counts.items():\n",
    "    print(f'Localização {location}: {count}')"
   ]
  },
  {
   "cell_type": "markdown",
   "id": "8824b9a8",
   "metadata": {},
   "source": [
    "<br>\n",
    "\n",
    "## Removendo Variável transaction_id"
   ]
  },
  {
   "cell_type": "code",
   "execution_count": 16,
   "id": "681711b8",
   "metadata": {},
   "outputs": [
    {
     "name": "stdout",
     "output_type": "stream",
     "text": [
      "(11000, 6)\n",
      "   account_age  transaction_amount transaction_type location  is_fraud\n",
      "0        111.0          118.087401    transferência   online         0\n",
      "1        144.0           89.681117    transferência   fisico         0\n",
      "(11000, 5)\n"
     ]
    }
   ],
   "source": [
    "# Shape\n",
    "print(dados.shape)\n",
    "\n",
    "# Removendo a variável transaction_id\n",
    "dados = dados.drop('transaction_id', axis=1)\n",
    "\n",
    "# Verificando as primeiras linhas do dataframe após a remoção\n",
    "print(dados.head(2))\n",
    "\n",
    "# Shape\n",
    "print(dados.shape)"
   ]
  },
  {
   "cell_type": "markdown",
   "id": "286743f3",
   "metadata": {},
   "source": [
    "<br>\n",
    "\n",
    "## Aplicando Label Encoding\n",
    "#### Vamos transformar as variáveis **Categóricas** transaction_type e location na sua represetação **Numérica**"
   ]
  },
  {
   "cell_type": "code",
   "execution_count": 17,
   "id": "53fbbd1c",
   "metadata": {},
   "outputs": [
    {
     "data": {
      "text/plain": [
       "Index(['account_age', 'transaction_amount', 'transaction_type', 'location',\n",
       "       'is_fraud'],\n",
       "      dtype='object')"
      ]
     },
     "execution_count": 17,
     "metadata": {},
     "output_type": "execute_result"
    }
   ],
   "source": [
    "dados.columns"
   ]
  },
  {
   "cell_type": "code",
   "execution_count": 18,
   "id": "684958bf",
   "metadata": {},
   "outputs": [
    {
     "data": {
      "text/html": [
       "<div>\n",
       "<style scoped>\n",
       "    .dataframe tbody tr th:only-of-type {\n",
       "        vertical-align: middle;\n",
       "    }\n",
       "\n",
       "    .dataframe tbody tr th {\n",
       "        vertical-align: top;\n",
       "    }\n",
       "\n",
       "    .dataframe thead th {\n",
       "        text-align: right;\n",
       "    }\n",
       "</style>\n",
       "<table border=\"1\" class=\"dataframe\">\n",
       "  <thead>\n",
       "    <tr style=\"text-align: right;\">\n",
       "      <th></th>\n",
       "      <th>account_age</th>\n",
       "      <th>transaction_amount</th>\n",
       "      <th>transaction_type</th>\n",
       "      <th>location</th>\n",
       "      <th>is_fraud</th>\n",
       "    </tr>\n",
       "  </thead>\n",
       "  <tbody>\n",
       "    <tr>\n",
       "      <th>5714</th>\n",
       "      <td>23.0</td>\n",
       "      <td>79.082666</td>\n",
       "      <td>transferência</td>\n",
       "      <td>fisico</td>\n",
       "      <td>0</td>\n",
       "    </tr>\n",
       "    <tr>\n",
       "      <th>7</th>\n",
       "      <td>232.0</td>\n",
       "      <td>46.586316</td>\n",
       "      <td>saque</td>\n",
       "      <td>fisico</td>\n",
       "      <td>1</td>\n",
       "    </tr>\n",
       "    <tr>\n",
       "      <th>7390</th>\n",
       "      <td>229.0</td>\n",
       "      <td>559.421766</td>\n",
       "      <td>saque</td>\n",
       "      <td>online</td>\n",
       "      <td>0</td>\n",
       "    </tr>\n",
       "    <tr>\n",
       "      <th>9850</th>\n",
       "      <td>24.0</td>\n",
       "      <td>51.749462</td>\n",
       "      <td>compra</td>\n",
       "      <td>online</td>\n",
       "      <td>0</td>\n",
       "    </tr>\n",
       "    <tr>\n",
       "      <th>477</th>\n",
       "      <td>145.0</td>\n",
       "      <td>936.764819</td>\n",
       "      <td>transferência</td>\n",
       "      <td>fisico</td>\n",
       "      <td>0</td>\n",
       "    </tr>\n",
       "    <tr>\n",
       "      <th>2249</th>\n",
       "      <td>17.0</td>\n",
       "      <td>176.072380</td>\n",
       "      <td>compra</td>\n",
       "      <td>fisico</td>\n",
       "      <td>1</td>\n",
       "    </tr>\n",
       "    <tr>\n",
       "      <th>4614</th>\n",
       "      <td>66.0</td>\n",
       "      <td>101.457924</td>\n",
       "      <td>saque</td>\n",
       "      <td>fisico</td>\n",
       "      <td>0</td>\n",
       "    </tr>\n",
       "    <tr>\n",
       "      <th>1836</th>\n",
       "      <td>160.0</td>\n",
       "      <td>14.002950</td>\n",
       "      <td>transferência</td>\n",
       "      <td>online</td>\n",
       "      <td>1</td>\n",
       "    </tr>\n",
       "    <tr>\n",
       "      <th>3165</th>\n",
       "      <td>179.0</td>\n",
       "      <td>NaN</td>\n",
       "      <td>compra</td>\n",
       "      <td>fisico</td>\n",
       "      <td>1</td>\n",
       "    </tr>\n",
       "    <tr>\n",
       "      <th>1208</th>\n",
       "      <td>115.0</td>\n",
       "      <td>98.839299</td>\n",
       "      <td>compra</td>\n",
       "      <td>fisico</td>\n",
       "      <td>0</td>\n",
       "    </tr>\n",
       "  </tbody>\n",
       "</table>\n",
       "</div>"
      ],
      "text/plain": [
       "      account_age  transaction_amount transaction_type location  is_fraud\n",
       "5714         23.0           79.082666    transferência   fisico         0\n",
       "7           232.0           46.586316            saque   fisico         1\n",
       "7390        229.0          559.421766            saque   online         0\n",
       "9850         24.0           51.749462           compra   online         0\n",
       "477         145.0          936.764819    transferência   fisico         0\n",
       "2249         17.0          176.072380           compra   fisico         1\n",
       "4614         66.0          101.457924            saque   fisico         0\n",
       "1836        160.0           14.002950    transferência   online         1\n",
       "3165        179.0                 NaN           compra   fisico         1\n",
       "1208        115.0           98.839299           compra   fisico         0"
      ]
     },
     "execution_count": 18,
     "metadata": {},
     "output_type": "execute_result"
    }
   ],
   "source": [
    "dados.sample(10)"
   ]
  },
  {
   "cell_type": "code",
   "execution_count": 19,
   "id": "590dcbb3",
   "metadata": {},
   "outputs": [],
   "source": [
    "# Inicializando os label encoders\n",
    "le_transaction_type = LabelEncoder()\n",
    "le_location = LabelEncoder()\n",
    "\n",
    "# Aplicando label encoding às variáveis categóricas\n",
    "dados['transaction_type'] = le_transaction_type.fit_transform(dados['transaction_type'])\n",
    "dados['location'] = le_location.fit_transform(dados['location'])"
   ]
  },
  {
   "cell_type": "code",
   "execution_count": 20,
   "id": "a5bee6ed",
   "metadata": {},
   "outputs": [
    {
     "name": "stdout",
     "output_type": "stream",
     "text": [
      "<class 'pandas.core.frame.DataFrame'>\n",
      "RangeIndex: 11000 entries, 0 to 10999\n",
      "Data columns (total 5 columns):\n",
      " #   Column              Non-Null Count  Dtype  \n",
      "---  ------              --------------  -----  \n",
      " 0   account_age         10450 non-null  float64\n",
      " 1   transaction_amount  10450 non-null  float64\n",
      " 2   transaction_type    11000 non-null  int64  \n",
      " 3   location            11000 non-null  int64  \n",
      " 4   is_fraud            11000 non-null  int64  \n",
      "dtypes: float64(2), int64(3)\n",
      "memory usage: 429.8 KB\n"
     ]
    }
   ],
   "source": [
    "# Info\n",
    "dados.info()"
   ]
  },
  {
   "cell_type": "code",
   "execution_count": 21,
   "id": "d7b8495f",
   "metadata": {},
   "outputs": [
    {
     "data": {
      "text/html": [
       "<div>\n",
       "<style scoped>\n",
       "    .dataframe tbody tr th:only-of-type {\n",
       "        vertical-align: middle;\n",
       "    }\n",
       "\n",
       "    .dataframe tbody tr th {\n",
       "        vertical-align: top;\n",
       "    }\n",
       "\n",
       "    .dataframe thead th {\n",
       "        text-align: right;\n",
       "    }\n",
       "</style>\n",
       "<table border=\"1\" class=\"dataframe\">\n",
       "  <thead>\n",
       "    <tr style=\"text-align: right;\">\n",
       "      <th></th>\n",
       "      <th>account_age</th>\n",
       "      <th>transaction_amount</th>\n",
       "      <th>transaction_type</th>\n",
       "      <th>location</th>\n",
       "      <th>is_fraud</th>\n",
       "    </tr>\n",
       "  </thead>\n",
       "  <tbody>\n",
       "    <tr>\n",
       "      <th>6154</th>\n",
       "      <td>124.0</td>\n",
       "      <td>159.767827</td>\n",
       "      <td>0</td>\n",
       "      <td>1</td>\n",
       "      <td>0</td>\n",
       "    </tr>\n",
       "    <tr>\n",
       "      <th>10903</th>\n",
       "      <td>143.0</td>\n",
       "      <td>83.630297</td>\n",
       "      <td>0</td>\n",
       "      <td>1</td>\n",
       "      <td>1</td>\n",
       "    </tr>\n",
       "    <tr>\n",
       "      <th>10801</th>\n",
       "      <td>82.0</td>\n",
       "      <td>142.684205</td>\n",
       "      <td>0</td>\n",
       "      <td>1</td>\n",
       "      <td>0</td>\n",
       "    </tr>\n",
       "    <tr>\n",
       "      <th>2018</th>\n",
       "      <td>3.0</td>\n",
       "      <td>289.638533</td>\n",
       "      <td>2</td>\n",
       "      <td>1</td>\n",
       "      <td>1</td>\n",
       "    </tr>\n",
       "    <tr>\n",
       "      <th>9608</th>\n",
       "      <td>114.0</td>\n",
       "      <td>829.493218</td>\n",
       "      <td>1</td>\n",
       "      <td>0</td>\n",
       "      <td>0</td>\n",
       "    </tr>\n",
       "    <tr>\n",
       "      <th>1789</th>\n",
       "      <td>NaN</td>\n",
       "      <td>469.651722</td>\n",
       "      <td>1</td>\n",
       "      <td>1</td>\n",
       "      <td>0</td>\n",
       "    </tr>\n",
       "    <tr>\n",
       "      <th>2428</th>\n",
       "      <td>234.0</td>\n",
       "      <td>437.675349</td>\n",
       "      <td>1</td>\n",
       "      <td>1</td>\n",
       "      <td>0</td>\n",
       "    </tr>\n",
       "    <tr>\n",
       "      <th>9855</th>\n",
       "      <td>21.0</td>\n",
       "      <td>319.415967</td>\n",
       "      <td>1</td>\n",
       "      <td>0</td>\n",
       "      <td>0</td>\n",
       "    </tr>\n",
       "    <tr>\n",
       "      <th>7012</th>\n",
       "      <td>107.0</td>\n",
       "      <td>102.371378</td>\n",
       "      <td>1</td>\n",
       "      <td>1</td>\n",
       "      <td>0</td>\n",
       "    </tr>\n",
       "    <tr>\n",
       "      <th>3161</th>\n",
       "      <td>197.0</td>\n",
       "      <td>71.133738</td>\n",
       "      <td>1</td>\n",
       "      <td>0</td>\n",
       "      <td>0</td>\n",
       "    </tr>\n",
       "  </tbody>\n",
       "</table>\n",
       "</div>"
      ],
      "text/plain": [
       "       account_age  transaction_amount  transaction_type  location  is_fraud\n",
       "6154         124.0          159.767827                 0         1         0\n",
       "10903        143.0           83.630297                 0         1         1\n",
       "10801         82.0          142.684205                 0         1         0\n",
       "2018           3.0          289.638533                 2         1         1\n",
       "9608         114.0          829.493218                 1         0         0\n",
       "1789           NaN          469.651722                 1         1         0\n",
       "2428         234.0          437.675349                 1         1         0\n",
       "9855          21.0          319.415967                 1         0         0\n",
       "7012         107.0          102.371378                 1         1         0\n",
       "3161         197.0           71.133738                 1         0         0"
      ]
     },
     "execution_count": 21,
     "metadata": {},
     "output_type": "execute_result"
    }
   ],
   "source": [
    "dados.sample(10)"
   ]
  },
  {
   "cell_type": "markdown",
   "id": "64222a2f",
   "metadata": {},
   "source": [
    "<br>\n",
    "\n",
    "# Limpeza nos Dados\n",
    "\n",
    "<br>\n",
    "\n",
    "### Tratando Valores Ausentes"
   ]
  },
  {
   "cell_type": "code",
   "execution_count": 22,
   "id": "2f7b1c3f",
   "metadata": {},
   "outputs": [
    {
     "data": {
      "text/plain": [
       "account_age           550\n",
       "transaction_amount    550\n",
       "transaction_type        0\n",
       "location                0\n",
       "is_fraud                0\n",
       "dtype: int64"
      ]
     },
     "execution_count": 22,
     "metadata": {},
     "output_type": "execute_result"
    }
   ],
   "source": [
    "# Verifica se há valores ausentes (por coluna)\n",
    "dados.isna().sum()"
   ]
  },
  {
   "cell_type": "code",
   "execution_count": 23,
   "id": "2703c7de",
   "metadata": {},
   "outputs": [
    {
     "name": "stdout",
     "output_type": "stream",
     "text": [
      "(11000, 5)\n",
      "(9923, 5)\n"
     ]
    }
   ],
   "source": [
    "# Shape\n",
    "print(dados.shape)\n",
    "\n",
    "# Eliminando as linhas com valores ausentes\n",
    "dados = dados.dropna()\n",
    "\n",
    "\n",
    "# Verifica se há valores ausentes (por coluna)\n",
    "dados.isna().sum()\n",
    "\n",
    "# Shape\n",
    "print(dados.shape)"
   ]
  },
  {
   "cell_type": "markdown",
   "id": "e7c8053d",
   "metadata": {},
   "source": [
    "<br>\n",
    "\n",
    "## Tratando Valores Duplicados"
   ]
  },
  {
   "cell_type": "code",
   "execution_count": 24,
   "id": "296fe5d8",
   "metadata": {},
   "outputs": [
    {
     "name": "stdout",
     "output_type": "stream",
     "text": [
      "(9923, 5)\n",
      "834\n"
     ]
    }
   ],
   "source": [
    "# Shape\n",
    "print(dados.shape)\n",
    "\n",
    "# Verifica quantidade de valores duplicados\n",
    "print(dados.duplicated().sum())"
   ]
  },
  {
   "cell_type": "code",
   "execution_count": 25,
   "id": "9c96a565",
   "metadata": {},
   "outputs": [
    {
     "name": "stdout",
     "output_type": "stream",
     "text": [
      "(9089, 5)\n"
     ]
    }
   ],
   "source": [
    "# Remove registros duplicados (remove uma das duplicatas)\n",
    "dados = dados.drop_duplicates()\n",
    "\n",
    "# Shape\n",
    "print(dados.shape)"
   ]
  },
  {
   "cell_type": "markdown",
   "id": "f5f03184",
   "metadata": {},
   "source": [
    "<br>\n",
    "\n",
    "## Tratando Valores Outliers\n",
    "\n",
    "- Conforme dito acima, vamos olhar para a variável **transaction_amount**."
   ]
  },
  {
   "cell_type": "code",
   "execution_count": 26,
   "id": "e727413b",
   "metadata": {},
   "outputs": [
    {
     "name": "stdout",
     "output_type": "stream",
     "text": [
      "count    9089.000000\n",
      "mean      201.513092\n",
      "std       199.961979\n",
      "min         0.004513\n",
      "25%        58.634359\n",
      "50%       139.097082\n",
      "75%       279.914838\n",
      "max      1840.540635\n",
      "Name: transaction_amount, dtype: float64\n",
      "(9089, 5)\n"
     ]
    }
   ],
   "source": [
    "# Describe\n",
    "print(dados['transaction_amount'].describe())\n",
    "\n",
    "print(dados.shape)"
   ]
  },
  {
   "cell_type": "code",
   "execution_count": 27,
   "id": "7f3eb920",
   "metadata": {},
   "outputs": [
    {
     "data": {
      "text/plain": [
       "<Axes: ylabel='transaction_amount'>"
      ]
     },
     "execution_count": 27,
     "metadata": {},
     "output_type": "execute_result"
    },
    {
     "data": {
      "image/png": "[encoded data removed]",
      "text/plain": [
       "<Figure size 432x288 with 1 Axes>"
      ]
     },
     "metadata": {
      "needs_background": "light"
     },
     "output_type": "display_data"
    }
   ],
   "source": [
    "# Boxplot\n",
    "sns.boxplot(dados.transaction_amount)"
   ]
  },
  {
   "cell_type": "code",
   "execution_count": 28,
   "id": "6391eb7a",
   "metadata": {},
   "outputs": [
    {
     "name": "stdout",
     "output_type": "stream",
     "text": [
      "Total de valores acima da média: 3352\n",
      "Quantidade de valores acima de 1500: 5\n",
      "Total de valores na variável: 9089\n"
     ]
    }
   ],
   "source": [
    "# Exibindo a quantidade de valores acima da média:\n",
    "\n",
    "# Cálculo da média\n",
    "media = dados['transaction_amount'].mean()\n",
    "\n",
    "# Contagem de valores acima da média\n",
    "total_acima_media = (dados['transaction_amount'] > media).sum()\n",
    "\n",
    "print(\"Total de valores acima da média:\", total_acima_media)\n",
    "\n",
    "# Quantidade de valores acima de 1400\n",
    "acima_1400 = (dados['transaction_amount'] > 1400).sum()\n",
    "print(f\"Quantidade de valores acima de 1500: {acima_1400}\")\n",
    "\n",
    "print(\"Total de valores na variável:\", len(dados['transaction_amount']))"
   ]
  },
  {
   "cell_type": "markdown",
   "id": "1c71e669",
   "metadata": {},
   "source": [
    "#### Removendo Valores Acima de 1400"
   ]
  },
  {
   "cell_type": "code",
   "execution_count": 29,
   "id": "b17cbbd4",
   "metadata": {},
   "outputs": [
    {
     "name": "stdout",
     "output_type": "stream",
     "text": [
      "count    9084.000000\n",
      "mean      200.696473\n",
      "std       196.924816\n",
      "min         0.004513\n",
      "25%        58.582575\n",
      "50%       138.989039\n",
      "75%       279.734666\n",
      "max      1355.685459\n",
      "Name: transaction_amount, dtype: float64\n"
     ]
    }
   ],
   "source": [
    "# Removendo valores acima de 1400\n",
    "dados = dados[dados['transaction_amount'] <= 1400]\n",
    "\n",
    "# Verificando o resultado\n",
    "print(dados['transaction_amount'].describe())"
   ]
  },
  {
   "cell_type": "code",
   "execution_count": 30,
   "id": "05ed53d7",
   "metadata": {},
   "outputs": [
    {
     "data": {
      "text/plain": [
       "<Axes: ylabel='transaction_amount'>"
      ]
     },
     "execution_count": 30,
     "metadata": {},
     "output_type": "execute_result"
    },
    {
     "data": {
      "image/png": "[encoded data removed]",
      "text/plain": [
       "<Figure size 432x288 with 1 Axes>"
      ]
     },
     "metadata": {
      "needs_background": "light"
     },
     "output_type": "display_data"
    }
   ],
   "source": [
    "# Boxplot\n",
    "sns.boxplot(dados.transaction_amount)"
   ]
  },
  {
   "cell_type": "code",
   "execution_count": 31,
   "id": "1b7f508d",
   "metadata": {},
   "outputs": [
    {
     "name": "stdout",
     "output_type": "stream",
     "text": [
      "count    9084.000000\n",
      "mean      200.696473\n",
      "std       196.924816\n",
      "min         0.004513\n",
      "25%        58.582575\n",
      "50%       138.989039\n",
      "75%       279.734666\n",
      "max      1355.685459\n",
      "Name: transaction_amount, dtype: float64\n",
      "(9084, 5)\n"
     ]
    }
   ],
   "source": [
    "# Describe\n",
    "print(dados['transaction_amount'].describe())\n",
    "\n",
    "print(dados.shape)"
   ]
  },
  {
   "cell_type": "markdown",
   "id": "7d64ca50",
   "metadata": {},
   "source": [
    "### Conclusão\n",
    "- O objetivo do tratamento de outliers foi reduzir o impacto de valores extremos na variável \"transaction_amount\" para melhorar a qualidade dos modelos de machine learning e garantir que os resultados sejam representativos da maioria das transações no conjunto de dados.\n",
    "- Remoção de Valores Acima de 1400: Transações com valores acima de 1400 representavam 5 casos. Esses valores são mais altos que a média e o desvio padrão, mas sua remoção adicional ajuda a garantir que a modelagem seja ainda mais robusta contra outliers."
   ]
  },
  {
   "cell_type": "markdown",
   "id": "18f51ba8",
   "metadata": {},
   "source": [
    "<br>\n",
    "\n",
    "## Verificando Correlação"
   ]
  },
  {
   "cell_type": "code",
   "execution_count": 32,
   "id": "ea72fbe6",
   "metadata": {},
   "outputs": [
    {
     "name": "stdout",
     "output_type": "stream",
     "text": [
      "<class 'pandas.core.frame.DataFrame'>\n",
      "Index: 9084 entries, 0 to 10995\n",
      "Data columns (total 5 columns):\n",
      " #   Column              Non-Null Count  Dtype  \n",
      "---  ------              --------------  -----  \n",
      " 0   account_age         9084 non-null   float64\n",
      " 1   transaction_amount  9084 non-null   float64\n",
      " 2   transaction_type    9084 non-null   int64  \n",
      " 3   location            9084 non-null   int64  \n",
      " 4   is_fraud            9084 non-null   int64  \n",
      "dtypes: float64(2), int64(3)\n",
      "memory usage: 425.8 KB\n"
     ]
    }
   ],
   "source": [
    "# Info\n",
    "dados.info()"
   ]
  },
  {
   "cell_type": "code",
   "execution_count": 33,
   "id": "b43d3eef",
   "metadata": {},
   "outputs": [
    {
     "data": {
      "text/html": [
       "<div>\n",
       "<style scoped>\n",
       "    .dataframe tbody tr th:only-of-type {\n",
       "        vertical-align: middle;\n",
       "    }\n",
       "\n",
       "    .dataframe tbody tr th {\n",
       "        vertical-align: top;\n",
       "    }\n",
       "\n",
       "    .dataframe thead th {\n",
       "        text-align: right;\n",
       "    }\n",
       "</style>\n",
       "<table border=\"1\" class=\"dataframe\">\n",
       "  <thead>\n",
       "    <tr style=\"text-align: right;\">\n",
       "      <th></th>\n",
       "      <th>account_age</th>\n",
       "      <th>transaction_amount</th>\n",
       "      <th>transaction_type</th>\n",
       "      <th>location</th>\n",
       "      <th>is_fraud</th>\n",
       "    </tr>\n",
       "  </thead>\n",
       "  <tbody>\n",
       "    <tr>\n",
       "      <th>account_age</th>\n",
       "      <td>1.000000</td>\n",
       "      <td>0.003142</td>\n",
       "      <td>0.027786</td>\n",
       "      <td>-0.008585</td>\n",
       "      <td>-0.005514</td>\n",
       "    </tr>\n",
       "    <tr>\n",
       "      <th>transaction_amount</th>\n",
       "      <td>0.003142</td>\n",
       "      <td>1.000000</td>\n",
       "      <td>0.004953</td>\n",
       "      <td>0.000397</td>\n",
       "      <td>-0.001830</td>\n",
       "    </tr>\n",
       "    <tr>\n",
       "      <th>transaction_type</th>\n",
       "      <td>0.027786</td>\n",
       "      <td>0.004953</td>\n",
       "      <td>1.000000</td>\n",
       "      <td>0.016132</td>\n",
       "      <td>0.012608</td>\n",
       "    </tr>\n",
       "    <tr>\n",
       "      <th>location</th>\n",
       "      <td>-0.008585</td>\n",
       "      <td>0.000397</td>\n",
       "      <td>0.016132</td>\n",
       "      <td>1.000000</td>\n",
       "      <td>0.009159</td>\n",
       "    </tr>\n",
       "    <tr>\n",
       "      <th>is_fraud</th>\n",
       "      <td>-0.005514</td>\n",
       "      <td>-0.001830</td>\n",
       "      <td>0.012608</td>\n",
       "      <td>0.009159</td>\n",
       "      <td>1.000000</td>\n",
       "    </tr>\n",
       "  </tbody>\n",
       "</table>\n",
       "</div>"
      ],
      "text/plain": [
       "                    account_age  transaction_amount  transaction_type  \\\n",
       "account_age            1.000000            0.003142          0.027786   \n",
       "transaction_amount     0.003142            1.000000          0.004953   \n",
       "transaction_type       0.027786            0.004953          1.000000   \n",
       "location              -0.008585            0.000397          0.016132   \n",
       "is_fraud              -0.005514           -0.001830          0.012608   \n",
       "\n",
       "                    location  is_fraud  \n",
       "account_age        -0.008585 -0.005514  \n",
       "transaction_amount  0.000397 -0.001830  \n",
       "transaction_type    0.016132  0.012608  \n",
       "location            1.000000  0.009159  \n",
       "is_fraud            0.009159  1.000000  "
      ]
     },
     "execution_count": 33,
     "metadata": {},
     "output_type": "execute_result"
    }
   ],
   "source": [
    "# Verificando Correlação (tabela)\n",
    "dados.corr()"
   ]
  },
  {
   "cell_type": "code",
   "execution_count": 34,
   "id": "4dbde89a",
   "metadata": {},
   "outputs": [
    {
     "data": {
      "image/png": "[encoded data removed]",
      "text/plain": [
       "<Figure size 720x576 with 2 Axes>"
      ]
     },
     "metadata": {
      "needs_background": "light"
     },
     "output_type": "display_data"
    }
   ],
   "source": [
    "# Visualizando Correlações através de um Mapa de Calor\n",
    "\n",
    "# Criando o heatmap\n",
    "corr_matrix = dados.select_dtypes(include=[np.number]).corr()\n",
    "\n",
    "plt.figure(figsize=(10, 8))  # Define o tamanho da figura\n",
    "sns.heatmap(corr_matrix, annot=True, fmt=\".2f\", cmap='coolwarm', vmin=-1, vmax=1, cbar=True, square=True)\n",
    "plt.title('Mapa de Calor das Correlações')\n",
    "plt.show()"
   ]
  },
  {
   "cell_type": "markdown",
   "id": "41a18ffc",
   "metadata": {},
   "source": [
    "### Conclusão\n",
    "- As variáveis no conjunto de dados não têm correlações fortes entre si, indicando que cada variável traz informações independentes para o modelo. Isso é desejável em muitos cenários de machine learning, pois reduz a chance de multicolinearidade, onde variáveis fortemente correlacionadas podem afetar negativamente a performance do modelo.\n",
    "\n",
    "- Para a detecção de fraudes, a baixa correlação das variáveis com \"is_fraud\" sugere que não há uma única variável dominante para prever fraudes, e uma abordagem mais complexa pode ser necessária para identificar padrões de fraude."
   ]
  },
  {
   "cell_type": "markdown",
   "id": "ab118a6e",
   "metadata": {},
   "source": [
    "### Verificando Correlação Individualmente"
   ]
  },
  {
   "cell_type": "code",
   "execution_count": 35,
   "id": "6384add7",
   "metadata": {},
   "outputs": [
    {
     "data": {
      "image/png": "[encoded data removed]",
      "text/plain": [
       "<Figure size 1008x720 with 4 Axes>"
      ]
     },
     "metadata": {
      "needs_background": "light"
     },
     "output_type": "display_data"
    }
   ],
   "source": [
    "import matplotlib.pyplot as plt\n",
    "import seaborn as sns\n",
    "\n",
    "# Configurando o tamanho da figura\n",
    "fig, axes = plt.subplots(2, 2, figsize=(14, 10))\n",
    "\n",
    "# Gráfico de dispersão para 'account_age' vs 'is_fraud'\n",
    "sns.boxplot(x='is_fraud', y='account_age', data=dados, ax=axes[0, 0])\n",
    "axes[0, 0].set_title('Idade da Conta vs Fraude')\n",
    "axes[0, 0].set_xlabel('Fraude')\n",
    "axes[0, 0].set_ylabel('Idade da Conta')\n",
    "\n",
    "# Gráfico de dispersão para 'transaction_amount' vs 'is_fraud'\n",
    "sns.boxplot(x='is_fraud', y='transaction_amount', data=dados, ax=axes[0, 1])\n",
    "axes[0, 1].set_title('Valor da Transação vs Fraude')\n",
    "axes[0, 1].set_xlabel('Fraude')\n",
    "axes[0, 1].set_ylabel('Valor da Transação')\n",
    "\n",
    "# Gráfico de contagem para 'transaction_type' vs 'is_fraud'\n",
    "sns.countplot(x='transaction_type', hue='is_fraud', data=dados, ax=axes[1, 0])\n",
    "axes[1, 0].set_title('Tipo de Transação vs Fraude')\n",
    "axes[1, 0].set_xlabel('Tipo de Transação')\n",
    "axes[1, 0].set_ylabel('Contagem')\n",
    "\n",
    "# Gráfico de contagem para 'location' vs 'is_fraud'\n",
    "sns.countplot(x='location', hue='is_fraud', data=dados, ax=axes[1, 1])\n",
    "axes[1, 1].set_title('Localização vs Fraude')\n",
    "axes[1, 1].set_xlabel('Localização')\n",
    "axes[1, 1].set_ylabel('Contagem')\n",
    "\n",
    "# Ajustando layout\n",
    "plt.tight_layout()\n",
    "plt.show()"
   ]
  },
  {
   "cell_type": "markdown",
   "id": "9edc9ef3",
   "metadata": {},
   "source": [
    "#### Conclusão\n",
    "\n",
    "- Os gráficos mostram que **não há uma diferença substancial na distribuição de fraudes em relação à idade da conta, valor da transação, tipo de transação ou localização**. Isso sugere que a fraude pode ser influenciada por uma combinação mais complexa de fatores e não por uma única variável."
   ]
  },
  {
   "cell_type": "markdown",
   "id": "dfdd703f",
   "metadata": {},
   "source": [
    "<br><br>\n",
    "\n",
    "# Pré-Processamento de Dados Para Construção de Modelos de Machine Learning\n",
    "\n",
    "<br><br>\n",
    "\n",
    "\n",
    "## Dividindo os dados em Dados de Treino e Dados de Teste\n",
    "- Nós **treinamos** o modelo com **dados de treino** e **avaliamos** o modelo com **dados de teste**."
   ]
  },
  {
   "cell_type": "code",
   "execution_count": 36,
   "id": "95cab00d",
   "metadata": {},
   "outputs": [
    {
     "name": "stdout",
     "output_type": "stream",
     "text": [
      "(7267, 4) (1817, 4) (7267,) (1817,)\n"
     ]
    }
   ],
   "source": [
    "# Cria um objeto separado para a variável alvo\n",
    "y = dados.is_fraud\n",
    "\n",
    "# Cria um objeto separado para as variáveis de entrada\n",
    "X = dados.drop('is_fraud', axis=1)\n",
    "\n",
    "# Split em dados de treino e teste sem amostragem estratificada\n",
    "X_treino, X_teste, y_treino, y_teste = train_test_split(X, \n",
    "                                                        y, \n",
    "                                                        test_size=0.2, \n",
    "                                                        random_state=1234)\n",
    "\n",
    "# Print do shape\n",
    "print(X_treino.shape, X_teste.shape, y_treino.shape, y_teste.shape)"
   ]
  },
  {
   "cell_type": "markdown",
   "id": "dc3a40ae",
   "metadata": {},
   "source": [
    "<br>\n",
    "\n",
    "### Balanceamento de Classes\n",
    "\n",
    "- Realizar o balanceamento da variável alvo 'is_fraud'"
   ]
  },
  {
   "cell_type": "code",
   "execution_count": 37,
   "id": "4192b05b",
   "metadata": {},
   "outputs": [
    {
     "data": {
      "text/plain": [
       "is_fraud\n",
       "0    5689\n",
       "1    3395\n",
       "Name: count, dtype: int64"
      ]
     },
     "execution_count": 37,
     "metadata": {},
     "output_type": "execute_result"
    }
   ],
   "source": [
    "dados['is_fraud'].value_counts()"
   ]
  },
  {
   "cell_type": "markdown",
   "id": "53994c62",
   "metadata": {},
   "source": [
    "#### Justificativa para Escolha da Técnica de Oversampling\n",
    "\n",
    "- Para o seu projeto de classificação de fraudes em transações bancárias, recomendo utilizar a técnica de Oversampling com SMOTE. A razão principal é que a detecção de fraudes é uma tarefa crítica, onde a perda de informações (que pode ocorrer com o Undersampling) é altamente indesejável. As fraudes são eventos raros, e cada registro de fraude pode conter informações valiosas que ajudam o modelo a identificar padrões fraudulentos. Além disso:\n",
    "\n",
    "<br>\n",
    "\n",
    "#### Aplicando a Técnica de Oversampling"
   ]
  },
  {
   "cell_type": "code",
   "execution_count": 38,
   "id": "7f43280b",
   "metadata": {},
   "outputs": [],
   "source": [
    "# Vamos aplicar a técnica de oversampling e aumentar o número de exemplos da classe minoritária\n",
    "over_sampler = SMOTE(k_neighbors=5, random_state=42)\n",
    "\n",
    "# Aplica o oversampling (deve ser feito somente com dados de treino)\n",
    "X_res, y_res = over_sampler.fit_resample(X_treino, y_treino)"
   ]
  },
  {
   "cell_type": "code",
   "execution_count": 39,
   "id": "a3db5237",
   "metadata": {},
   "outputs": [
    {
     "name": "stdout",
     "output_type": "stream",
     "text": [
      "is_fraud\n",
      "0    4565\n",
      "1    2702\n",
      "Name: count, dtype: int64\n",
      "(7267, 4)\n",
      "(7267,)\n",
      "\n",
      "==================================================\n",
      "\n",
      "is_fraud\n",
      "0    4565\n",
      "1    4565\n",
      "Name: count, dtype: int64\n",
      "(9130, 4)\n",
      "(9130,)\n"
     ]
    }
   ],
   "source": [
    "print(y_treino.value_counts())\n",
    "print(X_treino.shape)\n",
    "print(y_treino.shape)\n",
    "\n",
    "print('\\n==================================================\\n')\n",
    "\n",
    "# Ajusta o nome do dataset de treino para X\n",
    "X_treino = X_res\n",
    "# Ajusta o nome do dataset de treino para y\n",
    "y_treino = y_res\n",
    "\n",
    "print(y_treino.value_counts())\n",
    "print(X_treino.shape)\n",
    "print(y_treino.shape)"
   ]
  },
  {
   "cell_type": "markdown",
   "id": "fd8340f9",
   "metadata": {},
   "source": [
    "<br>\n",
    "\n",
    "### Aplicando Técnica de Padronização\n",
    "\n",
    "- Aplicaremos a técnica somente nas variáveis 'account_age' e 'transaction_amount'.\n",
    "- As demais variáveis são do tipo categóricas transformadas em numéricas."
   ]
  },
  {
   "cell_type": "code",
   "execution_count": 40,
   "id": "219b7b68",
   "metadata": {},
   "outputs": [
    {
     "data": {
      "text/html": [
       "<div>\n",
       "<style scoped>\n",
       "    .dataframe tbody tr th:only-of-type {\n",
       "        vertical-align: middle;\n",
       "    }\n",
       "\n",
       "    .dataframe tbody tr th {\n",
       "        vertical-align: top;\n",
       "    }\n",
       "\n",
       "    .dataframe thead th {\n",
       "        text-align: right;\n",
       "    }\n",
       "</style>\n",
       "<table border=\"1\" class=\"dataframe\">\n",
       "  <thead>\n",
       "    <tr style=\"text-align: right;\">\n",
       "      <th></th>\n",
       "      <th>account_age</th>\n",
       "      <th>transaction_amount</th>\n",
       "      <th>transaction_type</th>\n",
       "      <th>location</th>\n",
       "    </tr>\n",
       "  </thead>\n",
       "  <tbody>\n",
       "    <tr>\n",
       "      <th>0</th>\n",
       "      <td>151.0</td>\n",
       "      <td>9.521033</td>\n",
       "      <td>2</td>\n",
       "      <td>1</td>\n",
       "    </tr>\n",
       "    <tr>\n",
       "      <th>1</th>\n",
       "      <td>212.0</td>\n",
       "      <td>189.478493</td>\n",
       "      <td>2</td>\n",
       "      <td>0</td>\n",
       "    </tr>\n",
       "    <tr>\n",
       "      <th>2</th>\n",
       "      <td>24.0</td>\n",
       "      <td>87.407452</td>\n",
       "      <td>1</td>\n",
       "      <td>1</td>\n",
       "    </tr>\n",
       "  </tbody>\n",
       "</table>\n",
       "</div>"
      ],
      "text/plain": [
       "   account_age  transaction_amount  transaction_type  location\n",
       "0        151.0            9.521033                 2         1\n",
       "1        212.0          189.478493                 2         0\n",
       "2         24.0           87.407452                 1         1"
      ]
     },
     "execution_count": 40,
     "metadata": {},
     "output_type": "execute_result"
    }
   ],
   "source": [
    "# Visulizando os Dados\n",
    "X_treino.head(3)"
   ]
  },
  {
   "cell_type": "code",
   "execution_count": 41,
   "id": "467ef2b8",
   "metadata": {},
   "outputs": [
    {
     "data": {
      "text/html": [
       "<div>\n",
       "<style scoped>\n",
       "    .dataframe tbody tr th:only-of-type {\n",
       "        vertical-align: middle;\n",
       "    }\n",
       "\n",
       "    .dataframe tbody tr th {\n",
       "        vertical-align: top;\n",
       "    }\n",
       "\n",
       "    .dataframe thead th {\n",
       "        text-align: right;\n",
       "    }\n",
       "</style>\n",
       "<table border=\"1\" class=\"dataframe\">\n",
       "  <thead>\n",
       "    <tr style=\"text-align: right;\">\n",
       "      <th></th>\n",
       "      <th>account_age</th>\n",
       "      <th>transaction_amount</th>\n",
       "      <th>transaction_type</th>\n",
       "      <th>location</th>\n",
       "    </tr>\n",
       "  </thead>\n",
       "  <tbody>\n",
       "    <tr>\n",
       "      <th>0</th>\n",
       "      <td>151.0</td>\n",
       "      <td>9.521033</td>\n",
       "      <td>2</td>\n",
       "      <td>1</td>\n",
       "    </tr>\n",
       "    <tr>\n",
       "      <th>1</th>\n",
       "      <td>212.0</td>\n",
       "      <td>189.478493</td>\n",
       "      <td>2</td>\n",
       "      <td>0</td>\n",
       "    </tr>\n",
       "    <tr>\n",
       "      <th>2</th>\n",
       "      <td>24.0</td>\n",
       "      <td>87.407452</td>\n",
       "      <td>1</td>\n",
       "      <td>1</td>\n",
       "    </tr>\n",
       "  </tbody>\n",
       "</table>\n",
       "</div>"
      ],
      "text/plain": [
       "   account_age  transaction_amount  transaction_type  location\n",
       "0        151.0            9.521033                 2         1\n",
       "1        212.0          189.478493                 2         0\n",
       "2         24.0           87.407452                 1         1"
      ]
     },
     "metadata": {},
     "output_type": "display_data"
    },
    {
     "data": {
      "text/html": [
       "<div>\n",
       "<style scoped>\n",
       "    .dataframe tbody tr th:only-of-type {\n",
       "        vertical-align: middle;\n",
       "    }\n",
       "\n",
       "    .dataframe tbody tr th {\n",
       "        vertical-align: top;\n",
       "    }\n",
       "\n",
       "    .dataframe thead th {\n",
       "        text-align: right;\n",
       "    }\n",
       "</style>\n",
       "<table border=\"1\" class=\"dataframe\">\n",
       "  <thead>\n",
       "    <tr style=\"text-align: right;\">\n",
       "      <th></th>\n",
       "      <th>account_age</th>\n",
       "      <th>transaction_amount</th>\n",
       "      <th>transaction_type</th>\n",
       "      <th>location</th>\n",
       "    </tr>\n",
       "  </thead>\n",
       "  <tbody>\n",
       "    <tr>\n",
       "      <th>count</th>\n",
       "      <td>9130.000000</td>\n",
       "      <td>9130.000000</td>\n",
       "      <td>9130.000000</td>\n",
       "      <td>9130.000000</td>\n",
       "    </tr>\n",
       "    <tr>\n",
       "      <th>mean</th>\n",
       "      <td>118.656350</td>\n",
       "      <td>198.946404</td>\n",
       "      <td>0.950164</td>\n",
       "      <td>0.448193</td>\n",
       "    </tr>\n",
       "    <tr>\n",
       "      <th>std</th>\n",
       "      <td>69.394601</td>\n",
       "      <td>196.824819</td>\n",
       "      <td>0.802581</td>\n",
       "      <td>0.497336</td>\n",
       "    </tr>\n",
       "    <tr>\n",
       "      <th>min</th>\n",
       "      <td>1.000000</td>\n",
       "      <td>0.004513</td>\n",
       "      <td>0.000000</td>\n",
       "      <td>0.000000</td>\n",
       "    </tr>\n",
       "    <tr>\n",
       "      <th>25%</th>\n",
       "      <td>58.624891</td>\n",
       "      <td>58.602839</td>\n",
       "      <td>0.000000</td>\n",
       "      <td>0.000000</td>\n",
       "    </tr>\n",
       "    <tr>\n",
       "      <th>50%</th>\n",
       "      <td>117.193230</td>\n",
       "      <td>136.616768</td>\n",
       "      <td>1.000000</td>\n",
       "      <td>0.000000</td>\n",
       "    </tr>\n",
       "    <tr>\n",
       "      <th>75%</th>\n",
       "      <td>179.421800</td>\n",
       "      <td>273.733080</td>\n",
       "      <td>2.000000</td>\n",
       "      <td>1.000000</td>\n",
       "    </tr>\n",
       "    <tr>\n",
       "      <th>max</th>\n",
       "      <td>239.000000</td>\n",
       "      <td>1355.685459</td>\n",
       "      <td>2.000000</td>\n",
       "      <td>1.000000</td>\n",
       "    </tr>\n",
       "  </tbody>\n",
       "</table>\n",
       "</div>"
      ],
      "text/plain": [
       "       account_age  transaction_amount  transaction_type     location\n",
       "count  9130.000000         9130.000000       9130.000000  9130.000000\n",
       "mean    118.656350          198.946404          0.950164     0.448193\n",
       "std      69.394601          196.824819          0.802581     0.497336\n",
       "min       1.000000            0.004513          0.000000     0.000000\n",
       "25%      58.624891           58.602839          0.000000     0.000000\n",
       "50%     117.193230          136.616768          1.000000     0.000000\n",
       "75%     179.421800          273.733080          2.000000     1.000000\n",
       "max     239.000000         1355.685459          2.000000     1.000000"
      ]
     },
     "metadata": {},
     "output_type": "display_data"
    },
    {
     "name": "stdout",
     "output_type": "stream",
     "text": [
      "\n",
      "==================================================\n",
      "\n"
     ]
    },
    {
     "data": {
      "text/html": [
       "<div>\n",
       "<style scoped>\n",
       "    .dataframe tbody tr th:only-of-type {\n",
       "        vertical-align: middle;\n",
       "    }\n",
       "\n",
       "    .dataframe tbody tr th {\n",
       "        vertical-align: top;\n",
       "    }\n",
       "\n",
       "    .dataframe thead th {\n",
       "        text-align: right;\n",
       "    }\n",
       "</style>\n",
       "<table border=\"1\" class=\"dataframe\">\n",
       "  <thead>\n",
       "    <tr style=\"text-align: right;\">\n",
       "      <th></th>\n",
       "      <th>account_age</th>\n",
       "      <th>transaction_amount</th>\n",
       "      <th>transaction_type</th>\n",
       "      <th>location</th>\n",
       "    </tr>\n",
       "  </thead>\n",
       "  <tbody>\n",
       "    <tr>\n",
       "      <th>0</th>\n",
       "      <td>0.466109</td>\n",
       "      <td>-0.962459</td>\n",
       "      <td>2</td>\n",
       "      <td>1</td>\n",
       "    </tr>\n",
       "    <tr>\n",
       "      <th>1</th>\n",
       "      <td>1.345188</td>\n",
       "      <td>-0.048106</td>\n",
       "      <td>2</td>\n",
       "      <td>0</td>\n",
       "    </tr>\n",
       "    <tr>\n",
       "      <th>2</th>\n",
       "      <td>-1.364105</td>\n",
       "      <td>-0.566723</td>\n",
       "      <td>1</td>\n",
       "      <td>1</td>\n",
       "    </tr>\n",
       "  </tbody>\n",
       "</table>\n",
       "</div>"
      ],
      "text/plain": [
       "   account_age  transaction_amount  transaction_type  location\n",
       "0     0.466109           -0.962459                 2         1\n",
       "1     1.345188           -0.048106                 2         0\n",
       "2    -1.364105           -0.566723                 1         1"
      ]
     },
     "metadata": {},
     "output_type": "display_data"
    },
    {
     "data": {
      "text/html": [
       "<div>\n",
       "<style scoped>\n",
       "    .dataframe tbody tr th:only-of-type {\n",
       "        vertical-align: middle;\n",
       "    }\n",
       "\n",
       "    .dataframe tbody tr th {\n",
       "        vertical-align: top;\n",
       "    }\n",
       "\n",
       "    .dataframe thead th {\n",
       "        text-align: right;\n",
       "    }\n",
       "</style>\n",
       "<table border=\"1\" class=\"dataframe\">\n",
       "  <thead>\n",
       "    <tr style=\"text-align: right;\">\n",
       "      <th></th>\n",
       "      <th>account_age</th>\n",
       "      <th>transaction_amount</th>\n",
       "      <th>transaction_type</th>\n",
       "      <th>location</th>\n",
       "    </tr>\n",
       "  </thead>\n",
       "  <tbody>\n",
       "    <tr>\n",
       "      <th>count</th>\n",
       "      <td>9.130000e+03</td>\n",
       "      <td>9.130000e+03</td>\n",
       "      <td>9130.000000</td>\n",
       "      <td>9130.000000</td>\n",
       "    </tr>\n",
       "    <tr>\n",
       "      <th>mean</th>\n",
       "      <td>1.343455e-16</td>\n",
       "      <td>-3.852340e-17</td>\n",
       "      <td>0.950164</td>\n",
       "      <td>0.448193</td>\n",
       "    </tr>\n",
       "    <tr>\n",
       "      <th>std</th>\n",
       "      <td>1.000055e+00</td>\n",
       "      <td>1.000055e+00</td>\n",
       "      <td>0.802581</td>\n",
       "      <td>0.497336</td>\n",
       "    </tr>\n",
       "    <tr>\n",
       "      <th>min</th>\n",
       "      <td>-1.695561e+00</td>\n",
       "      <td>-1.010811e+00</td>\n",
       "      <td>0.000000</td>\n",
       "      <td>0.000000</td>\n",
       "    </tr>\n",
       "    <tr>\n",
       "      <th>25%</th>\n",
       "      <td>-8.651213e-01</td>\n",
       "      <td>-7.130770e-01</td>\n",
       "      <td>0.000000</td>\n",
       "      <td>0.000000</td>\n",
       "    </tr>\n",
       "    <tr>\n",
       "      <th>50%</th>\n",
       "      <td>-2.108521e-02</td>\n",
       "      <td>-3.166930e-01</td>\n",
       "      <td>1.000000</td>\n",
       "      <td>0.000000</td>\n",
       "    </tr>\n",
       "    <tr>\n",
       "      <th>75%</th>\n",
       "      <td>8.756989e-01</td>\n",
       "      <td>3.799865e-01</td>\n",
       "      <td>2.000000</td>\n",
       "      <td>1.000000</td>\n",
       "    </tr>\n",
       "    <tr>\n",
       "      <th>max</th>\n",
       "      <td>1.734288e+00</td>\n",
       "      <td>5.877320e+00</td>\n",
       "      <td>2.000000</td>\n",
       "      <td>1.000000</td>\n",
       "    </tr>\n",
       "  </tbody>\n",
       "</table>\n",
       "</div>"
      ],
      "text/plain": [
       "        account_age  transaction_amount  transaction_type     location\n",
       "count  9.130000e+03        9.130000e+03       9130.000000  9130.000000\n",
       "mean   1.343455e-16       -3.852340e-17          0.950164     0.448193\n",
       "std    1.000055e+00        1.000055e+00          0.802581     0.497336\n",
       "min   -1.695561e+00       -1.010811e+00          0.000000     0.000000\n",
       "25%   -8.651213e-01       -7.130770e-01          0.000000     0.000000\n",
       "50%   -2.108521e-02       -3.166930e-01          1.000000     0.000000\n",
       "75%    8.756989e-01        3.799865e-01          2.000000     1.000000\n",
       "max    1.734288e+00        5.877320e+00          2.000000     1.000000"
      ]
     },
     "metadata": {},
     "output_type": "display_data"
    }
   ],
   "source": [
    "# Visualizando o Describe\n",
    "display(X_treino.head(3))\n",
    "display(X_treino.describe())\n",
    "\n",
    "# Inicializa o scaler\n",
    "scaler = StandardScaler()\n",
    "\n",
    "# Copia as variáveis categóricas transformadas (não precisam de padronização)\n",
    "X_treino_categorico = X_treino[['transaction_type', 'location']].copy()\n",
    "X_teste_categorico = X_teste[['transaction_type', 'location']].copy()\n",
    "\n",
    "# Aplica o scaler apenas nas variáveis contínuas dos dados de treino\n",
    "X_treino_continuo = scaler.fit_transform(X_treino[['account_age', 'transaction_amount']])\n",
    "\n",
    "# Usa a mesma transformação para os dados de teste\n",
    "X_teste_continuo = scaler.transform(X_teste[['account_age', 'transaction_amount']])\n",
    "\n",
    "# Converte de volta para DataFrame\n",
    "X_treino_continuo = pd.DataFrame(X_treino_continuo, columns=['account_age', 'transaction_amount'])\n",
    "X_teste_continuo = pd.DataFrame(X_teste_continuo, columns=['account_age', 'transaction_amount'])\n",
    "\n",
    "# Combina as variáveis contínuas padronizadas com as variáveis categóricas transformadas\n",
    "X_treino_scaled = pd.concat([X_treino_continuo, X_treino_categorico.reset_index(drop=True)], axis=1)\n",
    "X_teste_scaled = pd.concat([X_teste_continuo, X_teste_categorico.reset_index(drop=True)], axis=1)\n",
    "\n",
    "# Ajusta o nome do dataset de treino para X\n",
    "X_treino = X_treino_scaled\n",
    "# Ajusta o nome do dataset de treino para y\n",
    "X_teste = X_teste_scaled\n",
    "\n",
    "print('\\n==================================================\\n')\n",
    "\n",
    "# Visualizando o Describe\n",
    "display(X_treino.head(3))\n",
    "display(X_treino.describe())"
   ]
  },
  {
   "cell_type": "markdown",
   "id": "b605a738",
   "metadata": {},
   "source": [
    "<br><br><br><br>\n",
    "\n",
    "<span style=\"color: green; font-size: 40px; font-weight: bold;\">Construindo Modelos de Machine Learning</span>\n",
    "### Nesta etapa do projeto, desenvolveremos e avaliaremos <u>cinco diferentes</u> modelos de machine learning para identificar qual deles apresenta o <u>melhor desempenho</u> para o nosso conjunto de dados.\n",
    "    \n",
    "#### Cada modelo foi escolhido por suas características únicas e capacidade de lidar com problemas de classificação.<br>\n",
    "\n",
    "Abaixo estão os modelos que serão implementados e testados:\n",
    "    \n",
    "- **Modelo 1: Regressão Logística** - Utilizado como benchmark devido à sua simplicidade e eficácia em problemas de classificação binária. Este modelo ajudará a estabelecer uma linha base para a performance que esperamos superar com técnicas mais complexas.<br><br>\n",
    "- **Modelo 2: Random Forest** - Um modelo de ensemble que usa múltiplas árvores de decisão para melhorar a generalização. É conhecido por sua alta precisão e capacidade de ranquear a importância das variáveis.<br><br>\n",
    "- **Modelo 3: KNN (K-Nearest Neighbors)** - Um modelo baseado em instância que faz previsões com base nas labels das amostras mais próximas no espaço de características. Este modelo é eficaz em casos onde a relação entre as variáveis é altamente não-linear.<br><br>\n",
    "- **Modelo 4: Decision Tree (Árvore de Decisão)** - Uma árvore de decisão é útil por sua interpretabilidade, permitindo entender claramente quais critérios o modelo está usando para tomar decisões.<br><br>\n",
    "- **Modelo 5: SVM (Support Vector Machine)** - Ideal para problemas de classificação e regressão de margem grande. O SVM é eficiente na criação de hiperplanos em um espaço multidimensional, o que o torna adequado para casos com muitas variáveis de entrada.<br><br>\n",
    "- **Modelo 6: Gradient Boosting Machine (GBM)** - Um modelo de ensemble que combina múltiplas árvores de decisão, onde cada nova árvore corrige os erros das anteriores. GBM é conhecido por sua alta precisão e flexibilidade, capaz de lidar com problemas complexos de classificação e regressão.<br><br>\n",
    "- **Modelo 7: AdaBoost** - Um método de ensemble que ajusta iterativamente um modelo simples, como uma árvore de decisão rasa, dando maior peso às amostras que foram classificadas incorretamente nas iterações anteriores. É eficaz em melhorar a precisão de modelos de base fraca.<br><br>\n",
    "- **Modelo 8: LightGBM** - Uma implementação de Gradient Boosting que utiliza técnicas avançadas como o histogram-based learning e o Leaf-wise growth. LightGBM é conhecido por sua alta eficiência e velocidade, especialmente em conjuntos de dados grandes.<br><br>\n",
    "- **Modelo 9: XGBoost** - Uma poderosa biblioteca de boosting que é amplamente utilizada em competições de machine learning. XGBoost implementa otimizações avançadas e regularizações que ajudam a evitar overfitting, tornando-o robusto e eficiente para uma variedade de problemas de classificação e regressão.<br><br>\n",
    "- **Modelo 10: Naive Bayes** - Um algoritmo probabilístico baseado no teorema de Bayes, assumindo a independência entre as características. É particularmente eficaz para problemas de classificação de texto e outras tarefas com grandes dimensões.<br><br>\n",
    "- **Modelo 11: Neural Networks (Redes Neurais)** - Redes neurais são modelos inspirados no funcionamento do cérebro humano e são capazes de capturar padrões complexos e não-lineares. Eles são especialmente eficazes para grandes volumes de dados e problemas onde a relação entre variáveis é altamente complexa.<br><br>\n",
    "- **Modelo 12: CatBoost)** - Uma biblioteca de gradient boosting desenvolvida pela Yandex. CatBoost é conhecido por lidar bem com variáveis categóricas, sem a necessidade de pré-processamento extensivo, e oferece boa precisão e velocidade.<br><br>\n",
    "- **Modelo 13: Extra Trees (Extremely Randomized Trees)** - Uma variante do Random Forest que utiliza uma maior randomização na escolha dos splits. É geralmente mais rápido que Random Forest e pode resultar em modelos mais precisos.<br><br>\n",
    "- **Modelo 14: Voting Classifier** - Um modelo ensemble que combina as previsões de vários modelos base (por exemplo, Random Forest, SVM, KNN) para melhorar a robustez e a precisão das previsões.<br><br>\n",
    "\n",
    "Cada modelo será treinado utilizando o mesmo conjunto de dados, permitindo uma comparação justa de sua eficácia. A avaliação de cada modelo incluirá métricas como precisão, AUC-ROC, entre outras, dependendo das especificidades de nosso problema e dados."
   ]
  },
  {
   "cell_type": "markdown",
   "id": "dc68b54b",
   "metadata": {},
   "source": [
    "<br><br>\n",
    "\n",
    "## Criando <U>Dataframe</U> para salvar métricas de cada Modelo"
   ]
  },
  {
   "cell_type": "code",
   "execution_count": 42,
   "id": "b141b6e3",
   "metadata": {},
   "outputs": [],
   "source": [
    "# Cria um dataframe para receber as métricas de cada modelo\n",
    "df_modelos = pd.DataFrame()"
   ]
  },
  {
   "cell_type": "markdown",
   "id": "0ad52f2d",
   "metadata": {},
   "source": [
    "<br><br><br>\n",
    "\n",
    "# <span style=\"color: green; font-size: 38px; font-weight: bold;\">Modelo 1 - Regressão Logística (Benchmark)</span>\n",
    "\n",
    "<br>\n",
    "\n",
    "- Para a **primeira versão do modelo** o ideal é escolher um **algoritmo simples**, fácil de compreender e que será usado como Benchmark (**modelo base**).\n",
    "- Cria várias modelos com o **GridSearchCV** com um **Pipeline** de **StandardScaler** e **LogisticRegression** para encontrar os **melhores hiperparâmetros**.\n",
    "- Após a identificação do **melhor parâmetro**, o modelo final é treinado diretamente com a **LogisticRegression**, usando esses hiperparâmetros otimizados, para garantir um modelo eficiente e pronto para implementação prática.\n",
    "\n",
    "<br>\n",
    "\n",
    "### Criando o Modelo"
   ]
  },
  {
   "cell_type": "code",
   "execution_count": 43,
   "id": "54b90d56",
   "metadata": {},
   "outputs": [
    {
     "data": {
      "text/plain": [
       "Pipeline(steps=[('scaler', StandardScaler()),\n",
       "                ('logistic', LogisticRegression(C=10, max_iter=1000))])"
      ]
     },
     "execution_count": 43,
     "metadata": {},
     "output_type": "execute_result"
    }
   ],
   "source": [
    "# Configuração do pipeline de pré-processamento e modelo\n",
    "pipeline = Pipeline([\n",
    "    ('scaler', StandardScaler()),                    # Adiciona o escalonador\n",
    "    ('logistic', LogisticRegression(max_iter=1000))  # Aumenta max_iter para garantir a convergência\n",
    "])\n",
    "\n",
    "# Define lista de hiperparâmetros\n",
    "tuned_params_RL = {\n",
    "    'logistic__C': [0.0001, 0.001, 0.01, 0.1, 1, 10, 100, 1000, 10000],\n",
    "    'logistic__penalty': ['l2']  # 'l1' está disponível apenas com o solucionador 'liblinear'\n",
    "}\n",
    "\n",
    "# Criando modelos com GridSearch\n",
    "grid_search = GridSearchCV(pipeline, \n",
    "                         tuned_params_RL, \n",
    "                         scoring='roc_auc', \n",
    "                         n_jobs=-1)\n",
    "grid_search.fit(X_treino, y_treino)\n",
    "\n",
    "# Visualziando o melhor modelo\n",
    "grid_search.best_estimator_"
   ]
  },
  {
   "cell_type": "markdown",
   "id": "45b17ec2",
   "metadata": {},
   "source": [
    "#### Construindo e Treinando o Modelo com LogisticRegression"
   ]
  },
  {
   "cell_type": "code",
   "execution_count": 44,
   "id": "5d02175f",
   "metadata": {},
   "outputs": [
    {
     "data": {
      "text/plain": [
       "LogisticRegression(C=10, max_iter=1000)"
      ]
     },
     "execution_count": 44,
     "metadata": {},
     "output_type": "execute_result"
    }
   ],
   "source": [
    "# Obtendo os melhores hiperparâmetros encontrados\n",
    "best_params = grid_search.best_params_\n",
    "\n",
    "# Criando o Modelo\n",
    "modelo_RL = LogisticRegression(\n",
    "    C=best_params['logistic__C'], \n",
    "    penalty='l2', \n",
    "    max_iter=1000\n",
    ")\n",
    "\n",
    "# Treinando o Modelo\n",
    "modelo_RL.fit(X_treino, y_treino)"
   ]
  },
  {
   "cell_type": "markdown",
   "id": "dc826164",
   "metadata": {},
   "source": [
    "<br><br>\n",
    "\n",
    "## Previsão / Avaliação do Modelo"
   ]
  },
  {
   "cell_type": "code",
   "execution_count": 45,
   "id": "8c0eef6e",
   "metadata": {},
   "outputs": [
    {
     "name": "stdout",
     "output_type": "stream",
     "text": [
      "Previsões de Classe:\n",
      "[1 0 1 0 0]\n",
      "\n",
      "--------------------------------------------------------------------------------\n",
      "\n",
      "Previsões de Probabilidade para Cada Classe:\n",
      "[[0.49584488 0.50415512]\n",
      " [0.5158561  0.4841439 ]\n",
      " [0.42486796 0.57513204]\n",
      " [0.55360128 0.44639872]\n",
      " [0.59097805 0.40902195]]\n",
      "\n",
      "--------------------------------------------------------------------------------\n",
      "\n",
      "Previsões de Probabilidade para a Classe Positiva:\n",
      "[0.50415512 0.4841439  0.57513204 0.44639872 0.40902195]\n",
      "\n",
      "--------------------------------------------------------------------------------\n",
      "\n",
      "Matriz de Confusão:\n",
      "[[578 546]\n",
      " [354 339]]\n",
      "\n",
      "--------------------------------------------------------------------------------\n",
      "\n",
      "Acurácia: 0.5047\n",
      "ROC AUC Score: 0.5022\n",
      "AUC Score: 0.5022\n"
     ]
    }
   ],
   "source": [
    "## Previsão / Avaliação do Modelo\n",
    "\n",
    "## Previsões\n",
    "\n",
    "# Previsões com dados de teste\n",
    "y_pred_RL = modelo_RL.predict(X_teste)\n",
    "print('Previsões de Classe:')\n",
    "print(y_pred_RL[:5])\n",
    "print('\\n' + '-' * 80 + '\\n')\n",
    "\n",
    "# Obtemos as previsões no formato de probabilidade para cada classe\n",
    "y_pred_proba_RL = modelo_RL.predict_proba(X_teste)\n",
    "print('Previsões de Probabilidade para Cada Classe:')\n",
    "print(y_pred_proba_RL[:5])\n",
    "print('\\n' + '-' * 80 + '\\n')\n",
    "\n",
    "# Obtemos as previsões no formato de probabilidade filtrando para a classe positiva (Cálculo da Curva ROC)\n",
    "y_pred_proba_RL_pos = modelo_RL.predict_proba(X_teste)[:, 1]\n",
    "print('Previsões de Probabilidade para a Classe Positiva:')\n",
    "print(y_pred_proba_RL_pos[:5])\n",
    "print('\\n' + '-' * 80 + '\\n')\n",
    "\n",
    "## Avaliação do Modelo\n",
    "\n",
    "# Matriz de confusão\n",
    "conf_matrix_RL = confusion_matrix(y_teste, y_pred_RL)\n",
    "print('Matriz de Confusão:')\n",
    "print(conf_matrix_RL)\n",
    "print('\\n' + '-' * 80 + '\\n')\n",
    "\n",
    "# Extraindo cada valor da Confusion Matrix\n",
    "tn_RL, fp_RL, fn_RL, tp_RL = conf_matrix_RL.ravel()\n",
    "\n",
    "# Calcula a métrica global AUC (Area Under The Curve) com dados reais e previsões em teste\n",
    "roc_auc_RL = roc_auc_score(y_teste, y_pred_proba_RL_pos)\n",
    "\n",
    "# Calcula a curva ROC com dados e previsões em teste\n",
    "fpr_RL, tpr_RL, thresholds_RL = roc_curve(y_teste, y_pred_proba_RL_pos)\n",
    "\n",
    "# AUC em teste\n",
    "auc_RL = auc(fpr_RL, tpr_RL)\n",
    "\n",
    "# Acurácia em teste\n",
    "acuracia_RL = accuracy_score(y_teste, y_pred_RL)\n",
    "\n",
    "# Exibindo as métricas\n",
    "print(f'Acurácia: {acuracia_RL:.4f}')\n",
    "print(f'ROC AUC Score: {roc_auc_RL:.4f}')\n",
    "print(f'AUC Score: {auc_RL:.4f}')"
   ]
  },
  {
   "cell_type": "markdown",
   "id": "069ac864",
   "metadata": {},
   "source": [
    "<br>\n",
    "\n",
    "#### Visualizando Importância das Variáveis"
   ]
  },
  {
   "cell_type": "code",
   "execution_count": 46,
   "id": "9d3cdb72",
   "metadata": {},
   "outputs": [
    {
     "name": "stdout",
     "output_type": "stream",
     "text": [
      "Visualizando Importância das Variáveis\n",
      "--------------------------------------------------------------------------------\n",
      "              Feature  Importance\n",
      "3            location    0.382416\n",
      "2    transaction_type    0.152437\n",
      "1  transaction_amount    0.009702\n",
      "0         account_age    0.005700\n",
      "--------------------------------------------------------------------------------\n"
     ]
    },
    {
     "data": {
      "image/png": "[encoded data removed]",
      "text/plain": [
       "<Figure size 720x576 with 1 Axes>"
      ]
     },
     "metadata": {
      "needs_background": "light"
     },
     "output_type": "display_data"
    }
   ],
   "source": [
    "# Extrair coeficientes diretamente do modelo\n",
    "coeficientes = modelo_RL.coef_[0]\n",
    "\n",
    "# Calcular a importância como o valor absoluto dos coeficientes\n",
    "importancias = np.abs(coeficientes)\n",
    "\n",
    "# Criar DataFrame para visualização\n",
    "features = X_treino.columns\n",
    "df_importancias = pd.DataFrame({'Feature': features, 'Importance': importancias})\n",
    "df_importancias = df_importancias.sort_values(by='Importance', ascending=False)\n",
    "\n",
    "# Exibir importâncias\n",
    "print('Visualizando Importância das Variáveis')\n",
    "print(80 * '-')\n",
    "print(df_importancias)\n",
    "print(80 * '-')\n",
    "\n",
    "# Gráfico de barras da importância das variáveis\n",
    "plt.figure(figsize=(10, 8))\n",
    "sns.barplot(x='Importance', y='Feature', data=df_importancias)\n",
    "plt.title('Feature Importance from Logistic Regression Coefficients')\n",
    "plt.xlabel('Importance')\n",
    "plt.ylabel('Features')\n",
    "plt.show()"
   ]
  },
  {
   "cell_type": "markdown",
   "id": "543427f7",
   "metadata": {},
   "source": [
    "<br><br>\n",
    "\n",
    "### Salvando as Métricas"
   ]
  },
  {
   "cell_type": "code",
   "execution_count": 47,
   "id": "0fa9b34b",
   "metadata": {},
   "outputs": [
    {
     "data": {
      "text/html": [
       "<div>\n",
       "<style scoped>\n",
       "    .dataframe tbody tr th:only-of-type {\n",
       "        vertical-align: middle;\n",
       "    }\n",
       "\n",
       "    .dataframe tbody tr th {\n",
       "        vertical-align: top;\n",
       "    }\n",
       "\n",
       "    .dataframe thead th {\n",
       "        text-align: right;\n",
       "    }\n",
       "</style>\n",
       "<table border=\"1\" class=\"dataframe\">\n",
       "  <thead>\n",
       "    <tr style=\"text-align: right;\">\n",
       "      <th></th>\n",
       "      <th>Nome do Modelo</th>\n",
       "      <th>Nome do Algoritmo</th>\n",
       "      <th>ROC_AUC Score</th>\n",
       "      <th>AUC Score</th>\n",
       "      <th>Acuracia</th>\n",
       "    </tr>\n",
       "  </thead>\n",
       "  <tbody>\n",
       "    <tr>\n",
       "      <th>0</th>\n",
       "      <td>Modelo 1</td>\n",
       "      <td>Logistic Regression</td>\n",
       "      <td>0.502197</td>\n",
       "      <td>0.502197</td>\n",
       "      <td>0.504678</td>\n",
       "    </tr>\n",
       "  </tbody>\n",
       "</table>\n",
       "</div>"
      ],
      "text/plain": [
       "  Nome do Modelo    Nome do Algoritmo  ROC_AUC Score  AUC Score  Acuracia\n",
       "0       Modelo 1  Logistic Regression       0.502197   0.502197  0.504678"
      ]
     },
     "metadata": {},
     "output_type": "display_data"
    }
   ],
   "source": [
    "modelo_RL = pd.DataFrame({\n",
    "    'Nome do Modelo': ['Modelo 1'],\n",
    "    'Nome do Algoritmo': ['Logistic Regression'],\n",
    "    'ROC_AUC Score': [roc_auc_RL],\n",
    "    'AUC Score': [auc_RL],\n",
    "    'Acuracia': [acuracia_RL]    \n",
    "})\n",
    "\n",
    "df_modelos = pd.concat([df_modelos, modelo_RL], ignore_index=True)\n",
    "\n",
    "# Verifica as métricas salvas\n",
    "display(df_modelos)"
   ]
  },
  {
   "cell_type": "markdown",
   "id": "99775b99",
   "metadata": {},
   "source": [
    "<br><br><br>\n",
    "\n",
    "# <span style=\"color: green; font-size: 38px; font-weight: bold;\">Modelo 2 - Random Forest</span>\n",
    "\n",
    "<br>\n",
    "\n",
    "- Cria várias modelos com o **RandomizedSearchCV** para encontrar os **melhores hiperparâmetros**.\n",
    "- Após a identificação do **melhor** modelo, o modelo final é treinado diretamente com a **RandomForestClassifier**, usando esses **hiperparâmetros** otimizados, para garantir um modelo eficiente e pronto para implementação prática.\n",
    "\n",
    "<br>\n",
    "\n",
    "### Criando o Modelo"
   ]
  },
  {
   "cell_type": "code",
   "execution_count": 48,
   "id": "dfd978fc",
   "metadata": {},
   "outputs": [
    {
     "name": "stdout",
     "output_type": "stream",
     "text": [
      "RandomForestClassifier(n_estimators=400)\n"
     ]
    }
   ],
   "source": [
    "# Grid de hiperparâmetros\n",
    "tuned_params_v1_RF = {'n_estimators': [100, 200, 300, 400, 500], \n",
    "                      'min_samples_split': [2, 5, 10], \n",
    "                      'min_samples_leaf': [1, 2, 4]}\n",
    "\n",
    "# Cria o modelo com RandomizedSearchCV para buscar a melhor combinação de hiperparâmetros\n",
    "modelo = RandomizedSearchCV(RandomForestClassifier(), \n",
    "                               tuned_params_v1_RF, \n",
    "                               n_iter = 15, \n",
    "                               scoring = 'roc_auc', \n",
    "                               n_jobs  = -1)\n",
    "\n",
    "# Treina o modelo\n",
    "modelo.fit(X_treino, y_treino)\n",
    "\n",
    "# Extrai o melhor modelo\n",
    "best_rf = modelo.best_estimator_\n",
    "\n",
    "# Imprime os detalhes do melhor modelo, incluindo o número de n_estimators\n",
    "print(best_rf)"
   ]
  },
  {
   "cell_type": "markdown",
   "id": "c20e7f46",
   "metadata": {},
   "source": [
    "#### Construindo e Treinando o Modelo com RandomForestClassifier"
   ]
  },
  {
   "cell_type": "code",
   "execution_count": 49,
   "id": "00c0c9cc",
   "metadata": {},
   "outputs": [
    {
     "data": {
      "text/plain": [
       "RandomForestClassifier(n_estimators=400)"
      ]
     },
     "execution_count": 49,
     "metadata": {},
     "output_type": "execute_result"
    }
   ],
   "source": [
    "# Extraindo melhores parâmetros\n",
    "best_params = best_rf.get_params()\n",
    "\n",
    "# Recria o modelo com os melhores hiperparâmetros\n",
    "modelo_RF = RandomForestClassifier(\n",
    "    n_estimators=best_params['n_estimators'],\n",
    "    min_samples_split=best_params['min_samples_split'],\n",
    "    min_samples_leaf=best_params['min_samples_leaf'],\n",
    "    max_features=best_params['max_features'],\n",
    "    bootstrap=best_params['bootstrap']\n",
    ")\n",
    "\n",
    "# Treinando o modelo final no conjunto de treino\n",
    "modelo_RF.fit(X_treino, y_treino)"
   ]
  },
  {
   "cell_type": "markdown",
   "id": "1dac3ff0",
   "metadata": {},
   "source": [
    "<br><br>\n",
    "\n",
    "## Previsão / Avaliação do Modelo"
   ]
  },
  {
   "cell_type": "code",
   "execution_count": 50,
   "id": "132a8159",
   "metadata": {},
   "outputs": [
    {
     "name": "stdout",
     "output_type": "stream",
     "text": [
      "Previsões de Classe:\n",
      "[1 0 1 1 0]\n",
      "\n",
      "--------------------------------------------------------------------------------\n",
      "\n",
      "Previsões de Probabilidade para Cada Classe:\n",
      "[[0.38   0.62  ]\n",
      " [0.61   0.39  ]\n",
      " [0.46   0.54  ]\n",
      " [0.2725 0.7275]\n",
      " [0.9125 0.0875]]\n",
      "\n",
      "--------------------------------------------------------------------------------\n",
      "\n",
      "Previsões de Probabilidade para a Classe Positiva:\n",
      "[0.62   0.39   0.54   0.7275 0.0875]\n",
      "\n",
      "--------------------------------------------------------------------------------\n",
      "\n",
      "Matriz de Confusão:\n",
      "[[710 414]\n",
      " [417 276]]\n",
      "\n",
      "--------------------------------------------------------------------------------\n",
      "\n",
      "Acurácia: 0.5427\n",
      "ROC AUC Score: 0.5191\n",
      "AUC Score: 0.5191\n"
     ]
    }
   ],
   "source": [
    "## Previsões\n",
    "\n",
    "# Previsões com dados de teste\n",
    "y_pred_RF = modelo_RF.predict(X_teste)\n",
    "print('Previsões de Classe:')\n",
    "print(y_pred_RF[:5])\n",
    "print('\\n' + '-' * 80 + '\\n')\n",
    "\n",
    "# Obtemos as previsões no formato de probabilidade para cada classe\n",
    "y_pred_proba_RF = modelo_RF.predict_proba(X_teste)\n",
    "print('Previsões de Probabilidade para Cada Classe:')\n",
    "print(y_pred_proba_RF[:5])\n",
    "print('\\n' + '-' * 80 + '\\n')\n",
    "\n",
    "# Obtemos as previsões no formato de probabilidade filtrando para a classe positiva (Cálculo da Curva ROC)\n",
    "y_pred_proba_RF_pos = modelo_RF.predict_proba(X_teste)[:, 1]\n",
    "print('Previsões de Probabilidade para a Classe Positiva:')\n",
    "print(y_pred_proba_RF_pos[:5])\n",
    "print('\\n' + '-' * 80 + '\\n')\n",
    "\n",
    "## Avaliação do Modelo\n",
    "\n",
    "# Matriz de confusão\n",
    "conf_matrix_RF = confusion_matrix(y_teste, y_pred_RF)\n",
    "print('Matriz de Confusão:')\n",
    "print(conf_matrix_RF)\n",
    "print('\\n' + '-' * 80 + '\\n')\n",
    "\n",
    "# Extraindo cada valor da Confusion Matrix\n",
    "tn_RF, fp_RF, fn_RF, tp_RF = conf_matrix_RF.ravel()\n",
    "\n",
    "# Calcula a métrica global AUC (Area Under The Curve) com dados reais e previsões em teste\n",
    "roc_auc_RF = roc_auc_score(y_teste, y_pred_proba_RF_pos)\n",
    "\n",
    "# Calcula a curva ROC com dados e previsões em teste\n",
    "fpr_RF, tpr_RF, thresholds_RF = roc_curve(y_teste, y_pred_proba_RF_pos)\n",
    "\n",
    "# AUC em teste\n",
    "auc_RF = auc(fpr_RF, tpr_RF)\n",
    "\n",
    "# Acurácia em teste\n",
    "acuracia_RF = accuracy_score(y_teste, y_pred_RF)\n",
    "\n",
    "# Exibindo as métricas\n",
    "print(f'Acurácia: {acuracia_RF:.4f}')\n",
    "print(f'ROC AUC Score: {roc_auc_RF:.4f}')\n",
    "print(f'AUC Score: {auc_RF:.4f}')"
   ]
  },
  {
   "cell_type": "markdown",
   "id": "ea40c5a0",
   "metadata": {},
   "source": [
    "<br>\n",
    "\n",
    "#### Visualizando Importância das Variáveis"
   ]
  },
  {
   "cell_type": "code",
   "execution_count": 51,
   "id": "81de599c",
   "metadata": {},
   "outputs": [
    {
     "name": "stdout",
     "output_type": "stream",
     "text": [
      "Visualizando Importância das Variáveis\n",
      "--------------------------------------------------------------------------------\n",
      "              Feature  Importance\n",
      "1  transaction_amount    0.540238\n",
      "0         account_age    0.429679\n",
      "2    transaction_type    0.018858\n",
      "3            location    0.011224\n",
      "--------------------------------------------------------------------------------\n",
      "--------------------------------------------------------------------------------\n"
     ]
    },
    {
     "data": {
      "image/png": "[encoded data removed]",
      "text/plain": [
       "<Figure size 720x576 with 1 Axes>"
      ]
     },
     "metadata": {
      "needs_background": "light"
     },
     "output_type": "display_data"
    }
   ],
   "source": [
    "# Extrair coeficientes do modelo\n",
    "importancias = modelo_RF.feature_importances_\n",
    "\n",
    "# Criar DataFrame para visualização\n",
    "features = X_treino.columns\n",
    "df_importancias = pd.DataFrame({'Feature': features, 'Importance': importancias})\n",
    "df_importancias = df_importancias.sort_values(by='Importance', ascending=False)\n",
    "\n",
    "# Exibir importâncias\n",
    "print('Visualizando Importância das Variáveis')\n",
    "print(80*'-')\n",
    "print(df_importancias)\n",
    "\n",
    "print(80*'-')\n",
    "print(80*'-')\n",
    "\n",
    "# Gráfico de barras da importância das variáveis\n",
    "plt.figure(figsize=(10, 8))\n",
    "sns.barplot(x='Importance', y='Feature', data=df_importancias)\n",
    "plt.title('Feature Importance from Random Forest')\n",
    "plt.xlabel('Importance')\n",
    "plt.ylabel('Features')\n",
    "plt.show()"
   ]
  },
  {
   "cell_type": "markdown",
   "id": "1b712226",
   "metadata": {},
   "source": [
    "<br><br>\n",
    "\n",
    "### Salvando as Métricas"
   ]
  },
  {
   "cell_type": "code",
   "execution_count": 52,
   "id": "5ac89d96",
   "metadata": {},
   "outputs": [
    {
     "data": {
      "text/html": [
       "<div>\n",
       "<style scoped>\n",
       "    .dataframe tbody tr th:only-of-type {\n",
       "        vertical-align: middle;\n",
       "    }\n",
       "\n",
       "    .dataframe tbody tr th {\n",
       "        vertical-align: top;\n",
       "    }\n",
       "\n",
       "    .dataframe thead th {\n",
       "        text-align: right;\n",
       "    }\n",
       "</style>\n",
       "<table border=\"1\" class=\"dataframe\">\n",
       "  <thead>\n",
       "    <tr style=\"text-align: right;\">\n",
       "      <th></th>\n",
       "      <th>Nome do Modelo</th>\n",
       "      <th>Nome do Algoritmo</th>\n",
       "      <th>ROC_AUC Score</th>\n",
       "      <th>AUC Score</th>\n",
       "      <th>Acuracia</th>\n",
       "    </tr>\n",
       "  </thead>\n",
       "  <tbody>\n",
       "    <tr>\n",
       "      <th>0</th>\n",
       "      <td>Modelo 1</td>\n",
       "      <td>Logistic Regression</td>\n",
       "      <td>0.502197</td>\n",
       "      <td>0.502197</td>\n",
       "      <td>0.504678</td>\n",
       "    </tr>\n",
       "    <tr>\n",
       "      <th>1</th>\n",
       "      <td>Modelo 2</td>\n",
       "      <td>Random Forest</td>\n",
       "      <td>0.519095</td>\n",
       "      <td>0.519095</td>\n",
       "      <td>0.542653</td>\n",
       "    </tr>\n",
       "  </tbody>\n",
       "</table>\n",
       "</div>"
      ],
      "text/plain": [
       "  Nome do Modelo    Nome do Algoritmo  ROC_AUC Score  AUC Score  Acuracia\n",
       "0       Modelo 1  Logistic Regression       0.502197   0.502197  0.504678\n",
       "1       Modelo 2        Random Forest       0.519095   0.519095  0.542653"
      ]
     },
     "metadata": {},
     "output_type": "display_data"
    }
   ],
   "source": [
    "# Salvando as Métricas\n",
    "dict_modelo_RF = {\n",
    "    'Nome do Modelo': 'Modelo 2', \n",
    "    'Nome do Algoritmo': 'Random Forest', \n",
    "    'ROC_AUC Score': roc_auc_RF,\n",
    "    'AUC Score': auc_RF,\n",
    "    'Acuracia': acuracia_RF\n",
    "}\n",
    "# Adicionando as métricas ao DataFrame existente\n",
    "df_modelos = pd.concat([df_modelos, pd.DataFrame([dict_modelo_RF])], ignore_index=True)\n",
    "\n",
    "# Verifica as métricas salvas\n",
    "display(df_modelos)"
   ]
  },
  {
   "cell_type": "markdown",
   "id": "d143931e",
   "metadata": {},
   "source": [
    "<br><br><br>\n",
    "\n",
    "# <span style=\"color: green; font-size: 38px; font-weight: bold;\">Modelo 3 - KNN</span>\n",
    "\n",
    "<br>\n",
    "\n",
    "- Para esse algoritmo precisamos antes definir o **valor de K**, que é o **número de vizinhos mais próximos**.\n",
    "- Com o algoritmo KNN **não extraímos as variáveis mais importantes**, pois o conceito do algoritmo é diferente.\n",
    "\n",
    "<br>\n",
    "\n",
    "### Criando o Modelo"
   ]
  },
  {
   "cell_type": "code",
   "execution_count": 53,
   "id": "95ed8aa8",
   "metadata": {},
   "outputs": [
    {
     "name": "stdout",
     "output_type": "stream",
     "text": [
      "O valor ideal de k é 1\n"
     ]
    }
   ],
   "source": [
    "# Lista de possíveis valores de K\n",
    "vizinhos = list(range(1, 20, 2))\n",
    "\n",
    "# Lista para os scores\n",
    "cv_scores = []\n",
    "\n",
    "# Validação cruzada para determinar o melhor valor de k\n",
    "for k in vizinhos:\n",
    "    knn = KNeighborsClassifier(n_neighbors = k)\n",
    "    scores = cross_val_score(knn, X_treino, y_treino, cv = 5, scoring = 'accuracy')\n",
    "    cv_scores.append(scores.mean())  \n",
    "    \n",
    "# Ajustando o erro de classificação\n",
    "erro = [1 - x for x in cv_scores]\n",
    "\n",
    "# Determinando o melhor valor de k (com menor erro)\n",
    "optimal_k = vizinhos[erro.index(min(erro))]\n",
    "print('O valor ideal de k é %d' % optimal_k)"
   ]
  },
  {
   "cell_type": "markdown",
   "id": "2e480529",
   "metadata": {},
   "source": [
    "#### Construindo e Treinando o Modelo"
   ]
  },
  {
   "cell_type": "code",
   "execution_count": 54,
   "id": "55958d1b",
   "metadata": {},
   "outputs": [
    {
     "data": {
      "text/plain": [
       "KNeighborsClassifier(n_neighbors=1)"
      ]
     },
     "execution_count": 54,
     "metadata": {},
     "output_type": "execute_result"
    }
   ],
   "source": [
    "# Criamos o modelo versão 3\n",
    "modelo_KNN = KNeighborsClassifier(n_neighbors=optimal_k)\n",
    "\n",
    "# Treinando o modelo\n",
    "modelo_KNN.fit(X_treino, y_treino)"
   ]
  },
  {
   "cell_type": "markdown",
   "id": "e625e086",
   "metadata": {},
   "source": [
    "<br><br>\n",
    "\n",
    "## Previsão / Avaliação do Modelo"
   ]
  },
  {
   "cell_type": "code",
   "execution_count": 55,
   "id": "4a839468",
   "metadata": {},
   "outputs": [
    {
     "name": "stdout",
     "output_type": "stream",
     "text": [
      "Previsões de Classe:\n",
      "[1 0 1 1 0]\n",
      "\n",
      "--------------------------------------------------------------------------------\n",
      "\n",
      "Previsões de Probabilidade para Cada Classe:\n",
      "[[0. 1.]\n",
      " [1. 0.]\n",
      " [0. 1.]\n",
      " [0. 1.]\n",
      " [1. 0.]]\n",
      "\n",
      "--------------------------------------------------------------------------------\n",
      "\n",
      "Previsões de Probabilidade para a Classe Positiva:\n",
      "[1. 0. 1. 1. 0.]\n",
      "\n",
      "--------------------------------------------------------------------------------\n",
      "\n",
      "Matriz de Confusão:\n",
      "[[643 481]\n",
      " [396 297]]\n",
      "\n",
      "--------------------------------------------------------------------------------\n",
      "\n",
      "Acurácia: 0.5173\n",
      "ROC AUC Score: 0.5003\n",
      "AUC Score: 0.5003\n"
     ]
    }
   ],
   "source": [
    "## Previsões\n",
    "\n",
    "# Previsões com dados de teste\n",
    "y_pred_KNN = modelo_KNN.predict(X_teste)\n",
    "print('Previsões de Classe:')\n",
    "print(y_pred_KNN[:5])\n",
    "print('\\n' + '-' * 80 + '\\n')\n",
    "\n",
    "# Obtemos as previsões no formato de probabilidade para cada classe\n",
    "y_pred_proba_KNN = modelo_KNN.predict_proba(X_teste)\n",
    "print('Previsões de Probabilidade para Cada Classe:')\n",
    "print(y_pred_proba_KNN[:5])\n",
    "print('\\n' + '-' * 80 + '\\n')\n",
    "\n",
    "# Obtemos as previsões no formato de probabilidade filtrando para a classe positiva (Cálculo da Curva ROC)\n",
    "y_pred_proba_KNN_pos = modelo_KNN.predict_proba(X_teste)[:, 1]\n",
    "print('Previsões de Probabilidade para a Classe Positiva:')\n",
    "print(y_pred_proba_KNN_pos[:5])\n",
    "print('\\n' + '-' * 80 + '\\n')\n",
    "\n",
    "## Avaliação do Modelo\n",
    "\n",
    "# Matriz de confusão\n",
    "conf_matrix_KNN = confusion_matrix(y_teste, y_pred_KNN)\n",
    "print('Matriz de Confusão:')\n",
    "print(conf_matrix_KNN)\n",
    "print('\\n' + '-' * 80 + '\\n')\n",
    "\n",
    "# Extraindo cada valor da Confusion Matrix\n",
    "tn_KNN, fp_KNN, fn_KNN, tp_KNN = conf_matrix_KNN.ravel()\n",
    "\n",
    "# Calcula a métrica global AUC (Area Under The Curve) com dados reais e previsões em teste\n",
    "roc_auc_KNN = roc_auc_score(y_teste, y_pred_proba_KNN_pos)\n",
    "\n",
    "# Calcula a curva ROC com dados e previsões em teste\n",
    "fpr_KNN, tpr_KNN, thresholds_KNN = roc_curve(y_teste, y_pred_proba_KNN_pos)\n",
    "\n",
    "# AUC em teste\n",
    "auc_KNN = auc(fpr_KNN, tpr_KNN)\n",
    "\n",
    "# Acurácia em teste\n",
    "acuracia_KNN = accuracy_score(y_teste, y_pred_KNN)\n",
    "\n",
    "# Exibindo as métricas\n",
    "print(f'Acurácia: {acuracia_KNN:.4f}')\n",
    "print(f'ROC AUC Score: {roc_auc_KNN:.4f}')\n",
    "print(f'AUC Score: {auc_KNN:.4f}')"
   ]
  },
  {
   "cell_type": "markdown",
   "id": "fa61c428",
   "metadata": {},
   "source": [
    "<br><br>\n",
    "\n",
    "### Salvando as Métricas"
   ]
  },
  {
   "cell_type": "code",
   "execution_count": 56,
   "id": "5e97fb71",
   "metadata": {},
   "outputs": [
    {
     "data": {
      "text/html": [
       "<div>\n",
       "<style scoped>\n",
       "    .dataframe tbody tr th:only-of-type {\n",
       "        vertical-align: middle;\n",
       "    }\n",
       "\n",
       "    .dataframe tbody tr th {\n",
       "        vertical-align: top;\n",
       "    }\n",
       "\n",
       "    .dataframe thead th {\n",
       "        text-align: right;\n",
       "    }\n",
       "</style>\n",
       "<table border=\"1\" class=\"dataframe\">\n",
       "  <thead>\n",
       "    <tr style=\"text-align: right;\">\n",
       "      <th></th>\n",
       "      <th>Nome do Modelo</th>\n",
       "      <th>Nome do Algoritmo</th>\n",
       "      <th>ROC_AUC Score</th>\n",
       "      <th>AUC Score</th>\n",
       "      <th>Acuracia</th>\n",
       "    </tr>\n",
       "  </thead>\n",
       "  <tbody>\n",
       "    <tr>\n",
       "      <th>0</th>\n",
       "      <td>Modelo 1</td>\n",
       "      <td>Logistic Regression</td>\n",
       "      <td>0.502197</td>\n",
       "      <td>0.502197</td>\n",
       "      <td>0.504678</td>\n",
       "    </tr>\n",
       "    <tr>\n",
       "      <th>1</th>\n",
       "      <td>Modelo 2</td>\n",
       "      <td>Random Forest</td>\n",
       "      <td>0.519095</td>\n",
       "      <td>0.519095</td>\n",
       "      <td>0.542653</td>\n",
       "    </tr>\n",
       "    <tr>\n",
       "      <th>2</th>\n",
       "      <td>Modelo 3</td>\n",
       "      <td>K-Nearest Neighbors</td>\n",
       "      <td>0.500318</td>\n",
       "      <td>0.500318</td>\n",
       "      <td>0.517336</td>\n",
       "    </tr>\n",
       "  </tbody>\n",
       "</table>\n",
       "</div>"
      ],
      "text/plain": [
       "  Nome do Modelo    Nome do Algoritmo  ROC_AUC Score  AUC Score  Acuracia\n",
       "0       Modelo 1  Logistic Regression       0.502197   0.502197  0.504678\n",
       "1       Modelo 2        Random Forest       0.519095   0.519095  0.542653\n",
       "2       Modelo 3  K-Nearest Neighbors       0.500318   0.500318  0.517336"
      ]
     },
     "metadata": {},
     "output_type": "display_data"
    }
   ],
   "source": [
    "# Salvando as Métricas\n",
    "dict_modelo_KNN = {\n",
    "    'Nome do Modelo': 'Modelo 3', \n",
    "    'Nome do Algoritmo': 'K-Nearest Neighbors', \n",
    "    'ROC_AUC Score': roc_auc_KNN,\n",
    "    'AUC Score': auc_KNN,\n",
    "    'Acuracia': acuracia_KNN\n",
    "}\n",
    "\n",
    "# Adicionando as métricas ao DataFrame existente\n",
    "df_modelos = pd.concat([df_modelos, pd.DataFrame([dict_modelo_KNN])], ignore_index=True)\n",
    "\n",
    "# Verifica as métricas salvas\n",
    "display(df_modelos)"
   ]
  },
  {
   "cell_type": "markdown",
   "id": "c6e1ad98",
   "metadata": {},
   "source": [
    "<br><br><br>\n",
    "\n",
    "# <span style=\"color: green; font-size: 38px; font-weight: bold;\">Modelo 4 - Decision Tree</span>\n",
    "\n",
    "<br>\n",
    "\n",
    "- Cria várias modelos com o **RandomizedSearchCV** para encontrar os **melhores hiperparâmetros**.\n",
    "- Após a identificação do **melhor modelo**, o modelo final é treinado diretamente com a **DecisionTreeClassifier**, usando esses hiperparâmetros otimizados, para garantir um modelo eficiente e pronto para implementação prática.\n",
    "\n",
    "<br>\n",
    "\n",
    "### Criando o Modelo"
   ]
  },
  {
   "cell_type": "code",
   "execution_count": 57,
   "id": "360b632d",
   "metadata": {},
   "outputs": [
    {
     "name": "stdout",
     "output_type": "stream",
     "text": [
      "DecisionTreeClassifier(max_depth=7, min_samples_split=5)\n"
     ]
    }
   ],
   "source": [
    "# Hiperparâmetros\n",
    "tuned_params_DT = {\n",
    "    'min_samples_split': [2, 3, 4, 5, 7], \n",
    "    'min_samples_leaf': [1, 2, 3, 4, 6], \n",
    "    'max_depth': [2, 3, 4, 5, 6, 7]\n",
    "}\n",
    "\n",
    "# Cria o modelo com RandomizedSearchCV\n",
    "modelo = RandomizedSearchCV(DecisionTreeClassifier(), \n",
    "                            tuned_params_DT, \n",
    "                            n_iter=15, \n",
    "                            scoring='roc_auc', \n",
    "                            n_jobs=-1)\n",
    "\n",
    "# Treinamento\n",
    "modelo.fit(X_treino, y_treino)\n",
    "\n",
    "# Visualiza o melhor modelo\n",
    "best_dt = modelo.best_estimator_\n",
    "print(best_dt)"
   ]
  },
  {
   "cell_type": "markdown",
   "id": "2cbf0fac",
   "metadata": {},
   "source": [
    "#### Construindo e Treinando o Modelo com DecisionTreeClassifier"
   ]
  },
  {
   "cell_type": "code",
   "execution_count": 58,
   "id": "49edd02d",
   "metadata": {},
   "outputs": [
    {
     "data": {
      "text/plain": [
       "DecisionTreeClassifier(max_depth=7, min_samples_split=5)"
      ]
     },
     "execution_count": 58,
     "metadata": {},
     "output_type": "execute_result"
    }
   ],
   "source": [
    "# Recriando o modelo com os melhores hiperparâmetros automaticamente\n",
    "best_params = best_dt.get_params()\n",
    "\n",
    "# Treinando o modelo final no conjunto de treino\n",
    "modelo_DT = DecisionTreeClassifier(**best_params)\n",
    "modelo_DT.fit(X_treino, y_treino)"
   ]
  },
  {
   "cell_type": "markdown",
   "id": "49bc8ee8",
   "metadata": {},
   "source": [
    "<br><br>\n",
    "\n",
    "## Previsão / Avaliação do Modelo"
   ]
  },
  {
   "cell_type": "code",
   "execution_count": 59,
   "id": "c3587763",
   "metadata": {},
   "outputs": [
    {
     "name": "stdout",
     "output_type": "stream",
     "text": [
      "Previsões de Classe:\n",
      "[0 0 0 0 0]\n",
      "\n",
      "--------------------------------------------------------------------------------\n",
      "\n",
      "Previsões de Probabilidade para Cada Classe:\n",
      "[[0.56619718 0.43380282]\n",
      " [0.55480769 0.44519231]\n",
      " [0.56807512 0.43192488]\n",
      " [0.55480769 0.44519231]\n",
      " [0.55828221 0.44171779]]\n",
      "\n",
      "--------------------------------------------------------------------------------\n",
      "\n",
      "Previsões de Probabilidade para a Classe Positiva:\n",
      "[0.43380282 0.44519231 0.43192488 0.44519231 0.44171779]\n",
      "\n",
      "--------------------------------------------------------------------------------\n",
      "\n",
      "Matriz de Confusão:\n",
      "[[668 456]\n",
      " [414 279]]\n",
      "\n",
      "--------------------------------------------------------------------------------\n",
      "\n",
      "Acurácia: 0.5212\n",
      "ROC AUC Score: 0.5006\n",
      "AUC Score: 0.5006\n"
     ]
    }
   ],
   "source": [
    "## Previsões\n",
    "\n",
    "# Previsões com dados de teste\n",
    "y_pred_DT = modelo_DT.predict(X_teste)\n",
    "print('Previsões de Classe:')\n",
    "print(y_pred_DT[:5])\n",
    "print('\\n' + '-' * 80 + '\\n')\n",
    "\n",
    "# Obtemos as previsões no formato de probabilidade para cada classe\n",
    "y_pred_proba_DT = modelo_DT.predict_proba(X_teste)\n",
    "print('Previsões de Probabilidade para Cada Classe:')\n",
    "print(y_pred_proba_DT[:5])\n",
    "print('\\n' + '-' * 80 + '\\n')\n",
    "\n",
    "# Obtemos as previsões no formato de probabilidade filtrando para a classe positiva (Cálculo da Curva ROC)\n",
    "y_pred_proba_DT_pos = modelo_DT.predict_proba(X_teste)[:, 1]\n",
    "print('Previsões de Probabilidade para a Classe Positiva:')\n",
    "print(y_pred_proba_DT_pos[:5])\n",
    "print('\\n' + '-' * 80 + '\\n')\n",
    "\n",
    "## Avaliação do Modelo\n",
    "\n",
    "# Matriz de confusão\n",
    "conf_matrix_DT = confusion_matrix(y_teste, y_pred_DT)\n",
    "print('Matriz de Confusão:')\n",
    "print(conf_matrix_DT)\n",
    "print('\\n' + '-' * 80 + '\\n')\n",
    "\n",
    "# Extraindo cada valor da Confusion Matrix\n",
    "tn_DT, fp_DT, fn_DT, tp_DT = conf_matrix_DT.ravel()\n",
    "\n",
    "# Calcula a métrica global AUC (Area Under The Curve) com dados reais e previsões em teste\n",
    "roc_auc_DT = roc_auc_score(y_teste, y_pred_proba_DT_pos)\n",
    "\n",
    "# Calcula a curva ROC com dados e previsões em teste\n",
    "fpr_DT, tpr_DT, thresholds_DT = roc_curve(y_teste, y_pred_proba_DT_pos)\n",
    "\n",
    "# AUC em teste\n",
    "auc_DT = auc(fpr_DT, tpr_DT)\n",
    "\n",
    "# Acurácia em teste\n",
    "acuracia_DT = accuracy_score(y_teste, y_pred_DT)\n",
    "\n",
    "# Exibindo as métricas\n",
    "print(f'Acurácia: {acuracia_DT:.4f}')\n",
    "print(f'ROC AUC Score: {roc_auc_DT:.4f}')\n",
    "print(f'AUC Score: {auc_DT:.4f}')"
   ]
  },
  {
   "cell_type": "markdown",
   "id": "2bf21201",
   "metadata": {},
   "source": [
    "<br>\n",
    "\n",
    "#### Visualizando Importância das Variáveis"
   ]
  },
  {
   "cell_type": "code",
   "execution_count": 60,
   "id": "b62bcf45",
   "metadata": {},
   "outputs": [
    {
     "name": "stdout",
     "output_type": "stream",
     "text": [
      "Visualizando Importância das Variáveis\n",
      "--------------------------------------------------------------------------------\n",
      "              Feature  Importance\n",
      "1  transaction_amount    0.396010\n",
      "0         account_age    0.361949\n",
      "3            location    0.131034\n",
      "2    transaction_type    0.111007\n",
      "--------------------------------------------------------------------------------\n"
     ]
    },
    {
     "data": {
      "image/png": "[encoded data removed]",
      "text/plain": [
       "<Figure size 720x576 with 1 Axes>"
      ]
     },
     "metadata": {
      "needs_background": "light"
     },
     "output_type": "display_data"
    }
   ],
   "source": [
    "# Extrair coeficientes do modelo\n",
    "importancias = modelo_DT.feature_importances_\n",
    "\n",
    "# Criar DataFrame para visualização\n",
    "features = X_treino.columns\n",
    "df_importancias = pd.DataFrame({'Feature': features, 'Importance': importancias})\n",
    "df_importancias = df_importancias.sort_values(by='Importance', ascending=False)\n",
    "\n",
    "# Exibir importâncias\n",
    "print('Visualizando Importância das Variáveis')\n",
    "print(80*'-')\n",
    "print(df_importancias.head())\n",
    "print(80*'-')\n",
    "\n",
    "# Gráfico de barras da importância das variáveis\n",
    "plt.figure(figsize=(10, 8))\n",
    "sns.barplot(x='Importance', y='Feature', data=df_importancias)\n",
    "plt.title('Feature Importance from Decision Tree')\n",
    "plt.xlabel('Importance')\n",
    "plt.ylabel('Features')\n",
    "plt.show()"
   ]
  },
  {
   "cell_type": "markdown",
   "id": "f3532717",
   "metadata": {},
   "source": [
    "<br><br>\n",
    "\n",
    "### Salvando as Métricas"
   ]
  },
  {
   "cell_type": "code",
   "execution_count": 61,
   "id": "01a6c132",
   "metadata": {},
   "outputs": [
    {
     "data": {
      "text/html": [
       "<div>\n",
       "<style scoped>\n",
       "    .dataframe tbody tr th:only-of-type {\n",
       "        vertical-align: middle;\n",
       "    }\n",
       "\n",
       "    .dataframe tbody tr th {\n",
       "        vertical-align: top;\n",
       "    }\n",
       "\n",
       "    .dataframe thead th {\n",
       "        text-align: right;\n",
       "    }\n",
       "</style>\n",
       "<table border=\"1\" class=\"dataframe\">\n",
       "  <thead>\n",
       "    <tr style=\"text-align: right;\">\n",
       "      <th></th>\n",
       "      <th>Nome do Modelo</th>\n",
       "      <th>Nome do Algoritmo</th>\n",
       "      <th>ROC_AUC Score</th>\n",
       "      <th>AUC Score</th>\n",
       "      <th>Acuracia</th>\n",
       "    </tr>\n",
       "  </thead>\n",
       "  <tbody>\n",
       "    <tr>\n",
       "      <th>0</th>\n",
       "      <td>Modelo 1</td>\n",
       "      <td>Logistic Regression</td>\n",
       "      <td>0.502197</td>\n",
       "      <td>0.502197</td>\n",
       "      <td>0.504678</td>\n",
       "    </tr>\n",
       "    <tr>\n",
       "      <th>1</th>\n",
       "      <td>Modelo 2</td>\n",
       "      <td>Random Forest</td>\n",
       "      <td>0.519095</td>\n",
       "      <td>0.519095</td>\n",
       "      <td>0.542653</td>\n",
       "    </tr>\n",
       "    <tr>\n",
       "      <th>2</th>\n",
       "      <td>Modelo 3</td>\n",
       "      <td>K-Nearest Neighbors</td>\n",
       "      <td>0.500318</td>\n",
       "      <td>0.500318</td>\n",
       "      <td>0.517336</td>\n",
       "    </tr>\n",
       "    <tr>\n",
       "      <th>3</th>\n",
       "      <td>Modelo 4</td>\n",
       "      <td>Decision Tree</td>\n",
       "      <td>0.500585</td>\n",
       "      <td>0.500585</td>\n",
       "      <td>0.521189</td>\n",
       "    </tr>\n",
       "  </tbody>\n",
       "</table>\n",
       "</div>"
      ],
      "text/plain": [
       "  Nome do Modelo    Nome do Algoritmo  ROC_AUC Score  AUC Score  Acuracia\n",
       "0       Modelo 1  Logistic Regression       0.502197   0.502197  0.504678\n",
       "1       Modelo 2        Random Forest       0.519095   0.519095  0.542653\n",
       "2       Modelo 3  K-Nearest Neighbors       0.500318   0.500318  0.517336\n",
       "3       Modelo 4        Decision Tree       0.500585   0.500585  0.521189"
      ]
     },
     "metadata": {},
     "output_type": "display_data"
    }
   ],
   "source": [
    "# Salvando as Métricas\n",
    "dict_modelo_DT = {\n",
    "    'Nome do Modelo': 'Modelo 4', \n",
    "    'Nome do Algoritmo': 'Decision Tree', \n",
    "    'ROC_AUC Score': roc_auc_DT,\n",
    "    'AUC Score': auc_DT,\n",
    "    'Acuracia': acuracia_DT\n",
    "}\n",
    "\n",
    "# Adicionando as métricas ao DataFrame existente\n",
    "df_modelos = pd.concat([df_modelos, pd.DataFrame([dict_modelo_DT])], ignore_index=True)\n",
    "\n",
    "# Verifica as métricas salvas\n",
    "display(df_modelos)"
   ]
  },
  {
   "cell_type": "markdown",
   "id": "1314944e",
   "metadata": {},
   "source": [
    "<br><br><br>\n",
    "\n",
    "# <span style=\"color: green; font-size: 38px; font-weight: bold;\">Modelo 5 - SVM</span>\n",
    "\n",
    "<br>\n",
    "\n",
    "- Para a construção deste modelo, utilizamos o algoritmo Support Vector Machine (SVM) com a função kernel radial (RBF).\n",
    "- A seleção de hiperparâmetros será realizada utilizando GridSearchCV para encontrar a melhor combinação de parâmetros para o nosso modelo.\n",
    "- Após a identificação dos melhores hiperparâmetros, treinaremos o modelo final com esses valores otimizados para garantir um desempenho eficiente e pronto para implementação prática.\n",
    "\n",
    "<br>\n",
    "\n",
    "### Criando o Modelo"
   ]
  },
  {
   "cell_type": "code",
   "execution_count": 62,
   "id": "710667d3",
   "metadata": {},
   "outputs": [
    {
     "name": "stdout",
     "output_type": "stream",
     "text": [
      "{'gamma': 1, 'C': 0.1}\n"
     ]
    }
   ],
   "source": [
    "# Função para seleção de hiperparâmetros\n",
    "#def svc_param_selection(X, y, nfolds):\n",
    "#    Cs = [0.001, 0.01, 0.1, 1, 10]\n",
    "#    gammas = [0.001, 0.01, 0.1, 1]\n",
    "#    param_grid = {'C': Cs, 'gamma': gammas}\n",
    "#    grid_search = GridSearchCV(SVC(kernel='rbf', probability=True), param_grid, cv=nfolds)\n",
    "#    grid_search.fit(X, y)\n",
    "#    return grid_search.best_params_\n",
    "\n",
    "# Aplica a função para obter os melhores hiperparâmetros\n",
    "# best_params_SVM = svc_param_selection(X_treino, y_treino, 5)\n",
    "# print(best_params_SVM)\n",
    "\n",
    "\n",
    "#### USANDO RandomizedSearchCV (Mais rápido)\n",
    "\n",
    "# Função para seleção de hiperparâmetros usando RandomizedSearchCV\n",
    "def svc_param_selection(X, y, n_iter, nfolds):\n",
    "    Cs = [0.001, 0.01, 0.1, 1, 10]\n",
    "    gammas = [0.001, 0.01, 0.1, 1]\n",
    "    param_grid = {'C': Cs, 'gamma': gammas}\n",
    "    random_search = RandomizedSearchCV(SVC(kernel='rbf', probability=True), param_distributions=param_grid, n_iter=n_iter, cv=nfolds, random_state=42, n_jobs=-1)\n",
    "    random_search.fit(X, y)\n",
    "    return random_search.best_params_\n",
    "\n",
    "# Aplica a função para obter os melhores hiperparâmetros com um número limitado de iterações (10)\n",
    "best_params_SVM = svc_param_selection(X_treino, y_treino, n_iter=10, nfolds=5)\n",
    "print(best_params_SVM)"
   ]
  },
  {
   "cell_type": "markdown",
   "id": "8d73f9bd",
   "metadata": {},
   "source": [
    "#### Construindo e Treinando"
   ]
  },
  {
   "cell_type": "code",
   "execution_count": 63,
   "id": "1de98d3b",
   "metadata": {},
   "outputs": [
    {
     "data": {
      "text/plain": [
       "SVC(C=0.1, gamma=1, probability=True)"
      ]
     },
     "execution_count": 63,
     "metadata": {},
     "output_type": "execute_result"
    }
   ],
   "source": [
    "# Cria o modelo com os melhores hiperparâmetros\n",
    "modelo_SVM = SVC(**best_params_SVM, probability=True)\n",
    "\n",
    "# Treinamento\n",
    "modelo_SVM.fit(X_treino, y_treino)"
   ]
  },
  {
   "cell_type": "markdown",
   "id": "bd2273dc",
   "metadata": {},
   "source": [
    "<br><br>\n",
    "\n",
    "## Previsão / Avaliação do Modelo"
   ]
  },
  {
   "cell_type": "code",
   "execution_count": 64,
   "id": "41ee4713",
   "metadata": {},
   "outputs": [
    {
     "name": "stdout",
     "output_type": "stream",
     "text": [
      "Previsões de Classe:\n",
      "[0 0 1 0 0]\n",
      "\n",
      "--------------------------------------------------------------------------------\n",
      "\n",
      "Previsões de Probabilidade para Cada Classe:\n",
      "[[0.57873758 0.42126242]\n",
      " [0.54966791 0.45033209]\n",
      " [0.4386081  0.5613919 ]\n",
      " [0.55957848 0.44042152]\n",
      " [0.57895084 0.42104916]]\n",
      "\n",
      "--------------------------------------------------------------------------------\n",
      "\n",
      "Previsões de Probabilidade para a Classe Positiva:\n",
      "[0.42126242 0.45033209 0.5613919  0.44042152 0.42104916]\n",
      "\n",
      "--------------------------------------------------------------------------------\n",
      "\n",
      "Matriz de Confusão:\n",
      "[[647 477]\n",
      " [410 283]]\n",
      "\n",
      "--------------------------------------------------------------------------------\n",
      "\n",
      "Acurácia: 0.5118\n",
      "ROC AUC Score: 0.5010\n",
      "AUC Score: 0.5010\n"
     ]
    }
   ],
   "source": [
    "## Previsões\n",
    "\n",
    "# Previsões com dados de teste\n",
    "y_pred_SVM = modelo_SVM.predict(X_teste)\n",
    "print('Previsões de Classe:')\n",
    "print(y_pred_SVM[:5])\n",
    "print('\\n' + '-' * 80 + '\\n')\n",
    "\n",
    "# Obtemos as previsões no formato de probabilidade para cada classe\n",
    "y_pred_proba_SVM = modelo_SVM.predict_proba(X_teste)\n",
    "print('Previsões de Probabilidade para Cada Classe:')\n",
    "print(y_pred_proba_SVM[:5])\n",
    "print('\\n' + '-' * 80 + '\\n')\n",
    "\n",
    "# Obtemos as previsões no formato de probabilidade filtrando para a classe positiva (Cálculo da Curva ROC)\n",
    "y_pred_proba_SVM_pos = modelo_SVM.predict_proba(X_teste)[:, 1]\n",
    "print('Previsões de Probabilidade para a Classe Positiva:')\n",
    "print(y_pred_proba_SVM_pos[:5])\n",
    "print('\\n' + '-' * 80 + '\\n')\n",
    "\n",
    "## Avaliação do Modelo\n",
    "\n",
    "# Matriz de confusão\n",
    "conf_matrix_SVM = confusion_matrix(y_teste, y_pred_SVM)\n",
    "print('Matriz de Confusão:')\n",
    "print(conf_matrix_SVM)\n",
    "print('\\n' + '-' * 80 + '\\n')\n",
    "\n",
    "# Extraindo cada valor da Confusion Matrix\n",
    "tn_SVM, fp_SVM, fn_SVM, tp_SVM = conf_matrix_SVM.ravel()\n",
    "\n",
    "# Calcula a métrica global AUC (Area Under The Curve) com dados reais e previsões em teste\n",
    "roc_auc_SVM = roc_auc_score(y_teste, y_pred_proba_SVM_pos)\n",
    "\n",
    "# Calcula a curva ROC com dados e previsões em teste\n",
    "fpr_SVM, tpr_SVM, thresholds_SVM = roc_curve(y_teste, y_pred_proba_SVM_pos)\n",
    "\n",
    "# AUC em teste\n",
    "auc_SVM = auc(fpr_SVM, tpr_SVM)\n",
    "\n",
    "# Acurácia em teste\n",
    "acuracia_SVM = accuracy_score(y_teste, y_pred_SVM)\n",
    "\n",
    "# Exibindo as métricas\n",
    "print(f'Acurácia: {acuracia_SVM:.4f}')\n",
    "print(f'ROC AUC Score: {roc_auc_SVM:.4f}')\n",
    "print(f'AUC Score: {auc_SVM:.4f}')"
   ]
  },
  {
   "cell_type": "markdown",
   "id": "a921463c",
   "metadata": {},
   "source": [
    "<br>\n",
    "\n",
    "#### Visualizando Importância das Variáveis"
   ]
  },
  {
   "cell_type": "code",
   "execution_count": 65,
   "id": "b181a965",
   "metadata": {},
   "outputs": [
    {
     "name": "stdout",
     "output_type": "stream",
     "text": [
      "Visualizando Importância das Variáveis para o Modelo SVM\n",
      "--------------------------------------------------------------------------------\n",
      "              Feature  Importance\n",
      "1  transaction_amount   -0.005008\n",
      "3            location   -0.006549\n",
      "0         account_age   -0.007925\n",
      "2    transaction_type   -0.014199\n",
      "--------------------------------------------------------------------------------\n"
     ]
    },
    {
     "data": {
      "image/png": "[encoded data removed]",
      "text/plain": [
       "<Figure size 720x576 with 1 Axes>"
      ]
     },
     "metadata": {
      "needs_background": "light"
     },
     "output_type": "display_data"
    }
   ],
   "source": [
    "from sklearn.inspection import permutation_importance\n",
    "\n",
    "# Avaliação da importância das variáveis através da permutação\n",
    "result = permutation_importance(modelo_SVM, X_teste, y_teste, n_repeats=10, random_state=42, n_jobs=-1)\n",
    "\n",
    "# Criando DataFrame para visualização\n",
    "df_importancias_SVM = pd.DataFrame({'Feature': X_teste.columns, 'Importance': result.importances_mean})\n",
    "df_importancias_SVM = df_importancias_SVM.sort_values(by='Importance', ascending=False)\n",
    "\n",
    "# Exibindo as importâncias\n",
    "print('Visualizando Importância das Variáveis para o Modelo SVM')\n",
    "print(80 * '-')\n",
    "print(df_importancias_SVM)\n",
    "print(80 * '-')\n",
    "\n",
    "# Gráfico de barras da importância das variáveis\n",
    "plt.figure(figsize=(10, 8))\n",
    "sns.barplot(x='Importance', y='Feature', data=df_importancias_SVM)\n",
    "plt.title('Feature Importance from SVM (Permutation Importance)')\n",
    "plt.xlabel('Importance')\n",
    "plt.ylabel('Features')\n",
    "plt.show()"
   ]
  },
  {
   "cell_type": "markdown",
   "id": "329d9407",
   "metadata": {},
   "source": [
    "<br><br>\n",
    "\n",
    "### Salvando as Métricas"
   ]
  },
  {
   "cell_type": "code",
   "execution_count": 66,
   "id": "fbe6e368",
   "metadata": {},
   "outputs": [
    {
     "data": {
      "text/html": [
       "<div>\n",
       "<style scoped>\n",
       "    .dataframe tbody tr th:only-of-type {\n",
       "        vertical-align: middle;\n",
       "    }\n",
       "\n",
       "    .dataframe tbody tr th {\n",
       "        vertical-align: top;\n",
       "    }\n",
       "\n",
       "    .dataframe thead th {\n",
       "        text-align: right;\n",
       "    }\n",
       "</style>\n",
       "<table border=\"1\" class=\"dataframe\">\n",
       "  <thead>\n",
       "    <tr style=\"text-align: right;\">\n",
       "      <th></th>\n",
       "      <th>Nome do Modelo</th>\n",
       "      <th>Nome do Algoritmo</th>\n",
       "      <th>ROC_AUC Score</th>\n",
       "      <th>AUC Score</th>\n",
       "      <th>Acuracia</th>\n",
       "    </tr>\n",
       "  </thead>\n",
       "  <tbody>\n",
       "    <tr>\n",
       "      <th>0</th>\n",
       "      <td>Modelo 1</td>\n",
       "      <td>Logistic Regression</td>\n",
       "      <td>0.502197</td>\n",
       "      <td>0.502197</td>\n",
       "      <td>0.504678</td>\n",
       "    </tr>\n",
       "    <tr>\n",
       "      <th>1</th>\n",
       "      <td>Modelo 2</td>\n",
       "      <td>Random Forest</td>\n",
       "      <td>0.519095</td>\n",
       "      <td>0.519095</td>\n",
       "      <td>0.542653</td>\n",
       "    </tr>\n",
       "    <tr>\n",
       "      <th>2</th>\n",
       "      <td>Modelo 3</td>\n",
       "      <td>K-Nearest Neighbors</td>\n",
       "      <td>0.500318</td>\n",
       "      <td>0.500318</td>\n",
       "      <td>0.517336</td>\n",
       "    </tr>\n",
       "    <tr>\n",
       "      <th>3</th>\n",
       "      <td>Modelo 4</td>\n",
       "      <td>Decision Tree</td>\n",
       "      <td>0.500585</td>\n",
       "      <td>0.500585</td>\n",
       "      <td>0.521189</td>\n",
       "    </tr>\n",
       "    <tr>\n",
       "      <th>4</th>\n",
       "      <td>Modelo 5</td>\n",
       "      <td>SVM</td>\n",
       "      <td>0.500996</td>\n",
       "      <td>0.500996</td>\n",
       "      <td>0.511833</td>\n",
       "    </tr>\n",
       "  </tbody>\n",
       "</table>\n",
       "</div>"
      ],
      "text/plain": [
       "  Nome do Modelo    Nome do Algoritmo  ROC_AUC Score  AUC Score  Acuracia\n",
       "0       Modelo 1  Logistic Regression       0.502197   0.502197  0.504678\n",
       "1       Modelo 2        Random Forest       0.519095   0.519095  0.542653\n",
       "2       Modelo 3  K-Nearest Neighbors       0.500318   0.500318  0.517336\n",
       "3       Modelo 4        Decision Tree       0.500585   0.500585  0.521189\n",
       "4       Modelo 5                  SVM       0.500996   0.500996  0.511833"
      ]
     },
     "metadata": {},
     "output_type": "display_data"
    }
   ],
   "source": [
    "# Salvando as Métricas\n",
    "dict_modelo_SVM = {\n",
    "    'Nome do Modelo': 'Modelo 5', \n",
    "    'Nome do Algoritmo': 'SVM', \n",
    "    'ROC_AUC Score': roc_auc_SVM,\n",
    "    'AUC Score': auc_SVM,\n",
    "    'Acuracia': acuracia_SVM\n",
    "}\n",
    "\n",
    "# Adicionando as métricas ao DataFrame existente\n",
    "df_modelos = pd.concat([df_modelos, pd.DataFrame([dict_modelo_SVM])], ignore_index=True)\n",
    "\n",
    "# Verifica as métricas salvas\n",
    "display(df_modelos)"
   ]
  },
  {
   "cell_type": "markdown",
   "id": "4009d5e3",
   "metadata": {},
   "source": [
    "<br><br><br>\n",
    "\n",
    "# <span style=\"color: green; font-size: 38px; font-weight: bold;\">Modelo 6 - Gradient Boosting Machine</span>\n",
    "\n",
    "<br>\n",
    "\n",
    "- Cria várias modelos com o RandomizedSearchCV para encontrar os melhores hiperparâmetros. Após a identificação do melhor modelo, o modelo final é treinado diretamente com o GradientBoostingClassifier, usando esses hiperparâmetros otimizados, para garantir um modelo eficiente e pronto para implementação prática.\n",
    "\n",
    "<br>\n",
    "\n",
    "### Criando o Modelo"
   ]
  },
  {
   "cell_type": "code",
   "execution_count": 67,
   "id": "dbf92578",
   "metadata": {},
   "outputs": [
    {
     "name": "stdout",
     "output_type": "stream",
     "text": [
      "GradientBoostingClassifier(max_depth=5, min_samples_leaf=3, min_samples_split=3,\n",
      "                           n_estimators=200)\n"
     ]
    }
   ],
   "source": [
    "# Hiperparâmetros\n",
    "tuned_params_GBM = {\n",
    "    'n_estimators': [100, 200, 300],\n",
    "    'learning_rate': [0.01, 0.05, 0.1],\n",
    "    'max_depth': [3, 4, 5],\n",
    "    'min_samples_split': [2, 3, 4],\n",
    "    'min_samples_leaf': [1, 2, 3]\n",
    "}\n",
    "\n",
    "# Cria o modelo com RandomizedSearchCV\n",
    "modelo = RandomizedSearchCV(GradientBoostingClassifier(), \n",
    "                            tuned_params_GBM, \n",
    "                            n_iter=15, \n",
    "                            scoring='roc_auc', \n",
    "                            n_jobs=-1)\n",
    "\n",
    "# Treinamento\n",
    "modelo.fit(X_treino, y_treino)\n",
    "\n",
    "# Visualiza o melhor modelo\n",
    "best_gbm = modelo.best_estimator_\n",
    "print(best_gbm)"
   ]
  },
  {
   "cell_type": "markdown",
   "id": "ad1b7485",
   "metadata": {},
   "source": [
    "#### Construindo e Treinando o Modelo com GradientBoostingClassifier"
   ]
  },
  {
   "cell_type": "code",
   "execution_count": 68,
   "id": "180c2818",
   "metadata": {},
   "outputs": [
    {
     "name": "stdout",
     "output_type": "stream",
     "text": [
      "GradientBoostingClassifier(max_depth=5, min_samples_leaf=3, min_samples_split=3,\n",
      "                           n_estimators=200)\n"
     ]
    }
   ],
   "source": [
    "# Recriando o modelo com os melhores hiperparâmetros automaticamente\n",
    "best_params = best_gbm.get_params()\n",
    "\n",
    "# Treinando o modelo final no conjunto de treino\n",
    "modelo_GBM = GradientBoostingClassifier(**best_params)\n",
    "modelo_GBM.fit(X_treino, y_treino)\n",
    "print(modelo_GBM)"
   ]
  },
  {
   "cell_type": "markdown",
   "id": "14930948",
   "metadata": {},
   "source": [
    "<br><br>\n",
    "\n",
    "## Previsão / Avaliação do Modelo"
   ]
  },
  {
   "cell_type": "code",
   "execution_count": 69,
   "id": "bcb0d03f",
   "metadata": {},
   "outputs": [
    {
     "name": "stdout",
     "output_type": "stream",
     "text": [
      "Previsões de Classe:\n",
      "[0 1 0 0 0]\n",
      "\n",
      "--------------------------------------------------------------------------------\n",
      "\n",
      "Previsões de Probabilidade para Cada Classe:\n",
      "[[0.59352052 0.40647948]\n",
      " [0.40357416 0.59642584]\n",
      " [0.52875823 0.47124177]\n",
      " [0.55213704 0.44786296]\n",
      " [0.68264677 0.31735323]]\n",
      "\n",
      "--------------------------------------------------------------------------------\n",
      "\n",
      "Previsões de Probabilidade para a Classe Positiva:\n",
      "[0.40647948 0.59642584 0.47124177 0.44786296 0.31735323]\n",
      "\n",
      "--------------------------------------------------------------------------------\n",
      "\n",
      "Matriz de Confusão:\n",
      "[[699 425]\n",
      " [416 277]]\n",
      "\n",
      "--------------------------------------------------------------------------------\n",
      "\n",
      "Acurácia: 0.5371\n",
      "ROC AUC Score: 0.5093\n",
      "AUC Score: 0.5093\n"
     ]
    }
   ],
   "source": [
    "## Previsões\n",
    "\n",
    "# Previsões com dados de teste\n",
    "y_pred_GBM = modelo_GBM.predict(X_teste)\n",
    "print('Previsões de Classe:')\n",
    "print(y_pred_GBM[:5])\n",
    "print('\\n' + '-' * 80 + '\\n')\n",
    "\n",
    "# Obtemos as previsões no formato de probabilidade para cada classe\n",
    "y_pred_proba_GBM = modelo_GBM.predict_proba(X_teste)\n",
    "print('Previsões de Probabilidade para Cada Classe:')\n",
    "print(y_pred_proba_GBM[:5])\n",
    "print('\\n' + '-' * 80 + '\\n')\n",
    "\n",
    "# Obtemos as previsões no formato de probabilidade filtrando para a classe positiva (Cálculo da Curva ROC)\n",
    "y_pred_proba_GBM_pos = modelo_GBM.predict_proba(X_teste)[:, 1]\n",
    "print('Previsões de Probabilidade para a Classe Positiva:')\n",
    "print(y_pred_proba_GBM_pos[:5])\n",
    "print('\\n' + '-' * 80 + '\\n')\n",
    "\n",
    "## Avaliação do Modelo\n",
    "\n",
    "# Matriz de confusão\n",
    "conf_matrix_GBM = confusion_matrix(y_teste, y_pred_GBM)\n",
    "print('Matriz de Confusão:')\n",
    "print(conf_matrix_GBM)\n",
    "print('\\n' + '-' * 80 + '\\n')\n",
    "\n",
    "# Extraindo cada valor da Confusion Matrix\n",
    "tn_GBM, fp_GBM, fn_GBM, tp_GBM = conf_matrix_GBM.ravel()\n",
    "\n",
    "# Calcula a métrica global AUC (Area Under The Curve) com dados reais e previsões em teste\n",
    "roc_auc_GBM = roc_auc_score(y_teste, y_pred_proba_GBM_pos)\n",
    "\n",
    "# Calcula a curva ROC com dados e previsões em teste\n",
    "fpr_GBM, tpr_GBM, thresholds_GBM = roc_curve(y_teste, y_pred_proba_GBM_pos)\n",
    "\n",
    "# AUC em teste\n",
    "auc_GBM = auc(fpr_GBM, tpr_GBM)\n",
    "\n",
    "# Acurácia em teste\n",
    "acuracia_GBM = accuracy_score(y_teste, y_pred_GBM)\n",
    "\n",
    "# Exibindo as métricas\n",
    "print(f'Acurácia: {acuracia_GBM:.4f}')\n",
    "print(f'ROC AUC Score: {roc_auc_GBM:.4f}')\n",
    "print(f'AUC Score: {auc_GBM:.4f}')"
   ]
  },
  {
   "cell_type": "markdown",
   "id": "890490d9",
   "metadata": {},
   "source": [
    "<br>\n",
    "\n",
    "#### Visualizando Importância das Variáveis"
   ]
  },
  {
   "cell_type": "code",
   "execution_count": 70,
   "id": "5570faf1",
   "metadata": {},
   "outputs": [
    {
     "name": "stdout",
     "output_type": "stream",
     "text": [
      "Visualizando Importância das Variáveis\n",
      "--------------------------------------------------------------------------------\n",
      "              Feature  Importance\n",
      "1  transaction_amount    0.499105\n",
      "0         account_age    0.389136\n",
      "2    transaction_type    0.059952\n",
      "3            location    0.051806\n",
      "--------------------------------------------------------------------------------\n"
     ]
    },
    {
     "data": {
      "image/png": "[encoded data removed]",
      "text/plain": [
       "<Figure size 720x576 with 1 Axes>"
      ]
     },
     "metadata": {
      "needs_background": "light"
     },
     "output_type": "display_data"
    }
   ],
   "source": [
    "# Extrair coeficientes do modelo\n",
    "importancias = modelo_GBM.feature_importances_\n",
    "\n",
    "# Criar DataFrame para visualização\n",
    "features = X_treino.columns\n",
    "df_importancias = pd.DataFrame({'Feature': features, 'Importance': importancias})\n",
    "df_importancias = df_importancias.sort_values(by='Importance', ascending=False)\n",
    "\n",
    "# Exibir importâncias\n",
    "print('Visualizando Importância das Variáveis')\n",
    "print(80*'-')\n",
    "print(df_importancias.head())\n",
    "print(80*'-')\n",
    "\n",
    "# Gráfico de barras da importância das variáveis\n",
    "plt.figure(figsize=(10, 8))\n",
    "sns.barplot(x='Importance', y='Feature', data=df_importancias)\n",
    "plt.title('Feature Importance from Gradient Boosting Machine')\n",
    "plt.xlabel('Importance')\n",
    "plt.ylabel('Features')\n",
    "plt.show()"
   ]
  },
  {
   "cell_type": "markdown",
   "id": "5c8a21dc",
   "metadata": {},
   "source": [
    "<br><br>\n",
    "\n",
    "### Salvando as Métricas"
   ]
  },
  {
   "cell_type": "code",
   "execution_count": 71,
   "id": "4a82548c",
   "metadata": {},
   "outputs": [
    {
     "data": {
      "text/html": [
       "<div>\n",
       "<style scoped>\n",
       "    .dataframe tbody tr th:only-of-type {\n",
       "        vertical-align: middle;\n",
       "    }\n",
       "\n",
       "    .dataframe tbody tr th {\n",
       "        vertical-align: top;\n",
       "    }\n",
       "\n",
       "    .dataframe thead th {\n",
       "        text-align: right;\n",
       "    }\n",
       "</style>\n",
       "<table border=\"1\" class=\"dataframe\">\n",
       "  <thead>\n",
       "    <tr style=\"text-align: right;\">\n",
       "      <th></th>\n",
       "      <th>Nome do Modelo</th>\n",
       "      <th>Nome do Algoritmo</th>\n",
       "      <th>ROC_AUC Score</th>\n",
       "      <th>AUC Score</th>\n",
       "      <th>Acuracia</th>\n",
       "    </tr>\n",
       "  </thead>\n",
       "  <tbody>\n",
       "    <tr>\n",
       "      <th>0</th>\n",
       "      <td>Modelo 1</td>\n",
       "      <td>Logistic Regression</td>\n",
       "      <td>0.502197</td>\n",
       "      <td>0.502197</td>\n",
       "      <td>0.504678</td>\n",
       "    </tr>\n",
       "    <tr>\n",
       "      <th>1</th>\n",
       "      <td>Modelo 2</td>\n",
       "      <td>Random Forest</td>\n",
       "      <td>0.519095</td>\n",
       "      <td>0.519095</td>\n",
       "      <td>0.542653</td>\n",
       "    </tr>\n",
       "    <tr>\n",
       "      <th>2</th>\n",
       "      <td>Modelo 3</td>\n",
       "      <td>K-Nearest Neighbors</td>\n",
       "      <td>0.500318</td>\n",
       "      <td>0.500318</td>\n",
       "      <td>0.517336</td>\n",
       "    </tr>\n",
       "    <tr>\n",
       "      <th>3</th>\n",
       "      <td>Modelo 4</td>\n",
       "      <td>Decision Tree</td>\n",
       "      <td>0.500585</td>\n",
       "      <td>0.500585</td>\n",
       "      <td>0.521189</td>\n",
       "    </tr>\n",
       "    <tr>\n",
       "      <th>4</th>\n",
       "      <td>Modelo 5</td>\n",
       "      <td>SVM</td>\n",
       "      <td>0.500996</td>\n",
       "      <td>0.500996</td>\n",
       "      <td>0.511833</td>\n",
       "    </tr>\n",
       "    <tr>\n",
       "      <th>5</th>\n",
       "      <td>Modelo 6</td>\n",
       "      <td>Gradient Boosting Machine</td>\n",
       "      <td>0.509337</td>\n",
       "      <td>0.509337</td>\n",
       "      <td>0.537149</td>\n",
       "    </tr>\n",
       "  </tbody>\n",
       "</table>\n",
       "</div>"
      ],
      "text/plain": [
       "  Nome do Modelo          Nome do Algoritmo  ROC_AUC Score  AUC Score  \\\n",
       "0       Modelo 1        Logistic Regression       0.502197   0.502197   \n",
       "1       Modelo 2              Random Forest       0.519095   0.519095   \n",
       "2       Modelo 3        K-Nearest Neighbors       0.500318   0.500318   \n",
       "3       Modelo 4              Decision Tree       0.500585   0.500585   \n",
       "4       Modelo 5                        SVM       0.500996   0.500996   \n",
       "5       Modelo 6  Gradient Boosting Machine       0.509337   0.509337   \n",
       "\n",
       "   Acuracia  \n",
       "0  0.504678  \n",
       "1  0.542653  \n",
       "2  0.517336  \n",
       "3  0.521189  \n",
       "4  0.511833  \n",
       "5  0.537149  "
      ]
     },
     "metadata": {},
     "output_type": "display_data"
    }
   ],
   "source": [
    "# Salvando as Métricas\n",
    "dict_modelo_GBM = {\n",
    "    'Nome do Modelo': 'Modelo 6', \n",
    "    'Nome do Algoritmo': 'Gradient Boosting Machine', \n",
    "    'ROC_AUC Score': roc_auc_GBM,\n",
    "    'AUC Score': auc_GBM,\n",
    "    'Acuracia': acuracia_GBM\n",
    "}\n",
    "\n",
    "# Adicionando as métricas ao DataFrame existente\n",
    "df_modelos = pd.concat([df_modelos, pd.DataFrame([dict_modelo_GBM])], ignore_index=True)\n",
    "\n",
    "# Verifica as métricas salvas\n",
    "display(df_modelos)"
   ]
  },
  {
   "cell_type": "markdown",
   "id": "55383256",
   "metadata": {},
   "source": [
    "<br><br><br>\n",
    "\n",
    "# <span style=\"color: green; font-size: 38px; font-weight: bold;\">Modelo 7 - AdaBoost</span>\n",
    "\n",
    "<br>\n",
    "\n",
    "- Cria várias modelos com o RandomizedSearchCV para encontrar os melhores hiperparâmetros. Após a identificação do melhor modelo, o modelo final é treinado diretamente com o AdaBoostClassifier, usando esses hiperparâmetros otimizados, para garantir um modelo eficiente e pronto para implementação prática.\n",
    "\n",
    "<br>\n",
    "\n",
    "### Criando o Modelo"
   ]
  },
  {
   "cell_type": "code",
   "execution_count": 72,
   "id": "a1b68155",
   "metadata": {},
   "outputs": [
    {
     "name": "stdout",
     "output_type": "stream",
     "text": [
      "AdaBoostClassifier(learning_rate=0.5)\n"
     ]
    }
   ],
   "source": [
    "# Hiperparâmetros\n",
    "tuned_params_AB = {\n",
    "    'n_estimators': [50, 100, 150, 200, 250],\n",
    "    'learning_rate': [0.01, 0.05, 0.1, 0.5, 1]\n",
    "}\n",
    "\n",
    "# Cria o modelo com RandomizedSearchCV\n",
    "modelo = RandomizedSearchCV(AdaBoostClassifier(), \n",
    "                            tuned_params_AB, \n",
    "                            n_iter=10, \n",
    "                            scoring='roc_auc', \n",
    "                            n_jobs=-1)\n",
    "\n",
    "# Treinamento\n",
    "modelo.fit(X_treino, y_treino)\n",
    "\n",
    "# Visualiza o melhor modelo\n",
    "best_ab = modelo.best_estimator_\n",
    "print(best_ab)"
   ]
  },
  {
   "cell_type": "markdown",
   "id": "6503e413",
   "metadata": {},
   "source": [
    "#### Construindo e Treinando o Modelo com AdaBoostClassifier"
   ]
  },
  {
   "cell_type": "code",
   "execution_count": 73,
   "id": "97452d2f",
   "metadata": {},
   "outputs": [
    {
     "name": "stdout",
     "output_type": "stream",
     "text": [
      "AdaBoostClassifier(learning_rate=0.5)\n"
     ]
    }
   ],
   "source": [
    "# Recriando o modelo com os melhores hiperparâmetros automaticamente\n",
    "best_params = best_ab.get_params()\n",
    "\n",
    "# Treinando o modelo final no conjunto de treino\n",
    "modelo_AB = AdaBoostClassifier(**best_params)\n",
    "modelo_AB.fit(X_treino, y_treino)\n",
    "print(modelo_AB)"
   ]
  },
  {
   "cell_type": "markdown",
   "id": "ec17980d",
   "metadata": {},
   "source": [
    "<br><br>\n",
    "\n",
    "## Previsão / Avaliação do Modelo"
   ]
  },
  {
   "cell_type": "code",
   "execution_count": 74,
   "id": "23584c68",
   "metadata": {},
   "outputs": [
    {
     "name": "stdout",
     "output_type": "stream",
     "text": [
      "Previsões de Classe:\n",
      "[0 0 1 0 0]\n",
      "\n",
      "--------------------------------------------------------------------------------\n",
      "\n",
      "Previsões de Probabilidade para Cada Classe:\n",
      "[[0.50158973 0.49841027]\n",
      " [0.50084919 0.49915081]\n",
      " [0.49802886 0.50197114]\n",
      " [0.50229336 0.49770664]\n",
      " [0.50377089 0.49622911]]\n",
      "\n",
      "--------------------------------------------------------------------------------\n",
      "\n",
      "Previsões de Probabilidade para a Classe Positiva:\n",
      "[0.49841027 0.49915081 0.50197114 0.49770664 0.49622911]\n",
      "\n",
      "--------------------------------------------------------------------------------\n",
      "\n",
      "Matriz de Confusão:\n",
      "[[636 488]\n",
      " [400 293]]\n",
      "\n",
      "--------------------------------------------------------------------------------\n",
      "\n",
      "Acurácia: 0.5113\n",
      "ROC AUC Score: 0.5129\n",
      "AUC Score: 0.5129\n"
     ]
    }
   ],
   "source": [
    "## Previsões\n",
    "\n",
    "# Previsões com dados de teste\n",
    "y_pred_AB = modelo_AB.predict(X_teste)\n",
    "print('Previsões de Classe:')\n",
    "print(y_pred_AB[:5])\n",
    "print('\\n' + '-' * 80 + '\\n')\n",
    "\n",
    "# Obtemos as previsões no formato de probabilidade para cada classe\n",
    "y_pred_proba_AB = modelo_AB.predict_proba(X_teste)\n",
    "print('Previsões de Probabilidade para Cada Classe:')\n",
    "print(y_pred_proba_AB[:5])\n",
    "print('\\n' + '-' * 80 + '\\n')\n",
    "\n",
    "# Obtemos as previsões no formato de probabilidade filtrando para a classe positiva (Cálculo da Curva ROC)\n",
    "y_pred_proba_AB_pos = modelo_AB.predict_proba(X_teste)[:, 1]\n",
    "print('Previsões de Probabilidade para a Classe Positiva:')\n",
    "print(y_pred_proba_AB_pos[:5])\n",
    "print('\\n' + '-' * 80 + '\\n')\n",
    "\n",
    "## Avaliação do Modelo\n",
    "\n",
    "# Matriz de confusão\n",
    "conf_matrix_AB = confusion_matrix(y_teste, y_pred_AB)\n",
    "print('Matriz de Confusão:')\n",
    "print(conf_matrix_AB)\n",
    "print('\\n' + '-' * 80 + '\\n')\n",
    "\n",
    "# Extraindo cada valor da Confusion Matrix\n",
    "tn_AB, fp_AB, fn_AB, tp_AB = conf_matrix_AB.ravel()\n",
    "\n",
    "# Calcula a métrica global AUC (Area Under The Curve) com dados reais e previsões em teste\n",
    "roc_auc_AB = roc_auc_score(y_teste, y_pred_proba_AB_pos)\n",
    "\n",
    "# Calcula a curva ROC com dados e previsões em teste\n",
    "fpr_AB, tpr_AB, thresholds_AB = roc_curve(y_teste, y_pred_proba_AB_pos)\n",
    "\n",
    "# AUC em teste\n",
    "auc_AB = auc(fpr_AB, tpr_AB)\n",
    "\n",
    "# Acurácia em teste\n",
    "acuracia_AB = accuracy_score(y_teste, y_pred_AB)\n",
    "\n",
    "# Exibindo as métricas\n",
    "print(f'Acurácia: {acuracia_AB:.4f}')\n",
    "print(f'ROC AUC Score: {roc_auc_AB:.4f}')\n",
    "print(f'AUC Score: {auc_AB:.4f}')"
   ]
  },
  {
   "cell_type": "markdown",
   "id": "5253a2d9",
   "metadata": {},
   "source": [
    "<br>\n",
    "\n",
    "#### Visualizando Importância das Variáveis"
   ]
  },
  {
   "cell_type": "code",
   "execution_count": 75,
   "id": "2d225afe",
   "metadata": {},
   "outputs": [
    {
     "name": "stdout",
     "output_type": "stream",
     "text": [
      "Visualizando Importância das Variáveis\n",
      "--------------------------------------------------------------------------------\n",
      "              Feature  Importance\n",
      "1  transaction_amount        0.48\n",
      "0         account_age        0.36\n",
      "2    transaction_type        0.10\n",
      "3            location        0.06\n",
      "--------------------------------------------------------------------------------\n"
     ]
    },
    {
     "data": {
      "image/png": "[encoded data removed]",
      "text/plain": [
       "<Figure size 720x576 with 1 Axes>"
      ]
     },
     "metadata": {
      "needs_background": "light"
     },
     "output_type": "display_data"
    }
   ],
   "source": [
    "# Extrair coeficientes do modelo\n",
    "importancias = modelo_AB.feature_importances_\n",
    "\n",
    "# Criar DataFrame para visualização\n",
    "features = X_treino.columns\n",
    "df_importancias = pd.DataFrame({'Feature': features, 'Importance': importancias})\n",
    "df_importancias = df_importancias.sort_values(by='Importance', ascending=False)\n",
    "\n",
    "# Exibir importâncias\n",
    "print('Visualizando Importância das Variáveis')\n",
    "print(80*'-')\n",
    "print(df_importancias.head())\n",
    "print(80*'-')\n",
    "\n",
    "# Gráfico de barras da importância das variáveis\n",
    "plt.figure(figsize=(10, 8))\n",
    "sns.barplot(x='Importance', y='Feature', data=df_importancias)\n",
    "plt.title('Feature Importance from AdaBoost')\n",
    "plt.xlabel('Importance')\n",
    "plt.ylabel('Features')\n",
    "plt.show()"
   ]
  },
  {
   "cell_type": "markdown",
   "id": "811fc805",
   "metadata": {},
   "source": [
    "<br><br>\n",
    "\n",
    "### Salvando as Métricas"
   ]
  },
  {
   "cell_type": "code",
   "execution_count": 76,
   "id": "ed8400e3",
   "metadata": {},
   "outputs": [
    {
     "data": {
      "text/html": [
       "<div>\n",
       "<style scoped>\n",
       "    .dataframe tbody tr th:only-of-type {\n",
       "        vertical-align: middle;\n",
       "    }\n",
       "\n",
       "    .dataframe tbody tr th {\n",
       "        vertical-align: top;\n",
       "    }\n",
       "\n",
       "    .dataframe thead th {\n",
       "        text-align: right;\n",
       "    }\n",
       "</style>\n",
       "<table border=\"1\" class=\"dataframe\">\n",
       "  <thead>\n",
       "    <tr style=\"text-align: right;\">\n",
       "      <th></th>\n",
       "      <th>Nome do Modelo</th>\n",
       "      <th>Nome do Algoritmo</th>\n",
       "      <th>ROC_AUC Score</th>\n",
       "      <th>AUC Score</th>\n",
       "      <th>Acuracia</th>\n",
       "    </tr>\n",
       "  </thead>\n",
       "  <tbody>\n",
       "    <tr>\n",
       "      <th>0</th>\n",
       "      <td>Modelo 1</td>\n",
       "      <td>Logistic Regression</td>\n",
       "      <td>0.502197</td>\n",
       "      <td>0.502197</td>\n",
       "      <td>0.504678</td>\n",
       "    </tr>\n",
       "    <tr>\n",
       "      <th>1</th>\n",
       "      <td>Modelo 2</td>\n",
       "      <td>Random Forest</td>\n",
       "      <td>0.519095</td>\n",
       "      <td>0.519095</td>\n",
       "      <td>0.542653</td>\n",
       "    </tr>\n",
       "    <tr>\n",
       "      <th>2</th>\n",
       "      <td>Modelo 3</td>\n",
       "      <td>K-Nearest Neighbors</td>\n",
       "      <td>0.500318</td>\n",
       "      <td>0.500318</td>\n",
       "      <td>0.517336</td>\n",
       "    </tr>\n",
       "    <tr>\n",
       "      <th>3</th>\n",
       "      <td>Modelo 4</td>\n",
       "      <td>Decision Tree</td>\n",
       "      <td>0.500585</td>\n",
       "      <td>0.500585</td>\n",
       "      <td>0.521189</td>\n",
       "    </tr>\n",
       "    <tr>\n",
       "      <th>4</th>\n",
       "      <td>Modelo 5</td>\n",
       "      <td>SVM</td>\n",
       "      <td>0.500996</td>\n",
       "      <td>0.500996</td>\n",
       "      <td>0.511833</td>\n",
       "    </tr>\n",
       "    <tr>\n",
       "      <th>5</th>\n",
       "      <td>Modelo 6</td>\n",
       "      <td>Gradient Boosting Machine</td>\n",
       "      <td>0.509337</td>\n",
       "      <td>0.509337</td>\n",
       "      <td>0.537149</td>\n",
       "    </tr>\n",
       "    <tr>\n",
       "      <th>6</th>\n",
       "      <td>Modelo 7</td>\n",
       "      <td>AdaBoost</td>\n",
       "      <td>0.512905</td>\n",
       "      <td>0.512905</td>\n",
       "      <td>0.511282</td>\n",
       "    </tr>\n",
       "  </tbody>\n",
       "</table>\n",
       "</div>"
      ],
      "text/plain": [
       "  Nome do Modelo          Nome do Algoritmo  ROC_AUC Score  AUC Score  \\\n",
       "0       Modelo 1        Logistic Regression       0.502197   0.502197   \n",
       "1       Modelo 2              Random Forest       0.519095   0.519095   \n",
       "2       Modelo 3        K-Nearest Neighbors       0.500318   0.500318   \n",
       "3       Modelo 4              Decision Tree       0.500585   0.500585   \n",
       "4       Modelo 5                        SVM       0.500996   0.500996   \n",
       "5       Modelo 6  Gradient Boosting Machine       0.509337   0.509337   \n",
       "6       Modelo 7                   AdaBoost       0.512905   0.512905   \n",
       "\n",
       "   Acuracia  \n",
       "0  0.504678  \n",
       "1  0.542653  \n",
       "2  0.517336  \n",
       "3  0.521189  \n",
       "4  0.511833  \n",
       "5  0.537149  \n",
       "6  0.511282  "
      ]
     },
     "metadata": {},
     "output_type": "display_data"
    }
   ],
   "source": [
    "# Salvando as Métricas\n",
    "dict_modelo_AB = {\n",
    "    'Nome do Modelo': 'Modelo 7', \n",
    "    'Nome do Algoritmo': 'AdaBoost', \n",
    "    'ROC_AUC Score': roc_auc_AB,\n",
    "    'AUC Score': auc_AB,\n",
    "    'Acuracia': acuracia_AB\n",
    "}\n",
    "\n",
    "# Adicionando as métricas ao DataFrame existente\n",
    "df_modelos = pd.concat([df_modelos, pd.DataFrame([dict_modelo_AB])], ignore_index=True)\n",
    "\n",
    "# Verifica as métricas salvas\n",
    "display(df_modelos)"
   ]
  },
  {
   "cell_type": "markdown",
   "id": "48fb1b66",
   "metadata": {},
   "source": [
    "<br><br><br>\n",
    "\n",
    "# <span style=\"color: green; font-size: 38px; font-weight: bold;\">Modelo 8 - LightGBM</span>\n",
    "\n",
    "<br>\n",
    "\n",
    "- Cria o modelo com os hiperparâmetros padrão para garantir um modelo eficiente e pronto para implementação prática.\n",
    "\n",
    "<br>\n",
    "\n",
    "### Criando o Modelo"
   ]
  },
  {
   "cell_type": "code",
   "execution_count": 78,
   "id": "8a8959f9",
   "metadata": {},
   "outputs": [
    {
     "name": "stdout",
     "output_type": "stream",
     "text": [
      "[LightGBM] [Info] Number of positive: 4565, number of negative: 4565\n",
      "[LightGBM] [Info] Auto-choosing col-wise multi-threading, the overhead of testing was 0.000610 seconds.\n",
      "You can set `force_col_wise=true` to remove the overhead.\n",
      "[LightGBM] [Info] Total Bins 509\n",
      "[LightGBM] [Info] Number of data points in the train set: 9130, number of used features: 4\n",
      "[LightGBM] [Info] [binary:BoostFromScore]: pavg=0.500000 -> initscore=0.000000\n",
      "LGBMClassifier()\n"
     ]
    }
   ],
   "source": [
    "# Criando o modelo com hiperparâmetros padrão\n",
    "modelo_LGBM = LGBMClassifier()\n",
    "\n",
    "# Treinamento do modelo\n",
    "modelo_LGBM.fit(X_treino, y_treino)\n",
    "\n",
    "# Visualizando o modelo treinado\n",
    "print(modelo_LGBM)"
   ]
  },
  {
   "cell_type": "markdown",
   "id": "2e0e22d9",
   "metadata": {},
   "source": [
    "<br><br>\n",
    "\n",
    "## Previsão / Avaliação do Modelo"
   ]
  },
  {
   "cell_type": "code",
   "execution_count": 79,
   "id": "f7004ac1",
   "metadata": {},
   "outputs": [
    {
     "name": "stdout",
     "output_type": "stream",
     "text": [
      "Previsões de Classe:\n",
      "[0 1 1 0 0]\n",
      "\n",
      "--------------------------------------------------------------------------------\n",
      "\n",
      "Previsões de Probabilidade para Cada Classe:\n",
      "[[0.6283238  0.3716762 ]\n",
      " [0.48266939 0.51733061]\n",
      " [0.47946751 0.52053249]\n",
      " [0.50019518 0.49980482]\n",
      " [0.76151702 0.23848298]]\n",
      "\n",
      "--------------------------------------------------------------------------------\n",
      "\n",
      "Previsões de Probabilidade para a Classe Positiva:\n",
      "[0.3716762  0.51733061 0.52053249 0.49980482 0.23848298]\n",
      "\n",
      "--------------------------------------------------------------------------------\n",
      "\n",
      "Matriz de Confusão:\n",
      "[[697 427]\n",
      " [391 302]]\n",
      "\n",
      "--------------------------------------------------------------------------------\n",
      "\n",
      "Acurácia: 0.5498\n",
      "ROC AUC Score: 0.5195\n",
      "AUC Score: 0.5195\n"
     ]
    }
   ],
   "source": [
    "## Previsões\n",
    "\n",
    "# Previsões com dados de teste\n",
    "y_pred_LGBM = modelo_LGBM.predict(X_teste)\n",
    "print('Previsões de Classe:')\n",
    "print(y_pred_LGBM[:5])\n",
    "print('\\n' + '-' * 80 + '\\n')\n",
    "\n",
    "# Obtemos as previsões no formato de probabilidade para cada classe\n",
    "y_pred_proba_LGBM = modelo_LGBM.predict_proba(X_teste)\n",
    "print('Previsões de Probabilidade para Cada Classe:')\n",
    "print(y_pred_proba_LGBM[:5])\n",
    "print('\\n' + '-' * 80 + '\\n')\n",
    "\n",
    "# Obtemos as previsões no formato de probabilidade filtrando para a classe positiva (Cálculo da Curva ROC)\n",
    "y_pred_proba_LGBM_pos = modelo_LGBM.predict_proba(X_teste)[:, 1]\n",
    "print('Previsões de Probabilidade para a Classe Positiva:')\n",
    "print(y_pred_proba_LGBM_pos[:5])\n",
    "print('\\n' + '-' * 80 + '\\n')\n",
    "\n",
    "## Avaliação do Modelo\n",
    "\n",
    "# Matriz de confusão\n",
    "conf_matrix_LGBM = confusion_matrix(y_teste, y_pred_LGBM)\n",
    "print('Matriz de Confusão:')\n",
    "print(conf_matrix_LGBM)\n",
    "print('\\n' + '-' * 80 + '\\n')\n",
    "\n",
    "# Extraindo cada valor da Confusion Matrix\n",
    "tn_LGBM, fp_LGBM, fn_LGBM, tp_LGBM = conf_matrix_LGBM.ravel()\n",
    "\n",
    "# Calcula a métrica global AUC (Area Under The Curve) com dados reais e previsões em teste\n",
    "roc_auc_LGBM = roc_auc_score(y_teste, y_pred_proba_LGBM_pos)\n",
    "\n",
    "# Calcula a curva ROC com dados e previsões em teste\n",
    "fpr_LGBM, tpr_LGBM, thresholds_LGBM = roc_curve(y_teste, y_pred_proba_LGBM_pos)\n",
    "\n",
    "# AUC em teste\n",
    "auc_LGBM = auc(fpr_LGBM, tpr_LGBM)\n",
    "\n",
    "# Acurácia em teste\n",
    "acuracia_LGBM = accuracy_score(y_teste, y_pred_LGBM)\n",
    "\n",
    "# Exibindo as métricas\n",
    "print(f'Acurácia: {acuracia_LGBM:.4f}')\n",
    "print(f'ROC AUC Score: {roc_auc_LGBM:.4f}')\n",
    "print(f'AUC Score: {auc_LGBM:.4f}')\n"
   ]
  },
  {
   "cell_type": "markdown",
   "id": "226ace8d",
   "metadata": {},
   "source": [
    "<br>\n",
    "\n",
    "#### Visualizando Importância das Variáveis"
   ]
  },
  {
   "cell_type": "code",
   "execution_count": 80,
   "id": "e09b46ce",
   "metadata": {},
   "outputs": [
    {
     "name": "stdout",
     "output_type": "stream",
     "text": [
      "Visualizando Importância das Variáveis\n",
      "--------------------------------------------------------------------------------\n",
      "              Feature  Importance\n",
      "0         account_age        1374\n",
      "1  transaction_amount        1333\n",
      "2    transaction_type         182\n",
      "3            location         111\n",
      "--------------------------------------------------------------------------------\n"
     ]
    },
    {
     "data": {
      "image/png": "[encoded data removed]",
      "text/plain": [
       "<Figure size 720x576 with 1 Axes>"
      ]
     },
     "metadata": {
      "needs_background": "light"
     },
     "output_type": "display_data"
    }
   ],
   "source": [
    "# Extrair coeficientes do modelo\n",
    "importancias = modelo_LGBM.feature_importances_\n",
    "\n",
    "# Criar DataFrame para visualização\n",
    "features = X_treino.columns\n",
    "df_importancias = pd.DataFrame({'Feature': features, 'Importance': importancias})\n",
    "df_importancias = df_importancias.sort_values(by='Importance', ascending=False)\n",
    "\n",
    "# Exibir importâncias\n",
    "print('Visualizando Importância das Variáveis')\n",
    "print(80*'-')\n",
    "print(df_importancias.head())\n",
    "print(80*'-')\n",
    "\n",
    "# Gráfico de barras da importância das variáveis\n",
    "plt.figure(figsize=(10, 8))\n",
    "sns.barplot(x='Importance', y='Feature', data=df_importancias)\n",
    "plt.title('Feature Importance from LightGBM')\n",
    "plt.xlabel('Importance')\n",
    "plt.ylabel('Features')\n",
    "plt.show()"
   ]
  },
  {
   "cell_type": "markdown",
   "id": "3d9fc076",
   "metadata": {},
   "source": [
    "<br><br>\n",
    "\n",
    "### Salvando as Métricas"
   ]
  },
  {
   "cell_type": "code",
   "execution_count": 81,
   "id": "85d6dd12",
   "metadata": {},
   "outputs": [
    {
     "data": {
      "text/html": [
       "<div>\n",
       "<style scoped>\n",
       "    .dataframe tbody tr th:only-of-type {\n",
       "        vertical-align: middle;\n",
       "    }\n",
       "\n",
       "    .dataframe tbody tr th {\n",
       "        vertical-align: top;\n",
       "    }\n",
       "\n",
       "    .dataframe thead th {\n",
       "        text-align: right;\n",
       "    }\n",
       "</style>\n",
       "<table border=\"1\" class=\"dataframe\">\n",
       "  <thead>\n",
       "    <tr style=\"text-align: right;\">\n",
       "      <th></th>\n",
       "      <th>Nome do Modelo</th>\n",
       "      <th>Nome do Algoritmo</th>\n",
       "      <th>ROC_AUC Score</th>\n",
       "      <th>AUC Score</th>\n",
       "      <th>Acuracia</th>\n",
       "    </tr>\n",
       "  </thead>\n",
       "  <tbody>\n",
       "    <tr>\n",
       "      <th>0</th>\n",
       "      <td>Modelo 1</td>\n",
       "      <td>Logistic Regression</td>\n",
       "      <td>0.502197</td>\n",
       "      <td>0.502197</td>\n",
       "      <td>0.504678</td>\n",
       "    </tr>\n",
       "    <tr>\n",
       "      <th>1</th>\n",
       "      <td>Modelo 2</td>\n",
       "      <td>Random Forest</td>\n",
       "      <td>0.519095</td>\n",
       "      <td>0.519095</td>\n",
       "      <td>0.542653</td>\n",
       "    </tr>\n",
       "    <tr>\n",
       "      <th>2</th>\n",
       "      <td>Modelo 3</td>\n",
       "      <td>K-Nearest Neighbors</td>\n",
       "      <td>0.500318</td>\n",
       "      <td>0.500318</td>\n",
       "      <td>0.517336</td>\n",
       "    </tr>\n",
       "    <tr>\n",
       "      <th>3</th>\n",
       "      <td>Modelo 4</td>\n",
       "      <td>Decision Tree</td>\n",
       "      <td>0.500585</td>\n",
       "      <td>0.500585</td>\n",
       "      <td>0.521189</td>\n",
       "    </tr>\n",
       "    <tr>\n",
       "      <th>4</th>\n",
       "      <td>Modelo 5</td>\n",
       "      <td>SVM</td>\n",
       "      <td>0.500996</td>\n",
       "      <td>0.500996</td>\n",
       "      <td>0.511833</td>\n",
       "    </tr>\n",
       "    <tr>\n",
       "      <th>5</th>\n",
       "      <td>Modelo 6</td>\n",
       "      <td>Gradient Boosting Machine</td>\n",
       "      <td>0.509337</td>\n",
       "      <td>0.509337</td>\n",
       "      <td>0.537149</td>\n",
       "    </tr>\n",
       "    <tr>\n",
       "      <th>6</th>\n",
       "      <td>Modelo 7</td>\n",
       "      <td>AdaBoost</td>\n",
       "      <td>0.512905</td>\n",
       "      <td>0.512905</td>\n",
       "      <td>0.511282</td>\n",
       "    </tr>\n",
       "    <tr>\n",
       "      <th>7</th>\n",
       "      <td>Modelo 8</td>\n",
       "      <td>LightGBM</td>\n",
       "      <td>0.519508</td>\n",
       "      <td>0.519508</td>\n",
       "      <td>0.549807</td>\n",
       "    </tr>\n",
       "  </tbody>\n",
       "</table>\n",
       "</div>"
      ],
      "text/plain": [
       "  Nome do Modelo          Nome do Algoritmo  ROC_AUC Score  AUC Score  \\\n",
       "0       Modelo 1        Logistic Regression       0.502197   0.502197   \n",
       "1       Modelo 2              Random Forest       0.519095   0.519095   \n",
       "2       Modelo 3        K-Nearest Neighbors       0.500318   0.500318   \n",
       "3       Modelo 4              Decision Tree       0.500585   0.500585   \n",
       "4       Modelo 5                        SVM       0.500996   0.500996   \n",
       "5       Modelo 6  Gradient Boosting Machine       0.509337   0.509337   \n",
       "6       Modelo 7                   AdaBoost       0.512905   0.512905   \n",
       "7       Modelo 8                   LightGBM       0.519508   0.519508   \n",
       "\n",
       "   Acuracia  \n",
       "0  0.504678  \n",
       "1  0.542653  \n",
       "2  0.517336  \n",
       "3  0.521189  \n",
       "4  0.511833  \n",
       "5  0.537149  \n",
       "6  0.511282  \n",
       "7  0.549807  "
      ]
     },
     "metadata": {},
     "output_type": "display_data"
    }
   ],
   "source": [
    "# Salvando as Métricas\n",
    "dict_modelo_LGBM = {\n",
    "    'Nome do Modelo': 'Modelo 8', \n",
    "    'Nome do Algoritmo': 'LightGBM', \n",
    "    'ROC_AUC Score': roc_auc_LGBM,\n",
    "    'AUC Score': auc_LGBM,\n",
    "    'Acuracia': acuracia_LGBM\n",
    "}\n",
    "\n",
    "# Adicionando as métricas ao DataFrame existente\n",
    "df_modelos = pd.concat([df_modelos, pd.DataFrame([dict_modelo_LGBM])], ignore_index=True)\n",
    "\n",
    "# Verifica as métricas salvas\n",
    "display(df_modelos)"
   ]
  },
  {
   "cell_type": "markdown",
   "id": "6d864ef3",
   "metadata": {},
   "source": [
    "<br><br><br>\n",
    "\n",
    "# <span style=\"color: green; font-size: 38px; font-weight: bold;\">Modelo 9 - XGBoost</span>\n",
    "\n",
    "<br>\n",
    "\n",
    "- Cria o modelo com os hiperparâmetros padrão para garantir um modelo eficiente e pronto para implementação prática.\n",
    "\n",
    "<br>\n",
    "\n",
    "### Criando o Modelo"
   ]
  },
  {
   "cell_type": "code",
   "execution_count": 83,
   "id": "1b4508a8",
   "metadata": {},
   "outputs": [
    {
     "name": "stdout",
     "output_type": "stream",
     "text": [
      "XGBClassifier(base_score=None, booster=None, callbacks=None,\n",
      "              colsample_bylevel=None, colsample_bynode=None,\n",
      "              colsample_bytree=None, device=None, early_stopping_rounds=None,\n",
      "              enable_categorical=False, eval_metric=None, feature_types=None,\n",
      "              gamma=None, grow_policy=None, importance_type=None,\n",
      "              interaction_constraints=None, learning_rate=None, max_bin=None,\n",
      "              max_cat_threshold=None, max_cat_to_onehot=None,\n",
      "              max_delta_step=None, max_depth=None, max_leaves=None,\n",
      "              min_child_weight=None, missing=nan, monotone_constraints=None,\n",
      "              multi_strategy=None, n_estimators=None, n_jobs=None,\n",
      "              num_parallel_tree=None, random_state=None, ...)\n"
     ]
    }
   ],
   "source": [
    "# Criando o modelo com hiperparâmetros padrão\n",
    "modelo_XGB = XGBClassifier()\n",
    "\n",
    "# Treinamento do modelo\n",
    "modelo_XGB.fit(X_treino, y_treino)\n",
    "\n",
    "# Visualizando o modelo treinado\n",
    "print(modelo_XGB)"
   ]
  },
  {
   "cell_type": "markdown",
   "id": "dd27496e",
   "metadata": {},
   "source": [
    "<br><br>\n",
    "\n",
    "## Previsão / Avaliação do Modelo"
   ]
  },
  {
   "cell_type": "code",
   "execution_count": 84,
   "id": "e1dcb6db",
   "metadata": {},
   "outputs": [
    {
     "name": "stdout",
     "output_type": "stream",
     "text": [
      "Previsões de Classe:\n",
      "[0 0 1 1 0]\n",
      "\n",
      "--------------------------------------------------------------------------------\n",
      "\n",
      "Previsões de Probabilidade para Cada Classe:\n",
      "[[0.6448345  0.35516548]\n",
      " [0.6291695  0.37083048]\n",
      " [0.39404267 0.6059573 ]\n",
      " [0.47699583 0.5230042 ]\n",
      " [0.6906713  0.3093287 ]]\n",
      "\n",
      "--------------------------------------------------------------------------------\n",
      "\n",
      "Previsões de Probabilidade para a Classe Positiva:\n",
      "[0.35516548 0.37083048 0.6059573  0.5230042  0.3093287 ]\n",
      "\n",
      "--------------------------------------------------------------------------------\n",
      "\n",
      "Matriz de Confusão:\n",
      "[[665 459]\n",
      " [402 291]]\n",
      "\n",
      "--------------------------------------------------------------------------------\n",
      "\n",
      "Acurácia: 0.5261\n",
      "ROC AUC Score: 0.4981\n",
      "AUC Score: 0.4981\n"
     ]
    }
   ],
   "source": [
    "## Previsões\n",
    "\n",
    "# Previsões com dados de teste\n",
    "y_pred_XGB = modelo_XGB.predict(X_teste)\n",
    "print('Previsões de Classe:')\n",
    "print(y_pred_XGB[:5])\n",
    "print('\\n' + '-' * 80 + '\\n')\n",
    "\n",
    "# Obtemos as previsões no formato de probabilidade para cada classe\n",
    "y_pred_proba_XGB = modelo_XGB.predict_proba(X_teste)\n",
    "print('Previsões de Probabilidade para Cada Classe:')\n",
    "print(y_pred_proba_XGB[:5])\n",
    "print('\\n' + '-' * 80 + '\\n')\n",
    "\n",
    "# Obtemos as previsões no formato de probabilidade filtrando para a classe positiva (Cálculo da Curva ROC)\n",
    "y_pred_proba_XGB_pos = modelo_XGB.predict_proba(X_teste)[:, 1]\n",
    "print('Previsões de Probabilidade para a Classe Positiva:')\n",
    "print(y_pred_proba_XGB_pos[:5])\n",
    "print('\\n' + '-' * 80 + '\\n')\n",
    "\n",
    "## Avaliação do Modelo\n",
    "\n",
    "# Matriz de confusão\n",
    "conf_matrix_XGB = confusion_matrix(y_teste, y_pred_XGB)\n",
    "print('Matriz de Confusão:')\n",
    "print(conf_matrix_XGB)\n",
    "print('\\n' + '-' * 80 + '\\n')\n",
    "\n",
    "# Extraindo cada valor da Confusion Matrix\n",
    "tn_XGB, fp_XGB, fn_XGB, tp_XGB = conf_matrix_XGB.ravel()\n",
    "\n",
    "# Calcula a métrica global AUC (Area Under The Curve) com dados reais e previsões em teste\n",
    "roc_auc_XGB = roc_auc_score(y_teste, y_pred_proba_XGB_pos)\n",
    "\n",
    "# Calcula a curva OC com dados e previsões em teste\n",
    "fpr_XGB, tpr_XGB, thresholds_XGB = roc_curve(y_teste, y_pred_proba_XGB_pos)\n",
    "\n",
    "# AUC em teste\n",
    "auc_XGB = auc(fpr_XGB, tpr_XGB)\n",
    "\n",
    "# Acurácia em teste\n",
    "acuracia_XGB = accuracy_score(y_teste, y_pred_XGB)\n",
    "\n",
    "# Exibindo as métricas\n",
    "print(f'Acurácia: {acuracia_XGB:.4f}')\n",
    "print(f'ROC AUC Score: {roc_auc_XGB:.4f}')\n",
    "print(f'AUC Score: {auc_XGB:.4f}')"
   ]
  },
  {
   "cell_type": "markdown",
   "id": "56bcec53",
   "metadata": {},
   "source": [
    "<br>\n",
    "\n",
    "#### Visualizando Importância das Variáveis"
   ]
  },
  {
   "cell_type": "code",
   "execution_count": 85,
   "id": "1b7c6d30",
   "metadata": {},
   "outputs": [
    {
     "name": "stdout",
     "output_type": "stream",
     "text": [
      "Visualizando Importância das Variáveis\n",
      "--------------------------------------------------------------------------------\n",
      "              Feature  Importance\n",
      "3            location    0.287030\n",
      "0         account_age    0.243505\n",
      "1  transaction_amount    0.236596\n",
      "2    transaction_type    0.232870\n",
      "--------------------------------------------------------------------------------\n"
     ]
    },
    {
     "data": {
      "image/png": "[encoded data removed]",
      "text/plain": [
       "<Figure size 720x576 with 1 Axes>"
      ]
     },
     "metadata": {
      "needs_background": "light"
     },
     "output_type": "display_data"
    }
   ],
   "source": [
    "# Extrair coeficientes do modelo\n",
    "importancias = modelo_XGB.feature_importances_\n",
    "\n",
    "# Criar DataFrame para visualização\n",
    "features = X_treino.columns\n",
    "df_importancias = pd.DataFrame({'Feature': features, 'Importance': importancias})\n",
    "df_importancias = df_importancias.sort_values(by='Importance', ascending=False)\n",
    "\n",
    "# Exibir importâncias\n",
    "print('Visualizando Importância das Variáveis')\n",
    "print(80*'-')\n",
    "print(df_importancias.head())\n",
    "print(80*'-')\n",
    "\n",
    "# Gráfico de barras da importância das variáveis\n",
    "plt.figure(figsize=(10, 8))\n",
    "sns.barplot(x='Importance', y='Feature', data=df_importancias)\n",
    "plt.title('Feature Importance from XGBoost')\n",
    "plt.xlabel('Importance')\n",
    "plt.ylabel('Features')\n",
    "plt.show()"
   ]
  },
  {
   "cell_type": "markdown",
   "id": "a4839d49",
   "metadata": {},
   "source": [
    "<br><br>\n",
    "\n",
    "### Salvando as Métricas"
   ]
  },
  {
   "cell_type": "code",
   "execution_count": 86,
   "id": "801ccfc9",
   "metadata": {},
   "outputs": [
    {
     "data": {
      "text/html": [
       "<div>\n",
       "<style scoped>\n",
       "    .dataframe tbody tr th:only-of-type {\n",
       "        vertical-align: middle;\n",
       "    }\n",
       "\n",
       "    .dataframe tbody tr th {\n",
       "        vertical-align: top;\n",
       "    }\n",
       "\n",
       "    .dataframe thead th {\n",
       "        text-align: right;\n",
       "    }\n",
       "</style>\n",
       "<table border=\"1\" class=\"dataframe\">\n",
       "  <thead>\n",
       "    <tr style=\"text-align: right;\">\n",
       "      <th></th>\n",
       "      <th>Nome do Modelo</th>\n",
       "      <th>Nome do Algoritmo</th>\n",
       "      <th>ROC_AUC Score</th>\n",
       "      <th>AUC Score</th>\n",
       "      <th>Acuracia</th>\n",
       "    </tr>\n",
       "  </thead>\n",
       "  <tbody>\n",
       "    <tr>\n",
       "      <th>0</th>\n",
       "      <td>Modelo 1</td>\n",
       "      <td>Logistic Regression</td>\n",
       "      <td>0.502197</td>\n",
       "      <td>0.502197</td>\n",
       "      <td>0.504678</td>\n",
       "    </tr>\n",
       "    <tr>\n",
       "      <th>1</th>\n",
       "      <td>Modelo 2</td>\n",
       "      <td>Random Forest</td>\n",
       "      <td>0.519095</td>\n",
       "      <td>0.519095</td>\n",
       "      <td>0.542653</td>\n",
       "    </tr>\n",
       "    <tr>\n",
       "      <th>2</th>\n",
       "      <td>Modelo 3</td>\n",
       "      <td>K-Nearest Neighbors</td>\n",
       "      <td>0.500318</td>\n",
       "      <td>0.500318</td>\n",
       "      <td>0.517336</td>\n",
       "    </tr>\n",
       "    <tr>\n",
       "      <th>3</th>\n",
       "      <td>Modelo 4</td>\n",
       "      <td>Decision Tree</td>\n",
       "      <td>0.500585</td>\n",
       "      <td>0.500585</td>\n",
       "      <td>0.521189</td>\n",
       "    </tr>\n",
       "    <tr>\n",
       "      <th>4</th>\n",
       "      <td>Modelo 5</td>\n",
       "      <td>SVM</td>\n",
       "      <td>0.500996</td>\n",
       "      <td>0.500996</td>\n",
       "      <td>0.511833</td>\n",
       "    </tr>\n",
       "    <tr>\n",
       "      <th>5</th>\n",
       "      <td>Modelo 6</td>\n",
       "      <td>Gradient Boosting Machine</td>\n",
       "      <td>0.509337</td>\n",
       "      <td>0.509337</td>\n",
       "      <td>0.537149</td>\n",
       "    </tr>\n",
       "    <tr>\n",
       "      <th>6</th>\n",
       "      <td>Modelo 7</td>\n",
       "      <td>AdaBoost</td>\n",
       "      <td>0.512905</td>\n",
       "      <td>0.512905</td>\n",
       "      <td>0.511282</td>\n",
       "    </tr>\n",
       "    <tr>\n",
       "      <th>7</th>\n",
       "      <td>Modelo 8</td>\n",
       "      <td>LightGBM</td>\n",
       "      <td>0.519508</td>\n",
       "      <td>0.519508</td>\n",
       "      <td>0.549807</td>\n",
       "    </tr>\n",
       "    <tr>\n",
       "      <th>8</th>\n",
       "      <td>Modelo 9</td>\n",
       "      <td>XGBoost</td>\n",
       "      <td>0.498101</td>\n",
       "      <td>0.498101</td>\n",
       "      <td>0.526142</td>\n",
       "    </tr>\n",
       "  </tbody>\n",
       "</table>\n",
       "</div>"
      ],
      "text/plain": [
       "  Nome do Modelo          Nome do Algoritmo  ROC_AUC Score  AUC Score  \\\n",
       "0       Modelo 1        Logistic Regression       0.502197   0.502197   \n",
       "1       Modelo 2              Random Forest       0.519095   0.519095   \n",
       "2       Modelo 3        K-Nearest Neighbors       0.500318   0.500318   \n",
       "3       Modelo 4              Decision Tree       0.500585   0.500585   \n",
       "4       Modelo 5                        SVM       0.500996   0.500996   \n",
       "5       Modelo 6  Gradient Boosting Machine       0.509337   0.509337   \n",
       "6       Modelo 7                   AdaBoost       0.512905   0.512905   \n",
       "7       Modelo 8                   LightGBM       0.519508   0.519508   \n",
       "8       Modelo 9                    XGBoost       0.498101   0.498101   \n",
       "\n",
       "   Acuracia  \n",
       "0  0.504678  \n",
       "1  0.542653  \n",
       "2  0.517336  \n",
       "3  0.521189  \n",
       "4  0.511833  \n",
       "5  0.537149  \n",
       "6  0.511282  \n",
       "7  0.549807  \n",
       "8  0.526142  "
      ]
     },
     "metadata": {},
     "output_type": "display_data"
    }
   ],
   "source": [
    "# Salvando as Métricas\n",
    "dict_modelo_XGB = {\n",
    "    'Nome do Modelo': 'Modelo 9', \n",
    "    'Nome do Algoritmo': 'XGBoost', \n",
    "    'ROC_AUC Score': roc_auc_XGB,\n",
    "    'AUC Score': auc_XGB,\n",
    "    'Acuracia': acuracia_XGB\n",
    "}\n",
    "\n",
    "# Adicionando as métricas ao DataFrame existente\n",
    "df_modelos = pd.concat([df_modelos, pd.DataFrame([dict_modelo_XGB])], ignore_index=True)\n",
    "\n",
    "# Verifica as métricas salvas\n",
    "display(df_modelos)"
   ]
  },
  {
   "cell_type": "markdown",
   "id": "d3769173",
   "metadata": {},
   "source": [
    "<br><br><br>\n",
    "\n",
    "# <span style=\"color: green; font-size: 38px; font-weight: bold;\">Modelo 10 - Naive Bayes</span>\n",
    "\n",
    "<br>\n",
    "\n",
    "- Cria o modelo com os hiperparâmetros padrão para garantir um modelo eficiente e pronto para implementação prática.\n",
    "\n",
    "<br>\n",
    "\n",
    "### Criando o Modelo"
   ]
  },
  {
   "cell_type": "code",
   "execution_count": 88,
   "id": "53c5082f",
   "metadata": {},
   "outputs": [
    {
     "name": "stdout",
     "output_type": "stream",
     "text": [
      "GaussianNB()\n"
     ]
    }
   ],
   "source": [
    "# Criando o modelo com hiperparâmetros padrão\n",
    "modelo_NB = GaussianNB()\n",
    "\n",
    "# Treinamento do modelo\n",
    "modelo_NB.fit(X_treino, y_treino)\n",
    "\n",
    "# Visualizando o modelo treinado\n",
    "print(modelo_NB)"
   ]
  },
  {
   "cell_type": "markdown",
   "id": "49215487",
   "metadata": {},
   "source": [
    "<br><br>\n",
    "\n",
    "## Previsão / Avaliação do Modelo"
   ]
  },
  {
   "cell_type": "code",
   "execution_count": 91,
   "id": "1c18083b",
   "metadata": {},
   "outputs": [
    {
     "name": "stdout",
     "output_type": "stream",
     "text": [
      "Previsões de Classe:\n",
      "[0 0 1 0 0]\n",
      "\n",
      "--------------------------------------------------------------------------------\n",
      "\n",
      "Previsões de Probabilidade para Cada Classe:\n",
      "[[0.51646376 0.48353624]\n",
      " [0.52293966 0.47706034]\n",
      " [0.42542887 0.57457113]\n",
      " [0.55430224 0.44569776]\n",
      " [0.6152104  0.3847896 ]]\n",
      "\n",
      "--------------------------------------------------------------------------------\n",
      "\n",
      "Previsões de Probabilidade para a Classe Positiva:\n",
      "[0.48353624 0.47706034 0.57457113 0.44569776 0.3847896 ]\n",
      "\n",
      "--------------------------------------------------------------------------------\n",
      "\n",
      "Matriz de Confusão:\n",
      "[[687 437]\n",
      " [417 276]]\n",
      "\n",
      "--------------------------------------------------------------------------------\n",
      "\n",
      "Acurácia: 0.5300\n",
      "ROC AUC Score: 0.5084\n",
      "AUC Score: 0.5084\n"
     ]
    }
   ],
   "source": [
    "## Previsões\n",
    "\n",
    "# Previsões com dados de teste\n",
    "y_pred_NB = modelo_NB.predict(X_teste)\n",
    "print('Previsões de Classe:')\n",
    "print(y_pred_NB[:5])\n",
    "print('\\n' + '-' * 80 + '\\n')\n",
    "\n",
    "# Obtemos as previsões no formato de probabilidade para cada classe\n",
    "y_pred_proba_NB = modelo_NB.predict_proba(X_teste)\n",
    "print('Previsões de Probabilidade para Cada Classe:')\n",
    "print(y_pred_proba_NB[:5])\n",
    "print('\\n' + '-' * 80 + '\\n')\n",
    "\n",
    "# Obtemos as previsões no formato de probabilidade filtrando para a classe positiva (Cálculo da Curva ROC)\n",
    "y_pred_proba_NB_pos = modelo_NB.predict_proba(X_teste)[:, 1]\n",
    "print('Previsões de Probabilidade para a Classe Positiva:')\n",
    "print(y_pred_proba_NB_pos[:5])\n",
    "print('\\n' + '-' * 80 + '\\n')\n",
    "\n",
    "## Avaliação do Modelo\n",
    "\n",
    "# Matriz de confusão\n",
    "conf_matrix_NB = confusion_matrix(y_teste, y_pred_NB)\n",
    "print('Matriz de Confusão:')\n",
    "print(conf_matrix_NB)\n",
    "print('\\n' + '-' * 80 + '\\n')\n",
    "\n",
    "# Extraindo cada valor da Confusion Matrix\n",
    "tn_NB, fp_NB, fn_NB, tp_NB = conf_matrix_NB.ravel()\n",
    "\n",
    "# Calcula a métrica global AUC (Area Under The Curve) com dados reais e previsões em teste\n",
    "roc_auc_NB = roc_auc_score(y_teste, y_pred_proba_NB_pos)\n",
    "\n",
    "# Calcula a curva ROC com dados e previsões em teste\n",
    "fpr_NB, tpr_NB, thresholds_NB = roc_curve(y_teste, y_pred_proba_NB_pos)\n",
    "\n",
    "# AUC em teste\n",
    "auc_NB = auc(fpr_NB, tpr_NB)\n",
    "\n",
    "# Acurácia em teste\n",
    "acuracia_NB = accuracy_score(y_teste, y_pred_NB)\n",
    "\n",
    "# Exibindo as métricas\n",
    "print(f'Acurácia: {acuracia_NB:.4f}')\n",
    "print(f'ROC AUC Score: {roc_auc_NB:.4f}')\n",
    "print(f'AUC Score: {auc_NB:.4f}')"
   ]
  },
  {
   "cell_type": "markdown",
   "id": "af5b9bb2",
   "metadata": {},
   "source": [
    "<br>\n",
    "\n",
    "#### Visualizando Importância das Variáveis"
   ]
  },
  {
   "cell_type": "code",
   "execution_count": 92,
   "id": "a5723bc0",
   "metadata": {},
   "outputs": [
    {
     "name": "stdout",
     "output_type": "stream",
     "text": [
      "Visualizando Importância das Variáveis\n",
      "--------------------------------------------------------------------------------\n",
      "              Feature  Importance\n",
      "2    transaction_type    0.002661\n",
      "3            location    0.002323\n",
      "1  transaction_amount    0.000031\n",
      "0         account_age    0.000007\n",
      "--------------------------------------------------------------------------------\n"
     ]
    },
    {
     "data": {
      "image/png": "[encoded data removed]",
      "text/plain": [
       "<Figure size 720x576 with 1 Axes>"
      ]
     },
     "metadata": {
      "needs_background": "light"
     },
     "output_type": "display_data"
    }
   ],
   "source": [
    "# Naive Bayes não fornece uma maneira direta de calcular a importância das variáveis,\n",
    "# mas podemos usar a média das variâncias para ter uma ideia da importância das variáveis.\n",
    "\n",
    "# Extraindo a variância das variáveis do modelo\n",
    "importancias = modelo_NB.theta_.var(axis=0)\n",
    "\n",
    "# Criar DataFrame para visualização\n",
    "features = X_treino.columns\n",
    "df_importancias = pd.DataFrame({'Feature': features, 'Importance': importancias})\n",
    "df_importancias = df_importancias.sort_values(by='Importance', ascending=False)\n",
    "\n",
    "# Exibir importâncias\n",
    "print('Visualizando Importância das Variáveis')\n",
    "print(80*'-')\n",
    "print(df_importancias.head())\n",
    "print(80*'-')\n",
    "\n",
    "# Gráfico de barras da importância das variáveis\n",
    "plt.figure(figsize=(10, 8))\n",
    "sns.barplot(x='Importance', y='Feature', data=df_importancias)\n",
    "plt.title('Feature Importance from Naive Bayes')\n",
    "plt.xlabel('Importance')\n",
    "plt.ylabel('Features')\n",
    "plt.show()"
   ]
  },
  {
   "cell_type": "markdown",
   "id": "71f6aa74",
   "metadata": {},
   "source": [
    "<br><br>\n",
    "\n",
    "### Salvando as Métricas"
   ]
  },
  {
   "cell_type": "code",
   "execution_count": 93,
   "id": "d0f0b8df",
   "metadata": {},
   "outputs": [
    {
     "data": {
      "text/html": [
       "<div>\n",
       "<style scoped>\n",
       "    .dataframe tbody tr th:only-of-type {\n",
       "        vertical-align: middle;\n",
       "    }\n",
       "\n",
       "    .dataframe tbody tr th {\n",
       "        vertical-align: top;\n",
       "    }\n",
       "\n",
       "    .dataframe thead th {\n",
       "        text-align: right;\n",
       "    }\n",
       "</style>\n",
       "<table border=\"1\" class=\"dataframe\">\n",
       "  <thead>\n",
       "    <tr style=\"text-align: right;\">\n",
       "      <th></th>\n",
       "      <th>Nome do Modelo</th>\n",
       "      <th>Nome do Algoritmo</th>\n",
       "      <th>ROC_AUC Score</th>\n",
       "      <th>AUC Score</th>\n",
       "      <th>Acuracia</th>\n",
       "    </tr>\n",
       "  </thead>\n",
       "  <tbody>\n",
       "    <tr>\n",
       "      <th>0</th>\n",
       "      <td>Modelo 1</td>\n",
       "      <td>Logistic Regression</td>\n",
       "      <td>0.502197</td>\n",
       "      <td>0.502197</td>\n",
       "      <td>0.504678</td>\n",
       "    </tr>\n",
       "    <tr>\n",
       "      <th>1</th>\n",
       "      <td>Modelo 2</td>\n",
       "      <td>Random Forest</td>\n",
       "      <td>0.519095</td>\n",
       "      <td>0.519095</td>\n",
       "      <td>0.542653</td>\n",
       "    </tr>\n",
       "    <tr>\n",
       "      <th>2</th>\n",
       "      <td>Modelo 3</td>\n",
       "      <td>K-Nearest Neighbors</td>\n",
       "      <td>0.500318</td>\n",
       "      <td>0.500318</td>\n",
       "      <td>0.517336</td>\n",
       "    </tr>\n",
       "    <tr>\n",
       "      <th>3</th>\n",
       "      <td>Modelo 4</td>\n",
       "      <td>Decision Tree</td>\n",
       "      <td>0.500585</td>\n",
       "      <td>0.500585</td>\n",
       "      <td>0.521189</td>\n",
       "    </tr>\n",
       "    <tr>\n",
       "      <th>4</th>\n",
       "      <td>Modelo 5</td>\n",
       "      <td>SVM</td>\n",
       "      <td>0.500996</td>\n",
       "      <td>0.500996</td>\n",
       "      <td>0.511833</td>\n",
       "    </tr>\n",
       "    <tr>\n",
       "      <th>5</th>\n",
       "      <td>Modelo 6</td>\n",
       "      <td>Gradient Boosting Machine</td>\n",
       "      <td>0.509337</td>\n",
       "      <td>0.509337</td>\n",
       "      <td>0.537149</td>\n",
       "    </tr>\n",
       "    <tr>\n",
       "      <th>6</th>\n",
       "      <td>Modelo 7</td>\n",
       "      <td>AdaBoost</td>\n",
       "      <td>0.512905</td>\n",
       "      <td>0.512905</td>\n",
       "      <td>0.511282</td>\n",
       "    </tr>\n",
       "    <tr>\n",
       "      <th>7</th>\n",
       "      <td>Modelo 8</td>\n",
       "      <td>LightGBM</td>\n",
       "      <td>0.519508</td>\n",
       "      <td>0.519508</td>\n",
       "      <td>0.549807</td>\n",
       "    </tr>\n",
       "    <tr>\n",
       "      <th>8</th>\n",
       "      <td>Modelo 9</td>\n",
       "      <td>XGBoost</td>\n",
       "      <td>0.498101</td>\n",
       "      <td>0.498101</td>\n",
       "      <td>0.526142</td>\n",
       "    </tr>\n",
       "    <tr>\n",
       "      <th>9</th>\n",
       "      <td>Modelo 10</td>\n",
       "      <td>Naive Bayes</td>\n",
       "      <td>0.508386</td>\n",
       "      <td>0.508386</td>\n",
       "      <td>0.529994</td>\n",
       "    </tr>\n",
       "  </tbody>\n",
       "</table>\n",
       "</div>"
      ],
      "text/plain": [
       "  Nome do Modelo          Nome do Algoritmo  ROC_AUC Score  AUC Score  \\\n",
       "0       Modelo 1        Logistic Regression       0.502197   0.502197   \n",
       "1       Modelo 2              Random Forest       0.519095   0.519095   \n",
       "2       Modelo 3        K-Nearest Neighbors       0.500318   0.500318   \n",
       "3       Modelo 4              Decision Tree       0.500585   0.500585   \n",
       "4       Modelo 5                        SVM       0.500996   0.500996   \n",
       "5       Modelo 6  Gradient Boosting Machine       0.509337   0.509337   \n",
       "6       Modelo 7                   AdaBoost       0.512905   0.512905   \n",
       "7       Modelo 8                   LightGBM       0.519508   0.519508   \n",
       "8       Modelo 9                    XGBoost       0.498101   0.498101   \n",
       "9      Modelo 10                Naive Bayes       0.508386   0.508386   \n",
       "\n",
       "   Acuracia  \n",
       "0  0.504678  \n",
       "1  0.542653  \n",
       "2  0.517336  \n",
       "3  0.521189  \n",
       "4  0.511833  \n",
       "5  0.537149  \n",
       "6  0.511282  \n",
       "7  0.549807  \n",
       "8  0.526142  \n",
       "9  0.529994  "
      ]
     },
     "metadata": {},
     "output_type": "display_data"
    }
   ],
   "source": [
    "# Salvando as Métricas\n",
    "dict_modelo_NB = {\n",
    "    'Nome do Modelo': 'Modelo 10', \n",
    "    'Nome do Algoritmo': 'Naive Bayes', \n",
    "    'ROC_AUC Score': roc_auc_NB,\n",
    "    'AUC Score': auc_NB,\n",
    "    'Acuracia': acuracia_NB\n",
    "}\n",
    "\n",
    "# Adicionando as métricas ao DataFrame existente\n",
    "df_modelos = pd.concat([df_modelos, pd.DataFrame([dict_modelo_NB])], ignore_index=True)\n",
    "\n",
    "# Verifica as métricas salvas\n",
    "display(df_modelos)"
   ]
  },
  {
   "cell_type": "markdown",
   "id": "a5ff0783",
   "metadata": {},
   "source": [
    "<br><br><br>\n",
    "\n",
    "# <span style=\"color: green; font-size: 38px; font-weight: bold;\">Modelo 11 - Neural Networks (Redes Neurais)</span>\n",
    "\n",
    "<br>\n",
    "\n",
    "- Cria o modelo com os hiperparâmetros padrão para garantir um modelo eficiente e pronto para implementação prática.\n",
    "\n",
    "<br>\n",
    "\n",
    "### Criando o Modelo"
   ]
  },
  {
   "cell_type": "code",
   "execution_count": 95,
   "id": "ea5ed71f",
   "metadata": {},
   "outputs": [
    {
     "name": "stdout",
     "output_type": "stream",
     "text": [
      "MLPClassifier(random_state=42)\n"
     ]
    }
   ],
   "source": [
    "# Criando o modelo com hiperparâmetros padrão\n",
    "modelo_NN = MLPClassifier(random_state=42)\n",
    "\n",
    "# Treinamento do modelo\n",
    "modelo_NN.fit(X_treino, y_treino)\n",
    "\n",
    "# Visualizando o modelo treinado\n",
    "print(modelo_NN)"
   ]
  },
  {
   "cell_type": "markdown",
   "id": "56108094",
   "metadata": {},
   "source": [
    "<br><br>\n",
    "\n",
    "## Previsão / Avaliação do Modelo"
   ]
  },
  {
   "cell_type": "code",
   "execution_count": 96,
   "id": "789e8f2a",
   "metadata": {},
   "outputs": [
    {
     "name": "stdout",
     "output_type": "stream",
     "text": [
      "Previsões de Classe:\n",
      "[0 0 0 0 0]\n",
      "\n",
      "--------------------------------------------------------------------------------\n",
      "\n",
      "Previsões de Probabilidade para Cada Classe:\n",
      "[[0.61258015 0.38741985]\n",
      " [0.5142272  0.4857728 ]\n",
      " [0.50215388 0.49784612]\n",
      " [0.55165011 0.44834989]\n",
      " [0.58654015 0.41345985]]\n",
      "\n",
      "--------------------------------------------------------------------------------\n",
      "\n",
      "Previsões de Probabilidade para a Classe Positiva:\n",
      "[0.38741985 0.4857728  0.49784612 0.44834989 0.41345985]\n",
      "\n",
      "--------------------------------------------------------------------------------\n",
      "\n",
      "Matriz de Confusão:\n",
      "[[671 453]\n",
      " [419 274]]\n",
      "\n",
      "--------------------------------------------------------------------------------\n",
      "\n",
      "Acurácia: 0.5201\n",
      "ROC AUC Score: 0.4990\n",
      "AUC Score: 0.4990\n"
     ]
    }
   ],
   "source": [
    "## Previsões\n",
    "\n",
    "# Previsões com dados de teste\n",
    "y_pred_NN = modelo_NN.predict(X_teste)\n",
    "print('Previsões de Classe:')\n",
    "print(y_pred_NN[:5])\n",
    "print('\\n' + '-' * 80 + '\\n')\n",
    "\n",
    "# Obtemos as previsões no formato de probabilidade para cada classe\n",
    "y_pred_proba_NN = modelo_NN.predict_proba(X_teste)\n",
    "print('Previsões de Probabilidade para Cada Classe:')\n",
    "print(y_pred_proba_NN[:5])\n",
    "print('\\n' + '-' * 80 + '\\n')\n",
    "\n",
    "# Obtemos as previsões no formato de probabilidade filtrando para a classe positiva (Cálculo da Curva ROC)\n",
    "y_pred_proba_NN_pos = modelo_NN.predict_proba(X_teste)[:, 1]\n",
    "print('Previsões de Probabilidade para a Classe Positiva:')\n",
    "print(y_pred_proba_NN_pos[:5])\n",
    "print('\\n' + '-' * 80 + '\\n')\n",
    "\n",
    "## Avaliação do Modelo\n",
    "\n",
    "# Matriz de confusão\n",
    "conf_matrix_NN = confusion_matrix(y_teste, y_pred_NN)\n",
    "print('Matriz de Confusão:')\n",
    "print(conf_matrix_NN)\n",
    "print('\\n' + '-' * 80 + '\\n')\n",
    "\n",
    "# Extraindo cada valor da Confusion Matrix\n",
    "tn_NN, fp_NN, fn_NN, tp_NN = conf_matrix_NN.ravel()\n",
    "\n",
    "# Calcula a métrica global AUC (Area Under The Curve) com dados reais e previsões em teste\n",
    "roc_auc_NN = roc_auc_score(y_teste, y_pred_proba_NN_pos)\n",
    "\n",
    "# Calcula a curva ROC com dados e previsões em teste\n",
    "fpr_NN, tpr_NN, thresholds_NN = roc_curve(y_teste, y_pred_proba_NN_pos)\n",
    "\n",
    "# AUC em teste\n",
    "auc_NN = auc(fpr_NN, tpr_NN)\n",
    "\n",
    "# Acurácia em teste\n",
    "acuracia_NN = accuracy_score(y_teste, y_pred_NN)\n",
    "\n",
    "# Exibindo as métricas\n",
    "print(f'Acurácia: {acuracia_NN:.4f}')\n",
    "print(f'ROC AUC Score: {roc_auc_NN:.4f}')\n",
    "print(f'AUC Score: {auc_NN:.4f}')"
   ]
  },
  {
   "cell_type": "markdown",
   "id": "407be4b1",
   "metadata": {},
   "source": [
    "<br>\n",
    "\n",
    "#### Visualizando Importância das Variáveis"
   ]
  },
  {
   "cell_type": "code",
   "execution_count": 97,
   "id": "8b2b2eef",
   "metadata": {},
   "outputs": [
    {
     "name": "stdout",
     "output_type": "stream",
     "text": [
      "Visualizando Importância das Variáveis\n",
      "--------------------------------------------------------------------------------\n",
      "              Feature  Importance\n",
      "2    transaction_type    0.180740\n",
      "0         account_age    0.157363\n",
      "3            location    0.157002\n",
      "1  transaction_amount    0.152856\n",
      "--------------------------------------------------------------------------------\n"
     ]
    },
    {
     "data": {
      "image/png": "[encoded data removed]",
      "text/plain": [
       "<Figure size 720x576 with 1 Axes>"
      ]
     },
     "metadata": {
      "needs_background": "light"
     },
     "output_type": "display_data"
    }
   ],
   "source": [
    "# Neural Networks não fornece uma maneira direta de calcular a importância das variáveis,\n",
    "# mas podemos usar a média dos coeficientes absolutos para ter uma ideia da importância das variáveis.\n",
    "\n",
    "# Extraindo os coeficientes do modelo\n",
    "coeficientes = np.mean(np.abs(modelo_NN.coefs_[0]), axis=1)\n",
    "\n",
    "# Criar DataFrame para visualização\n",
    "features = X_treino.columns\n",
    "df_importancias = pd.DataFrame({'Feature': features, 'Importance': coeficientes})\n",
    "df_importancias = df_importancias.sort_values(by='Importance', ascending=False)\n",
    "\n",
    "# Exibir importâncias\n",
    "print('Visualizando Importância das Variáveis')\n",
    "print(80*'-')\n",
    "print(df_importancias.head())\n",
    "print(80*'-')\n",
    "\n",
    "# Gráfico de barras da importância das variáveis\n",
    "plt.figure(figsize=(10, 8))\n",
    "sns.barplot(x='Importance', y='Feature', data=df_importancias)\n",
    "plt.title('Feature Importance from Neural Networks')\n",
    "plt.xlabel('Importance')\n",
    "plt.ylabel('Features')\n",
    "plt.show()"
   ]
  },
  {
   "cell_type": "markdown",
   "id": "045b7a22",
   "metadata": {},
   "source": [
    "<br><br>\n",
    "\n",
    "### Salvando as Métricas"
   ]
  },
  {
   "cell_type": "code",
   "execution_count": 98,
   "id": "123d5748",
   "metadata": {},
   "outputs": [
    {
     "data": {
      "text/html": [
       "<div>\n",
       "<style scoped>\n",
       "    .dataframe tbody tr th:only-of-type {\n",
       "        vertical-align: middle;\n",
       "    }\n",
       "\n",
       "    .dataframe tbody tr th {\n",
       "        vertical-align: top;\n",
       "    }\n",
       "\n",
       "    .dataframe thead th {\n",
       "        text-align: right;\n",
       "    }\n",
       "</style>\n",
       "<table border=\"1\" class=\"dataframe\">\n",
       "  <thead>\n",
       "    <tr style=\"text-align: right;\">\n",
       "      <th></th>\n",
       "      <th>Nome do Modelo</th>\n",
       "      <th>Nome do Algoritmo</th>\n",
       "      <th>ROC_AUC Score</th>\n",
       "      <th>AUC Score</th>\n",
       "      <th>Acuracia</th>\n",
       "    </tr>\n",
       "  </thead>\n",
       "  <tbody>\n",
       "    <tr>\n",
       "      <th>0</th>\n",
       "      <td>Modelo 1</td>\n",
       "      <td>Logistic Regression</td>\n",
       "      <td>0.502197</td>\n",
       "      <td>0.502197</td>\n",
       "      <td>0.504678</td>\n",
       "    </tr>\n",
       "    <tr>\n",
       "      <th>1</th>\n",
       "      <td>Modelo 2</td>\n",
       "      <td>Random Forest</td>\n",
       "      <td>0.519095</td>\n",
       "      <td>0.519095</td>\n",
       "      <td>0.542653</td>\n",
       "    </tr>\n",
       "    <tr>\n",
       "      <th>2</th>\n",
       "      <td>Modelo 3</td>\n",
       "      <td>K-Nearest Neighbors</td>\n",
       "      <td>0.500318</td>\n",
       "      <td>0.500318</td>\n",
       "      <td>0.517336</td>\n",
       "    </tr>\n",
       "    <tr>\n",
       "      <th>3</th>\n",
       "      <td>Modelo 4</td>\n",
       "      <td>Decision Tree</td>\n",
       "      <td>0.500585</td>\n",
       "      <td>0.500585</td>\n",
       "      <td>0.521189</td>\n",
       "    </tr>\n",
       "    <tr>\n",
       "      <th>4</th>\n",
       "      <td>Modelo 5</td>\n",
       "      <td>SVM</td>\n",
       "      <td>0.500996</td>\n",
       "      <td>0.500996</td>\n",
       "      <td>0.511833</td>\n",
       "    </tr>\n",
       "    <tr>\n",
       "      <th>5</th>\n",
       "      <td>Modelo 6</td>\n",
       "      <td>Gradient Boosting Machine</td>\n",
       "      <td>0.509337</td>\n",
       "      <td>0.509337</td>\n",
       "      <td>0.537149</td>\n",
       "    </tr>\n",
       "    <tr>\n",
       "      <th>6</th>\n",
       "      <td>Modelo 7</td>\n",
       "      <td>AdaBoost</td>\n",
       "      <td>0.512905</td>\n",
       "      <td>0.512905</td>\n",
       "      <td>0.511282</td>\n",
       "    </tr>\n",
       "    <tr>\n",
       "      <th>7</th>\n",
       "      <td>Modelo 8</td>\n",
       "      <td>LightGBM</td>\n",
       "      <td>0.519508</td>\n",
       "      <td>0.519508</td>\n",
       "      <td>0.549807</td>\n",
       "    </tr>\n",
       "    <tr>\n",
       "      <th>8</th>\n",
       "      <td>Modelo 9</td>\n",
       "      <td>XGBoost</td>\n",
       "      <td>0.498101</td>\n",
       "      <td>0.498101</td>\n",
       "      <td>0.526142</td>\n",
       "    </tr>\n",
       "    <tr>\n",
       "      <th>9</th>\n",
       "      <td>Modelo 10</td>\n",
       "      <td>Naive Bayes</td>\n",
       "      <td>0.508386</td>\n",
       "      <td>0.508386</td>\n",
       "      <td>0.529994</td>\n",
       "    </tr>\n",
       "    <tr>\n",
       "      <th>10</th>\n",
       "      <td>Modelo 11</td>\n",
       "      <td>Neural Networks</td>\n",
       "      <td>0.499028</td>\n",
       "      <td>0.499028</td>\n",
       "      <td>0.520088</td>\n",
       "    </tr>\n",
       "  </tbody>\n",
       "</table>\n",
       "</div>"
      ],
      "text/plain": [
       "   Nome do Modelo          Nome do Algoritmo  ROC_AUC Score  AUC Score  \\\n",
       "0        Modelo 1        Logistic Regression       0.502197   0.502197   \n",
       "1        Modelo 2              Random Forest       0.519095   0.519095   \n",
       "2        Modelo 3        K-Nearest Neighbors       0.500318   0.500318   \n",
       "3        Modelo 4              Decision Tree       0.500585   0.500585   \n",
       "4        Modelo 5                        SVM       0.500996   0.500996   \n",
       "5        Modelo 6  Gradient Boosting Machine       0.509337   0.509337   \n",
       "6        Modelo 7                   AdaBoost       0.512905   0.512905   \n",
       "7        Modelo 8                   LightGBM       0.519508   0.519508   \n",
       "8        Modelo 9                    XGBoost       0.498101   0.498101   \n",
       "9       Modelo 10                Naive Bayes       0.508386   0.508386   \n",
       "10      Modelo 11            Neural Networks       0.499028   0.499028   \n",
       "\n",
       "    Acuracia  \n",
       "0   0.504678  \n",
       "1   0.542653  \n",
       "2   0.517336  \n",
       "3   0.521189  \n",
       "4   0.511833  \n",
       "5   0.537149  \n",
       "6   0.511282  \n",
       "7   0.549807  \n",
       "8   0.526142  \n",
       "9   0.529994  \n",
       "10  0.520088  "
      ]
     },
     "metadata": {},
     "output_type": "display_data"
    }
   ],
   "source": [
    "# Salvando as Métricas\n",
    "dict_modelo_NN = {\n",
    "    'Nome do Modelo': 'Modelo 11', \n",
    "    'Nome do Algoritmo': 'Neural Networks', \n",
    "    'ROC_AUC Score': roc_auc_NN,\n",
    "    'AUC Score': auc_NN,\n",
    "    'Acuracia': acuracia_NN\n",
    "}\n",
    "\n",
    "# Adicionando as métricas ao DataFrame existente\n",
    "df_modelos = pd.concat([df_modelos, pd.DataFrame([dict_modelo_NN])], ignore_index=True)\n",
    "\n",
    "# Verifica as métricas salvas\n",
    "display(df_modelos)"
   ]
  },
  {
   "cell_type": "markdown",
   "id": "eb40da9b",
   "metadata": {},
   "source": [
    "<br><br><br>\n",
    "\n",
    "# <span style=\"color: green; font-size: 38px; font-weight: bold;\">Modelo 12 - CatBoost</span>\n",
    "\n",
    "<br>\n",
    "\n",
    "- Cria o modelo com os hiperparâmetros padrão para garantir um modelo eficiente e pronto para implementação prática.\n",
    "\n",
    "<br>\n",
    "\n",
    "### Criando o Modelo"
   ]
  },
  {
   "cell_type": "code",
   "execution_count": 102,
   "id": "5bc0dff0",
   "metadata": {},
   "outputs": [
    {
     "name": "stdout",
     "output_type": "stream",
     "text": [
      "<catboost.core.CatBoostClassifier object at 0x7f9cb6284a60>\n"
     ]
    }
   ],
   "source": [
    "# Criando o modelo com hiperparâmetros padrão\n",
    "modelo_CatBoost = CatBoostClassifier(verbose=0, random_seed=42)\n",
    "\n",
    "# Treinamento do modelo\n",
    "modelo_CatBoost.fit(X_treino, y_treino)\n",
    "\n",
    "# Visualizando o modelo treinado\n",
    "print(modelo_CatBoost)"
   ]
  },
  {
   "cell_type": "markdown",
   "id": "505293f4",
   "metadata": {},
   "source": [
    "<br><br>\n",
    "\n",
    "## Previsão / Avaliação do Modelo"
   ]
  },
  {
   "cell_type": "code",
   "execution_count": 103,
   "id": "5bd00317",
   "metadata": {},
   "outputs": [
    {
     "name": "stdout",
     "output_type": "stream",
     "text": [
      "Previsões de Classe:\n",
      "[0 0 1 0 0]\n",
      "\n",
      "--------------------------------------------------------------------------------\n",
      "\n",
      "Previsões de Probabilidade para Cada Classe:\n",
      "[[0.60327099 0.39672901]\n",
      " [0.50313499 0.49686501]\n",
      " [0.46224406 0.53775594]\n",
      " [0.51553107 0.48446893]\n",
      " [0.66300359 0.33699641]]\n",
      "\n",
      "--------------------------------------------------------------------------------\n",
      "\n",
      "Previsões de Probabilidade para a Classe Positiva:\n",
      "[0.39672901 0.49686501 0.53775594 0.48446893 0.33699641]\n",
      "\n",
      "--------------------------------------------------------------------------------\n",
      "\n",
      "Matriz de Confusão:\n",
      "[[677 447]\n",
      " [402 291]]\n",
      "\n",
      "--------------------------------------------------------------------------------\n",
      "\n",
      "Acurácia: 0.5327\n",
      "ROC AUC Score: 0.5084\n",
      "AUC Score: 0.5084\n"
     ]
    }
   ],
   "source": [
    "## Previsões\n",
    "\n",
    "# Previsões com dados de teste\n",
    "y_pred_CatBoost = modelo_CatBoost.predict(X_teste)\n",
    "print('Previsões de Classe:')\n",
    "print(y_pred_CatBoost[:5])\n",
    "print('\\n' + '-' * 80 + '\\n')\n",
    "\n",
    "# Obtemos as previsões no formato de probabilidade para cada classe\n",
    "y_pred_proba_CatBoost = modelo_CatBoost.predict_proba(X_teste)\n",
    "print('Previsões de Probabilidade para Cada Classe:')\n",
    "print(y_pred_proba_CatBoost[:5])\n",
    "print('\\n' + '-' * 80 + '\\n')\n",
    "\n",
    "# Obtemos as previsões no formato de probabilidade filtrando para a classe positiva (Cálculo da Curva ROC)\n",
    "y_pred_proba_CatBoost_pos = modelo_CatBoost.predict_proba(X_teste)[:, 1]\n",
    "print('Previsões de Probabilidade para a Classe Positiva:')\n",
    "print(y_pred_proba_CatBoost_pos[:5])\n",
    "print('\\n' + '-' * 80 + '\\n')\n",
    "\n",
    "## Avaliação do Modelo\n",
    "\n",
    "# Matriz de confusão\n",
    "conf_matrix_CatBoost = confusion_matrix(y_teste, y_pred_CatBoost)\n",
    "print('Matriz de Confusão:')\n",
    "print(conf_matrix_CatBoost)\n",
    "print('\\n' + '-' * 80 + '\\n')\n",
    "\n",
    "# Extraindo cada valor da Confusion Matrix\n",
    "tn_CatBoost, fp_CatBoost, fn_CatBoost, tp_CatBoost = conf_matrix_CatBoost.ravel()\n",
    "\n",
    "# Calcula a métrica global AUC (Area Under The Curve) com dados reais e previsões em teste\n",
    "roc_auc_CatBoost = roc_auc_score(y_teste, y_pred_proba_CatBoost_pos)\n",
    "\n",
    "# Calcula a curva ROC com dados e previsões em teste\n",
    "fpr_CatBoost, tpr_CatBoost, thresholds_CatBoost = roc_curve(y_teste, y_pred_proba_CatBoost_pos)\n",
    "\n",
    "# AUC em teste\n",
    "auc_CatBoost = auc(fpr_CatBoost, tpr_CatBoost)\n",
    "\n",
    "# Acurácia em teste\n",
    "acuracia_CatBoost = accuracy_score(y_teste, y_pred_CatBoost)\n",
    "\n",
    "# Exibindo as métricas\n",
    "print(f'Acurácia: {acuracia_CatBoost:.4f}')\n",
    "print(f'ROC AUC Score: {roc_auc_CatBoost:.4f}')\n",
    "print(f'AUC Score: {auc_CatBoost:.4f}')"
   ]
  },
  {
   "cell_type": "markdown",
   "id": "2e810920",
   "metadata": {},
   "source": [
    "<br>\n",
    "\n",
    "#### Visualizando Importância das Variáveis"
   ]
  },
  {
   "cell_type": "code",
   "execution_count": 104,
   "id": "06e9901d",
   "metadata": {},
   "outputs": [
    {
     "name": "stdout",
     "output_type": "stream",
     "text": [
      "Visualizando Importância das Variáveis\n",
      "--------------------------------------------------------------------------------\n",
      "              Feature  Importance\n",
      "0         account_age   40.709397\n",
      "1  transaction_amount   38.632003\n",
      "2    transaction_type   12.035764\n",
      "3            location    8.622836\n",
      "--------------------------------------------------------------------------------\n"
     ]
    },
    {
     "data": {
      "image/png": "[encoded data removed]",
      "text/plain": [
       "<Figure size 720x576 with 1 Axes>"
      ]
     },
     "metadata": {
      "needs_background": "light"
     },
     "output_type": "display_data"
    }
   ],
   "source": [
    "# Extrair coeficientes do modelo\n",
    "importancias = modelo_CatBoost.get_feature_importance()\n",
    "\n",
    "# Criar DataFrame para visualização\n",
    "features = X_treino.columns\n",
    "df_importancias = pd.DataFrame({'Feature': features, 'Importance': importancias})\n",
    "df_importancias = df_importancias.sort_values(by='Importance', ascending=False)\n",
    "\n",
    "# Exibir importâncias\n",
    "print('Visualizando Importância das Variáveis')\n",
    "print(80*'-')\n",
    "print(df_importancias.head())\n",
    "print(80*'-')\n",
    "\n",
    "# Gráfico de barras da importância das variáveis\n",
    "plt.figure(figsize=(10, 8))\n",
    "sns.barplot(x='Importance', y='Feature', data=df_importancias)\n",
    "plt.title('Feature Importance from CatBoost')\n",
    "plt.xlabel('Importance')\n",
    "plt.ylabel('Features')\n",
    "plt.show()"
   ]
  },
  {
   "cell_type": "markdown",
   "id": "9eb5c472",
   "metadata": {},
   "source": [
    "<br><br>\n",
    "\n",
    "### Salvando as Métricas"
   ]
  },
  {
   "cell_type": "code",
   "execution_count": 105,
   "id": "3c9850cf",
   "metadata": {},
   "outputs": [
    {
     "data": {
      "text/html": [
       "<div>\n",
       "<style scoped>\n",
       "    .dataframe tbody tr th:only-of-type {\n",
       "        vertical-align: middle;\n",
       "    }\n",
       "\n",
       "    .dataframe tbody tr th {\n",
       "        vertical-align: top;\n",
       "    }\n",
       "\n",
       "    .dataframe thead th {\n",
       "        text-align: right;\n",
       "    }\n",
       "</style>\n",
       "<table border=\"1\" class=\"dataframe\">\n",
       "  <thead>\n",
       "    <tr style=\"text-align: right;\">\n",
       "      <th></th>\n",
       "      <th>Nome do Modelo</th>\n",
       "      <th>Nome do Algoritmo</th>\n",
       "      <th>ROC_AUC Score</th>\n",
       "      <th>AUC Score</th>\n",
       "      <th>Acuracia</th>\n",
       "    </tr>\n",
       "  </thead>\n",
       "  <tbody>\n",
       "    <tr>\n",
       "      <th>0</th>\n",
       "      <td>Modelo 1</td>\n",
       "      <td>Logistic Regression</td>\n",
       "      <td>0.502197</td>\n",
       "      <td>0.502197</td>\n",
       "      <td>0.504678</td>\n",
       "    </tr>\n",
       "    <tr>\n",
       "      <th>1</th>\n",
       "      <td>Modelo 2</td>\n",
       "      <td>Random Forest</td>\n",
       "      <td>0.519095</td>\n",
       "      <td>0.519095</td>\n",
       "      <td>0.542653</td>\n",
       "    </tr>\n",
       "    <tr>\n",
       "      <th>2</th>\n",
       "      <td>Modelo 3</td>\n",
       "      <td>K-Nearest Neighbors</td>\n",
       "      <td>0.500318</td>\n",
       "      <td>0.500318</td>\n",
       "      <td>0.517336</td>\n",
       "    </tr>\n",
       "    <tr>\n",
       "      <th>3</th>\n",
       "      <td>Modelo 4</td>\n",
       "      <td>Decision Tree</td>\n",
       "      <td>0.500585</td>\n",
       "      <td>0.500585</td>\n",
       "      <td>0.521189</td>\n",
       "    </tr>\n",
       "    <tr>\n",
       "      <th>4</th>\n",
       "      <td>Modelo 5</td>\n",
       "      <td>SVM</td>\n",
       "      <td>0.500996</td>\n",
       "      <td>0.500996</td>\n",
       "      <td>0.511833</td>\n",
       "    </tr>\n",
       "    <tr>\n",
       "      <th>5</th>\n",
       "      <td>Modelo 6</td>\n",
       "      <td>Gradient Boosting Machine</td>\n",
       "      <td>0.509337</td>\n",
       "      <td>0.509337</td>\n",
       "      <td>0.537149</td>\n",
       "    </tr>\n",
       "    <tr>\n",
       "      <th>6</th>\n",
       "      <td>Modelo 7</td>\n",
       "      <td>AdaBoost</td>\n",
       "      <td>0.512905</td>\n",
       "      <td>0.512905</td>\n",
       "      <td>0.511282</td>\n",
       "    </tr>\n",
       "    <tr>\n",
       "      <th>7</th>\n",
       "      <td>Modelo 8</td>\n",
       "      <td>LightGBM</td>\n",
       "      <td>0.519508</td>\n",
       "      <td>0.519508</td>\n",
       "      <td>0.549807</td>\n",
       "    </tr>\n",
       "    <tr>\n",
       "      <th>8</th>\n",
       "      <td>Modelo 9</td>\n",
       "      <td>XGBoost</td>\n",
       "      <td>0.498101</td>\n",
       "      <td>0.498101</td>\n",
       "      <td>0.526142</td>\n",
       "    </tr>\n",
       "    <tr>\n",
       "      <th>9</th>\n",
       "      <td>Modelo 10</td>\n",
       "      <td>Naive Bayes</td>\n",
       "      <td>0.508386</td>\n",
       "      <td>0.508386</td>\n",
       "      <td>0.529994</td>\n",
       "    </tr>\n",
       "    <tr>\n",
       "      <th>10</th>\n",
       "      <td>Modelo 11</td>\n",
       "      <td>Neural Networks</td>\n",
       "      <td>0.499028</td>\n",
       "      <td>0.499028</td>\n",
       "      <td>0.520088</td>\n",
       "    </tr>\n",
       "    <tr>\n",
       "      <th>11</th>\n",
       "      <td>Modelo 12</td>\n",
       "      <td>CatBoost</td>\n",
       "      <td>0.508435</td>\n",
       "      <td>0.508435</td>\n",
       "      <td>0.532746</td>\n",
       "    </tr>\n",
       "  </tbody>\n",
       "</table>\n",
       "</div>"
      ],
      "text/plain": [
       "   Nome do Modelo          Nome do Algoritmo  ROC_AUC Score  AUC Score  \\\n",
       "0        Modelo 1        Logistic Regression       0.502197   0.502197   \n",
       "1        Modelo 2              Random Forest       0.519095   0.519095   \n",
       "2        Modelo 3        K-Nearest Neighbors       0.500318   0.500318   \n",
       "3        Modelo 4              Decision Tree       0.500585   0.500585   \n",
       "4        Modelo 5                        SVM       0.500996   0.500996   \n",
       "5        Modelo 6  Gradient Boosting Machine       0.509337   0.509337   \n",
       "6        Modelo 7                   AdaBoost       0.512905   0.512905   \n",
       "7        Modelo 8                   LightGBM       0.519508   0.519508   \n",
       "8        Modelo 9                    XGBoost       0.498101   0.498101   \n",
       "9       Modelo 10                Naive Bayes       0.508386   0.508386   \n",
       "10      Modelo 11            Neural Networks       0.499028   0.499028   \n",
       "11      Modelo 12                   CatBoost       0.508435   0.508435   \n",
       "\n",
       "    Acuracia  \n",
       "0   0.504678  \n",
       "1   0.542653  \n",
       "2   0.517336  \n",
       "3   0.521189  \n",
       "4   0.511833  \n",
       "5   0.537149  \n",
       "6   0.511282  \n",
       "7   0.549807  \n",
       "8   0.526142  \n",
       "9   0.529994  \n",
       "10  0.520088  \n",
       "11  0.532746  "
      ]
     },
     "metadata": {},
     "output_type": "display_data"
    }
   ],
   "source": [
    "# Salvando as Métricas\n",
    "dict_modelo_CatBoost = {\n",
    "    'Nome do Modelo': 'Modelo 12', \n",
    "    'Nome do Algoritmo': 'CatBoost', \n",
    "    'ROC_AUC Score': roc_auc_CatBoost,\n",
    "    'AUC Score': auc_CatBoost,\n",
    "    'Acuracia': acuracia_CatBoost\n",
    "}\n",
    "\n",
    "# Adicionando as métricas ao DataFrame existente\n",
    "df_modelos = pd.concat([df_modelos, pd.DataFrame([dict_modelo_CatBoost])], ignore_index=True)\n",
    "\n",
    "# Verifica as métricas salvas\n",
    "display(df_modelos)"
   ]
  },
  {
   "cell_type": "markdown",
   "id": "a187cf9b",
   "metadata": {},
   "source": [
    "<br><br><br>\n",
    "\n",
    "# <span style=\"color: green; font-size: 38px; font-weight: bold;\">Modelo 13 - Extra Trees (Extremely Randomized Trees)</span>\n",
    "\n",
    "<br>\n",
    "\n",
    "- Cria o modelo com os hiperparâmetros padrão para garantir um modelo eficiente e pronto para implementação prática.\n",
    "\n",
    "<br>\n",
    "\n",
    "### Criando o Modelo"
   ]
  },
  {
   "cell_type": "code",
   "execution_count": 106,
   "id": "9cf7cf21",
   "metadata": {},
   "outputs": [
    {
     "name": "stdout",
     "output_type": "stream",
     "text": [
      "ExtraTreesClassifier(random_state=42)\n"
     ]
    }
   ],
   "source": [
    "# Criando o modelo com hiperparâmetros padrão\n",
    "modelo_ET = ExtraTreesClassifier(random_state=42)\n",
    "\n",
    "# Treinamento do modelo\n",
    "modelo_ET.fit(X_treino, y_treino)\n",
    "\n",
    "# Visualizando o modelo treinado\n",
    "print(modelo_ET)"
   ]
  },
  {
   "cell_type": "markdown",
   "id": "f3f24c9d",
   "metadata": {},
   "source": [
    "<br><br>\n",
    "\n",
    "## Previsão / Avaliação do Modelo"
   ]
  },
  {
   "cell_type": "code",
   "execution_count": 107,
   "id": "379c5504",
   "metadata": {},
   "outputs": [
    {
     "name": "stdout",
     "output_type": "stream",
     "text": [
      "Previsões de Classe:\n",
      "[1 0 0 1 0]\n",
      "\n",
      "--------------------------------------------------------------------------------\n",
      "\n",
      "Previsões de Probabilidade para Cada Classe:\n",
      "[[0.29 0.71]\n",
      " [0.59 0.41]\n",
      " [0.63 0.37]\n",
      " [0.35 0.65]\n",
      " [0.9  0.1 ]]\n",
      "\n",
      "--------------------------------------------------------------------------------\n",
      "\n",
      "Previsões de Probabilidade para a Classe Positiva:\n",
      "[0.71 0.41 0.37 0.65 0.1 ]\n",
      "\n",
      "--------------------------------------------------------------------------------\n",
      "\n",
      "Matriz de Confusão:\n",
      "[[717 407]\n",
      " [426 267]]\n",
      "\n",
      "--------------------------------------------------------------------------------\n",
      "\n",
      "Acurácia: 0.5416\n",
      "ROC AUC Score: 0.5128\n",
      "AUC Score: 0.5128\n"
     ]
    }
   ],
   "source": [
    "## Previsões\n",
    "\n",
    "# Previsões com dados de teste\n",
    "y_pred_ET = modelo_ET.predict(X_teste)\n",
    "print('Previsões de Classe:')\n",
    "print(y_pred_ET[:5])\n",
    "print('\\n' + '-' * 80 + '\\n')\n",
    "\n",
    "# Obtemos as previsões no formato de probabilidade para cada classe\n",
    "y_pred_proba_ET = modelo_ET.predict_proba(X_teste)\n",
    "print('Previsões de Probabilidade para Cada Classe:')\n",
    "print(y_pred_proba_ET[:5])\n",
    "print('\\n' + '-' * 80 + '\\n')\n",
    "\n",
    "# Obtemos as previsões no formato de probabilidade filtrando para a classe positiva (Cálculo da Curva ROC)\n",
    "y_pred_proba_ET_pos = modelo_ET.predict_proba(X_teste)[:, 1]\n",
    "print('Previsões de Probabilidade para a Classe Positiva:')\n",
    "print(y_pred_proba_ET_pos[:5])\n",
    "print('\\n' + '-' * 80 + '\\n')\n",
    "\n",
    "## Avaliação do Modelo\n",
    "\n",
    "# Matriz de confusão\n",
    "conf_matrix_ET = confusion_matrix(y_teste, y_pred_ET)\n",
    "print('Matriz de Confusão:')\n",
    "print(conf_matrix_ET)\n",
    "print('\\n' + '-' * 80 + '\\n')\n",
    "\n",
    "# Extraindo cada valor da Confusion Matrix\n",
    "tn_ET, fp_ET, fn_ET, tp_ET = conf_matrix_ET.ravel()\n",
    "\n",
    "# Calcula a métrica global AUC (Area Under The Curve) com dados reais e previsões em teste\n",
    "roc_auc_ET = roc_auc_score(y_teste, y_pred_proba_ET_pos)\n",
    "\n",
    "# Calcula a curva ROC com dados e previsões em teste\n",
    "fpr_ET, tpr_ET, thresholds_ET = roc_curve(y_teste, y_pred_proba_ET_pos)\n",
    "\n",
    "# AUC em teste\n",
    "auc_ET = auc(fpr_ET, tpr_ET)\n",
    "\n",
    "# Acurácia em teste\n",
    "acuracia_ET = accuracy_score(y_teste, y_pred_ET)\n",
    "\n",
    "# Exibindo as métricas\n",
    "print(f'Acurácia: {acuracia_ET:.4f}')\n",
    "print(f'ROC AUC Score: {roc_auc_ET:.4f}')\n",
    "print(f'AUC Score: {auc_ET:.4f}')"
   ]
  },
  {
   "cell_type": "markdown",
   "id": "6e36ce03",
   "metadata": {},
   "source": [
    "<br>\n",
    "\n",
    "#### Visualizando Importância das Variáveis"
   ]
  },
  {
   "cell_type": "code",
   "execution_count": 108,
   "id": "43df8e91",
   "metadata": {},
   "outputs": [
    {
     "name": "stdout",
     "output_type": "stream",
     "text": [
      "Visualizando Importância das Variáveis\n",
      "--------------------------------------------------------------------------------\n",
      "              Feature  Importance\n",
      "1  transaction_amount    0.544671\n",
      "0         account_age    0.431331\n",
      "2    transaction_type    0.013748\n",
      "3            location    0.010251\n",
      "--------------------------------------------------------------------------------\n"
     ]
    },
    {
     "data": {
      "image/png": "[encoded data removed]",
      "text/plain": [
       "<Figure size 720x576 with 1 Axes>"
      ]
     },
     "metadata": {
      "needs_background": "light"
     },
     "output_type": "display_data"
    }
   ],
   "source": [
    "# Extrair coeficientes do modelo\n",
    "importancias = modelo_ET.feature_importances_\n",
    "\n",
    "# Criar DataFrame para visualização\n",
    "features = X_treino.columns\n",
    "df_importancias = pd.DataFrame({'Feature': features, 'Importance': importancias})\n",
    "df_importancias = df_importancias.sort_values(by='Importance', ascending=False)\n",
    "\n",
    "# Exibir importâncias\n",
    "print('Visualizando Importância das Variáveis')\n",
    "print(80*'-')\n",
    "print(df_importancias.head())\n",
    "print(80*'-')\n",
    "\n",
    "# Gráfico de barras da importância das variáveis\n",
    "plt.figure(figsize=(10, 8))\n",
    "sns.barplot(x='Importance', y='Feature', data=df_importancias)\n",
    "plt.title('Feature Importance from Extra Trees')\n",
    "plt.xlabel('Importance')\n",
    "plt.ylabel('Features')\n",
    "plt.show()"
   ]
  },
  {
   "cell_type": "markdown",
   "id": "2107b7b6",
   "metadata": {},
   "source": [
    "<br><br>\n",
    "\n",
    "### Salvando as Métricas"
   ]
  },
  {
   "cell_type": "code",
   "execution_count": 109,
   "id": "8e9d2c30",
   "metadata": {},
   "outputs": [
    {
     "data": {
      "text/html": [
       "<div>\n",
       "<style scoped>\n",
       "    .dataframe tbody tr th:only-of-type {\n",
       "        vertical-align: middle;\n",
       "    }\n",
       "\n",
       "    .dataframe tbody tr th {\n",
       "        vertical-align: top;\n",
       "    }\n",
       "\n",
       "    .dataframe thead th {\n",
       "        text-align: right;\n",
       "    }\n",
       "</style>\n",
       "<table border=\"1\" class=\"dataframe\">\n",
       "  <thead>\n",
       "    <tr style=\"text-align: right;\">\n",
       "      <th></th>\n",
       "      <th>Nome do Modelo</th>\n",
       "      <th>Nome do Algoritmo</th>\n",
       "      <th>ROC_AUC Score</th>\n",
       "      <th>AUC Score</th>\n",
       "      <th>Acuracia</th>\n",
       "    </tr>\n",
       "  </thead>\n",
       "  <tbody>\n",
       "    <tr>\n",
       "      <th>0</th>\n",
       "      <td>Modelo 1</td>\n",
       "      <td>Logistic Regression</td>\n",
       "      <td>0.502197</td>\n",
       "      <td>0.502197</td>\n",
       "      <td>0.504678</td>\n",
       "    </tr>\n",
       "    <tr>\n",
       "      <th>1</th>\n",
       "      <td>Modelo 2</td>\n",
       "      <td>Random Forest</td>\n",
       "      <td>0.519095</td>\n",
       "      <td>0.519095</td>\n",
       "      <td>0.542653</td>\n",
       "    </tr>\n",
       "    <tr>\n",
       "      <th>2</th>\n",
       "      <td>Modelo 3</td>\n",
       "      <td>K-Nearest Neighbors</td>\n",
       "      <td>0.500318</td>\n",
       "      <td>0.500318</td>\n",
       "      <td>0.517336</td>\n",
       "    </tr>\n",
       "    <tr>\n",
       "      <th>3</th>\n",
       "      <td>Modelo 4</td>\n",
       "      <td>Decision Tree</td>\n",
       "      <td>0.500585</td>\n",
       "      <td>0.500585</td>\n",
       "      <td>0.521189</td>\n",
       "    </tr>\n",
       "    <tr>\n",
       "      <th>4</th>\n",
       "      <td>Modelo 5</td>\n",
       "      <td>SVM</td>\n",
       "      <td>0.500996</td>\n",
       "      <td>0.500996</td>\n",
       "      <td>0.511833</td>\n",
       "    </tr>\n",
       "    <tr>\n",
       "      <th>5</th>\n",
       "      <td>Modelo 6</td>\n",
       "      <td>Gradient Boosting Machine</td>\n",
       "      <td>0.509337</td>\n",
       "      <td>0.509337</td>\n",
       "      <td>0.537149</td>\n",
       "    </tr>\n",
       "    <tr>\n",
       "      <th>6</th>\n",
       "      <td>Modelo 7</td>\n",
       "      <td>AdaBoost</td>\n",
       "      <td>0.512905</td>\n",
       "      <td>0.512905</td>\n",
       "      <td>0.511282</td>\n",
       "    </tr>\n",
       "    <tr>\n",
       "      <th>7</th>\n",
       "      <td>Modelo 8</td>\n",
       "      <td>LightGBM</td>\n",
       "      <td>0.519508</td>\n",
       "      <td>0.519508</td>\n",
       "      <td>0.549807</td>\n",
       "    </tr>\n",
       "    <tr>\n",
       "      <th>8</th>\n",
       "      <td>Modelo 9</td>\n",
       "      <td>XGBoost</td>\n",
       "      <td>0.498101</td>\n",
       "      <td>0.498101</td>\n",
       "      <td>0.526142</td>\n",
       "    </tr>\n",
       "    <tr>\n",
       "      <th>9</th>\n",
       "      <td>Modelo 10</td>\n",
       "      <td>Naive Bayes</td>\n",
       "      <td>0.508386</td>\n",
       "      <td>0.508386</td>\n",
       "      <td>0.529994</td>\n",
       "    </tr>\n",
       "    <tr>\n",
       "      <th>10</th>\n",
       "      <td>Modelo 11</td>\n",
       "      <td>Neural Networks</td>\n",
       "      <td>0.499028</td>\n",
       "      <td>0.499028</td>\n",
       "      <td>0.520088</td>\n",
       "    </tr>\n",
       "    <tr>\n",
       "      <th>11</th>\n",
       "      <td>Modelo 12</td>\n",
       "      <td>CatBoost</td>\n",
       "      <td>0.508435</td>\n",
       "      <td>0.508435</td>\n",
       "      <td>0.532746</td>\n",
       "    </tr>\n",
       "    <tr>\n",
       "      <th>12</th>\n",
       "      <td>Modelo 13</td>\n",
       "      <td>Extra Trees</td>\n",
       "      <td>0.512812</td>\n",
       "      <td>0.512812</td>\n",
       "      <td>0.541552</td>\n",
       "    </tr>\n",
       "  </tbody>\n",
       "</table>\n",
       "</div>"
      ],
      "text/plain": [
       "   Nome do Modelo          Nome do Algoritmo  ROC_AUC Score  AUC Score  \\\n",
       "0        Modelo 1        Logistic Regression       0.502197   0.502197   \n",
       "1        Modelo 2              Random Forest       0.519095   0.519095   \n",
       "2        Modelo 3        K-Nearest Neighbors       0.500318   0.500318   \n",
       "3        Modelo 4              Decision Tree       0.500585   0.500585   \n",
       "4        Modelo 5                        SVM       0.500996   0.500996   \n",
       "5        Modelo 6  Gradient Boosting Machine       0.509337   0.509337   \n",
       "6        Modelo 7                   AdaBoost       0.512905   0.512905   \n",
       "7        Modelo 8                   LightGBM       0.519508   0.519508   \n",
       "8        Modelo 9                    XGBoost       0.498101   0.498101   \n",
       "9       Modelo 10                Naive Bayes       0.508386   0.508386   \n",
       "10      Modelo 11            Neural Networks       0.499028   0.499028   \n",
       "11      Modelo 12                   CatBoost       0.508435   0.508435   \n",
       "12      Modelo 13                Extra Trees       0.512812   0.512812   \n",
       "\n",
       "    Acuracia  \n",
       "0   0.504678  \n",
       "1   0.542653  \n",
       "2   0.517336  \n",
       "3   0.521189  \n",
       "4   0.511833  \n",
       "5   0.537149  \n",
       "6   0.511282  \n",
       "7   0.549807  \n",
       "8   0.526142  \n",
       "9   0.529994  \n",
       "10  0.520088  \n",
       "11  0.532746  \n",
       "12  0.541552  "
      ]
     },
     "metadata": {},
     "output_type": "display_data"
    }
   ],
   "source": [
    "# Salvando as Métricas\n",
    "dict_modelo_ET = {\n",
    "    'Nome do Modelo': 'Modelo 13', \n",
    "    'Nome do Algoritmo': 'Extra Trees', \n",
    "    'ROC_AUC Score': roc_auc_ET,\n",
    "    'AUC Score': auc_ET,\n",
    "    'Acuracia': acuracia_ET\n",
    "}\n",
    "\n",
    "# Adicionando as métricas ao DataFrame existente\n",
    "df_modelos = pd.concat([df_modelos, pd.DataFrame([dict_modelo_ET])], ignore_index=True)\n",
    "\n",
    "# Verifica as métricas salvas\n",
    "display(df_modelos)"
   ]
  },
  {
   "cell_type": "markdown",
   "id": "05878c20",
   "metadata": {},
   "source": [
    "<br><br><br>\n",
    "\n",
    "# <span style=\"color: green; font-size: 38px; font-weight: bold;\">Modelo 14 - Voting Classifier</span>\n",
    "\n",
    "<br>\n",
    "\n",
    "- Cria o modelo combinando as previsões de vários modelos de machine learning para melhorar a robustez e a precisão das previsões. Usaremos os modelos Logistic Regression, Random Forest e SVM como base para o Voting Classifier.\n",
    "\n",
    "<br>\n",
    "\n",
    "### Criando o Modelo"
   ]
  },
  {
   "cell_type": "code",
   "execution_count": 111,
   "id": "d7f6c0e7",
   "metadata": {},
   "outputs": [],
   "source": [
    "# Criando os modelos base\n",
    "modelo_logistic = LogisticRegression(max_iter=1000)\n",
    "modelo_rf = RandomForestClassifier()\n",
    "modelo_svm = SVC(probability=True)"
   ]
  },
  {
   "cell_type": "markdown",
   "id": "a2806d37",
   "metadata": {},
   "source": [
    "#### Construindo e Treinando o Modelo com Voting Classifier"
   ]
  },
  {
   "cell_type": "code",
   "execution_count": 112,
   "id": "b7534557",
   "metadata": {},
   "outputs": [
    {
     "name": "stdout",
     "output_type": "stream",
     "text": [
      "VotingClassifier(estimators=[('logistic', LogisticRegression(max_iter=1000)),\n",
      "                             ('rf', RandomForestClassifier()),\n",
      "                             ('svm', SVC(probability=True))],\n",
      "                 voting='soft')\n"
     ]
    }
   ],
   "source": [
    "# Criando o Voting Classifier com os modelos base\n",
    "modelo_voting = VotingClassifier(\n",
    "    estimators=[\n",
    "        ('logistic', modelo_logistic),\n",
    "        ('rf', modelo_rf),\n",
    "        ('svm', modelo_svm)\n",
    "    ],\n",
    "    voting='soft'\n",
    ")\n",
    "\n",
    "# Treinamento do modelo\n",
    "modelo_voting.fit(X_treino, y_treino)\n",
    "\n",
    "# Visualizando o modelo treinado\n",
    "print(modelo_voting)"
   ]
  },
  {
   "cell_type": "markdown",
   "id": "2d29b2f2",
   "metadata": {},
   "source": [
    "<br><br>\n",
    "\n",
    "## Previsão / Avaliação do Modelo"
   ]
  },
  {
   "cell_type": "code",
   "execution_count": 113,
   "id": "05598c09",
   "metadata": {},
   "outputs": [
    {
     "name": "stdout",
     "output_type": "stream",
     "text": [
      "Previsões de Classe:\n",
      "[0 0 1 1 0]\n",
      "\n",
      "--------------------------------------------------------------------------------\n",
      "\n",
      "Previsões de Probabilidade para Cada Classe:\n",
      "[[0.50020565 0.49979435]\n",
      " [0.57426441 0.42573559]\n",
      " [0.44637092 0.55362908]\n",
      " [0.46112587 0.53887413]\n",
      " [0.67488534 0.32511466]]\n",
      "\n",
      "--------------------------------------------------------------------------------\n",
      "\n",
      "Previsões de Probabilidade para a Classe Positiva:\n",
      "[0.49979435 0.42573559 0.55362908 0.53887413 0.32511466]\n",
      "\n",
      "--------------------------------------------------------------------------------\n",
      "\n",
      "Matriz de Confusão:\n",
      "[[696 428]\n",
      " [403 290]]\n",
      "\n",
      "--------------------------------------------------------------------------------\n",
      "\n",
      "Acurácia: 0.5427\n",
      "ROC AUC Score: 0.5151\n",
      "AUC Score: 0.5151\n"
     ]
    }
   ],
   "source": [
    "## Previsões\n",
    "\n",
    "# Previsões com dados de teste\n",
    "y_pred_voting = modelo_voting.predict(X_teste)\n",
    "print('Previsões de Classe:')\n",
    "print(y_pred_voting[:5])\n",
    "print('\\n' + '-' * 80 + '\\n')\n",
    "\n",
    "# Obtemos as previsões no formato de probabilidade para cada classe\n",
    "y_pred_proba_voting = modelo_voting.predict_proba(X_teste)\n",
    "print('Previsões de Probabilidade para Cada Classe:')\n",
    "print(y_pred_proba_voting[:5])\n",
    "print('\\n' + '-' * 80 + '\\n')\n",
    "\n",
    "# Obtemos as previsões no formato de probabilidade filtrando para a classe positiva (Cálculo da Curva ROC)\n",
    "y_pred_proba_voting_pos = modelo_voting.predict_proba(X_teste)[:, 1]\n",
    "print('Previsões de Probabilidade para a Classe Positiva:')\n",
    "print(y_pred_proba_voting_pos[:5])\n",
    "print('\\n' + '-' * 80 + '\\n')\n",
    "\n",
    "## Avaliação do Modelo\n",
    "\n",
    "# Matriz de confusão\n",
    "conf_matrix_voting = confusion_matrix(y_teste, y_pred_voting)\n",
    "print('Matriz de Confusão:')\n",
    "print(conf_matrix_voting)\n",
    "print('\\n' + '-' * 80 + '\\n')\n",
    "\n",
    "# Extraindo cada valor da Confusion Matrix\n",
    "tn_voting, fp_voting, fn_voting, tp_voting = conf_matrix_voting.ravel()\n",
    "\n",
    "# Calcula a métrica global AUC (Area Under The Curve) com dados reais e previsões em teste\n",
    "roc_auc_voting = roc_auc_score(y_teste, y_pred_proba_voting_pos)\n",
    "\n",
    "# Calcula a curva ROC com dados e previsões em teste\n",
    "fpr_voting, tpr_voting, thresholds_voting = roc_curve(y_teste, y_pred_proba_voting_pos)\n",
    "\n",
    "# AUC em teste\n",
    "auc_voting = auc(fpr_voting, tpr_voting)\n",
    "\n",
    "# Acurácia em teste\n",
    "acuracia_voting = accuracy_score(y_teste, y_pred_voting)\n",
    "\n",
    "# Exibindo as métricas\n",
    "print(f'Acurácia: {acuracia_voting:.4f}')\n",
    "print(f'ROC AUC Score: {roc_auc_voting:.4f}')\n",
    "print(f'AUC Score: {auc_voting:.4f}')"
   ]
  },
  {
   "cell_type": "markdown",
   "id": "a857ccbf",
   "metadata": {},
   "source": [
    "<br>\n",
    "\n",
    "#### Visualizando Importância das Variáveis"
   ]
  },
  {
   "cell_type": "markdown",
   "id": "0fd959b9",
   "metadata": {},
   "source": [
    "- Para o **Voting Classifier**, a visualização direta da importância das variáveis não é trivial, pois ele combina diferentes modelos. No entanto, podemos observar as importâncias das variáveis dos modelos individuais."
   ]
  },
  {
   "cell_type": "markdown",
   "id": "51bcf5a5",
   "metadata": {},
   "source": [
    "<br><br>\n",
    "\n",
    "### Salvando as Métricas"
   ]
  },
  {
   "cell_type": "code",
   "execution_count": 114,
   "id": "c86d91a3",
   "metadata": {},
   "outputs": [
    {
     "data": {
      "text/html": [
       "<div>\n",
       "<style scoped>\n",
       "    .dataframe tbody tr th:only-of-type {\n",
       "        vertical-align: middle;\n",
       "    }\n",
       "\n",
       "    .dataframe tbody tr th {\n",
       "        vertical-align: top;\n",
       "    }\n",
       "\n",
       "    .dataframe thead th {\n",
       "        text-align: right;\n",
       "    }\n",
       "</style>\n",
       "<table border=\"1\" class=\"dataframe\">\n",
       "  <thead>\n",
       "    <tr style=\"text-align: right;\">\n",
       "      <th></th>\n",
       "      <th>Nome do Modelo</th>\n",
       "      <th>Nome do Algoritmo</th>\n",
       "      <th>ROC_AUC Score</th>\n",
       "      <th>AUC Score</th>\n",
       "      <th>Acuracia</th>\n",
       "    </tr>\n",
       "  </thead>\n",
       "  <tbody>\n",
       "    <tr>\n",
       "      <th>0</th>\n",
       "      <td>Modelo 1</td>\n",
       "      <td>Logistic Regression</td>\n",
       "      <td>0.502197</td>\n",
       "      <td>0.502197</td>\n",
       "      <td>0.504678</td>\n",
       "    </tr>\n",
       "    <tr>\n",
       "      <th>1</th>\n",
       "      <td>Modelo 2</td>\n",
       "      <td>Random Forest</td>\n",
       "      <td>0.519095</td>\n",
       "      <td>0.519095</td>\n",
       "      <td>0.542653</td>\n",
       "    </tr>\n",
       "    <tr>\n",
       "      <th>2</th>\n",
       "      <td>Modelo 3</td>\n",
       "      <td>K-Nearest Neighbors</td>\n",
       "      <td>0.500318</td>\n",
       "      <td>0.500318</td>\n",
       "      <td>0.517336</td>\n",
       "    </tr>\n",
       "    <tr>\n",
       "      <th>3</th>\n",
       "      <td>Modelo 4</td>\n",
       "      <td>Decision Tree</td>\n",
       "      <td>0.500585</td>\n",
       "      <td>0.500585</td>\n",
       "      <td>0.521189</td>\n",
       "    </tr>\n",
       "    <tr>\n",
       "      <th>4</th>\n",
       "      <td>Modelo 5</td>\n",
       "      <td>SVM</td>\n",
       "      <td>0.500996</td>\n",
       "      <td>0.500996</td>\n",
       "      <td>0.511833</td>\n",
       "    </tr>\n",
       "    <tr>\n",
       "      <th>5</th>\n",
       "      <td>Modelo 6</td>\n",
       "      <td>Gradient Boosting Machine</td>\n",
       "      <td>0.509337</td>\n",
       "      <td>0.509337</td>\n",
       "      <td>0.537149</td>\n",
       "    </tr>\n",
       "    <tr>\n",
       "      <th>6</th>\n",
       "      <td>Modelo 7</td>\n",
       "      <td>AdaBoost</td>\n",
       "      <td>0.512905</td>\n",
       "      <td>0.512905</td>\n",
       "      <td>0.511282</td>\n",
       "    </tr>\n",
       "    <tr>\n",
       "      <th>7</th>\n",
       "      <td>Modelo 8</td>\n",
       "      <td>LightGBM</td>\n",
       "      <td>0.519508</td>\n",
       "      <td>0.519508</td>\n",
       "      <td>0.549807</td>\n",
       "    </tr>\n",
       "    <tr>\n",
       "      <th>8</th>\n",
       "      <td>Modelo 9</td>\n",
       "      <td>XGBoost</td>\n",
       "      <td>0.498101</td>\n",
       "      <td>0.498101</td>\n",
       "      <td>0.526142</td>\n",
       "    </tr>\n",
       "    <tr>\n",
       "      <th>9</th>\n",
       "      <td>Modelo 10</td>\n",
       "      <td>Naive Bayes</td>\n",
       "      <td>0.508386</td>\n",
       "      <td>0.508386</td>\n",
       "      <td>0.529994</td>\n",
       "    </tr>\n",
       "    <tr>\n",
       "      <th>10</th>\n",
       "      <td>Modelo 11</td>\n",
       "      <td>Neural Networks</td>\n",
       "      <td>0.499028</td>\n",
       "      <td>0.499028</td>\n",
       "      <td>0.520088</td>\n",
       "    </tr>\n",
       "    <tr>\n",
       "      <th>11</th>\n",
       "      <td>Modelo 12</td>\n",
       "      <td>CatBoost</td>\n",
       "      <td>0.508435</td>\n",
       "      <td>0.508435</td>\n",
       "      <td>0.532746</td>\n",
       "    </tr>\n",
       "    <tr>\n",
       "      <th>12</th>\n",
       "      <td>Modelo 13</td>\n",
       "      <td>Extra Trees</td>\n",
       "      <td>0.512812</td>\n",
       "      <td>0.512812</td>\n",
       "      <td>0.541552</td>\n",
       "    </tr>\n",
       "    <tr>\n",
       "      <th>13</th>\n",
       "      <td>Modelo 14</td>\n",
       "      <td>Voting Classifier</td>\n",
       "      <td>0.515100</td>\n",
       "      <td>0.515100</td>\n",
       "      <td>0.542653</td>\n",
       "    </tr>\n",
       "  </tbody>\n",
       "</table>\n",
       "</div>"
      ],
      "text/plain": [
       "   Nome do Modelo          Nome do Algoritmo  ROC_AUC Score  AUC Score  \\\n",
       "0        Modelo 1        Logistic Regression       0.502197   0.502197   \n",
       "1        Modelo 2              Random Forest       0.519095   0.519095   \n",
       "2        Modelo 3        K-Nearest Neighbors       0.500318   0.500318   \n",
       "3        Modelo 4              Decision Tree       0.500585   0.500585   \n",
       "4        Modelo 5                        SVM       0.500996   0.500996   \n",
       "5        Modelo 6  Gradient Boosting Machine       0.509337   0.509337   \n",
       "6        Modelo 7                   AdaBoost       0.512905   0.512905   \n",
       "7        Modelo 8                   LightGBM       0.519508   0.519508   \n",
       "8        Modelo 9                    XGBoost       0.498101   0.498101   \n",
       "9       Modelo 10                Naive Bayes       0.508386   0.508386   \n",
       "10      Modelo 11            Neural Networks       0.499028   0.499028   \n",
       "11      Modelo 12                   CatBoost       0.508435   0.508435   \n",
       "12      Modelo 13                Extra Trees       0.512812   0.512812   \n",
       "13      Modelo 14          Voting Classifier       0.515100   0.515100   \n",
       "\n",
       "    Acuracia  \n",
       "0   0.504678  \n",
       "1   0.542653  \n",
       "2   0.517336  \n",
       "3   0.521189  \n",
       "4   0.511833  \n",
       "5   0.537149  \n",
       "6   0.511282  \n",
       "7   0.549807  \n",
       "8   0.526142  \n",
       "9   0.529994  \n",
       "10  0.520088  \n",
       "11  0.532746  \n",
       "12  0.541552  \n",
       "13  0.542653  "
      ]
     },
     "metadata": {},
     "output_type": "display_data"
    }
   ],
   "source": [
    "# Salvando as Métricas\n",
    "dict_modelo_voting = {\n",
    "    'Nome do Modelo': 'Modelo 14', \n",
    "    'Nome do Algoritmo': 'Voting Classifier', \n",
    "    'ROC_AUC Score': roc_auc_voting,\n",
    "    'AUC Score': auc_voting,\n",
    "    'Acuracia': acuracia_voting\n",
    "}\n",
    "\n",
    "# Adicionando as métricas ao DataFrame existente\n",
    "df_modelos = pd.concat([df_modelos, pd.DataFrame([dict_modelo_voting])], ignore_index=True)\n",
    "\n",
    "# Verifica as métricas salvas\n",
    "display(df_modelos)"
   ]
  },
  {
   "cell_type": "markdown",
   "id": "233855e4",
   "metadata": {},
   "source": [
    "<br><br>\n",
    "\n",
    "# Seleção do Melhor Modelo\n",
    "\n",
    "- Usaremos o modelo que teve o maior **AUC Score**, por se tratar de uma **métrica global**.\n",
    "\n",
    "<br>\n",
    "\n",
    "#### Visualizando Dataframe Ordenado"
   ]
  },
  {
   "cell_type": "code",
   "execution_count": 115,
   "id": "320fa35c",
   "metadata": {},
   "outputs": [
    {
     "data": {
      "text/html": [
       "<div>\n",
       "<style scoped>\n",
       "    .dataframe tbody tr th:only-of-type {\n",
       "        vertical-align: middle;\n",
       "    }\n",
       "\n",
       "    .dataframe tbody tr th {\n",
       "        vertical-align: top;\n",
       "    }\n",
       "\n",
       "    .dataframe thead th {\n",
       "        text-align: right;\n",
       "    }\n",
       "</style>\n",
       "<table border=\"1\" class=\"dataframe\">\n",
       "  <thead>\n",
       "    <tr style=\"text-align: right;\">\n",
       "      <th></th>\n",
       "      <th>Nome do Modelo</th>\n",
       "      <th>Nome do Algoritmo</th>\n",
       "      <th>ROC_AUC Score</th>\n",
       "      <th>AUC Score</th>\n",
       "      <th>Acuracia</th>\n",
       "    </tr>\n",
       "  </thead>\n",
       "  <tbody>\n",
       "    <tr>\n",
       "      <th>0</th>\n",
       "      <td>Modelo 8</td>\n",
       "      <td>LightGBM</td>\n",
       "      <td>0.519508</td>\n",
       "      <td>0.519508</td>\n",
       "      <td>0.549807</td>\n",
       "    </tr>\n",
       "    <tr>\n",
       "      <th>1</th>\n",
       "      <td>Modelo 2</td>\n",
       "      <td>Random Forest</td>\n",
       "      <td>0.519095</td>\n",
       "      <td>0.519095</td>\n",
       "      <td>0.542653</td>\n",
       "    </tr>\n",
       "    <tr>\n",
       "      <th>2</th>\n",
       "      <td>Modelo 14</td>\n",
       "      <td>Voting Classifier</td>\n",
       "      <td>0.515100</td>\n",
       "      <td>0.515100</td>\n",
       "      <td>0.542653</td>\n",
       "    </tr>\n",
       "    <tr>\n",
       "      <th>3</th>\n",
       "      <td>Modelo 7</td>\n",
       "      <td>AdaBoost</td>\n",
       "      <td>0.512905</td>\n",
       "      <td>0.512905</td>\n",
       "      <td>0.511282</td>\n",
       "    </tr>\n",
       "    <tr>\n",
       "      <th>4</th>\n",
       "      <td>Modelo 13</td>\n",
       "      <td>Extra Trees</td>\n",
       "      <td>0.512812</td>\n",
       "      <td>0.512812</td>\n",
       "      <td>0.541552</td>\n",
       "    </tr>\n",
       "    <tr>\n",
       "      <th>5</th>\n",
       "      <td>Modelo 6</td>\n",
       "      <td>Gradient Boosting Machine</td>\n",
       "      <td>0.509337</td>\n",
       "      <td>0.509337</td>\n",
       "      <td>0.537149</td>\n",
       "    </tr>\n",
       "    <tr>\n",
       "      <th>6</th>\n",
       "      <td>Modelo 12</td>\n",
       "      <td>CatBoost</td>\n",
       "      <td>0.508435</td>\n",
       "      <td>0.508435</td>\n",
       "      <td>0.532746</td>\n",
       "    </tr>\n",
       "    <tr>\n",
       "      <th>7</th>\n",
       "      <td>Modelo 10</td>\n",
       "      <td>Naive Bayes</td>\n",
       "      <td>0.508386</td>\n",
       "      <td>0.508386</td>\n",
       "      <td>0.529994</td>\n",
       "    </tr>\n",
       "    <tr>\n",
       "      <th>8</th>\n",
       "      <td>Modelo 1</td>\n",
       "      <td>Logistic Regression</td>\n",
       "      <td>0.502197</td>\n",
       "      <td>0.502197</td>\n",
       "      <td>0.504678</td>\n",
       "    </tr>\n",
       "    <tr>\n",
       "      <th>9</th>\n",
       "      <td>Modelo 5</td>\n",
       "      <td>SVM</td>\n",
       "      <td>0.500996</td>\n",
       "      <td>0.500996</td>\n",
       "      <td>0.511833</td>\n",
       "    </tr>\n",
       "    <tr>\n",
       "      <th>10</th>\n",
       "      <td>Modelo 4</td>\n",
       "      <td>Decision Tree</td>\n",
       "      <td>0.500585</td>\n",
       "      <td>0.500585</td>\n",
       "      <td>0.521189</td>\n",
       "    </tr>\n",
       "    <tr>\n",
       "      <th>11</th>\n",
       "      <td>Modelo 3</td>\n",
       "      <td>K-Nearest Neighbors</td>\n",
       "      <td>0.500318</td>\n",
       "      <td>0.500318</td>\n",
       "      <td>0.517336</td>\n",
       "    </tr>\n",
       "    <tr>\n",
       "      <th>12</th>\n",
       "      <td>Modelo 11</td>\n",
       "      <td>Neural Networks</td>\n",
       "      <td>0.499028</td>\n",
       "      <td>0.499028</td>\n",
       "      <td>0.520088</td>\n",
       "    </tr>\n",
       "    <tr>\n",
       "      <th>13</th>\n",
       "      <td>Modelo 9</td>\n",
       "      <td>XGBoost</td>\n",
       "      <td>0.498101</td>\n",
       "      <td>0.498101</td>\n",
       "      <td>0.526142</td>\n",
       "    </tr>\n",
       "  </tbody>\n",
       "</table>\n",
       "</div>"
      ],
      "text/plain": [
       "   Nome do Modelo          Nome do Algoritmo  ROC_AUC Score  AUC Score  \\\n",
       "0        Modelo 8                   LightGBM       0.519508   0.519508   \n",
       "1        Modelo 2              Random Forest       0.519095   0.519095   \n",
       "2       Modelo 14          Voting Classifier       0.515100   0.515100   \n",
       "3        Modelo 7                   AdaBoost       0.512905   0.512905   \n",
       "4       Modelo 13                Extra Trees       0.512812   0.512812   \n",
       "5        Modelo 6  Gradient Boosting Machine       0.509337   0.509337   \n",
       "6       Modelo 12                   CatBoost       0.508435   0.508435   \n",
       "7       Modelo 10                Naive Bayes       0.508386   0.508386   \n",
       "8        Modelo 1        Logistic Regression       0.502197   0.502197   \n",
       "9        Modelo 5                        SVM       0.500996   0.500996   \n",
       "10       Modelo 4              Decision Tree       0.500585   0.500585   \n",
       "11       Modelo 3        K-Nearest Neighbors       0.500318   0.500318   \n",
       "12      Modelo 11            Neural Networks       0.499028   0.499028   \n",
       "13       Modelo 9                    XGBoost       0.498101   0.498101   \n",
       "\n",
       "    Acuracia  \n",
       "0   0.549807  \n",
       "1   0.542653  \n",
       "2   0.542653  \n",
       "3   0.511282  \n",
       "4   0.541552  \n",
       "5   0.537149  \n",
       "6   0.532746  \n",
       "7   0.529994  \n",
       "8   0.504678  \n",
       "9   0.511833  \n",
       "10  0.521189  \n",
       "11  0.517336  \n",
       "12  0.520088  \n",
       "13  0.526142  "
      ]
     },
     "metadata": {},
     "output_type": "display_data"
    }
   ],
   "source": [
    "# Ordenando o DataFrame pelo AUC Score\n",
    "df_modelos_sorted = df_modelos.sort_values(by='AUC Score', ascending=False).reset_index(drop=True)\n",
    "\n",
    "# Visualizando Daframe\n",
    "display(df_modelos_sorted)"
   ]
  },
  {
   "cell_type": "markdown",
   "id": "c563e209",
   "metadata": {},
   "source": [
    "<br><br><br>\n",
    "\n",
    "# Análise do Projeto de Classificação de Fraude em Transações Bancárias\n",
    "\n",
    "<br>\n",
    "\n",
    "## Estrutura do Projeto\n",
    "\n",
    "### Pré-Processamento dos Dados\n",
    "\n",
    "- Limpeza e tratamento dos dados\n",
    "- Transformação de variáveis categóricas\n",
    "- Escalonamento de variáveis numéricas\n",
    "- Balanceamento da variável alvo `is_fraud`\n",
    "\n",
    "### Construção e Avaliação de Modelos\n",
    "\n",
    "- Foram implementados 14 modelos de machine learning diferentes\n",
    "- Utilização de técnicas de validação cruzada e busca de hiperparâmetros (RandomizedSearchCV e GridSearchCV)\n",
    "- Avaliação de cada modelo com métricas como Acurácia, ROC AUC Score, AUC Score\n",
    "\n",
    "### Visualização das Importâncias das Variáveis\n",
    "\n",
    "- Para modelos que suportam, foi visualizada a importância das variáveis\n",
    "\n",
    "### Seleção do Melhor Modelo\n",
    "\n",
    "- Ordenação dos modelos pelo AUC Score para selecionar o melhor modelo\n",
    "\n",
    "<br><br>\n",
    "\n",
    "## Pontos Fortes\n",
    "\n",
    "<br>\n",
    "\n",
    "### Variedade de Modelos\n",
    "\n",
    "- A implementação de uma ampla gama de modelos permite uma análise robusta e uma melhor comparação entre diferentes algoritmos.\n",
    "\n",
    "### Uso de Técnicas de Otimização\n",
    "\n",
    "- A aplicação de RandomizedSearchCV e GridSearchCV para encontrar os melhores hiperparâmetros garante que os modelos estejam bem ajustados.\n",
    "\n",
    "### Visualização das Importâncias das Variáveis\n",
    "\n",
    "- A análise das importâncias das variáveis fornece insights valiosos sobre quais características são mais relevantes para a classificação de fraude.\n",
    "\n",
    "### Avaliação Completa\n",
    "\n",
    "- A utilização de múltiplas métricas de avaliação (Acurácia, ROC AUC Score, AUC Score) fornece uma visão abrangente do desempenho dos modelos.\n",
    "\n",
    "### Documentação Clara\n",
    "\n",
    "- O projeto é bem documentado, com etapas claramente definidas e explicações detalhadas sobre cada processo.\n",
    "\n",
    "<br><br>\n",
    "\n",
    "## Pontos de Melhoria\n",
    "\n",
    "<br>\n",
    "\n",
    "### Desempenho dos Modelos\n",
    "\n",
    "- Apesar da diversidade de modelos, o desempenho (AUC Score) poderia ser melhorado. A melhor pontuação AUC foi de 0.519508, o que indica que os modelos têm espaço para melhorias.\n",
    "\n",
    "### Análise de Feature Engineering\n",
    "\n",
    "- Mais experimentação com feature engineering pode ser útil. Tentar novas variáveis derivadas ou interações entre variáveis pode melhorar o desempenho.\n",
    "\n",
    "### Expansão da Métrica de Avaliação\n",
    "\n",
    "- Adicionar métricas como F1-Score, Precision, e Recall, especialmente em um problema de fraude onde a distribuição de classes pode ser desbalanceada, poderia fornecer insights adicionais sobre o desempenho dos modelos.\n",
    "\n",
    "### Exploração de Técnicas Avançadas\n",
    "\n",
    "- Explorar técnicas mais avançadas, como ensembles de ensembles (stacking) ou métodos de deep learning mais complexos, poderia potencialmente melhorar os resultados.\n",
    "\n",
    "### Validação Adicional\n",
    "\n",
    "- Implementar validação cruzada estratificada para garantir que todas as classes sejam representadas de forma consistente em cada partição de treino e teste.\n",
    "\n",
    "<br><br>\n",
    "\n",
    "## Conclusão\n",
    "\n",
    "O projeto de classificação de fraude em transações bancárias é abrangente e bem estruturado, com uma boa diversidade de modelos e técnicas de avaliação. Há espaço para melhorias, especialmente em termos de desempenho dos modelos e experimentação com novas técnicas e features. A abordagem metodológica é sólida e a documentação clara, proporcionando um bom ponto de partida para futuras iterações e melhorias no projeto.\n",
    "\n",
    "<br><br><br><br>"
   ]
  },
  {
   "cell_type": "markdown",
   "id": "f77aa5a3",
   "metadata": {},
   "source": [
    "# FIM"
   ]
  }
 ],
 "metadata": {
  "kernelspec": {
   "display_name": "Python 3 (ipykernel)",
   "language": "python",
   "name": "python3"
  },
  "language_info": {
   "codemirror_mode": {
    "name": "ipython",
    "version": 3
   },
   "file_extension": ".py",
   "mimetype": "text/x-python",
   "name": "python",
   "nbconvert_exporter": "python",
   "pygments_lexer": "ipython3",
   "version": "3.9.7"
  }
 },
 "nbformat": 4,
 "nbformat_minor": 5
}
