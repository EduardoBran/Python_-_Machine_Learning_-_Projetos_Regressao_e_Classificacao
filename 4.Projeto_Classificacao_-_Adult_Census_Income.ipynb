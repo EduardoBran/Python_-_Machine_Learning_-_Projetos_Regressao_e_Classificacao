{
 "cells": [
  {
   "cell_type": "markdown",
   "id": "50722479",
   "metadata": {},
   "source": [
    "# <span style=\"color: green; font-size: 40px; font-weight: bold;\"> Projeto 4 (Classificação) </span>"
   ]
  },
  {
   "cell_type": "markdown",
   "id": "2dfb1b96",
   "metadata": {},
   "source": [
    "<br><br>\n",
    "\n",
    "# Projeto de Classificação: \"Adult\" (Census Income)\n",
    "\n",
    "<br><br>\n",
    "\n",
    "### Contexto\n",
    "\n",
    "- Uma empresa de consultoria financeira está interessada em entender os fatores que influenciam a renda dos indivíduos para oferecer serviços personalizados. A empresa quer prever se a renda de uma pessoa excede 50K por ano com base em dados demográficos e ocupacionais.\n",
    "\n",
    "<br>\n",
    "\n",
    "### Problema de Negócio\n",
    "- 1) Quais são os principais fatores que contribuem para que um indivíduo tenha uma renda anual superior a 50K?\n",
    "- 2) Como as características demográficas (idade, sexo, educação) influenciam a probabilidade de uma pessoa ganhar mais de 50K por ano?\n",
    "- 3) É possível criar um modelo de classificação que preveja com alta precisão se um indivíduo ganhará mais de 50K por ano baseado nos dados disponíveis?\n",
    "\n",
    "<br>\n",
    "\n",
    "### Sobre o Conjunto de Dados\n",
    "\n",
    "O conjunto de dados simulado terá 10.000 linhas e incluirá as seguintes colunas:\n",
    "\n",
    "<br>\n",
    "\n",
    "<table border=\"2\">\n",
    "  <tr>\n",
    "    <th style=\"text-align: center; font-size: 16px;\">Nome da Coluna</th>\n",
    "    <th style=\"text-align: center; font-size: 16px;\">Tipo de Dado</th>\n",
    "    <th style=\"text-align: center; font-size: 16px;\">Descrição</th>\n",
    "  </tr>\n",
    "  <tr>\n",
    "    <td>Age</td>\n",
    "    <td>int</td>\n",
    "    <td>Idade do indivíduo.</td>\n",
    "  </tr>\n",
    "  <tr>\n",
    "    <td>Workclass</td>\n",
    "    <td>str</td>\n",
    "    <td>Classe de trabalho.</td>\n",
    "  </tr>\n",
    "  <tr>\n",
    "    <td>Education</td>\n",
    "    <td>str</td>\n",
    "    <td>Nível de educação.</td>\n",
    "  </tr>\n",
    "  <tr>\n",
    "    <td>Marital Status</td>\n",
    "    <td>str</td>\n",
    "    <td>Estado civil.</td>\n",
    "  </tr>\n",
    "  <tr>\n",
    "    <td>Occupation</td>\n",
    "    <td>str</td>\n",
    "    <td>Ocupação.</td>\n",
    "  </tr>\n",
    "  <tr>\n",
    "    <td>Relationship</td>\n",
    "    <td>str</td>\n",
    "    <td>Tipo de relacionamento.</td>\n",
    "  </tr>\n",
    "  <tr>\n",
    "    <td>Race</td>\n",
    "    <td>str</td>\n",
    "    <td>Raça.</td>\n",
    "  </tr>\n",
    "  <tr>\n",
    "    <td>Sex</td>\n",
    "    <td>str</td>\n",
    "    <td>Sexo.</td>\n",
    "  </tr>\n",
    "  <tr>\n",
    "    <td>Hours per week</td>\n",
    "    <td>int</td>\n",
    "    <td>Número de horas trabalhadas por semana.</td>\n",
    "  </tr>\n",
    "  <tr>\n",
    "    <td>Native country</td>\n",
    "    <td>str</td>\n",
    "    <td>País de origem.</td>\n",
    "  </tr>\n",
    "  <tr>\n",
    "    <td>Income</td>\n",
    "    <td>str</td>\n",
    "    <td>Renda (variável alvo, >50K ou <=50K).</td>\n",
    "  </tr>\n",
    "</table>"
   ]
  },
  {
   "cell_type": "markdown",
   "id": "865fc605",
   "metadata": {},
   "source": [
    "<br><br>\n",
    "\n",
    "## Importando Pacotes"
   ]
  },
  {
   "cell_type": "code",
   "execution_count": null,
   "id": "7403ed62",
   "metadata": {},
   "outputs": [],
   "source": []
  },
  {
   "cell_type": "markdown",
   "id": "ed4dcccb",
   "metadata": {},
   "source": [
    "<br><br>\n",
    "\n",
    "## Carregando Conjunto de Dados"
   ]
  },
  {
   "cell_type": "code",
   "execution_count": null,
   "id": "9ab8e248",
   "metadata": {},
   "outputs": [],
   "source": []
  },
  {
   "cell_type": "code",
   "execution_count": null,
   "id": "a8e6a6b0",
   "metadata": {},
   "outputs": [],
   "source": []
  }
 ],
 "metadata": {
  "kernelspec": {
   "display_name": "Python 3 (ipykernel)",
   "language": "python",
   "name": "python3"
  },
  "language_info": {
   "codemirror_mode": {
    "name": "ipython",
    "version": 3
   },
   "file_extension": ".py",
   "mimetype": "text/x-python",
   "name": "python",
   "nbconvert_exporter": "python",
   "pygments_lexer": "ipython3",
   "version": "3.9.7"
  }
 },
 "nbformat": 4,
 "nbformat_minor": 5
}
